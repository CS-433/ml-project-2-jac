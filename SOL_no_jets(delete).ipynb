{
 "cells": [
  {
   "cell_type": "code",
   "execution_count": 6,
   "metadata": {},
   "outputs": [],
   "source": [
    "from functions_AIA import *\n",
    "\n",
    "import os\n",
    "\n",
    "import matplotlib.pyplot as plt\n",
    "\n",
    "import astropy.units as u\n",
    "from astropy.coordinates import SkyCoord\n",
    "from astropy.time import Time\n",
    "from astropy.visualization import ImageNormalize, SqrtStretch\n",
    "\n",
    "import sunpy.coordinates  # NOQA\n",
    "import sunpy.map\n",
    "from sunpy.net import Fido\n",
    "from sunpy.net import attrs as a\n",
    "from functions_AIA import *\n",
    "\n",
    "import torch\n",
    "\n",
    "from datetime import timedelta\n",
    "\n"
   ]
  },
  {
   "cell_type": "code",
   "execution_count": 7,
   "metadata": {},
   "outputs": [],
   "source": [
    "# Load the csv data containing the events\n",
    "data = load_data()\n",
    "data['date'] = pd.to_datetime(data['date'])\n",
    "data_sorted = data.sort_values(by='date', ascending=True)"
   ]
  },
  {
   "cell_type": "code",
   "execution_count": 8,
   "metadata": {},
   "outputs": [
    {
     "data": {
      "text/html": [
       "<div>\n",
       "<style scoped>\n",
       "    .dataframe tbody tr th:only-of-type {\n",
       "        vertical-align: middle;\n",
       "    }\n",
       "\n",
       "    .dataframe tbody tr th {\n",
       "        vertical-align: top;\n",
       "    }\n",
       "\n",
       "    .dataframe thead th {\n",
       "        text-align: right;\n",
       "    }\n",
       "</style>\n",
       "<table border=\"1\" class=\"dataframe\">\n",
       "  <thead>\n",
       "    <tr style=\"text-align: right;\">\n",
       "      <th></th>\n",
       "      <th>#sjh_ID</th>\n",
       "      <th>date</th>\n",
       "      <th>SOL_event</th>\n",
       "      <th>duration</th>\n",
       "      <th>basepoint_X</th>\n",
       "      <th>std_X</th>\n",
       "      <th>basepoint_Y</th>\n",
       "      <th>std_Y</th>\n",
       "      <th>basepoint_X_longitude</th>\n",
       "      <th>basepoint_Y_latitude</th>\n",
       "      <th>max_height</th>\n",
       "      <th>upper_H</th>\n",
       "      <th>lower_H</th>\n",
       "      <th>avg_width</th>\n",
       "      <th>std_width</th>\n",
       "      <th>sigma</th>\n",
       "      <th>flag</th>\n",
       "    </tr>\n",
       "  </thead>\n",
       "  <tbody>\n",
       "    <tr>\n",
       "      <th>0</th>\n",
       "      <td>sjh_2011-01-20T09_1</td>\n",
       "      <td>2011-01-20 09:15:44</td>\n",
       "      <td>SOL2011-01-20T09:00:09L289C165</td>\n",
       "      <td>43.6</td>\n",
       "      <td>-226.577125</td>\n",
       "      <td>7.456468</td>\n",
       "      <td>-956.964375</td>\n",
       "      <td>9.576814</td>\n",
       "      <td>-109.0</td>\n",
       "      <td>-75.0</td>\n",
       "      <td>173.811389</td>\n",
       "      <td>46.785032</td>\n",
       "      <td>-36.862662</td>\n",
       "      <td>52.282512</td>\n",
       "      <td>14.552284</td>\n",
       "      <td>0.417661</td>\n",
       "      <td>1</td>\n",
       "    </tr>\n",
       "    <tr>\n",
       "      <th>1</th>\n",
       "      <td>sjh_2011-01-20T23_1</td>\n",
       "      <td>2011-01-20 23:49:20</td>\n",
       "      <td>SOL2011-01-20T22:00:09L353C074</td>\n",
       "      <td>10.8</td>\n",
       "      <td>-143.625000</td>\n",
       "      <td>1.125000</td>\n",
       "      <td>386.404000</td>\n",
       "      <td>2.856000</td>\n",
       "      <td>-8.0</td>\n",
       "      <td>18.0</td>\n",
       "      <td>97.731917</td>\n",
       "      <td>16.548028</td>\n",
       "      <td>-14.151831</td>\n",
       "      <td>83.204500</td>\n",
       "      <td>10.121327</td>\n",
       "      <td>0.337046</td>\n",
       "      <td>10</td>\n",
       "    </tr>\n",
       "    <tr>\n",
       "      <th>2</th>\n",
       "      <td>sjh_2011-01-20T23_2</td>\n",
       "      <td>2011-01-20 23:54:32</td>\n",
       "      <td>SOL2011-01-20T22:00:09L353C074</td>\n",
       "      <td>5.6</td>\n",
       "      <td>-142.500000</td>\n",
       "      <td>0.000000</td>\n",
       "      <td>389.260000</td>\n",
       "      <td>0.000000</td>\n",
       "      <td>-8.0</td>\n",
       "      <td>18.0</td>\n",
       "      <td>75.814019</td>\n",
       "      <td>49.693522</td>\n",
       "      <td>-30.017843</td>\n",
       "      <td>40.384010</td>\n",
       "      <td>0.000000</td>\n",
       "      <td>0.635112</td>\n",
       "      <td>110</td>\n",
       "    </tr>\n",
       "    <tr>\n",
       "      <th>3</th>\n",
       "      <td>sjh_2011-01-21T04_1</td>\n",
       "      <td>2011-01-21 04:14:32</td>\n",
       "      <td>SOL2011-01-20T22:00:09L353C074</td>\n",
       "      <td>9.2</td>\n",
       "      <td>-100.466000</td>\n",
       "      <td>0.000000</td>\n",
       "      <td>387.028000</td>\n",
       "      <td>0.000000</td>\n",
       "      <td>-6.0</td>\n",
       "      <td>18.0</td>\n",
       "      <td>84.057521</td>\n",
       "      <td>30.622882</td>\n",
       "      <td>-22.445714</td>\n",
       "      <td>79.405020</td>\n",
       "      <td>0.000000</td>\n",
       "      <td>0.462752</td>\n",
       "      <td>10</td>\n",
       "    </tr>\n",
       "    <tr>\n",
       "      <th>4</th>\n",
       "      <td>sjh_2011-01-21T06_1</td>\n",
       "      <td>2011-01-21 06:48:56</td>\n",
       "      <td>SOL2011-01-20T22:00:09L353C074</td>\n",
       "      <td>5.6</td>\n",
       "      <td>-11.371400</td>\n",
       "      <td>0.000000</td>\n",
       "      <td>475.010000</td>\n",
       "      <td>0.000000</td>\n",
       "      <td>-0.0</td>\n",
       "      <td>23.0</td>\n",
       "      <td>129.894627</td>\n",
       "      <td>38.593654</td>\n",
       "      <td>-29.753454</td>\n",
       "      <td>73.469787</td>\n",
       "      <td>0.000000</td>\n",
       "      <td>0.405649</td>\n",
       "      <td>110</td>\n",
       "    </tr>\n",
       "  </tbody>\n",
       "</table>\n",
       "</div>"
      ],
      "text/plain": [
       "               #sjh_ID                date                       SOL_event  \\\n",
       "0  sjh_2011-01-20T09_1 2011-01-20 09:15:44  SOL2011-01-20T09:00:09L289C165   \n",
       "1  sjh_2011-01-20T23_1 2011-01-20 23:49:20  SOL2011-01-20T22:00:09L353C074   \n",
       "2  sjh_2011-01-20T23_2 2011-01-20 23:54:32  SOL2011-01-20T22:00:09L353C074   \n",
       "3  sjh_2011-01-21T04_1 2011-01-21 04:14:32  SOL2011-01-20T22:00:09L353C074   \n",
       "4  sjh_2011-01-21T06_1 2011-01-21 06:48:56  SOL2011-01-20T22:00:09L353C074   \n",
       "\n",
       "   duration  basepoint_X     std_X  basepoint_Y     std_Y  \\\n",
       "0      43.6  -226.577125  7.456468  -956.964375  9.576814   \n",
       "1      10.8  -143.625000  1.125000   386.404000  2.856000   \n",
       "2       5.6  -142.500000  0.000000   389.260000  0.000000   \n",
       "3       9.2  -100.466000  0.000000   387.028000  0.000000   \n",
       "4       5.6   -11.371400  0.000000   475.010000  0.000000   \n",
       "\n",
       "   basepoint_X_longitude  basepoint_Y_latitude  max_height    upper_H  \\\n",
       "0                 -109.0                 -75.0  173.811389  46.785032   \n",
       "1                   -8.0                  18.0   97.731917  16.548028   \n",
       "2                   -8.0                  18.0   75.814019  49.693522   \n",
       "3                   -6.0                  18.0   84.057521  30.622882   \n",
       "4                   -0.0                  23.0  129.894627  38.593654   \n",
       "\n",
       "     lower_H  avg_width  std_width     sigma  flag  \n",
       "0 -36.862662  52.282512  14.552284  0.417661     1  \n",
       "1 -14.151831  83.204500  10.121327  0.337046    10  \n",
       "2 -30.017843  40.384010   0.000000  0.635112   110  \n",
       "3 -22.445714  79.405020   0.000000  0.462752    10  \n",
       "4 -29.753454  73.469787   0.000000  0.405649   110  "
      ]
     },
     "execution_count": 8,
     "metadata": {},
     "output_type": "execute_result"
    }
   ],
   "source": [
    "data.head()"
   ]
  },
  {
   "cell_type": "markdown",
   "metadata": {},
   "source": [
    "# Get dataframe of All SOL events and duration"
   ]
  },
  {
   "cell_type": "markdown",
   "metadata": {},
   "source": [
    "All events in HEK data"
   ]
  },
  {
   "cell_type": "code",
   "execution_count": 9,
   "metadata": {},
   "outputs": [],
   "source": [
    "timerange = a.Time('2011/01/01 00:00:00', '2017/01/01 00:00:00')\n",
    "res = Fido.search(timerange, a.hek.CJ) "
   ]
  },
  {
   "cell_type": "markdown",
   "metadata": {},
   "source": [
    "Get events analyzed in Zooniverse"
   ]
  },
  {
   "cell_type": "code",
   "execution_count": 10,
   "metadata": {},
   "outputs": [
    {
     "name": "stdout",
     "output_type": "stream",
     "text": [
      "(883,) (229,)\n"
     ]
    }
   ],
   "source": [
    "Cluster_SOL = data['SOL_event']\n",
    "Cluster_SOL_unique = Cluster_SOL.unique()\n",
    "print(Cluster_SOL.shape, Cluster_SOL_unique.shape)"
   ]
  },
  {
   "cell_type": "markdown",
   "metadata": {},
   "source": [
    "Create dataframe with events in Zooniverse"
   ]
  },
  {
   "cell_type": "code",
   "execution_count": 55,
   "metadata": {},
   "outputs": [
    {
     "data": {
      "text/html": [
       "<div>\n",
       "<style scoped>\n",
       "    .dataframe tbody tr th:only-of-type {\n",
       "        vertical-align: middle;\n",
       "    }\n",
       "\n",
       "    .dataframe tbody tr th {\n",
       "        vertical-align: top;\n",
       "    }\n",
       "\n",
       "    .dataframe thead th {\n",
       "        text-align: right;\n",
       "    }\n",
       "</style>\n",
       "<table border=\"1\" class=\"dataframe\">\n",
       "  <thead>\n",
       "    <tr style=\"text-align: right;\">\n",
       "      <th></th>\n",
       "      <th>start_time</th>\n",
       "      <th>end_time</th>\n",
       "      <th>num_jets</th>\n",
       "    </tr>\n",
       "    <tr>\n",
       "      <th>event_ID</th>\n",
       "      <th></th>\n",
       "      <th></th>\n",
       "      <th></th>\n",
       "    </tr>\n",
       "  </thead>\n",
       "  <tbody>\n",
       "    <tr>\n",
       "      <th>SOL2011-01-20T09:00:09L289C165</th>\n",
       "      <td>NaN</td>\n",
       "      <td>NaN</td>\n",
       "      <td>NaN</td>\n",
       "    </tr>\n",
       "    <tr>\n",
       "      <th>SOL2011-01-20T22:00:09L353C074</th>\n",
       "      <td>NaN</td>\n",
       "      <td>NaN</td>\n",
       "      <td>NaN</td>\n",
       "    </tr>\n",
       "    <tr>\n",
       "      <th>SOL2011-01-24T22:15:09L358C011</th>\n",
       "      <td>NaN</td>\n",
       "      <td>NaN</td>\n",
       "      <td>NaN</td>\n",
       "    </tr>\n",
       "    <tr>\n",
       "      <th>SOL2011-01-26T01:52:21L007C038</th>\n",
       "      <td>NaN</td>\n",
       "      <td>NaN</td>\n",
       "      <td>NaN</td>\n",
       "    </tr>\n",
       "    <tr>\n",
       "      <th>SOL2011-02-13T04:57:46L131C056</th>\n",
       "      <td>NaN</td>\n",
       "      <td>NaN</td>\n",
       "      <td>NaN</td>\n",
       "    </tr>\n",
       "  </tbody>\n",
       "</table>\n",
       "</div>"
      ],
      "text/plain": [
       "                               start_time end_time num_jets\n",
       "event_ID                                                   \n",
       "SOL2011-01-20T09:00:09L289C165        NaN      NaN      NaN\n",
       "SOL2011-01-20T22:00:09L353C074        NaN      NaN      NaN\n",
       "SOL2011-01-24T22:15:09L358C011        NaN      NaN      NaN\n",
       "SOL2011-01-26T01:52:21L007C038        NaN      NaN      NaN\n",
       "SOL2011-02-13T04:57:46L131C056        NaN      NaN      NaN"
      ]
     },
     "execution_count": 55,
     "metadata": {},
     "output_type": "execute_result"
    }
   ],
   "source": [
    "SOL_events = pd.DataFrame(columns=['event_ID', 'start_time', 'end_time', 'num_jets'])\n",
    "SOL_events['event_ID'] = Cluster_SOL_unique\n",
    "SOL_events.set_index('event_ID', inplace=True)\n",
    "SOL_events.head()"
   ]
  },
  {
   "cell_type": "markdown",
   "metadata": {},
   "source": [
    "Fill the dataframe"
   ]
  },
  {
   "cell_type": "code",
   "execution_count": 59,
   "metadata": {},
   "outputs": [],
   "source": [
    "for event in SOL_events.index:\n",
    "    # Extract data for the current cluster\n",
    "    event_info = res['hek'][res['hek'][\"SOL_standard\"] == event][0]  # take [0] because if several events they all contain same info\n",
    "    # Extract the start time\n",
    "    start_time = event_info['event_starttime'].value\n",
    "    # Extract the end time\n",
    "    end_time = event_info['event_endtime'].value\n",
    "    # Store the start and end time in the dataframe\n",
    "    SOL_events.loc[event, 'start_time'] = start_time\n",
    "    SOL_events.loc[event, 'end_time'] = end_time\n",
    "\n",
    "    # Number of jets\n",
    "    num_jets = len(data[data['SOL_event'] == event])\n",
    "    SOL_events.loc[event, 'num_jets'] = num_jets\n",
    "\n",
    "\n",
    "\n",
    "# Convert the start and end time to datetime objects\n",
    "SOL_events['start_time'] = pd.to_datetime(SOL_events['start_time'])\n",
    "SOL_events['end_time'] = pd.to_datetime(SOL_events['end_time'])\n",
    "\n",
    "# Calculate duration of each event\n",
    "SOL_events['duration'] = SOL_events['end_time'] - SOL_events['start_time']"
   ]
  },
  {
   "cell_type": "code",
   "execution_count": 60,
   "metadata": {},
   "outputs": [
    {
     "data": {
      "text/html": [
       "<div>\n",
       "<style scoped>\n",
       "    .dataframe tbody tr th:only-of-type {\n",
       "        vertical-align: middle;\n",
       "    }\n",
       "\n",
       "    .dataframe tbody tr th {\n",
       "        vertical-align: top;\n",
       "    }\n",
       "\n",
       "    .dataframe thead th {\n",
       "        text-align: right;\n",
       "    }\n",
       "</style>\n",
       "<table border=\"1\" class=\"dataframe\">\n",
       "  <thead>\n",
       "    <tr style=\"text-align: right;\">\n",
       "      <th></th>\n",
       "      <th>start_time</th>\n",
       "      <th>end_time</th>\n",
       "      <th>num_jets</th>\n",
       "      <th>duration</th>\n",
       "    </tr>\n",
       "    <tr>\n",
       "      <th>event_ID</th>\n",
       "      <th></th>\n",
       "      <th></th>\n",
       "      <th></th>\n",
       "      <th></th>\n",
       "    </tr>\n",
       "  </thead>\n",
       "  <tbody>\n",
       "    <tr>\n",
       "      <th>SOL2011-01-20T09:00:09L289C165</th>\n",
       "      <td>2011-01-20 09:00:09</td>\n",
       "      <td>2011-01-20 09:59:33</td>\n",
       "      <td>1</td>\n",
       "      <td>0 days 00:59:24</td>\n",
       "    </tr>\n",
       "    <tr>\n",
       "      <th>SOL2011-01-20T22:00:09L353C074</th>\n",
       "      <td>2011-01-20 22:00:09</td>\n",
       "      <td>2011-01-21 16:00:09</td>\n",
       "      <td>5</td>\n",
       "      <td>0 days 18:00:00</td>\n",
       "    </tr>\n",
       "    <tr>\n",
       "      <th>SOL2011-01-24T22:15:09L358C011</th>\n",
       "      <td>2011-01-24 22:15:09</td>\n",
       "      <td>2011-01-25 00:00:09</td>\n",
       "      <td>3</td>\n",
       "      <td>0 days 01:45:00</td>\n",
       "    </tr>\n",
       "    <tr>\n",
       "      <th>SOL2011-01-26T01:52:21L007C038</th>\n",
       "      <td>2011-01-26 01:52:21</td>\n",
       "      <td>2011-01-26 03:54:45</td>\n",
       "      <td>1</td>\n",
       "      <td>0 days 02:02:24</td>\n",
       "    </tr>\n",
       "    <tr>\n",
       "      <th>SOL2011-02-13T04:57:46L131C056</th>\n",
       "      <td>2011-02-13 04:57:46</td>\n",
       "      <td>2011-02-13 05:56:34</td>\n",
       "      <td>2</td>\n",
       "      <td>0 days 00:58:48</td>\n",
       "    </tr>\n",
       "  </tbody>\n",
       "</table>\n",
       "</div>"
      ],
      "text/plain": [
       "                                        start_time            end_time  \\\n",
       "event_ID                                                                 \n",
       "SOL2011-01-20T09:00:09L289C165 2011-01-20 09:00:09 2011-01-20 09:59:33   \n",
       "SOL2011-01-20T22:00:09L353C074 2011-01-20 22:00:09 2011-01-21 16:00:09   \n",
       "SOL2011-01-24T22:15:09L358C011 2011-01-24 22:15:09 2011-01-25 00:00:09   \n",
       "SOL2011-01-26T01:52:21L007C038 2011-01-26 01:52:21 2011-01-26 03:54:45   \n",
       "SOL2011-02-13T04:57:46L131C056 2011-02-13 04:57:46 2011-02-13 05:56:34   \n",
       "\n",
       "                               num_jets        duration  \n",
       "event_ID                                                 \n",
       "SOL2011-01-20T09:00:09L289C165        1 0 days 00:59:24  \n",
       "SOL2011-01-20T22:00:09L353C074        5 0 days 18:00:00  \n",
       "SOL2011-01-24T22:15:09L358C011        3 0 days 01:45:00  \n",
       "SOL2011-01-26T01:52:21L007C038        1 0 days 02:02:24  \n",
       "SOL2011-02-13T04:57:46L131C056        2 0 days 00:58:48  "
      ]
     },
     "metadata": {},
     "output_type": "display_data"
    },
    {
     "name": "stdout",
     "output_type": "stream",
     "text": [
      "(229, 4)\n"
     ]
    }
   ],
   "source": [
    "display(SOL_events.head())\n",
    "print(SOL_events.shape) "
   ]
  },
  {
   "cell_type": "markdown",
   "metadata": {},
   "source": [
    "# Simplify dataframe with Jet Events\n",
    "And add end time for each of them"
   ]
  },
  {
   "cell_type": "code",
   "execution_count": null,
   "metadata": {},
   "outputs": [],
   "source": [
    "jet_events = pd.DataFrame(columns=['event_ID', 'start_time', 'end_time', 'duration'])\n",
    "jet_events['event_ID'] = data['SOL_event']\n",
    "jet_events['start_time'] = data['date']\n",
    "jet_events['duration'] = data['duration']\n",
    "\n",
    "for i in range(len(jet_events)):\n",
    "    jet_events.loc[i, 'end_time'] = jet_events.loc[i, 'start_time'] + pd.Timedelta(minutes=jet_events.loc[i, 'duration'])"
   ]
  },
  {
   "cell_type": "code",
   "execution_count": 177,
   "metadata": {},
   "outputs": [
    {
     "data": {
      "text/html": [
       "<div>\n",
       "<style scoped>\n",
       "    .dataframe tbody tr th:only-of-type {\n",
       "        vertical-align: middle;\n",
       "    }\n",
       "\n",
       "    .dataframe tbody tr th {\n",
       "        vertical-align: top;\n",
       "    }\n",
       "\n",
       "    .dataframe thead th {\n",
       "        text-align: right;\n",
       "    }\n",
       "</style>\n",
       "<table border=\"1\" class=\"dataframe\">\n",
       "  <thead>\n",
       "    <tr style=\"text-align: right;\">\n",
       "      <th></th>\n",
       "      <th>event_ID</th>\n",
       "      <th>start_time</th>\n",
       "      <th>end_time</th>\n",
       "      <th>duration</th>\n",
       "    </tr>\n",
       "  </thead>\n",
       "  <tbody>\n",
       "    <tr>\n",
       "      <th>0</th>\n",
       "      <td>SOL2011-01-20T09:00:09L289C165</td>\n",
       "      <td>2011-01-20 09:15:44</td>\n",
       "      <td>2011-01-20 09:59:20</td>\n",
       "      <td>43.6</td>\n",
       "    </tr>\n",
       "    <tr>\n",
       "      <th>1</th>\n",
       "      <td>SOL2011-01-20T22:00:09L353C074</td>\n",
       "      <td>2011-01-20 23:49:20</td>\n",
       "      <td>2011-01-21 00:00:08</td>\n",
       "      <td>10.8</td>\n",
       "    </tr>\n",
       "    <tr>\n",
       "      <th>2</th>\n",
       "      <td>SOL2011-01-20T22:00:09L353C074</td>\n",
       "      <td>2011-01-20 23:54:32</td>\n",
       "      <td>2011-01-21 00:00:08</td>\n",
       "      <td>5.6</td>\n",
       "    </tr>\n",
       "    <tr>\n",
       "      <th>3</th>\n",
       "      <td>SOL2011-01-20T22:00:09L353C074</td>\n",
       "      <td>2011-01-21 04:14:32</td>\n",
       "      <td>2011-01-21 04:23:44</td>\n",
       "      <td>9.2</td>\n",
       "    </tr>\n",
       "    <tr>\n",
       "      <th>4</th>\n",
       "      <td>SOL2011-01-20T22:00:09L353C074</td>\n",
       "      <td>2011-01-21 06:48:56</td>\n",
       "      <td>2011-01-21 06:54:32</td>\n",
       "      <td>5.6</td>\n",
       "    </tr>\n",
       "  </tbody>\n",
       "</table>\n",
       "</div>"
      ],
      "text/plain": [
       "                         event_ID          start_time             end_time  \\\n",
       "0  SOL2011-01-20T09:00:09L289C165 2011-01-20 09:15:44  2011-01-20 09:59:20   \n",
       "1  SOL2011-01-20T22:00:09L353C074 2011-01-20 23:49:20  2011-01-21 00:00:08   \n",
       "2  SOL2011-01-20T22:00:09L353C074 2011-01-20 23:54:32  2011-01-21 00:00:08   \n",
       "3  SOL2011-01-20T22:00:09L353C074 2011-01-21 04:14:32  2011-01-21 04:23:44   \n",
       "4  SOL2011-01-20T22:00:09L353C074 2011-01-21 06:48:56  2011-01-21 06:54:32   \n",
       "\n",
       "   duration  \n",
       "0      43.6  \n",
       "1      10.8  \n",
       "2       5.6  \n",
       "3       9.2  \n",
       "4       5.6  "
      ]
     },
     "execution_count": 177,
     "metadata": {},
     "output_type": "execute_result"
    }
   ],
   "source": [
    "jet_events.head()"
   ]
  },
  {
   "cell_type": "markdown",
   "metadata": {},
   "source": [
    "# Now we get to the weird part, getting ranges without jets\n",
    "\n",
    "Basically, I create a boolean array where each element is a second in the range of dates\n",
    "\n",
    "- By default, all elements are False\n",
    "- I set to True all elements where there is a SOL_events event\n",
    "- I now set to false all elements where there is a jet jet_events\n",
    "\n",
    "Now, we are left with an array that is True only for values that are in registered HEK events but not in registered jets\n",
    "\n",
    "We now transform it back to ranges of dates."
   ]
  },
  {
   "cell_type": "code",
   "execution_count": 151,
   "metadata": {},
   "outputs": [
    {
     "data": {
      "text/plain": [
       "187076405"
      ]
     },
     "execution_count": 151,
     "metadata": {},
     "output_type": "execute_result"
    }
   ],
   "source": [
    "start_time_total = SOL_events.start_time.min()\n",
    "end_time_total = SOL_events.end_time.max()\n",
    "total_seconds = int((end_time_total - start_time_total).total_seconds())\n",
    "time_array = np.zeros(total_seconds, dtype=bool)\n",
    "total_seconds"
   ]
  },
  {
   "cell_type": "code",
   "execution_count": 156,
   "metadata": {},
   "outputs": [],
   "source": [
    "for event in SOL_events.index: \n",
    "    start_time = SOL_events.loc[event, 'start_time']\n",
    "    end_time = SOL_events.loc[event, 'end_time']\n",
    "    start_index = int((start_time - start_time_total).total_seconds())\n",
    "    end_index = int((end_time - start_time_total).total_seconds())\n",
    "    time_array[start_index:end_index] = True\n",
    "\n",
    "for event in jet_events.index: \n",
    "    start_time = jet_events.loc[event, 'start_time']\n",
    "    end_time = jet_events.loc[event, 'end_time']\n",
    "    start_index = int((start_time - start_time_total).total_seconds())\n",
    "    end_index = int((end_time - start_time_total).total_seconds())\n",
    "    time_array[start_index:end_index] = False"
   ]
  },
  {
   "cell_type": "code",
   "execution_count": 166,
   "metadata": {},
   "outputs": [
    {
     "data": {
      "text/plain": [
       "array([ True,  True,  True, ...,  True,  True,  True])"
      ]
     },
     "metadata": {},
     "output_type": "display_data"
    },
    {
     "name": "stdout",
     "output_type": "stream",
     "text": [
      "0.01023402710780122\n"
     ]
    }
   ],
   "source": [
    "display(time_array)\n",
    "print(time_array.sum() / len(time_array))"
   ]
  },
  {
   "cell_type": "code",
   "execution_count": 168,
   "metadata": {},
   "outputs": [],
   "source": [
    "def find_true_ranges(array):\n",
    "    ranges = []\n",
    "    start = None\n",
    "\n",
    "    for i, value in enumerate(array):\n",
    "        if value and start is None:\n",
    "            start = i  # Start of a new true range\n",
    "        elif not value and start is not None:\n",
    "            ranges.append((start, i - 1))\n",
    "            start = None\n",
    "\n",
    "    # Handle case where array ends with True\n",
    "    if start is not None:\n",
    "        ranges.append((start, len(array) - 1))\n",
    "\n",
    "    return ranges\n",
    "\n",
    "\n",
    "ranges_dates = find_true_ranges(time_array)"
   ]
  },
  {
   "cell_type": "code",
   "execution_count": 189,
   "metadata": {},
   "outputs": [],
   "source": [
    "ranges_dates_df = pd.DataFrame(ranges_dates, columns=['start_time', 'end_time'])"
   ]
  },
  {
   "cell_type": "code",
   "execution_count": 190,
   "metadata": {},
   "outputs": [
    {
     "data": {
      "text/html": [
       "<div>\n",
       "<style scoped>\n",
       "    .dataframe tbody tr th:only-of-type {\n",
       "        vertical-align: middle;\n",
       "    }\n",
       "\n",
       "    .dataframe tbody tr th {\n",
       "        vertical-align: top;\n",
       "    }\n",
       "\n",
       "    .dataframe thead th {\n",
       "        text-align: right;\n",
       "    }\n",
       "</style>\n",
       "<table border=\"1\" class=\"dataframe\">\n",
       "  <thead>\n",
       "    <tr style=\"text-align: right;\">\n",
       "      <th></th>\n",
       "      <th>start_time</th>\n",
       "      <th>end_time</th>\n",
       "    </tr>\n",
       "  </thead>\n",
       "  <tbody>\n",
       "    <tr>\n",
       "      <th>0</th>\n",
       "      <td>0</td>\n",
       "      <td>934</td>\n",
       "    </tr>\n",
       "    <tr>\n",
       "      <th>1</th>\n",
       "      <td>3551</td>\n",
       "      <td>3563</td>\n",
       "    </tr>\n",
       "    <tr>\n",
       "      <th>2</th>\n",
       "      <td>46800</td>\n",
       "      <td>53350</td>\n",
       "    </tr>\n",
       "    <tr>\n",
       "      <th>3</th>\n",
       "      <td>53999</td>\n",
       "      <td>69262</td>\n",
       "    </tr>\n",
       "    <tr>\n",
       "      <th>4</th>\n",
       "      <td>69815</td>\n",
       "      <td>78526</td>\n",
       "    </tr>\n",
       "  </tbody>\n",
       "</table>\n",
       "</div>"
      ],
      "text/plain": [
       "   start_time  end_time\n",
       "0           0       934\n",
       "1        3551      3563\n",
       "2       46800     53350\n",
       "3       53999     69262\n",
       "4       69815     78526"
      ]
     },
     "execution_count": 190,
     "metadata": {},
     "output_type": "execute_result"
    }
   ],
   "source": [
    "ranges_dates_df.head()"
   ]
  },
  {
   "cell_type": "markdown",
   "metadata": {},
   "source": [
    "Just to be safe, let's add one minute of margin"
   ]
  },
  {
   "cell_type": "code",
   "execution_count": 193,
   "metadata": {},
   "outputs": [],
   "source": [
    "ranges_dates_df['start_time'] = ranges_dates_df['start_time'] + 60\n",
    "ranges_dates_df['end_time'] = ranges_dates_df['end_time'] - 60\n",
    "\n",
    "# Remove rows where the start time is after the end time\n",
    "ranges_dates_df = ranges_dates_df[ranges_dates_df['start_time'] < ranges_dates_df['end_time']]"
   ]
  },
  {
   "cell_type": "code",
   "execution_count": 194,
   "metadata": {},
   "outputs": [],
   "source": [
    "dates_no_jets = pd.DataFrame(columns=['start_time', 'end_time', 'duration'])\n",
    "dates_no_jets['start_time'] = ranges_dates_df['start_time'].apply(lambda x: start_time_total + pd.Timedelta(seconds=x))\n",
    "dates_no_jets['end_time'] = ranges_dates_df['end_time'].apply(lambda x: start_time_total + pd.Timedelta(seconds=x))\n",
    "dates_no_jets['duration'] = dates_no_jets['end_time'] - dates_no_jets['start_time']"
   ]
  },
  {
   "cell_type": "code",
   "execution_count": 195,
   "metadata": {},
   "outputs": [
    {
     "data": {
      "text/html": [
       "<div>\n",
       "<style scoped>\n",
       "    .dataframe tbody tr th:only-of-type {\n",
       "        vertical-align: middle;\n",
       "    }\n",
       "\n",
       "    .dataframe tbody tr th {\n",
       "        vertical-align: top;\n",
       "    }\n",
       "\n",
       "    .dataframe thead th {\n",
       "        text-align: right;\n",
       "    }\n",
       "</style>\n",
       "<table border=\"1\" class=\"dataframe\">\n",
       "  <thead>\n",
       "    <tr style=\"text-align: right;\">\n",
       "      <th></th>\n",
       "      <th>start_time</th>\n",
       "      <th>end_time</th>\n",
       "      <th>duration</th>\n",
       "    </tr>\n",
       "  </thead>\n",
       "  <tbody>\n",
       "    <tr>\n",
       "      <th>0</th>\n",
       "      <td>2011-01-20 09:01:09</td>\n",
       "      <td>2011-01-20 09:14:43</td>\n",
       "      <td>0 days 00:13:34</td>\n",
       "    </tr>\n",
       "    <tr>\n",
       "      <th>2</th>\n",
       "      <td>2011-01-20 22:01:09</td>\n",
       "      <td>2011-01-20 23:48:19</td>\n",
       "      <td>0 days 01:47:10</td>\n",
       "    </tr>\n",
       "    <tr>\n",
       "      <th>3</th>\n",
       "      <td>2011-01-21 00:01:08</td>\n",
       "      <td>2011-01-21 04:13:31</td>\n",
       "      <td>0 days 04:12:23</td>\n",
       "    </tr>\n",
       "    <tr>\n",
       "      <th>4</th>\n",
       "      <td>2011-01-21 04:24:44</td>\n",
       "      <td>2011-01-21 06:47:55</td>\n",
       "      <td>0 days 02:23:11</td>\n",
       "    </tr>\n",
       "    <tr>\n",
       "      <th>5</th>\n",
       "      <td>2011-01-21 06:55:32</td>\n",
       "      <td>2011-01-21 11:49:31</td>\n",
       "      <td>0 days 04:53:59</td>\n",
       "    </tr>\n",
       "  </tbody>\n",
       "</table>\n",
       "</div>"
      ],
      "text/plain": [
       "           start_time            end_time        duration\n",
       "0 2011-01-20 09:01:09 2011-01-20 09:14:43 0 days 00:13:34\n",
       "2 2011-01-20 22:01:09 2011-01-20 23:48:19 0 days 01:47:10\n",
       "3 2011-01-21 00:01:08 2011-01-21 04:13:31 0 days 04:12:23\n",
       "4 2011-01-21 04:24:44 2011-01-21 06:47:55 0 days 02:23:11\n",
       "5 2011-01-21 06:55:32 2011-01-21 11:49:31 0 days 04:53:59"
      ]
     },
     "execution_count": 195,
     "metadata": {},
     "output_type": "execute_result"
    }
   ],
   "source": [
    "dates_no_jets.head()"
   ]
  },
  {
   "cell_type": "markdown",
   "metadata": {},
   "source": [
    "# Keep only ranges with a specific duration\n",
    "Longer than the required 30 images, 24 seconds between images"
   ]
  },
  {
   "cell_type": "code",
   "execution_count": 197,
   "metadata": {},
   "outputs": [],
   "source": [
    "num_image = 30\n",
    "seconds_images = (num_image-1) * 24\n",
    "\n",
    "dates_no_jets_long = dates_no_jets[dates_no_jets['duration'] >= pd.Timedelta(seconds=seconds_images)]"
   ]
  },
  {
   "cell_type": "code",
   "execution_count": 200,
   "metadata": {},
   "outputs": [
    {
     "data": {
      "text/html": [
       "<div>\n",
       "<style scoped>\n",
       "    .dataframe tbody tr th:only-of-type {\n",
       "        vertical-align: middle;\n",
       "    }\n",
       "\n",
       "    .dataframe tbody tr th {\n",
       "        vertical-align: top;\n",
       "    }\n",
       "\n",
       "    .dataframe thead th {\n",
       "        text-align: right;\n",
       "    }\n",
       "</style>\n",
       "<table border=\"1\" class=\"dataframe\">\n",
       "  <thead>\n",
       "    <tr style=\"text-align: right;\">\n",
       "      <th></th>\n",
       "      <th>start_time</th>\n",
       "      <th>end_time</th>\n",
       "      <th>duration</th>\n",
       "    </tr>\n",
       "  </thead>\n",
       "  <tbody>\n",
       "    <tr>\n",
       "      <th>0</th>\n",
       "      <td>2011-01-20 09:01:09</td>\n",
       "      <td>2011-01-20 09:14:43</td>\n",
       "      <td>0 days 00:13:34</td>\n",
       "    </tr>\n",
       "    <tr>\n",
       "      <th>2</th>\n",
       "      <td>2011-01-20 22:01:09</td>\n",
       "      <td>2011-01-20 23:48:19</td>\n",
       "      <td>0 days 01:47:10</td>\n",
       "    </tr>\n",
       "    <tr>\n",
       "      <th>3</th>\n",
       "      <td>2011-01-21 00:01:08</td>\n",
       "      <td>2011-01-21 04:13:31</td>\n",
       "      <td>0 days 04:12:23</td>\n",
       "    </tr>\n",
       "    <tr>\n",
       "      <th>4</th>\n",
       "      <td>2011-01-21 04:24:44</td>\n",
       "      <td>2011-01-21 06:47:55</td>\n",
       "      <td>0 days 02:23:11</td>\n",
       "    </tr>\n",
       "    <tr>\n",
       "      <th>5</th>\n",
       "      <td>2011-01-21 06:55:32</td>\n",
       "      <td>2011-01-21 11:49:31</td>\n",
       "      <td>0 days 04:53:59</td>\n",
       "    </tr>\n",
       "  </tbody>\n",
       "</table>\n",
       "</div>"
      ],
      "text/plain": [
       "           start_time            end_time        duration\n",
       "0 2011-01-20 09:01:09 2011-01-20 09:14:43 0 days 00:13:34\n",
       "2 2011-01-20 22:01:09 2011-01-20 23:48:19 0 days 01:47:10\n",
       "3 2011-01-21 00:01:08 2011-01-21 04:13:31 0 days 04:12:23\n",
       "4 2011-01-21 04:24:44 2011-01-21 06:47:55 0 days 02:23:11\n",
       "5 2011-01-21 06:55:32 2011-01-21 11:49:31 0 days 04:53:59"
      ]
     },
     "metadata": {},
     "output_type": "display_data"
    },
    {
     "name": "stdout",
     "output_type": "stream",
     "text": [
      "(451, 3)\n"
     ]
    }
   ],
   "source": [
    "display(dates_no_jets_long.head())\n",
    "print(dates_no_jets_long.shape)"
   ]
  },
  {
   "cell_type": "code",
   "execution_count": 201,
   "metadata": {},
   "outputs": [
    {
     "data": {
      "text/html": [
       "<div>\n",
       "<style scoped>\n",
       "    .dataframe tbody tr th:only-of-type {\n",
       "        vertical-align: middle;\n",
       "    }\n",
       "\n",
       "    .dataframe tbody tr th {\n",
       "        vertical-align: top;\n",
       "    }\n",
       "\n",
       "    .dataframe thead th {\n",
       "        text-align: right;\n",
       "    }\n",
       "</style>\n",
       "<table border=\"1\" class=\"dataframe\">\n",
       "  <thead>\n",
       "    <tr style=\"text-align: right;\">\n",
       "      <th></th>\n",
       "      <th>start_time</th>\n",
       "      <th>end_time</th>\n",
       "      <th>duration</th>\n",
       "    </tr>\n",
       "  </thead>\n",
       "  <tbody>\n",
       "    <tr>\n",
       "      <th>0</th>\n",
       "      <td>2011-01-20 09:01:09</td>\n",
       "      <td>2011-01-20 09:14:43</td>\n",
       "      <td>0 days 00:13:34</td>\n",
       "    </tr>\n",
       "    <tr>\n",
       "      <th>2</th>\n",
       "      <td>2011-01-20 22:01:09</td>\n",
       "      <td>2011-01-20 23:48:19</td>\n",
       "      <td>0 days 01:47:10</td>\n",
       "    </tr>\n",
       "    <tr>\n",
       "      <th>3</th>\n",
       "      <td>2011-01-21 00:01:08</td>\n",
       "      <td>2011-01-21 04:13:31</td>\n",
       "      <td>0 days 04:12:23</td>\n",
       "    </tr>\n",
       "    <tr>\n",
       "      <th>4</th>\n",
       "      <td>2011-01-21 04:24:44</td>\n",
       "      <td>2011-01-21 06:47:55</td>\n",
       "      <td>0 days 02:23:11</td>\n",
       "    </tr>\n",
       "    <tr>\n",
       "      <th>5</th>\n",
       "      <td>2011-01-21 06:55:32</td>\n",
       "      <td>2011-01-21 11:49:31</td>\n",
       "      <td>0 days 04:53:59</td>\n",
       "    </tr>\n",
       "  </tbody>\n",
       "</table>\n",
       "</div>"
      ],
      "text/plain": [
       "           start_time            end_time        duration\n",
       "0 2011-01-20 09:01:09 2011-01-20 09:14:43 0 days 00:13:34\n",
       "2 2011-01-20 22:01:09 2011-01-20 23:48:19 0 days 01:47:10\n",
       "3 2011-01-21 00:01:08 2011-01-21 04:13:31 0 days 04:12:23\n",
       "4 2011-01-21 04:24:44 2011-01-21 06:47:55 0 days 02:23:11\n",
       "5 2011-01-21 06:55:32 2011-01-21 11:49:31 0 days 04:53:59"
      ]
     },
     "metadata": {},
     "output_type": "display_data"
    },
    {
     "name": "stdout",
     "output_type": "stream",
     "text": [
      "(679, 3)\n"
     ]
    }
   ],
   "source": [
    "display(dates_no_jets.head())\n",
    "print(dates_no_jets.shape)"
   ]
  }
 ],
 "metadata": {
  "kernelspec": {
   "display_name": "solarjets",
   "language": "python",
   "name": "python3"
  },
  "language_info": {
   "codemirror_mode": {
    "name": "ipython",
    "version": 3
   },
   "file_extension": ".py",
   "mimetype": "text/x-python",
   "name": "python",
   "nbconvert_exporter": "python",
   "pygments_lexer": "ipython3",
   "version": "3.11.5"
  },
  "orig_nbformat": 4
 },
 "nbformat": 4,
 "nbformat_minor": 2
}
