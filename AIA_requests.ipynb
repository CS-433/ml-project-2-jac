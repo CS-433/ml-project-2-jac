{
 "cells": [
  {
   "cell_type": "code",
   "execution_count": 1,
   "metadata": {},
   "outputs": [
    {
     "name": "stdout",
     "output_type": "stream",
     "text": [
      "Intel MKL WARNING: Support of Intel(R) Streaming SIMD Extensions 4.2 (Intel(R) SSE4.2) enabled only processors has been deprecated. Intel oneAPI Math Kernel Library 2025.0 will require Intel(R) Advanced Vector Extensions (Intel(R) AVX) instructions.\n",
      "Intel MKL WARNING: Support of Intel(R) Streaming SIMD Extensions 4.2 (Intel(R) SSE4.2) enabled only processors has been deprecated. Intel oneAPI Math Kernel Library 2025.0 will require Intel(R) Advanced Vector Extensions (Intel(R) AVX) instructions.\n"
     ]
    },
    {
     "name": "stderr",
     "output_type": "stream",
     "text": [
      "/opt/anaconda3/envs/ML/lib/python3.11/site-packages/tqdm/auto.py:21: TqdmWarning: IProgress not found. Please update jupyter and ipywidgets. See https://ipywidgets.readthedocs.io/en/stable/user_install.html\n",
      "  from .autonotebook import tqdm as notebook_tqdm\n"
     ]
    }
   ],
   "source": [
    "import os\n",
    "\n",
    "import matplotlib.pyplot as plt\n",
    "\n",
    "import astropy.units as u\n",
    "from astropy.coordinates import SkyCoord\n",
    "from astropy.time import Time\n",
    "from astropy.visualization import ImageNormalize, SqrtStretch\n",
    "\n",
    "import sunpy.coordinates  # NOQA\n",
    "import sunpy.map\n",
    "from sunpy.net import Fido\n",
    "from sunpy.net import attrs as a\n",
    "\n",
    "import torch"
   ]
  },
  {
   "cell_type": "markdown",
   "metadata": {},
   "source": [
    "Tutorial to download AIA images can be found there: https://docs.sunpy.org/en/stable/generated/gallery/acquiring_data/downloading_cutouts.html\n"
   ]
  },
  {
   "cell_type": "code",
   "execution_count": 8,
   "metadata": {},
   "outputs": [
    {
     "name": "stdout",
     "output_type": "stream",
     "text": [
      "Results from 1 Provider:\n",
      "\n",
      "7 Results from the JSOCClient:\n",
      "Source: http://jsoc.stanford.edu\n",
      "\n",
      "       T_REC         TELESCOP INSTRUME WAVELNTH CAR_ROT\n",
      "-------------------- -------- -------- -------- -------\n",
      "2011-01-20T03:15:38Z  SDO/AIA    AIA_4      304    2105\n",
      "2011-01-20T05:15:38Z  SDO/AIA    AIA_4      304    2105\n",
      "2011-01-20T07:15:38Z  SDO/AIA    AIA_4      304    2105\n",
      "2011-01-20T09:15:38Z  SDO/AIA    AIA_4      304    2105\n",
      "2011-01-20T11:15:38Z  SDO/AIA    AIA_4      304    2106\n",
      "2011-01-20T13:15:38Z  SDO/AIA    AIA_4      304    2106\n",
      "2011-01-20T15:15:38Z  SDO/AIA    AIA_4      304    2106\n",
      "\n",
      "\n",
      "Export request pending. [id=JSOC_20231110_952, status=2]\n",
      "Waiting for 0 seconds...\n",
      "Export request pending. [id=JSOC_20231110_952, status=1]\n",
      "Waiting for 5 seconds...\n",
      "Export request pending. [id=JSOC_20231110_952, status=1]\n",
      "Waiting for 5 seconds...\n",
      "Export request pending. [id=JSOC_20231110_952, status=1]\n",
      "Waiting for 5 seconds...\n",
      "Export request pending. [id=JSOC_20231110_952, status=1]\n",
      "Waiting for 5 seconds...\n",
      "Export request pending. [id=JSOC_20231110_952, status=1]\n",
      "Waiting for 5 seconds...\n",
      "Export request pending. [id=JSOC_20231110_952, status=1]\n",
      "Waiting for 5 seconds...\n",
      "Export request pending. [id=JSOC_20231110_952, status=1]\n",
      "Waiting for 5 seconds...\n",
      "Export request pending. [id=JSOC_20231110_952, status=1]\n",
      "Waiting for 5 seconds...\n",
      "Export request pending. [id=JSOC_20231110_952, status=1]\n",
      "Waiting for 5 seconds...\n",
      "Export request pending. [id=JSOC_20231110_952, status=1]\n",
      "Waiting for 5 seconds...\n"
     ]
    },
    {
     "ename": "DrmsExportError",
     "evalue": " [status=4]",
     "output_type": "error",
     "traceback": [
      "\u001b[0;31m---------------------------------------------------------------------------\u001b[0m",
      "\u001b[0;31mDrmsExportError\u001b[0m                           Traceback (most recent call last)",
      "\u001b[1;32m/Users/Julie/Documents/GitHub/ml-project-2-jac/AIA_requests.ipynb Cell 3\u001b[0m line \u001b[0;36m2\n\u001b[1;32m     <a href='vscode-notebook-cell:/Users/Julie/Documents/GitHub/ml-project-2-jac/AIA_requests.ipynb#W2sZmlsZQ%3D%3D?line=15'>16</a>\u001b[0m query \u001b[39m=\u001b[39m Fido\u001b[39m.\u001b[39msearch(\n\u001b[1;32m     <a href='vscode-notebook-cell:/Users/Julie/Documents/GitHub/ml-project-2-jac/AIA_requests.ipynb#W2sZmlsZQ%3D%3D?line=16'>17</a>\u001b[0m     a\u001b[39m.\u001b[39mTime(start_time \u001b[39m-\u001b[39m \u001b[39m6\u001b[39m\u001b[39m*\u001b[39mu\u001b[39m.\u001b[39mh, start_time \u001b[39m+\u001b[39m \u001b[39m6\u001b[39m\u001b[39m*\u001b[39mu\u001b[39m.\u001b[39mh),\n\u001b[1;32m     <a href='vscode-notebook-cell:/Users/Julie/Documents/GitHub/ml-project-2-jac/AIA_requests.ipynb#W2sZmlsZQ%3D%3D?line=17'>18</a>\u001b[0m     a\u001b[39m.\u001b[39mWavelength(\u001b[39m304\u001b[39m\u001b[39m*\u001b[39mu\u001b[39m.\u001b[39mangstrom),\n\u001b[0;32m   (...)\u001b[0m\n\u001b[1;32m     <a href='vscode-notebook-cell:/Users/Julie/Documents/GitHub/ml-project-2-jac/AIA_requests.ipynb#W2sZmlsZQ%3D%3D?line=22'>23</a>\u001b[0m     cutout,\n\u001b[1;32m     <a href='vscode-notebook-cell:/Users/Julie/Documents/GitHub/ml-project-2-jac/AIA_requests.ipynb#W2sZmlsZQ%3D%3D?line=23'>24</a>\u001b[0m )\n\u001b[1;32m     <a href='vscode-notebook-cell:/Users/Julie/Documents/GitHub/ml-project-2-jac/AIA_requests.ipynb#W2sZmlsZQ%3D%3D?line=24'>25</a>\u001b[0m \u001b[39mprint\u001b[39m(query)\n\u001b[0;32m---> <a href='vscode-notebook-cell:/Users/Julie/Documents/GitHub/ml-project-2-jac/AIA_requests.ipynb#W2sZmlsZQ%3D%3D?line=26'>27</a>\u001b[0m files \u001b[39m=\u001b[39m Fido\u001b[39m.\u001b[39;49mfetch(query)\n\u001b[1;32m     <a href='vscode-notebook-cell:/Users/Julie/Documents/GitHub/ml-project-2-jac/AIA_requests.ipynb#W2sZmlsZQ%3D%3D?line=27'>28</a>\u001b[0m files\u001b[39m.\u001b[39msort()\n",
      "File \u001b[0;32m/opt/anaconda3/envs/ML/lib/python3.11/site-packages/sunpy/net/fido_factory.py:428\u001b[0m, in \u001b[0;36mUnifiedDownloaderFactory.fetch\u001b[0;34m(self, path, max_conn, progress, overwrite, downloader, *query_results, **kwargs)\u001b[0m\n\u001b[1;32m    425\u001b[0m     \u001b[39mraise\u001b[39;00m \u001b[39mValueError\u001b[39;00m(\u001b[39mf\u001b[39m\u001b[39m\"\u001b[39m\u001b[39mQuery result has an unrecognized type: \u001b[39m\u001b[39m{\u001b[39;00m\u001b[39mtype\u001b[39m(query_result)\u001b[39m}\u001b[39;00m\u001b[39m \u001b[39m\u001b[39m\"\u001b[39m\n\u001b[1;32m    426\u001b[0m                      \u001b[39m\"\u001b[39m\u001b[39mAllowed types are QueryResponseRow, QueryResponseTable or UnifiedResponse.\u001b[39m\u001b[39m\"\u001b[39m)\n\u001b[1;32m    427\u001b[0m \u001b[39mfor\u001b[39;00m block \u001b[39min\u001b[39;00m responses:\n\u001b[0;32m--> 428\u001b[0m     result \u001b[39m=\u001b[39m block\u001b[39m.\u001b[39;49mclient\u001b[39m.\u001b[39;49mfetch(block, path\u001b[39m=\u001b[39;49mpath,\n\u001b[1;32m    429\u001b[0m                                 downloader\u001b[39m=\u001b[39;49mdownloader,\n\u001b[1;32m    430\u001b[0m                                 wait\u001b[39m=\u001b[39;49m\u001b[39mFalse\u001b[39;49;00m, \u001b[39m*\u001b[39;49m\u001b[39m*\u001b[39;49mkwargs)\n\u001b[1;32m    431\u001b[0m     \u001b[39mif\u001b[39;00m result \u001b[39mnot\u001b[39;00m \u001b[39min\u001b[39;00m (\u001b[39mNotImplemented\u001b[39m, \u001b[39mNone\u001b[39;00m):\n\u001b[1;32m    432\u001b[0m         reslist\u001b[39m.\u001b[39mappend(result)\n",
      "File \u001b[0;32m/opt/anaconda3/envs/ML/lib/python3.11/site-packages/sunpy/net/base_client.py:324\u001b[0m, in \u001b[0;36mconvert_row_to_table.<locals>.wrapper\u001b[0;34m(self, query_results, **kwargs)\u001b[0m\n\u001b[1;32m    322\u001b[0m \u001b[39mif\u001b[39;00m \u001b[39misinstance\u001b[39m(query_results, QueryResponseRow):\n\u001b[1;32m    323\u001b[0m     query_results \u001b[39m=\u001b[39m query_results\u001b[39m.\u001b[39mas_table()\n\u001b[0;32m--> 324\u001b[0m \u001b[39mreturn\u001b[39;00m func(\u001b[39mself\u001b[39;49m, query_results, \u001b[39m*\u001b[39;49m\u001b[39m*\u001b[39;49mkwargs)\n",
      "File \u001b[0;32m/opt/anaconda3/envs/ML/lib/python3.11/site-packages/sunpy/net/jsoc/jsoc.py:441\u001b[0m, in \u001b[0;36mJSOCClient.fetch\u001b[0;34m(self, jsoc_response, path, progress, overwrite, downloader, wait, sleep, max_conn, **kwargs)\u001b[0m\n\u001b[1;32m    438\u001b[0m time\u001b[39m.\u001b[39msleep(sleep\u001b[39m/\u001b[39m\u001b[39m2.\u001b[39m)\n\u001b[1;32m    440\u001b[0m \u001b[39mfor\u001b[39;00m response \u001b[39min\u001b[39;00m responses:\n\u001b[0;32m--> 441\u001b[0m     response\u001b[39m.\u001b[39;49mwait(verbose\u001b[39m=\u001b[39;49mprogress)\n\u001b[1;32m    443\u001b[0m \u001b[39mreturn\u001b[39;00m \u001b[39mself\u001b[39m\u001b[39m.\u001b[39mget_request(responses, path\u001b[39m=\u001b[39mpath, overwrite\u001b[39m=\u001b[39moverwrite,\n\u001b[1;32m    444\u001b[0m                         progress\u001b[39m=\u001b[39mprogress, downloader\u001b[39m=\u001b[39mdownloader,\n\u001b[1;32m    445\u001b[0m                         wait\u001b[39m=\u001b[39mwait, max_conn\u001b[39m=\u001b[39mmax_conn, \u001b[39m*\u001b[39m\u001b[39m*\u001b[39mdefaults)\n",
      "File \u001b[0;32m/opt/anaconda3/envs/ML/lib/python3.11/site-packages/drms/client.py:488\u001b[0m, in \u001b[0;36mExportRequest.wait\u001b[0;34m(self, timeout, sleep, retries_notfound, verbose)\u001b[0m\n\u001b[1;32m    485\u001b[0m time\u001b[39m.\u001b[39msleep(wait_secs)\n\u001b[1;32m    487\u001b[0m \u001b[39mif\u001b[39;00m \u001b[39mself\u001b[39m\u001b[39m.\u001b[39mhas_finished():\n\u001b[0;32m--> 488\u001b[0m     \u001b[39mself\u001b[39;49m\u001b[39m.\u001b[39;49m_raise_on_error()\n\u001b[1;32m    489\u001b[0m     \u001b[39mreturn\u001b[39;00m \u001b[39mTrue\u001b[39;00m\n\u001b[1;32m    490\u001b[0m \u001b[39melif\u001b[39;00m \u001b[39mself\u001b[39m\u001b[39m.\u001b[39m_status \u001b[39m==\u001b[39m \u001b[39mself\u001b[39m\u001b[39m.\u001b[39m_status_code_notfound:\n\u001b[1;32m    491\u001b[0m     \u001b[39m# Raise exception, if no retries are left.\u001b[39;00m\n",
      "File \u001b[0;32m/opt/anaconda3/envs/ML/lib/python3.11/site-packages/drms/client.py:185\u001b[0m, in \u001b[0;36mExportRequest._raise_on_error\u001b[0;34m(self, notfound_ok)\u001b[0m\n\u001b[1;32m    183\u001b[0m     msg \u001b[39m=\u001b[39m \u001b[39m\"\u001b[39m\u001b[39mDRMS export request failed.\u001b[39m\u001b[39m\"\u001b[39m\n\u001b[1;32m    184\u001b[0m msg \u001b[39m+\u001b[39m\u001b[39m=\u001b[39m \u001b[39mf\u001b[39m\u001b[39m\"\u001b[39m\u001b[39m [status=\u001b[39m\u001b[39m{\u001b[39;00m\u001b[39mint\u001b[39m(\u001b[39mself\u001b[39m\u001b[39m.\u001b[39m_status)\u001b[39m}\u001b[39;00m\u001b[39m]\u001b[39m\u001b[39m\"\u001b[39m\n\u001b[0;32m--> 185\u001b[0m \u001b[39mraise\u001b[39;00m DrmsExportError(msg)\n",
      "\u001b[0;31mDrmsExportError\u001b[0m:  [status=4]"
     ]
    }
   ],
   "source": [
    "\"\"\"\n",
    "date: 2011-01-20T09:15:44.000000\n",
    "basepoint_x: -226.577125\t\n",
    "basepoint_y: -956.964375\n",
    "\"\"\"\n",
    "\n",
    "start_time = Time('2011-01-20T09:15:44', scale='utc', format='isot')\n",
    "bottom_left = SkyCoord(-126*u.arcsec, -857*u.arcsec, obstime=start_time, observer=\"earth\", frame=\"helioprojective\")\n",
    "top_right = SkyCoord(-326*u.arcsec, -1057*u.arcsec, obstime=start_time, observer=\"earth\", frame=\"helioprojective\")\n",
    "\n",
    "cutout = a.jsoc.Cutout(bottom_left, top_right=top_right, tracking=True)\n",
    "\n",
    "#print(os.environ)\n",
    "jsoc_email = 'julie.charlet@epfl.ch'\n",
    "\n",
    "query = Fido.search(\n",
    "    a.Time(start_time - 6*u.h, start_time + 6*u.h),\n",
    "    a.Wavelength(304*u.angstrom),\n",
    "    a.Sample(2*u.h),\n",
    "    a.jsoc.Series.aia_lev1_euv_12s,\n",
    "    a.jsoc.Notify(jsoc_email),\n",
    "    a.jsoc.Segment.image,\n",
    "    cutout,\n",
    ")\n",
    "print(query)\n",
    "\n",
    "files = Fido.fetch(query)\n",
    "files.sort()"
   ]
  }
 ],
 "metadata": {
  "kernelspec": {
   "display_name": "ML",
   "language": "python",
   "name": "python3"
  },
  "language_info": {
   "codemirror_mode": {
    "name": "ipython",
    "version": 3
   },
   "file_extension": ".py",
   "mimetype": "text/x-python",
   "name": "python",
   "nbconvert_exporter": "python",
   "pygments_lexer": "ipython3",
   "version": "3.11.5"
  }
 },
 "nbformat": 4,
 "nbformat_minor": 2
}
