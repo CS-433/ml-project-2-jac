{
 "cells": [
  {
   "cell_type": "markdown",
   "metadata": {},
   "source": [
    "<div style=\"width: 1350px; height: 30px; background-color: green;\"></div>\n"
   ]
  },
  {
   "cell_type": "markdown",
   "metadata": {},
   "source": [
    "# TO DO\n",
    "\n",
    "##### **Cross Validation**\n",
    "- Currently, we are using cross-entropy for the criterion, but according to ChatGPT, it has nothing to do with cross-validation, and I think that makes sense.\n",
    "- We want to use cross-validation to somehow max the F1 score\n",
    "  - We are minimizing loss, but somehow we want to maximize F1 score during cross validation (see feedback Project 1)\n",
    "  - Currently the `train_acc_history` doesn't work well. At each epoch it returns the acc for ALL minibatches. Therefore, at the end of the 5 epochs instead of containing 5 values, it contains 20 (5 epochs x 4 minibatches). I think that with cross-validation we have to take the average of them ?? \n",
    "\n",
    "##### **Other**\n",
    "- Parameter tuning: get cool hyperparameters (criterion, number of epochs, optimizer, scheduler)\n",
    "- Data Augmentation: transformations (rotations, translations, cutouts, zoom in, zoom out...)\n",
    "- Multimodal data: currently we only train the image itself. Maybe it's useful to train other parameters such as the date or the location, as Sophie said that if a jet occurs in a location, it is more likely that another jet occurs in that same location.\n",
    "- Batch size set to 32. Change it?\n",
    "\n",
    "##### **Model Testing**\n",
    "- We have to divide data into training, validation, and test. BUT, as we are using cross validation we don't need the validation set I think???\n",
    "- Need to evaluate and test model\n",
    "\n",
    "##### **Network Model**\n",
    "- I didn't include the first two layers from the paper (input layer and BRN). Should we? CAREFUL AS THIS MAY REBOOT THE LAPTOP\n",
    "- Batch **re**normalization ?\n",
    "- Part of me thinks that this model is better when we have small images but with a lot of samples, because using 127 datapoints (which is low but not that low), it only takes 2 min to run even when running on CPU, which seems like so little time."
   ]
  },
  {
   "cell_type": "markdown",
   "metadata": {},
   "source": [
    "<div style=\"width: 1350px; height: 30px; background-color: green;\"></div>\n"
   ]
  },
  {
   "cell_type": "markdown",
   "metadata": {},
   "source": [
    "# 0. Load Modules"
   ]
  },
  {
   "cell_type": "code",
   "execution_count": 3,
   "metadata": {},
   "outputs": [],
   "source": [
    "# Main libraries used all the time\n",
    "import numpy as np\n",
    "import matplotlib.pyplot as plt\n",
    "import pandas as pd\n",
    "\n",
    "# Operating system libraries\n",
    "import os\n",
    "import sys\n",
    "\n",
    "# Machine learning libraries\n",
    "import torch\n",
    "from torchvision import transforms, datasets\n",
    "from torchvision.datasets import ImageFolder\n",
    "from torch.utils.data import Dataset, DataLoader, random_split\n",
    "\n",
    "from torchvision.transforms import v2 # library to define the transforms\n",
    "\n",
    "from torcheval.metrics.functional import multiclass_f1_score "
   ]
  },
  {
   "cell_type": "code",
   "execution_count": 4,
   "metadata": {},
   "outputs": [],
   "source": [
    "# For Google Colab, mount Google Drive, for local environments, get local path (github)\n",
    "\n",
    "# Change with the appropriate path. Log in into Drive and create the folders with the data\n",
    "\n",
    "if 'google.colab' in sys.modules:\n",
    "    from google.colab import drive\n",
    "    drive.mount('/content/drive')\n",
    "    folder0_path = '/content/drive/My Drive/solar_jets/data0'\n",
    "    folder1_path = '/content/drive/My Drive/solar_jets/data1'\n",
    "    folder0_test_path = '/content/drive/My Drive/solar_jets/data0_test'\n",
    "    folder1_test_path = '/content/drive/My Drive/solar_jets/data1_test'\n",
    "else:\n",
    "    # For local environments like VS Code\n",
    "    folder0_path = './data0'\n",
    "    folder1_path = './data1'\n",
    "    folder0_test_path = './data0_test'\n",
    "    folder1_test_path = './data1_test'"
   ]
  },
  {
   "cell_type": "markdown",
   "metadata": {},
   "source": [
    "# 1. Very naive Model"
   ]
  },
  {
   "cell_type": "markdown",
   "metadata": {},
   "source": [
    "## 1.1. Prepare the dataset"
   ]
  },
  {
   "cell_type": "markdown",
   "metadata": {},
   "source": [
    "#### Create the class"
   ]
  },
  {
   "cell_type": "code",
   "execution_count": 5,
   "metadata": {},
   "outputs": [],
   "source": [
    "class NPZDataset(Dataset):\n",
    "    def __init__(self, data_dir, transform=None):\n",
    "        self.data_dir = data_dir\n",
    "\n",
    "        # in self.files, only add f if it has 30 samples\n",
    "        self.files = [f for f in os.listdir(data_dir) if self._check_file_shape(f)]\n",
    "        self.transform = transform\n",
    "\n",
    "    # Check if the file has 30 samples, if not, don't include it in self.files (see above)\n",
    "    def _check_file_shape(self, file):\n",
    "        file_path = os.path.join(self.data_dir, file)\n",
    "        data = np.load(file_path)['arr_0']\n",
    "        return data.shape == (166, 166, 30)\n",
    "\n",
    "    def __len__(self):\n",
    "        return len(self.files)\n",
    "\n",
    "    def __getitem__(self, idx):\n",
    "        file_path = os.path.join(self.data_dir, self.files[idx])\n",
    "        data = np.load(file_path)['arr_0']\n",
    "\n",
    "        # Rearrange dimensions to (30, 166, 166) for PyTorch (insted of (166, 166, 30))\n",
    "        data = np.moveaxis(data, -1, 0)\n",
    "\n",
    "        # assign label 1 if data is from data1, 0 if from data0\n",
    "        label = 1.0 if 'data1' in self.data_dir else 0.0\n",
    "        return torch.from_numpy(data).float(), label"
   ]
  },
  {
   "cell_type": "markdown",
   "metadata": {},
   "source": [
    "### Define the transforms that we want to apply"
   ]
  },
  {
   "cell_type": "code",
   "execution_count": 6,
   "metadata": {},
   "outputs": [],
   "source": [
    "mean = 51.6644\n",
    "std = 62.7087\n",
    "\n",
    "train_transform = v2.Compose([\n",
    "    v2.ToImage(), \n",
    "    v2.ToDtype(torch.float32, scale=True), #equivalent to transforms.ToTensor()\n",
    "    v2.Normalize((mean,), (std,)),\n",
    "    v2.RandomResizedCrop(size=(55, 55)),\n",
    "    v2.RandomAffine(degrees=(-90,90), translate=(0.3, 0.3), scale=(0.8, 1.2))\n",
    "    # add other transforms if needed\n",
    "])\n",
    "\n",
    "test_transform = v2.Compose([\n",
    "    v2.ToImage(), \n",
    "    v2.ToDtype(torch.float32, scale=True), #equivalent to transforms.ToTensor()\n",
    "    v2.Normalize((mean,), (std,)),\n",
    "])"
   ]
  },
  {
   "cell_type": "markdown",
   "metadata": {},
   "source": [
    "#### Run to get the Data"
   ]
  },
  {
   "cell_type": "code",
   "execution_count": 7,
   "metadata": {},
   "outputs": [],
   "source": [
    "train_data1 = NPZDataset(folder1_path, transform=train_transform)\n",
    "train_data0 = NPZDataset(folder0_path, transform=train_transform)\n",
    "train_data = torch.utils.data.ConcatDataset([train_data1, train_data0])\n",
    "\n",
    "test_data1 = NPZDataset(folder1_test_path, transform=test_transform)\n",
    "test_data0 = NPZDataset(folder0_test_path, transform=test_transform)\n",
    "test_data = torch.utils.data.ConcatDataset([train_data1, train_data0])\n",
    "\n"
   ]
  },
  {
   "cell_type": "markdown",
   "metadata": {},
   "source": [
    "Calculate mean and std for v2.Normalize() (doesn't need to run anymore as the values have been entered above)"
   ]
  },
  {
   "cell_type": "code",
   "execution_count": 64,
   "metadata": {},
   "outputs": [
    {
     "name": "stdout",
     "output_type": "stream",
     "text": [
      "Mean: tensor([52.4797])\n",
      "Std: tensor([63.5925])\n"
     ]
    }
   ],
   "source": [
    "\n",
    "# Calculate mean and std\n",
    "mean = torch.zeros(1)  # Assuming your images are RGB, change 3 to 1 for grayscale images\n",
    "std = torch.zeros(1)\n",
    "\n",
    "for i in range(len(train_data)):\n",
    "    sequence, _ = train_data[i]\n",
    "\n",
    "    # Make sure the image is a PyTorch tensor\n",
    "    if not isinstance(sequence, torch.Tensor):\n",
    "        sequence = transforms.ToTensor()(sequence)\n",
    "\n",
    "    # Accumulate mean and std\n",
    "    mean += torch.mean(sequence)\n",
    "    std += torch.std(sequence)\n",
    "\n",
    "# Calculate mean and std across the dataset\n",
    "mean /= len(train_data)\n",
    "std /= len(train_data)\n",
    "\n",
    "print(\"Mean:\", mean)\n",
    "print(\"Std:\", std)"
   ]
  },
  {
   "cell_type": "markdown",
   "metadata": {},
   "source": [
    "Below we'll see how train_data can be treated just like lists\n",
    "\n",
    "- One element in the list for each sequence of images\n",
    "- Each element of the list has a tuple of two elements, the first the array (166,30,30) and the second the label"
   ]
  },
  {
   "cell_type": "code",
   "execution_count": 87,
   "metadata": {},
   "outputs": [
    {
     "name": "stdout",
     "output_type": "stream",
     "text": [
      "samples y=1:  693\n",
      "samples y=0:  674\n",
      "samples total  1367\n"
     ]
    }
   ],
   "source": [
    "print(\"samples y=1: \",len(train_data1))\n",
    "print(\"samples y=0: \",len(train_data0))\n",
    "\n",
    "print(\"samples total \",len(train_data))"
   ]
  },
  {
   "cell_type": "code",
   "execution_count": 90,
   "metadata": {},
   "outputs": [
    {
     "name": "stdout",
     "output_type": "stream",
     "text": [
      "Sample 0: Shape torch.Size([30, 166, 166]), Label: 1.0\n",
      "Sample 0: Shape torch.Size([30, 166, 166]), Label: 0.0\n",
      "1367\n",
      "[1.0, 1.0, 1.0, 1.0, 1.0, 1.0, 1.0, 1.0, 1.0, 1.0, 1.0, 1.0, 1.0, 1.0, 1.0, 1.0, 1.0, 1.0, 1.0, 1.0, 1.0, 1.0, 1.0, 1.0, 1.0, 1.0, 1.0, 1.0, 1.0, 1.0, 1.0, 1.0, 1.0, 1.0, 1.0, 1.0, 1.0, 1.0, 1.0, 1.0, 1.0, 1.0, 1.0, 1.0, 1.0, 1.0, 1.0, 1.0, 1.0, 1.0, 1.0, 1.0, 1.0, 1.0, 1.0, 1.0, 1.0, 1.0, 1.0, 1.0, 1.0, 1.0, 1.0, 1.0, 1.0, 1.0, 1.0, 1.0, 1.0, 1.0, 1.0, 1.0, 1.0, 1.0, 1.0, 1.0, 1.0, 1.0, 1.0, 1.0, 1.0, 1.0, 1.0, 1.0, 1.0, 1.0, 1.0, 1.0, 1.0, 1.0, 1.0, 1.0, 1.0, 1.0, 1.0, 1.0, 1.0, 1.0, 1.0, 1.0, 1.0, 1.0, 1.0, 1.0, 1.0, 1.0, 1.0, 1.0, 1.0, 1.0, 1.0, 1.0, 1.0, 1.0, 1.0, 1.0, 1.0, 1.0, 1.0, 1.0, 1.0, 1.0, 1.0, 1.0, 1.0, 1.0, 1.0, 1.0, 1.0, 1.0, 1.0, 1.0, 1.0, 1.0, 1.0, 1.0, 1.0, 1.0, 1.0, 1.0, 1.0, 1.0, 1.0, 1.0, 1.0, 1.0, 1.0, 1.0, 1.0, 1.0, 1.0, 1.0, 1.0, 1.0, 1.0, 1.0, 1.0, 1.0, 1.0, 1.0, 1.0, 1.0, 1.0, 1.0, 1.0, 1.0, 1.0, 1.0, 1.0, 1.0, 1.0, 1.0, 1.0, 1.0, 1.0, 1.0, 1.0, 1.0, 1.0, 1.0, 1.0, 1.0, 1.0, 1.0, 1.0, 1.0, 1.0, 1.0, 1.0, 1.0, 1.0, 1.0, 1.0, 1.0, 1.0, 1.0, 1.0, 1.0, 1.0, 1.0, 1.0, 1.0, 1.0, 1.0, 1.0, 1.0, 1.0, 1.0, 1.0, 1.0, 1.0, 1.0, 1.0, 1.0, 1.0, 1.0, 1.0, 1.0, 1.0, 1.0, 1.0, 1.0, 1.0, 1.0, 1.0, 1.0, 1.0, 1.0, 1.0, 1.0, 1.0, 1.0, 1.0, 1.0, 1.0, 1.0, 1.0, 1.0, 1.0, 1.0, 1.0, 1.0, 1.0, 1.0, 1.0, 1.0, 1.0, 1.0, 1.0, 1.0, 1.0, 1.0, 1.0, 1.0, 1.0, 1.0, 1.0, 1.0, 1.0, 1.0, 1.0, 1.0, 1.0, 1.0, 1.0, 1.0, 1.0, 1.0, 1.0, 1.0, 1.0, 1.0, 1.0, 1.0, 1.0, 1.0, 1.0, 1.0, 1.0, 1.0, 1.0, 1.0, 1.0, 1.0, 1.0, 1.0, 1.0, 1.0, 1.0, 1.0, 1.0, 1.0, 1.0, 1.0, 1.0, 1.0, 1.0, 1.0, 1.0, 1.0, 1.0, 1.0, 1.0, 1.0, 1.0, 1.0, 1.0, 1.0, 1.0, 1.0, 1.0, 1.0, 1.0, 1.0, 1.0, 1.0, 1.0, 1.0, 1.0, 1.0, 1.0, 1.0, 1.0, 1.0, 1.0, 1.0, 1.0, 1.0, 1.0, 1.0, 1.0, 1.0, 1.0, 1.0, 1.0, 1.0, 1.0, 1.0, 1.0, 1.0, 1.0, 1.0, 1.0, 1.0, 1.0, 1.0, 1.0, 1.0, 1.0, 1.0, 1.0, 1.0, 1.0, 1.0, 1.0, 1.0, 1.0, 1.0, 1.0, 1.0, 1.0, 1.0, 1.0, 1.0, 1.0, 1.0, 1.0, 1.0, 1.0, 1.0, 1.0, 1.0, 1.0, 1.0, 1.0, 1.0, 1.0, 1.0, 1.0, 1.0, 1.0, 1.0, 1.0, 1.0, 1.0, 1.0, 1.0, 1.0, 1.0, 1.0, 1.0, 1.0, 1.0, 1.0, 1.0, 1.0, 1.0, 1.0, 1.0, 1.0, 1.0, 1.0, 1.0, 1.0, 1.0, 1.0, 1.0, 1.0, 1.0, 1.0, 1.0, 1.0, 1.0, 1.0, 1.0, 1.0, 1.0, 1.0, 1.0, 1.0, 1.0, 1.0, 1.0, 1.0, 1.0, 1.0, 1.0, 1.0, 1.0, 1.0, 1.0, 1.0, 1.0, 1.0, 1.0, 1.0, 1.0, 1.0, 1.0, 1.0, 1.0, 1.0, 1.0, 1.0, 1.0, 1.0, 1.0, 1.0, 1.0, 1.0, 1.0, 1.0, 1.0, 1.0, 1.0, 1.0, 1.0, 1.0, 1.0, 1.0, 1.0, 1.0, 1.0, 1.0, 1.0, 1.0, 1.0, 1.0, 1.0, 1.0, 1.0, 1.0, 1.0, 1.0, 1.0, 1.0, 1.0, 1.0, 1.0, 1.0, 1.0, 1.0, 1.0, 1.0, 1.0, 1.0, 1.0, 1.0, 1.0, 1.0, 1.0, 1.0, 1.0, 1.0, 1.0, 1.0, 1.0, 1.0, 1.0, 1.0, 1.0, 1.0, 1.0, 1.0, 1.0, 1.0, 1.0, 1.0, 1.0, 1.0, 1.0, 1.0, 1.0, 1.0, 1.0, 1.0, 1.0, 1.0, 1.0, 1.0, 1.0, 1.0, 1.0, 1.0, 1.0, 1.0, 1.0, 1.0, 1.0, 1.0, 1.0, 1.0, 1.0, 1.0, 1.0, 1.0, 1.0, 1.0, 1.0, 1.0, 1.0, 1.0, 1.0, 1.0, 1.0, 1.0, 1.0, 1.0, 1.0, 1.0, 1.0, 1.0, 1.0, 1.0, 1.0, 1.0, 1.0, 1.0, 1.0, 1.0, 1.0, 1.0, 1.0, 1.0, 1.0, 1.0, 1.0, 1.0, 1.0, 1.0, 1.0, 1.0, 1.0, 1.0, 1.0, 1.0, 1.0, 1.0, 1.0, 1.0, 1.0, 1.0, 1.0, 1.0, 1.0, 1.0, 1.0, 1.0, 1.0, 1.0, 1.0, 1.0, 1.0, 1.0, 1.0, 1.0, 1.0, 1.0, 1.0, 1.0, 1.0, 1.0, 1.0, 1.0, 1.0, 1.0, 1.0, 1.0, 1.0, 1.0, 1.0, 1.0, 1.0, 1.0, 1.0, 1.0, 1.0, 1.0, 1.0, 1.0, 1.0, 1.0, 1.0, 1.0, 1.0, 1.0, 1.0, 1.0, 1.0, 1.0, 1.0, 1.0, 1.0, 1.0, 1.0, 1.0, 1.0, 1.0, 1.0, 1.0, 1.0, 1.0, 1.0, 1.0, 1.0, 1.0, 1.0, 1.0, 1.0, 1.0, 1.0, 1.0, 1.0, 1.0, 1.0, 1.0, 1.0, 1.0, 1.0, 1.0, 1.0, 1.0, 1.0, 1.0, 1.0, 1.0, 1.0, 1.0, 1.0, 1.0, 1.0, 1.0, 1.0, 1.0, 1.0, 1.0, 1.0, 1.0, 1.0, 1.0, 1.0, 1.0, 1.0, 1.0, 1.0, 1.0, 1.0, 1.0, 1.0, 1.0, 1.0, 1.0, 1.0, 0.0, 0.0, 0.0, 0.0, 0.0, 0.0, 0.0, 0.0, 0.0, 0.0, 0.0, 0.0, 0.0, 0.0, 0.0, 0.0, 0.0, 0.0, 0.0, 0.0, 0.0, 0.0, 0.0, 0.0, 0.0, 0.0, 0.0, 0.0, 0.0, 0.0, 0.0, 0.0, 0.0, 0.0, 0.0, 0.0, 0.0, 0.0, 0.0, 0.0, 0.0, 0.0, 0.0, 0.0, 0.0, 0.0, 0.0, 0.0, 0.0, 0.0, 0.0, 0.0, 0.0, 0.0, 0.0, 0.0, 0.0, 0.0, 0.0, 0.0, 0.0, 0.0, 0.0, 0.0, 0.0, 0.0, 0.0, 0.0, 0.0, 0.0, 0.0, 0.0, 0.0, 0.0, 0.0, 0.0, 0.0, 0.0, 0.0, 0.0, 0.0, 0.0, 0.0, 0.0, 0.0, 0.0, 0.0, 0.0, 0.0, 0.0, 0.0, 0.0, 0.0, 0.0, 0.0, 0.0, 0.0, 0.0, 0.0, 0.0, 0.0, 0.0, 0.0, 0.0, 0.0, 0.0, 0.0, 0.0, 0.0, 0.0, 0.0, 0.0, 0.0, 0.0, 0.0, 0.0, 0.0, 0.0, 0.0, 0.0, 0.0, 0.0, 0.0, 0.0, 0.0, 0.0, 0.0, 0.0, 0.0, 0.0, 0.0, 0.0, 0.0, 0.0, 0.0, 0.0, 0.0, 0.0, 0.0, 0.0, 0.0, 0.0, 0.0, 0.0, 0.0, 0.0, 0.0, 0.0, 0.0, 0.0, 0.0, 0.0, 0.0, 0.0, 0.0, 0.0, 0.0, 0.0, 0.0, 0.0, 0.0, 0.0, 0.0, 0.0, 0.0, 0.0, 0.0, 0.0, 0.0, 0.0, 0.0, 0.0, 0.0, 0.0, 0.0, 0.0, 0.0, 0.0, 0.0, 0.0, 0.0, 0.0, 0.0, 0.0, 0.0, 0.0, 0.0, 0.0, 0.0, 0.0, 0.0, 0.0, 0.0, 0.0, 0.0, 0.0, 0.0, 0.0, 0.0, 0.0, 0.0, 0.0, 0.0, 0.0, 0.0, 0.0, 0.0, 0.0, 0.0, 0.0, 0.0, 0.0, 0.0, 0.0, 0.0, 0.0, 0.0, 0.0, 0.0, 0.0, 0.0, 0.0, 0.0, 0.0, 0.0, 0.0, 0.0, 0.0, 0.0, 0.0, 0.0, 0.0, 0.0, 0.0, 0.0, 0.0, 0.0, 0.0, 0.0, 0.0, 0.0, 0.0, 0.0, 0.0, 0.0, 0.0, 0.0, 0.0, 0.0, 0.0, 0.0, 0.0, 0.0, 0.0, 0.0, 0.0, 0.0, 0.0, 0.0, 0.0, 0.0, 0.0, 0.0, 0.0, 0.0, 0.0, 0.0, 0.0, 0.0, 0.0, 0.0, 0.0, 0.0, 0.0, 0.0, 0.0, 0.0, 0.0, 0.0, 0.0, 0.0, 0.0, 0.0, 0.0, 0.0, 0.0, 0.0, 0.0, 0.0, 0.0, 0.0, 0.0, 0.0, 0.0, 0.0, 0.0, 0.0, 0.0, 0.0, 0.0, 0.0, 0.0, 0.0, 0.0, 0.0, 0.0, 0.0, 0.0, 0.0, 0.0, 0.0, 0.0, 0.0, 0.0, 0.0, 0.0, 0.0, 0.0, 0.0, 0.0, 0.0, 0.0, 0.0, 0.0, 0.0, 0.0, 0.0, 0.0, 0.0, 0.0, 0.0, 0.0, 0.0, 0.0, 0.0, 0.0, 0.0, 0.0, 0.0, 0.0, 0.0, 0.0, 0.0, 0.0, 0.0, 0.0, 0.0, 0.0, 0.0, 0.0, 0.0, 0.0, 0.0, 0.0, 0.0, 0.0, 0.0, 0.0, 0.0, 0.0, 0.0, 0.0, 0.0, 0.0, 0.0, 0.0, 0.0, 0.0, 0.0, 0.0, 0.0, 0.0, 0.0, 0.0, 0.0, 0.0, 0.0, 0.0, 0.0, 0.0, 0.0, 0.0, 0.0, 0.0, 0.0, 0.0, 0.0, 0.0, 0.0, 0.0, 0.0, 0.0, 0.0, 0.0, 0.0, 0.0, 0.0, 0.0, 0.0, 0.0, 0.0, 0.0, 0.0, 0.0, 0.0, 0.0, 0.0, 0.0, 0.0, 0.0, 0.0, 0.0, 0.0, 0.0, 0.0, 0.0, 0.0, 0.0, 0.0, 0.0, 0.0, 0.0, 0.0, 0.0, 0.0, 0.0, 0.0, 0.0, 0.0, 0.0, 0.0, 0.0, 0.0, 0.0, 0.0, 0.0, 0.0, 0.0, 0.0, 0.0, 0.0, 0.0, 0.0, 0.0, 0.0, 0.0, 0.0, 0.0, 0.0, 0.0, 0.0, 0.0, 0.0, 0.0, 0.0, 0.0, 0.0, 0.0, 0.0, 0.0, 0.0, 0.0, 0.0, 0.0, 0.0, 0.0, 0.0, 0.0, 0.0, 0.0, 0.0, 0.0, 0.0, 0.0, 0.0, 0.0, 0.0, 0.0, 0.0, 0.0, 0.0, 0.0, 0.0, 0.0, 0.0, 0.0, 0.0, 0.0, 0.0, 0.0, 0.0, 0.0, 0.0, 0.0, 0.0, 0.0, 0.0, 0.0, 0.0, 0.0, 0.0, 0.0, 0.0, 0.0, 0.0, 0.0, 0.0, 0.0, 0.0, 0.0, 0.0, 0.0, 0.0, 0.0, 0.0, 0.0, 0.0, 0.0, 0.0, 0.0, 0.0, 0.0, 0.0, 0.0, 0.0, 0.0, 0.0, 0.0, 0.0, 0.0, 0.0, 0.0, 0.0, 0.0, 0.0, 0.0, 0.0, 0.0, 0.0, 0.0, 0.0, 0.0, 0.0, 0.0, 0.0, 0.0, 0.0, 0.0, 0.0, 0.0, 0.0, 0.0, 0.0, 0.0, 0.0, 0.0, 0.0, 0.0, 0.0, 0.0, 0.0, 0.0, 0.0, 0.0, 0.0, 0.0, 0.0, 0.0, 0.0, 0.0, 0.0, 0.0, 0.0, 0.0, 0.0, 0.0, 0.0, 0.0, 0.0, 0.0, 0.0, 0.0, 0.0, 0.0, 0.0, 0.0, 0.0, 0.0, 0.0, 0.0, 0.0, 0.0, 0.0, 0.0, 0.0, 0.0, 0.0, 0.0, 0.0, 0.0, 0.0, 0.0, 0.0, 0.0, 0.0, 0.0, 0.0, 0.0, 0.0, 0.0, 0.0, 0.0, 0.0, 0.0, 0.0, 0.0, 0.0, 0.0, 0.0, 0.0, 0.0, 0.0, 0.0, 0.0, 0.0, 0.0, 0.0, 0.0, 0.0, 0.0, 0.0, 0.0, 0.0, 0.0, 0.0, 0.0, 0.0, 0.0, 0.0, 0.0, 0.0, 0.0, 0.0, 0.0, 0.0, 0.0, 0.0, 0.0, 0.0, 0.0, 0.0, 0.0, 0.0, 0.0, 0.0, 0.0, 0.0, 0.0, 0.0, 0.0, 0.0, 0.0, 0.0, 0.0, 0.0, 0.0, 0.0, 0.0, 0.0, 0.0, 0.0, 0.0, 0.0, 0.0]\n"
     ]
    }
   ],
   "source": [
    "print(f\"Sample {0}: Shape {train_data1[0][0].shape}, Label: {train_data1[0][1]}\")\n",
    "print(f\"Sample {0}: Shape {train_data0[0][0].shape}, Label: {train_data0[0][1]}\")\n",
    "\n",
    "target = [sample[1] for sample in test_data]\n",
    "\n",
    "print(len(target))\n",
    "print(target)\n"
   ]
  },
  {
   "cell_type": "markdown",
   "metadata": {},
   "source": [
    "#### Get the Minibatch: not needed anymore as the data is already separated!!!"
   ]
  },
  {
   "cell_type": "code",
   "execution_count": 7,
   "metadata": {},
   "outputs": [],
   "source": [
    "\n",
    "\"\"\"\n",
    "train_size = int(0.8 * len(train_data))  # 80% of data for training\n",
    "test_size = len(train_data) - train_size  # remaining 20% for testing\n",
    "train_dataset, test_dataset = random_split(train_data, [train_size, test_size])\n",
    "\"\"\""
   ]
  },
  {
   "cell_type": "code",
   "execution_count": 8,
   "metadata": {},
   "outputs": [],
   "source": [
    "train_loader = DataLoader(train_data, batch_size=32, shuffle=True)\n",
    "test_loader = DataLoader(test_data, batch_size=32, shuffle=False)\n"
   ]
  },
  {
   "cell_type": "markdown",
   "metadata": {},
   "source": [
    "See that we have 4 different minibatches, each with 32 samples"
   ]
  },
  {
   "cell_type": "code",
   "execution_count": 67,
   "metadata": {},
   "outputs": [
    {
     "name": "stdout",
     "output_type": "stream",
     "text": [
      "Batch 0: samples 32\n",
      "Batch 1: samples 32\n",
      "Batch 2: samples 32\n",
      "Batch 3: samples 32\n",
      "Batch 4: samples 32\n",
      "Batch 5: samples 32\n",
      "Batch 6: samples 32\n",
      "Batch 7: samples 32\n",
      "Batch 8: samples 32\n",
      "Batch 9: samples 32\n",
      "Batch 10: samples 32\n",
      "Batch 11: samples 32\n",
      "Batch 12: samples 32\n",
      "Batch 13: samples 32\n",
      "Batch 14: samples 32\n",
      "Batch 15: samples 32\n",
      "Batch 16: samples 32\n",
      "Batch 17: samples 32\n",
      "Batch 18: samples 32\n",
      "Batch 19: samples 32\n",
      "Batch 20: samples 32\n",
      "Batch 21: samples 32\n",
      "Batch 22: samples 32\n",
      "Batch 23: samples 32\n",
      "Batch 24: samples 32\n",
      "Batch 25: samples 32\n",
      "Batch 26: samples 32\n",
      "Batch 27: samples 32\n",
      "Batch 28: samples 32\n",
      "Batch 29: samples 32\n",
      "Batch 30: samples 32\n",
      "Batch 31: samples 32\n",
      "Batch 32: samples 32\n",
      "Batch 33: samples 32\n",
      "Batch 34: samples 32\n",
      "Batch 35: samples 32\n",
      "Batch 36: samples 32\n",
      "Batch 37: samples 32\n",
      "Batch 38: samples 32\n",
      "Batch 39: samples 32\n",
      "Batch 40: samples 32\n",
      "Batch 41: samples 32\n",
      "Batch 42: samples 23\n"
     ]
    }
   ],
   "source": [
    "for i, (x, y) in enumerate(train_loader):\n",
    "    print(f\"Batch {i}: samples {x.shape[0]}\")\n"
   ]
  },
  {
   "cell_type": "markdown",
   "metadata": {},
   "source": [
    "DataLoader is designed to iterate over batches of data rather than individual samples, so when we try to access for example the first mini-batch as `train_loader[0]`, we get an error.\n",
    "\n",
    "However, note how before we could iterate over it\n"
   ]
  },
  {
   "cell_type": "markdown",
   "metadata": {},
   "source": [
    "# 2. Define the Neural Network"
   ]
  },
  {
   "cell_type": "code",
   "execution_count": 9,
   "metadata": {},
   "outputs": [],
   "source": [
    "class RCNN(torch.nn.Module):\n",
    "    \n",
    "    def __init__(self):\n",
    "        super(RCNN, self).__init__()\n",
    "\n",
    "        # Define the layers\n",
    "\n",
    "        # 1. Input layers\n",
    "        #self.input_layer=torch.nn.Linear(in_features=166*166*30, out_features=166*166*30)      # not sure if this is needed\n",
    "        #self.norm=torch.nn.BatchNorm2d(166*166*30)        #not sure this is sufficent for batch renormalization\n",
    "\n",
    "        # 2. Convolutional layers\n",
    "\n",
    "        # Three conv layers\n",
    "        # according to gpt, in_channels=1 because in the sequence, it is still gray scale, not rgb\n",
    "        self.conv1 = self.create_conv_layer(in_channels=30, out_channels=64)\n",
    "        self.conv2 = self.create_conv_layer(in_channels=64, out_channels=64)\n",
    "        self.conv3 = self.create_conv_layer(in_channels=64, out_channels=64)\n",
    "\n",
    "        # First maxpool\n",
    "        self.pool1 = torch.nn.MaxPool2d(kernel_size=2,stride=2)\n",
    "\n",
    "        # Three conv layers\n",
    "        self.conv4 = self.create_conv_layer(in_channels=64, out_channels=64)\n",
    "        self.conv5 = self.create_conv_layer(in_channels=64, out_channels=64)\n",
    "        self.conv6 = self.create_conv_layer(in_channels=64, out_channels=64)\n",
    "\n",
    "        # Second maxpool\n",
    "        self.pool2 = torch.nn.MaxPool2d(kernel_size=2,stride=2)\n",
    "\n",
    "        # Flatten\n",
    "        self.flatten=torch.nn.Flatten()\n",
    "\n",
    "        # Each time we apply pooling, height and width are divided by 2\n",
    "        self.flat_size = 64 * int(np.floor(166/2/2)) * int(np.floor(166/2/2))\n",
    "\n",
    "        # Fully connected with dropout\n",
    "        self.lin=torch.nn.Linear(self.flat_size, 1024)\n",
    "        self.drop=torch.nn.Dropout(p=0.5)\n",
    "\n",
    "        #LSTM\n",
    "        # we set batch_first=True to have batch_size as first dimension: (30,166,166)\n",
    "        self.lstm = torch.nn.LSTM(input_size=1024, hidden_size=512, num_layers=1, batch_first=True)\n",
    "\n",
    "        #output: for binary classification softmax is not needed\n",
    "        #self.output_layer=torch.nn.Softmax(dim=1)\n",
    "        self.output = torch.nn.Linear(512, 1)\n",
    "\n",
    "    # To make the code more clear, let's use this function to create conv layers\n",
    "    def create_conv_layer(self, in_channels, out_channels):\n",
    "        conv = torch.nn.Conv2d(in_channels=in_channels, out_channels=out_channels, kernel_size=3, stride=1, padding=1)\n",
    "        relu = torch.nn.ReLU()\n",
    "        norm = torch.nn.BatchNorm2d(out_channels)\n",
    "        return torch.nn.Sequential(conv, relu, norm)\n",
    "\n",
    "\n",
    "\n",
    "    def forward(self, x):\n",
    "        \n",
    "        # Define the forward pass\n",
    "\n",
    "        # 1. Input layers\n",
    "        #x=self.input_layer(x)\n",
    "        #x=self.norm(x)\n",
    "\n",
    "        # 2. Convolutional layers\n",
    "        x=self.conv1(x)\n",
    "        x=self.conv2(x)\n",
    "        x=self.conv3(x)\n",
    "\n",
    "        # First maxpool\n",
    "        x=self.pool1(x)\n",
    "\n",
    "        # Three conv layers\n",
    "        x=self.conv4(x)\n",
    "        x=self.conv5(x)\n",
    "        x=self.conv6(x)\n",
    "\n",
    "        # Second maxpool\n",
    "        x=self.pool2(x)\n",
    "\n",
    "        # Flatten\n",
    "        x=self.flatten(x)\n",
    "\n",
    "        # Fully connected with dropout\n",
    "        x=self.lin(x)\n",
    "        x=self.drop(x)\n",
    "\n",
    "        #LSTM\n",
    "        #x = x.view(x.size(0), -1, self.flat_size)\n",
    "        #x = x.view(x.size(0), 30, -1)\n",
    "        lstm_out, _ = self.lstm(x)\n",
    "        #lstm_out = lstm_out[:, -1, :]\n",
    "\n",
    "        #output\n",
    "        out=self.output(lstm_out)\n",
    "        \n",
    "        return out.view(-1)"
   ]
  },
  {
   "cell_type": "markdown",
   "metadata": {},
   "source": [
    "#### Define the model"
   ]
  },
  {
   "cell_type": "code",
   "execution_count": 10,
   "metadata": {},
   "outputs": [],
   "source": [
    "model = RCNN()"
   ]
  },
  {
   "cell_type": "markdown",
   "metadata": {},
   "source": [
    "# 3. Training Parameters\n",
    "\n",
    "There is a lot that can be done here to get very cool hyperparameters"
   ]
  },
  {
   "cell_type": "code",
   "execution_count": 70,
   "metadata": {},
   "outputs": [],
   "source": [
    "criterion = torch.nn.CrossEntropyLoss()\n",
    "\n",
    "num_epochs = 5\n",
    "\n",
    "optimizer = torch.optim.AdamW(model.parameters())\n",
    "\n",
    "scheduler = torch.optim.lr_scheduler.CosineAnnealingLR(\n",
    "    optimizer,\n",
    "    T_max=(len(train_loader.dataset) * num_epochs) // train_loader.batch_size,\n",
    ")"
   ]
  },
  {
   "cell_type": "markdown",
   "metadata": {},
   "source": [
    "# 4. Train Epoch Script"
   ]
  },
  {
   "cell_type": "code",
   "execution_count": 11,
   "metadata": {},
   "outputs": [],
   "source": [
    "def train_epoch(model, optimizer, scheduler, criterion, train_loader, epoch, device):\n",
    "    model.train()\n",
    "    loss_history = []\n",
    "    accuracy_history = []\n",
    "    lr_history = []\n",
    "    for batch_idx, (data, target) in enumerate(train_loader):\n",
    "        data, target = data.to(device), target.to(device)\n",
    "        optimizer.zero_grad()\n",
    "        output = model(data)\n",
    "        loss = criterion(output, target)\n",
    "        loss.backward()\n",
    "        optimizer.step()\n",
    "        scheduler.step()\n",
    "\n",
    "        threshold = 0.5\n",
    "        pred = (output >= threshold).float()\n",
    "        correct = pred.eq(target.view_as(pred)).sum().item()\n",
    "        loss_float = loss.item()\n",
    "        accuracy_float = correct / len(data)\n",
    "\n",
    "        loss_history.append(loss_float)\n",
    "        accuracy_history.append(accuracy_float)\n",
    "        lr_history.append(scheduler.get_last_lr()[0])\n",
    "        \n",
    "        # this is the if statement of the lab, but it doesn't work for me. it makes no sense to me tbh\n",
    "        #if batch_idx % (len(train_loader.dataset) // len(data) // 10) == 0:\n",
    "        # this doesn't work bad, but it just prints the last batch of the epoch\n",
    "        if batch_idx == len(train_loader) - 1:\n",
    "            print(\n",
    "                f\"Train Epoch: {epoch}-{batch_idx:03d} \"\n",
    "                f\"batch_loss={loss_float:0.2e} \"\n",
    "                f\"batch_acc={accuracy_float:0.3f} \"\n",
    "                f\"lr={scheduler.get_last_lr()[0]:0.3e} \"\n",
    "            )\n",
    "\n",
    "    return loss_history, accuracy_history, lr_history"
   ]
  },
  {
   "cell_type": "markdown",
   "metadata": {},
   "source": [
    "# 5. Test Script"
   ]
  },
  {
   "cell_type": "code",
   "execution_count": 12,
   "metadata": {},
   "outputs": [],
   "source": [
    "def test_model(model, test_loader, criterion, device):\n",
    "    model.eval()\n",
    "    test_loss = 0\n",
    "    correct = 0\n",
    "    with torch.no_grad():\n",
    "        for data, target in test_loader:\n",
    "            data, target = data.to(device), target.to(device)\n",
    "            output = model(data)\n",
    "            test_loss += criterion(output, target).item()  # sum up batch loss\n",
    "            pred = (output >= 0.5).float()  # threshold for binary classification\n",
    "            correct += pred.eq(target.view_as(pred)).sum().item()\n",
    "\n",
    "    test_loss /= len(test_loader.dataset)\n",
    "    test_accuracy = correct / len(test_loader.dataset)\n",
    "    print(f'\\nTest set: Average loss: {test_loss:.4f}, Accuracy: {correct}/{len(test_loader.dataset)} ({100. * test_accuracy:.2f}%)\\n')\n",
    "    return test_loss, test_accuracy\n"
   ]
  },
  {
   "cell_type": "markdown",
   "metadata": {},
   "source": [
    "# 6. Train the Network 😀😀😀😀😀\n"
   ]
  },
  {
   "cell_type": "code",
   "execution_count": 72,
   "metadata": {},
   "outputs": [
    {
     "name": "stdout",
     "output_type": "stream",
     "text": [
      "Train Epoch: 1-042 batch_loss=3.52e+01 batch_acc=0.522 lr=9.028e-04 \n",
      "\n",
      "Test set: Average loss: 1.7733, Accuracy: 703/1367 (51.43%)\n",
      "\n",
      "Train Epoch: 2-042 batch_loss=5.27e+01 batch_acc=0.391 lr=6.489e-04 \n",
      "\n",
      "Test set: Average loss: 1.7768, Accuracy: 744/1367 (54.43%)\n",
      "\n",
      "Train Epoch: 3-042 batch_loss=3.97e+01 batch_acc=0.522 lr=3.371e-04 \n",
      "\n",
      "Test set: Average loss: 1.7775, Accuracy: 808/1367 (59.11%)\n",
      "\n",
      "Train Epoch: 4-042 batch_loss=2.90e+01 batch_acc=0.739 lr=8.867e-05 \n",
      "\n",
      "Test set: Average loss: 1.7786, Accuracy: 912/1367 (66.72%)\n",
      "\n",
      "Train Epoch: 5-042 batch_loss=3.26e+01 batch_acc=0.609 lr=2.175e-07 \n",
      "\n",
      "Test set: Average loss: 1.7794, Accuracy: 908/1367 (66.42%)\n",
      "\n"
     ]
    }
   ],
   "source": [
    "# Training History\n",
    "lr_history = []\n",
    "train_loss_history = []\n",
    "train_acc_history = []\n",
    "\n",
    "# Validation History\n",
    "val_loss_history = []\n",
    "val_acc_history = []\n",
    "\n",
    "device = torch.device(\"cuda\" if torch.cuda.is_available() else \"cpu\")\n",
    "model.to(device)\n",
    "\n",
    "for epoch in range(1, num_epochs + 1):\n",
    "    train_loss, train_acc, lrs = train_epoch(model, optimizer, scheduler, criterion, train_loader, epoch, device)\n",
    "    train_loss_history.extend(train_loss)\n",
    "    train_acc_history.extend(train_acc)\n",
    "    lr_history.extend(lrs)\n",
    "\n",
    "    # Test the model after each epoch\n",
    "    test_loss, test_accuracy = test_model(model, test_loader, criterion, device)\n",
    "    val_loss_history.append(test_loss)\n",
    "    val_acc_history.append(test_accuracy)\n"
   ]
  },
  {
   "cell_type": "code",
   "execution_count": 73,
   "metadata": {},
   "outputs": [
    {
     "name": "stdout",
     "output_type": "stream",
     "text": [
      "learning rate [0.0009999456158087995, 0.0009997824750657587, 0.0009995106132599872, 0.0009991300895314224, 0.0009986409866579653, 0.0009980434110374726, 0.0009973374926646118, 0.0009965233851025816, 0.0009956012654497074, 0.0009945713343009154, 0.0009934338157040951, 0.0009921889571113628, 0.000990837029325229, 0.0009893783264396903, 0.0009878131657762535, 0.0009861418878149056, 0.0009843648561200476, 0.0009824824572614052, 0.000980495100729936, 0.0009784032188487506, 0.0009762072666790658, 0.000973907721921212, 0.0009715050848107167, 0.0009689998780094837, 0.0009663926464920957, 0.000963683957427262, 0.000960874400054439, 0.0009579645855556479, 0.0009549551469225207, 0.0009518467388186018, 0.0009486400374369337, 0.0009453357403529606, 0.0009419345663727803, 0.000938437255376777, 0.00093484456815867, 0.0009311572862600137, 0.0009273762118001833, 0.0009235021673018846, 0.0009195359955122242, 0.0009154785592193817, 0.0009113307410649218, 0.0009070934433517869, 0.0009027675878480128, 0.0008983541155862111, 0.000893853986658859, 0.0008892681800094444, 0.0008845976932195101, 0.0008798435422916422, 0.0008750067614284531, 0.0008700884028076039, 0.0008650895363529169, 0.0008600112495016284, 0.0008548546469678308, 0.0008496208505021568, 0.000844310998647757, 0.0008389262464926254, 0.0008334677654183251, 0.0008279367428451697, 0.0008223343819739161, 0.0008166619015240233, 0.0008109205354685366, 0.0008051115327656535, 0.0007992361570870285, 0.0007932956865428789, 0.0007872914134039483, 0.0007812246438203902, 0.0007750966975376325, 0.0007689089076092848, 0.0007626626201071493, 0.000756359193828401, 0.0007499999999999999, 0.0007435864219803982, 0.0007371198549586091, 0.0007306017056507017, 0.0007240333919937893, 0.0007174163428375748, 0.000710751997633524, 0.0007040418061217326, 0.0006972872280155528, 0.0006904897326840537, 0.0006836507988323784, 0.0006767719141800718, 0.0006698545751374463, 0.0006629002864800587, 0.0006559105610213649, 0.0006488869192836278, 0.0006418308891671484, 0.0006347440056178906, 0.0006276278102935738, 0.0006204838512283071, 0.0006133136824958334, 0.0006061188638714616, 0.0005989009604927587, 0.0005916615425190742, 0.0005844021847899734, 0.0005771244664826512, 0.0005698299707684032, 0.000562520284468228, 0.0005551969977076348, 0.0005478617035707336, 0.0005405159977536799, 0.0005331614782175519, 0.0005257997448407365, 0.0005184323990708956, 0.0005110610435765933, 0.0005036872818986561, 0.0004963127181013437, 0.0004889389564234065, 0.00048156760092910424, 0.0004742002551592633, 0.00046683852178244794, 0.00045948400224632, 0.00045213829642926616, 0.00044480300229236505, 0.00043747971553177197, 0.0004301700292315967, 0.0004228755335173487, 0.00041559781521002646, 0.0004083384574809257, 0.0004010990395072413, 0.0003938811361285383, 0.00038668631750416653, 0.0003795161487716927, 0.00037237218970642607, 0.0003652559943821095, 0.0003581691108328515, 0.00035111308071637213, 0.0003440894389786351, 0.00033709971351994115, 0.00033014542486255356, 0.0003232280858199281, 0.00031634920116762146, 0.0003095102673159462, 0.00030271277198444724, 0.0002959581938782675, 0.0002892480023664759, 0.0002825836571624253, 0.0002759666080062107, 0.00026939829434929826, 0.00026288014504139096, 0.0002564135780196018, 0.0002499999999999999, 0.0002436408061715988, 0.00023733737989285048, 0.0002310910923907149, 0.00022490330246236734, 0.00021877535617960964, 0.00021270858659605158, 0.00020670431345712087, 0.00020076384291297134, 0.0001948884672343464, 0.00018907946453146325, 0.00018333809847597644, 0.0001776656180260835, 0.00017206325715482984, 0.00016653223458167472, 0.0001610737535073745, 0.00015568900135224281, 0.00015037914949784297, 0.0001451453530321689, 0.00013998875049837134, 0.00013491046364708293, 0.00012991159719239598, 0.00012499323857154671, 0.0001201564577083576, 0.0001154023067804897, 0.00011073181999055538, 0.00010614601334114082, 0.00010164588441378868, 9.72324121519869e-05, 9.290655664821295e-05, 8.866925893507804e-05, 8.452144078061818e-05, 8.046400448777573e-05, 7.649783269811521e-05, 7.26237881998164e-05, 6.884271373998606e-05, 6.515543184132988e-05, 6.156274462322285e-05, 5.806543362721943e-05, 5.466425964703913e-05, 5.135996256306618e-05, 4.8153261181398115e-05, 4.504485307747918e-05, 4.2035414444352094e-05, 3.912559994556085e-05, 3.631604257273767e-05, 3.360735350790421e-05, 3.1000121990516255e-05, 2.849491518928325e-05, 2.6092278078787983e-05, 2.379273332093433e-05, 2.159678115124951e-05, 1.9504899270064147e-05, 1.7517542738595062e-05, 1.5635143879952564e-05, 1.3858112185094464e-05, 1.2186834223746604e-05, 1.0621673560309789e-05, 9.16297067477117e-06, 7.811042888637205e-06, 6.566184295904772e-06, 5.428665699084787e-06, 4.3987345502927135e-06, 3.4766148974185715e-06, 2.6625073353884742e-06, 1.9565889625275935e-06, 1.3590133420350307e-06, 8.69910468577983e-07, 4.893867400131977e-07, 2.1752493424148635e-07, 5.438419120062929e-08, 0.0, 5.438419120062932e-08, 2.1752493424148646e-07]\n",
      "train loss [52.139835357666016, 37.60146737098694, 52.51394438743591, 63.005043029785156, 60.367183446884155, 66.86532878875732, 45.17133569717407, 54.65638852119446, 51.35982656478882, 57.03682255744934, 65.99081444740295, 47.357261180877686, 59.21528744697571, 57.20779824256897, 47.41077184677124, 58.36327600479126, 59.694344997406006, 68.41983437538147, 59.307929039001465, 52.96136951446533, 69.44839572906494, 54.30957102775574, 66.9667763710022, 48.260714054107666, 47.29575443267822, 61.68057370185852, 48.732922315597534, 61.398054361343384, 50.38407492637634, 64.95598793029785, 62.74546003341675, 61.69027900695801, 52.07628393173218, 65.69898819923401, 55.2973096370697, 41.01018404960632, 77.04586219787598, 41.66540479660034, 65.46382546424866, 52.95149636268616, 54.730205059051514, 33.230797290802, 35.23658108711243, 52.61278247833252, 68.01089549064636, 57.56764531135559, 34.082112312316895, 72.72283482551575, 34.9291729927063, 43.52110838890076, 60.267699003219604, 61.57126975059509, 58.239251375198364, 62.51226758956909, 51.199657678604126, 55.815836668014526, 41.11472964286804, 79.11399435997009, 68.69478440284729, 50.711183071136475, 55.13734841346741, 41.16777157783508, 36.89804935455322, 62.14347720146179, 58.568355083465576, 72.2775948047638, 47.31678533554077, 72.02370524406433, 57.96383213996887, 43.62212419509888, 72.02391815185547, 47.1398491859436, 48.13547992706299, 53.41882061958313, 43.870980978012085, 58.64350962638855, 51.691073179244995, 69.01273107528687, 45.96834659576416, 54.95745372772217, 62.06699061393738, 47.62092304229736, 54.477893590927124, 58.692681312561035, 48.843355894088745, 52.69176411628723, 68.25939106941223, 72.55293273925781, 52.22732949256897, 47.485899686813354, 69.26059913635254, 48.49652814865112, 51.39318060874939, 50.854496479034424, 59.02423143386841, 66.535977602005, 50.14094018936157, 50.26285171508789, 60.3354172706604, 40.65034198760986, 68.87998270988464, 57.96180772781372, 37.53475522994995, 68.94762516021729, 58.551323890686035, 55.26709342002869, 60.237186908721924, 61.38589644432068, 90.09463882446289, 62.39506006240845, 60.519235610961914, 48.35581851005554, 38.60254621505737, 50.36297130584717, 65.26647925376892, 57.498931884765625, 44.06820201873779, 54.17669320106506, 43.1969153881073, 58.25525641441345, 36.9154736995697, 47.10701274871826, 61.25692582130432, 57.44692373275757, 26.23532748222351, 64.4559166431427, 50.798134326934814, 49.62680268287659, 39.676382303237915, 53.311904191970825, 56.89374899864197, 58.180792808532715, 66.06748628616333, 51.13992643356323, 50.649585485458374, 68.45843577384949, 26.317490100860596, 47.41658425331116, 73.90093183517456, 39.03218960762024, 36.86481165885925, 58.14858102798462, 54.62762522697449, 39.210763692855835, 61.72324275970459, 69.28836822509766, 45.49698448181152, 47.70610523223877, 50.4886314868927, 50.458999156951904, 57.8604302406311, 56.81539177894592, 60.58966016769409, 50.675350189208984, 50.771220684051514, 68.0262463092804, 53.29138469696045, 42.96247100830078, 53.45660185813904, 68.495769739151, 46.99580383300781, 60.26142191886902, 55.59958553314209, 54.1234085559845, 64.67147183418274, 61.963311433792114, 28.71591305732727, 68.26086044311523, 83.4926426410675, 58.3414466381073, 65.02694487571716, 29.002872705459595, 64.77877688407898, 60.173699617385864, 53.99658489227295, 83.0142662525177, 51.23782920837402, 45.364688873291016, 52.18549060821533, 54.5219361782074, 40.29789972305298, 61.07864785194397, 49.666342973709106, 53.80405926704407, 53.57389688491821, 68.46361899375916, 50.44721555709839, 25.98769474029541, 68.85307192802429, 62.58872985839844, 65.16566324234009, 43.63558840751648, 53.74964785575867, 54.028193950653076, 46.0514280796051, 49.70217180252075, 47.37191963195801, 50.18836832046509, 57.311463594436646, 51.35235333442688, 64.66514778137207, 56.9373939037323, 43.649595499038696, 57.32660365104675, 58.390581369400024, 49.481183767318726, 57.48614478111267, 52.76733207702637, 64.50665378570557, 49.869609117507935, 58.04457116127014, 68.6291606426239, 48.57540726661682, 50.38981056213379, 32.6133668422699]\n",
      "train accuracy [0.53125, 0.65625, 0.46875, 0.625, 0.46875, 0.53125, 0.625, 0.5625, 0.53125, 0.53125, 0.46875, 0.59375, 0.5, 0.5, 0.5625, 0.53125, 0.46875, 0.375, 0.46875, 0.53125, 0.40625, 0.53125, 0.4375, 0.65625, 0.59375, 0.5, 0.5625, 0.46875, 0.625, 0.5, 0.5, 0.53125, 0.5625, 0.5, 0.625, 0.6875, 0.34375, 0.625, 0.40625, 0.5625, 0.5, 0.6875, 0.5217391304347826, 0.53125, 0.40625, 0.4375, 0.71875, 0.40625, 0.65625, 0.625, 0.5, 0.4375, 0.53125, 0.4375, 0.59375, 0.5, 0.6875, 0.3125, 0.4375, 0.53125, 0.5, 0.625, 0.6875, 0.46875, 0.53125, 0.375, 0.5625, 0.375, 0.46875, 0.65625, 0.40625, 0.5625, 0.5625, 0.5625, 0.59375, 0.5, 0.53125, 0.4375, 0.625, 0.5, 0.46875, 0.59375, 0.5, 0.46875, 0.53125, 0.391304347826087, 0.46875, 0.34375, 0.5, 0.59375, 0.375, 0.59375, 0.5625, 0.5625, 0.46875, 0.40625, 0.53125, 0.53125, 0.4375, 0.59375, 0.5, 0.53125, 0.6875, 0.4375, 0.5, 0.5, 0.5625, 0.46875, 0.34375, 0.53125, 0.53125, 0.59375, 0.65625, 0.625, 0.53125, 0.53125, 0.65625, 0.59375, 0.625, 0.53125, 0.71875, 0.5625, 0.5, 0.53125, 0.75, 0.46875, 0.625, 0.625, 0.5217391304347826, 0.625, 0.59375, 0.5625, 0.46875, 0.5625, 0.71875, 0.53125, 0.75, 0.59375, 0.625, 0.84375, 0.75, 0.53125, 0.59375, 0.71875, 0.5625, 0.5, 0.53125, 0.6875, 0.65625, 0.71875, 0.5625, 0.625, 0.625, 0.5625, 0.59375, 0.59375, 0.65625, 0.6875, 0.5625, 0.53125, 0.6875, 0.625, 0.5625, 0.59375, 0.625, 0.46875, 0.84375, 0.46875, 0.46875, 0.5625, 0.53125, 0.7391304347826086, 0.5625, 0.65625, 0.59375, 0.5625, 0.625, 0.75, 0.75, 0.59375, 0.6875, 0.5625, 0.6875, 0.625, 0.65625, 0.65625, 0.625, 0.8125, 0.53125, 0.5, 0.5625, 0.71875, 0.6875, 0.65625, 0.6875, 0.6875, 0.65625, 0.6875, 0.625, 0.5625, 0.59375, 0.65625, 0.75, 0.625, 0.59375, 0.71875, 0.625, 0.6875, 0.625, 0.71875, 0.59375, 0.5625, 0.6875, 0.6875, 0.6086956521739131]\n",
      "test loss [1.7733206979183707, 1.7767773471614612, 1.7774743388496181, 1.7785924239671396, 1.7794311461696333]\n",
      "test accuracy [0.5142648134601316, 0.5442574981711777, 0.5910753474762254, 0.6671543525969276, 0.6642282370153622]\n"
     ]
    }
   ],
   "source": [
    "print(\"learning rate\", lr_history)\n",
    "print(\"train loss\", train_loss_history)\n",
    "print(\"train accuracy\", train_acc_history)\n",
    "print(\"test loss\", val_loss_history)\n",
    "print(\"test accuracy\", val_acc_history)"
   ]
  },
  {
   "cell_type": "code",
   "execution_count": 80,
   "metadata": {},
   "outputs": [
    {
     "data": {
      "image/png": "[encoded data removed]",
      "text/plain": [
       "<Figure size 1500x500 with 3 Axes>"
      ]
     },
     "metadata": {},
     "output_type": "display_data"
    }
   ],
   "source": [
    "n_train = len(train_acc_history)\n",
    "t_train = num_epochs * np.arange(n_train) / n_train\n",
    "t_test = np.arange(1, num_epochs + 1)\n",
    "\n",
    "fig, axs = plt.subplots(1, 3, figsize=(15, 5))\n",
    "\n",
    "# Plotting learning rate history\n",
    "axs[0].plot(t_train, lr_history)\n",
    "axs[0].set_title('Learning Rate History')\n",
    "axs[0].set_xlabel('Epoch')\n",
    "axs[0].set_ylabel('Learning Rate')\n",
    "\n",
    "# Plotting training loss history\n",
    "axs[1].plot(t_train, train_loss_history, color='b', label=\"Train\")\n",
    "axs[1].plot(t_test, val_loss_history, label=\"Test\", color='orange')\n",
    "axs[1].legend()\n",
    "axs[1].set_title('Training Loss History')\n",
    "axs[1].set_xlabel('Epoch')\n",
    "axs[1].set_ylabel('Loss')\n",
    "\n",
    "# Plotting training accuracy history\n",
    "axs[2].plot(t_train, train_acc_history, color='b', label=\"Train\")\n",
    "axs[2].plot(t_test, val_acc_history, label=\"Test\", color='orange')\n",
    "axs[2].legend()\n",
    "axs[2].set_title('Training Accuracy History')\n",
    "axs[2].set_xlabel('Epoch')\n",
    "axs[2].set_ylabel('Accuracy')\n",
    "\n",
    "plt.tight_layout()\n",
    "plt.show()\n",
    "\n",
    "plt.show()"
   ]
  },
  {
   "cell_type": "markdown",
   "metadata": {},
   "source": [
    "# 5. Introduce cross-validation function\n",
    "\n",
    "We want as output of the model:\n",
    "- f1 score as fctn of criterion + optimizer + scheduler\n",
    "- f1 score as fctn of the epoch\n",
    "\n",
    "=> doesn't work yet"
   ]
  },
  {
   "cell_type": "code",
   "execution_count": 32,
   "metadata": {},
   "outputs": [],
   "source": [
    "@torch.no_grad()\n",
    "def compute_f1(model, device, test_loader):\n",
    "    model.eval()\n",
    "\n",
    "    for data, target in test_loader:\n",
    "        data, target = data.to(device), target.to(device)\n",
    "        output = model(data)\n",
    "        predictions = torch.tensor((output >= 0.5).float()) \n",
    "\n",
    "    target = torch.tensor([sample[1] for sample in test_data])\n",
    "    f1_score = multiclass_f1_score(predictions, target, num_classes=2)\n",
    "\n",
    "    return f1_score\n",
    "\n",
    "def cross_validation(model, device, criterions, optimizers, schedulers, num_epochs, test_loader):\n",
    "    a = len(criterions)\n",
    "    b = len(optimizers)\n",
    "    c = len(schedulers)\n",
    "    n_combi = a*b*c\n",
    "    f1_compil = np.zeros((a, b, c))\n",
    "\n",
    "    for i, criterion in enumerate(criterions):\n",
    "        for j, optimizer in enumerate(optimizers):\n",
    "            for k, scheduler in enumerate(schedulers):\n",
    "\n",
    "                print(\"===============================================\")\n",
    "                print(f\"Cross-validation round {i*j*k+1} of {n_combi} \\n * criterion: {criterion} \\n * optmizer: {optimizer} \\n * scheduler: {scheduler}\")\n",
    "                print(\"===============================================\")\n",
    "\n",
    "                # Training History\n",
    "                lr_history = []\n",
    "                train_loss_history = []\n",
    "                train_acc_history = []\n",
    "\n",
    "                # Validation History\n",
    "                val_loss_history = []\n",
    "                val_acc_history = []\n",
    "\n",
    "                device = torch.device(\"cuda\" if torch.cuda.is_available() else \"cpu\")\n",
    "                model.to(device)\n",
    "\n",
    "                for epoch in range(1, num_epochs + 1):\n",
    "                    train_loss, train_acc, lrs = train_epoch(model, optimizer, scheduler, criterion, train_loader, epoch, device)\n",
    "                    train_loss_history.extend(train_loss)\n",
    "                    train_acc_history.extend(train_acc)\n",
    "                    lr_history.extend(lrs)\n",
    "\n",
    "                    # Test the model after each epoch\n",
    "                    test_loss, test_accuracy = test_model(model, test_loader, criterion, device)\n",
    "                    val_loss_history.append(test_loss)\n",
    "                    val_acc_history.append(test_accuracy)\n",
    "\n",
    "                # compute f1 score for this combination of hyperparameters\n",
    "                f1_score = compute_f1(model, device, test_loader)\n",
    "                f1_compil[i,j,k] = f1_score\n",
    "\n",
    "    return criterions, optimizers, schedulers, f1_compil"
   ]
  },
  {
   "cell_type": "markdown",
   "metadata": {},
   "source": [
    "Define the hyperparameters to test in the cross-validation function"
   ]
  },
  {
   "cell_type": "code",
   "execution_count": 33,
   "metadata": {},
   "outputs": [],
   "source": [
    "num_epochs = 1\n",
    "criterions = [torch.nn.CrossEntropyLoss(), torch.nn.BCELoss()]\n",
    "optimizers = [torch.optim.AdamW(model.parameters())]\n",
    "schedulers = [torch.optim.lr_scheduler.CosineAnnealingLR(torch.optim.AdamW(model.parameters()),T_max=(len(train_loader.dataset) * num_epochs) // train_loader.batch_size,)]\n",
    "\n",
    "device = torch.device(\"cuda\" if torch.cuda.is_available() else \"cpu\")"
   ]
  },
  {
   "cell_type": "markdown",
   "metadata": {},
   "source": [
    "Run the cross-validation function"
   ]
  },
  {
   "cell_type": "code",
   "execution_count": 34,
   "metadata": {},
   "outputs": [
    {
     "name": "stdout",
     "output_type": "stream",
     "text": [
      "===============================================\n",
      "Cross-validation round 1 of 2 \n",
      " * criterion: CrossEntropyLoss() \n",
      " * optmizer: AdamW (\n",
      "Parameter Group 0\n",
      "    amsgrad: False\n",
      "    betas: (0.9, 0.999)\n",
      "    capturable: False\n",
      "    differentiable: False\n",
      "    eps: 1e-08\n",
      "    foreach: None\n",
      "    fused: None\n",
      "    lr: 0.001\n",
      "    maximize: False\n",
      "    weight_decay: 0.01\n",
      ") \n",
      " * scheduler: <torch.optim.lr_scheduler.CosineAnnealingLR object at 0x177de94e0>\n",
      "===============================================\n"
     ]
    },
    {
     "name": "stderr",
     "output_type": "stream",
     "text": [
      "/Library/Frameworks/Python.framework/Versions/3.10/lib/python3.10/site-packages/torch/optim/lr_scheduler.py:136: UserWarning: Detected call of `lr_scheduler.step()` before `optimizer.step()`. In PyTorch 1.1.0 and later, you should call them in the opposite order: `optimizer.step()` before `lr_scheduler.step()`.  Failure to do this will result in PyTorch skipping the first value of the learning rate schedule. See more details at https://pytorch.org/docs/stable/optim.html#how-to-adjust-learning-rate\n",
      "  warnings.warn(\"Detected call of `lr_scheduler.step()` before `optimizer.step()`. \"\n"
     ]
    },
    {
     "name": "stdout",
     "output_type": "stream",
     "text": [
      "Train Epoch: 1-042 batch_loss=3.47e+01 batch_acc=0.522 lr=1.398e-06 \n",
      "\n",
      "Test set: Average loss: 1.8003, Accuracy: 837/1367 (61.23%)\n",
      "\n"
     ]
    },
    {
     "name": "stderr",
     "output_type": "stream",
     "text": [
      "/var/folders/7l/ltdxzx1s3dj_sz2kw6_5g8k00000gn/T/ipykernel_24314/644439180.py:8: UserWarning: To copy construct from a tensor, it is recommended to use sourceTensor.clone().detach() or sourceTensor.clone().detach().requires_grad_(True), rather than torch.tensor(sourceTensor).\n",
      "  predictions = torch.tensor((output >= 0.5).float())\n"
     ]
    },
    {
     "ename": "ValueError",
     "evalue": "The `input` and `target` should have the same first dimension, got shapes torch.Size([23]) and torch.Size([1367]).",
     "output_type": "error",
     "traceback": [
      "\u001b[0;31m---------------------------------------------------------------------------\u001b[0m",
      "\u001b[0;31mValueError\u001b[0m                                Traceback (most recent call last)",
      "\u001b[1;32m/Users/Julie/Documents/GitHub/ml-project-2-jac/warning_RCNN.ipynb Cell 45\u001b[0m line \u001b[0;36m1\n\u001b[0;32m----> <a href='vscode-notebook-cell:/Users/Julie/Documents/GitHub/ml-project-2-jac/warning_RCNN.ipynb#X64sZmlsZQ%3D%3D?line=0'>1</a>\u001b[0m criterions, optimizers, schedulers, f1_compil \u001b[39m=\u001b[39m cross_validation(model, device, criterions, optimizers, schedulers, num_epochs, test_loader)\n",
      "\u001b[1;32m/Users/Julie/Documents/GitHub/ml-project-2-jac/warning_RCNN.ipynb Cell 45\u001b[0m line \u001b[0;36m5\n\u001b[1;32m     <a href='vscode-notebook-cell:/Users/Julie/Documents/GitHub/ml-project-2-jac/warning_RCNN.ipynb#X64sZmlsZQ%3D%3D?line=50'>51</a>\u001b[0m                 val_acc_history\u001b[39m.\u001b[39mappend(test_accuracy)\n\u001b[1;32m     <a href='vscode-notebook-cell:/Users/Julie/Documents/GitHub/ml-project-2-jac/warning_RCNN.ipynb#X64sZmlsZQ%3D%3D?line=52'>53</a>\u001b[0m             \u001b[39m# compute f1 score for this combination of hyperparameters\u001b[39;00m\n\u001b[0;32m---> <a href='vscode-notebook-cell:/Users/Julie/Documents/GitHub/ml-project-2-jac/warning_RCNN.ipynb#X64sZmlsZQ%3D%3D?line=53'>54</a>\u001b[0m             f1_score \u001b[39m=\u001b[39m compute_f1(model, device, test_loader)\n\u001b[1;32m     <a href='vscode-notebook-cell:/Users/Julie/Documents/GitHub/ml-project-2-jac/warning_RCNN.ipynb#X64sZmlsZQ%3D%3D?line=54'>55</a>\u001b[0m             f1_compil[i,j,k] \u001b[39m=\u001b[39m f1_score\n\u001b[1;32m     <a href='vscode-notebook-cell:/Users/Julie/Documents/GitHub/ml-project-2-jac/warning_RCNN.ipynb#X64sZmlsZQ%3D%3D?line=56'>57</a>\u001b[0m \u001b[39mreturn\u001b[39;00m criterions, optimizers, schedulers, f1_compil\n",
      "File \u001b[0;32m/Library/Frameworks/Python.framework/Versions/3.10/lib/python3.10/site-packages/torch/utils/_contextlib.py:115\u001b[0m, in \u001b[0;36mcontext_decorator.<locals>.decorate_context\u001b[0;34m(*args, **kwargs)\u001b[0m\n\u001b[1;32m    112\u001b[0m \u001b[39m@functools\u001b[39m\u001b[39m.\u001b[39mwraps(func)\n\u001b[1;32m    113\u001b[0m \u001b[39mdef\u001b[39;00m \u001b[39mdecorate_context\u001b[39m(\u001b[39m*\u001b[39margs, \u001b[39m*\u001b[39m\u001b[39m*\u001b[39mkwargs):\n\u001b[1;32m    114\u001b[0m     \u001b[39mwith\u001b[39;00m ctx_factory():\n\u001b[0;32m--> 115\u001b[0m         \u001b[39mreturn\u001b[39;00m func(\u001b[39m*\u001b[39;49margs, \u001b[39m*\u001b[39;49m\u001b[39m*\u001b[39;49mkwargs)\n",
      "\u001b[1;32m/Users/Julie/Documents/GitHub/ml-project-2-jac/warning_RCNN.ipynb Cell 45\u001b[0m line \u001b[0;36m1\n\u001b[1;32m      <a href='vscode-notebook-cell:/Users/Julie/Documents/GitHub/ml-project-2-jac/warning_RCNN.ipynb#X64sZmlsZQ%3D%3D?line=7'>8</a>\u001b[0m     predictions \u001b[39m=\u001b[39m torch\u001b[39m.\u001b[39mtensor((output \u001b[39m>\u001b[39m\u001b[39m=\u001b[39m \u001b[39m0.5\u001b[39m)\u001b[39m.\u001b[39mfloat()) \n\u001b[1;32m     <a href='vscode-notebook-cell:/Users/Julie/Documents/GitHub/ml-project-2-jac/warning_RCNN.ipynb#X64sZmlsZQ%3D%3D?line=9'>10</a>\u001b[0m target \u001b[39m=\u001b[39m torch\u001b[39m.\u001b[39mtensor([sample[\u001b[39m1\u001b[39m] \u001b[39mfor\u001b[39;00m sample \u001b[39min\u001b[39;00m test_data])\n\u001b[0;32m---> <a href='vscode-notebook-cell:/Users/Julie/Documents/GitHub/ml-project-2-jac/warning_RCNN.ipynb#X64sZmlsZQ%3D%3D?line=10'>11</a>\u001b[0m f1_score \u001b[39m=\u001b[39m multiclass_f1_score(predictions, target, num_classes\u001b[39m=\u001b[39;49m\u001b[39m2\u001b[39;49m)\n\u001b[1;32m     <a href='vscode-notebook-cell:/Users/Julie/Documents/GitHub/ml-project-2-jac/warning_RCNN.ipynb#X64sZmlsZQ%3D%3D?line=12'>13</a>\u001b[0m \u001b[39mreturn\u001b[39;00m f1_score\n",
      "File \u001b[0;32m/Library/Frameworks/Python.framework/Versions/3.10/lib/python3.10/site-packages/torch/utils/_contextlib.py:115\u001b[0m, in \u001b[0;36mcontext_decorator.<locals>.decorate_context\u001b[0;34m(*args, **kwargs)\u001b[0m\n\u001b[1;32m    112\u001b[0m \u001b[39m@functools\u001b[39m\u001b[39m.\u001b[39mwraps(func)\n\u001b[1;32m    113\u001b[0m \u001b[39mdef\u001b[39;00m \u001b[39mdecorate_context\u001b[39m(\u001b[39m*\u001b[39margs, \u001b[39m*\u001b[39m\u001b[39m*\u001b[39mkwargs):\n\u001b[1;32m    114\u001b[0m     \u001b[39mwith\u001b[39;00m ctx_factory():\n\u001b[0;32m--> 115\u001b[0m         \u001b[39mreturn\u001b[39;00m func(\u001b[39m*\u001b[39;49margs, \u001b[39m*\u001b[39;49m\u001b[39m*\u001b[39;49mkwargs)\n",
      "File \u001b[0;32m/Library/Frameworks/Python.framework/Versions/3.10/lib/python3.10/site-packages/torcheval/metrics/functional/classification/f1_score.py:114\u001b[0m, in \u001b[0;36mmulticlass_f1_score\u001b[0;34m(input, target, num_classes, average)\u001b[0m\n\u001b[1;32m     60\u001b[0m \u001b[39m\u001b[39m\u001b[39m\"\"\"\u001b[39;00m\n\u001b[1;32m     61\u001b[0m \u001b[39mCompute f1 score, which is defined as the harmonic mean of precision and recall.\u001b[39;00m\n\u001b[1;32m     62\u001b[0m \u001b[39mWe convert NaN to zero when f1 score is NaN. This happens when either precision\u001b[39;00m\n\u001b[0;32m   (...)\u001b[0m\n\u001b[1;32m    111\u001b[0m \u001b[39m    tensor(0.5)\u001b[39;00m\n\u001b[1;32m    112\u001b[0m \u001b[39m\"\"\"\u001b[39;00m\n\u001b[1;32m    113\u001b[0m _f1_score_param_check(num_classes, average)\n\u001b[0;32m--> 114\u001b[0m num_tp, num_label, num_prediction \u001b[39m=\u001b[39m _f1_score_update(\n\u001b[1;32m    115\u001b[0m     \u001b[39minput\u001b[39;49m, target, num_classes, average\n\u001b[1;32m    116\u001b[0m )\n\u001b[1;32m    117\u001b[0m \u001b[39mreturn\u001b[39;00m _f1_score_compute(num_tp, num_label, num_prediction, average)\n",
      "File \u001b[0;32m/Library/Frameworks/Python.framework/Versions/3.10/lib/python3.10/site-packages/torcheval/metrics/functional/classification/f1_score.py:162\u001b[0m, in \u001b[0;36m_f1_score_update\u001b[0;34m(input, target, num_classes, average)\u001b[0m\n\u001b[1;32m    156\u001b[0m \u001b[39mdef\u001b[39;00m \u001b[39m_f1_score_update\u001b[39m(\n\u001b[1;32m    157\u001b[0m     \u001b[39minput\u001b[39m: torch\u001b[39m.\u001b[39mTensor,\n\u001b[1;32m    158\u001b[0m     target: torch\u001b[39m.\u001b[39mTensor,\n\u001b[1;32m    159\u001b[0m     num_classes: Optional[\u001b[39mint\u001b[39m],\n\u001b[1;32m    160\u001b[0m     average: Optional[\u001b[39mstr\u001b[39m],\n\u001b[1;32m    161\u001b[0m ) \u001b[39m-\u001b[39m\u001b[39m>\u001b[39m Tuple[torch\u001b[39m.\u001b[39mTensor, torch\u001b[39m.\u001b[39mTensor, torch\u001b[39m.\u001b[39mTensor]:\n\u001b[0;32m--> 162\u001b[0m     _f1_score_update_input_check(\u001b[39minput\u001b[39;49m, target, num_classes)\n\u001b[1;32m    163\u001b[0m     \u001b[39mreturn\u001b[39;00m _update(\u001b[39minput\u001b[39m, target, num_classes, average)\n",
      "File \u001b[0;32m/Library/Frameworks/Python.framework/Versions/3.10/lib/python3.10/site-packages/torcheval/metrics/functional/classification/f1_score.py:257\u001b[0m, in \u001b[0;36m_f1_score_update_input_check\u001b[0;34m(input, target, num_classes)\u001b[0m\n\u001b[1;32m    251\u001b[0m \u001b[39mdef\u001b[39;00m \u001b[39m_f1_score_update_input_check\u001b[39m(\n\u001b[1;32m    252\u001b[0m     \u001b[39minput\u001b[39m: torch\u001b[39m.\u001b[39mTensor,\n\u001b[1;32m    253\u001b[0m     target: torch\u001b[39m.\u001b[39mTensor,\n\u001b[1;32m    254\u001b[0m     num_classes: Optional[\u001b[39mint\u001b[39m],\n\u001b[1;32m    255\u001b[0m ) \u001b[39m-\u001b[39m\u001b[39m>\u001b[39m \u001b[39mNone\u001b[39;00m:\n\u001b[1;32m    256\u001b[0m     \u001b[39mif\u001b[39;00m \u001b[39minput\u001b[39m\u001b[39m.\u001b[39msize(\u001b[39m0\u001b[39m) \u001b[39m!=\u001b[39m target\u001b[39m.\u001b[39msize(\u001b[39m0\u001b[39m):\n\u001b[0;32m--> 257\u001b[0m         \u001b[39mraise\u001b[39;00m \u001b[39mValueError\u001b[39;00m(\n\u001b[1;32m    258\u001b[0m             \u001b[39m\"\u001b[39m\u001b[39mThe `input` and `target` should have the same first dimension, \u001b[39m\u001b[39m\"\u001b[39m\n\u001b[1;32m    259\u001b[0m             \u001b[39mf\u001b[39m\u001b[39m\"\u001b[39m\u001b[39mgot shapes \u001b[39m\u001b[39m{\u001b[39;00m\u001b[39minput\u001b[39m\u001b[39m.\u001b[39mshape\u001b[39m}\u001b[39;00m\u001b[39m and \u001b[39m\u001b[39m{\u001b[39;00mtarget\u001b[39m.\u001b[39mshape\u001b[39m}\u001b[39;00m\u001b[39m.\u001b[39m\u001b[39m\"\u001b[39m\n\u001b[1;32m    260\u001b[0m         )\n\u001b[1;32m    262\u001b[0m     \u001b[39mif\u001b[39;00m target\u001b[39m.\u001b[39mndim \u001b[39m!=\u001b[39m \u001b[39m1\u001b[39m:\n\u001b[1;32m    263\u001b[0m         \u001b[39mraise\u001b[39;00m \u001b[39mValueError\u001b[39;00m(\n\u001b[1;32m    264\u001b[0m             \u001b[39m\"\u001b[39m\u001b[39mtarget should be a one-dimensional tensor, \u001b[39m\u001b[39m\"\u001b[39m \u001b[39mf\u001b[39m\u001b[39m\"\u001b[39m\u001b[39mgot shape \u001b[39m\u001b[39m{\u001b[39;00mtarget\u001b[39m.\u001b[39mshape\u001b[39m}\u001b[39;00m\u001b[39m.\u001b[39m\u001b[39m\"\u001b[39m\n\u001b[1;32m    265\u001b[0m         )\n",
      "\u001b[0;31mValueError\u001b[0m: The `input` and `target` should have the same first dimension, got shapes torch.Size([23]) and torch.Size([1367])."
     ]
    }
   ],
   "source": [
    "criterions, optimizers, schedulers, f1_compil = cross_validation(model, device, criterions, optimizers, schedulers, num_epochs, test_loader)\n"
   ]
  },
  {
   "cell_type": "markdown",
   "metadata": {},
   "source": [
    "# 7. Analyze the output of the cross-validation"
   ]
  }
 ],
 "metadata": {
  "kernelspec": {
   "display_name": "solarjets",
   "language": "python",
   "name": "python3"
  },
  "language_info": {
   "codemirror_mode": {
    "name": "ipython",
    "version": 3
   },
   "file_extension": ".py",
   "mimetype": "text/x-python",
   "name": "python",
   "nbconvert_exporter": "python",
   "pygments_lexer": "ipython3",
   "version": "3.10.4"
  },
  "orig_nbformat": 4
 },
 "nbformat": 4,
 "nbformat_minor": 2
}
