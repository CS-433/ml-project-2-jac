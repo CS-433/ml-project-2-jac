{
  "cells": [
    {
      "cell_type": "markdown",
      "metadata": {
        "id": "t_2QeJ1MAzrS"
      },
      "source": [
        "<div style=\"width: 1350px; height: 30px; background-color: green;\"></div>\n"
      ]
    },
    {
      "cell_type": "markdown",
      "metadata": {
        "id": "tE0rh8JPAzrU"
      },
      "source": [
        "# TO DO\n",
        "\n",
        "##### **Cross Validation**\n",
        "- Currently, we are using cross-entropy for the criterion, but according to ChatGPT, it has nothing to do with cross-validation, and I think that makes sense.\n",
        "- We want to use cross-validation to somehow max the F1 score\n",
        "  - We are minimizing loss, but somehow we want to maximize F1 score during cross validation (see feedback Project 1)\n",
        "  - Currently the `train_acc_history` doesn't work well. At each epoch it returns the acc for ALL minibatches. Therefore, at the end of the 5 epochs instead of containing 5 values, it contains 20 (5 epochs x 4 minibatches). I think that with cross-validation we have to take the average of them ??\n",
        "\n",
        "##### **Other**\n",
        "- Parameter tuning: get cool hyperparameters (criterion, number of epochs, optimizer, scheduler)\n",
        "- Data Augmentation: transformations (rotations, translations, cutouts, zoom in, zoom out...)\n",
        "- Multimodal data: currently we only train the image itself. Maybe it's useful to train other parameters such as the date or the location, as Sophie said that if a jet occurs in a location, it is more likely that another jet occurs in that same location.\n",
        "- Batch size set to 32. Change it?\n",
        "\n",
        "##### **Model Testing**\n",
        "- We have to divide data into training, validation, and test. BUT, as we are using cross validation we don't need the validation set I think???\n",
        "- Need to evaluate and test model\n",
        "\n",
        "##### **Network Model**\n",
        "- I didn't include the first two layers from the paper (input layer and BRN). Should we? CAREFUL AS THIS MAY REBOOT THE LAPTOP\n",
        "- Batch **re**normalization ?\n",
        "- Part of me thinks that this model is better when we have small images but with a lot of samples, because using 127 datapoints (which is low but not that low), it only takes 2 min to run even when running on CPU, which seems like so little time."
      ]
    },
    {
      "cell_type": "markdown",
      "metadata": {
        "id": "m_Jj1dUYAzrV"
      },
      "source": [
        "<div style=\"width: 1350px; height: 30px; background-color: green;\"></div>\n"
      ]
    },
    {
      "cell_type": "markdown",
      "metadata": {
        "id": "mC5-C9GiAzrX"
      },
      "source": [
        "# 0. Load Modules"
      ]
    },
    {
      "cell_type": "code",
      "execution_count": 1,
      "metadata": {
        "colab": {
          "base_uri": "https://localhost:8080/"
        },
        "id": "fsMvUQwfAzrX",
        "outputId": "2481812f-6e95-40fe-fce0-f9e677fdf999"
      },
      "outputs": [
        {
          "name": "stdout",
          "output_type": "stream",
          "text": [
            "Collecting torcheval\n",
            "  Downloading torcheval-0.0.7-py3-none-any.whl (179 kB)\n",
            "\u001b[2K     \u001b[90m━━━━━━━━━━━━━━━━━━━━━━━━━━━━━━━━━━━━━━━━\u001b[0m \u001b[32m179.2/179.2 kB\u001b[0m \u001b[31m4.6 MB/s\u001b[0m eta \u001b[36m0:00:00\u001b[0m\n",
            "\u001b[?25hRequirement already satisfied: typing-extensions in /usr/local/lib/python3.10/dist-packages (from torcheval) (4.5.0)\n",
            "Installing collected packages: torcheval\n",
            "Successfully installed torcheval-0.0.7\n"
          ]
        }
      ],
      "source": [
        "# Main libraries used all the time\n",
        "import numpy as np\n",
        "import matplotlib.pyplot as plt\n",
        "import pandas as pd\n",
        "\n",
        "# Operating system libraries\n",
        "import os\n",
        "import sys\n",
        "\n",
        "# Machine learning libraries\n",
        "import torch\n",
        "from torchvision import transforms, datasets\n",
        "from torchvision.datasets import ImageFolder\n",
        "from torch.utils.data import Dataset, DataLoader, random_split\n",
        "\n",
        "from torchvision.transforms import v2 # library to define the transforms\n",
        "\n",
        "!pip install torcheval  # needs to run on google colab, on local machine you can just \"pip install torcheval\" in the terminal\n",
        "from torcheval.metrics.functional import multiclass_f1_score"
      ]
    },
    {
      "cell_type": "code",
      "execution_count": 2,
      "metadata": {
        "colab": {
          "base_uri": "https://localhost:8080/"
        },
        "id": "Nya6pnKLAzrX",
        "outputId": "d7a8e24d-8dba-454d-8d51-6f7724b6c803"
      },
      "outputs": [
        {
          "name": "stdout",
          "output_type": "stream",
          "text": [
            "Mounted at /content/drive\n"
          ]
        }
      ],
      "source": [
        "# For Google Colab, mount Google Drive, for local environments, get local path (github)\n",
        "\n",
        "# Change with the appropriate path. Log in into Drive and create the folders with the data\n",
        "\n",
        "if 'google.colab' in sys.modules:\n",
        "    from google.colab import drive\n",
        "    drive.mount('/content/drive')\n",
        "    # Carlos\n",
        "    #folder0_path = '/content/drive/My Drive/solar_jets/data0'\n",
        "    #folder0_test_path = '/content/drive/My Drive/solar_jets/data0_test'\n",
        "    #folder1_path = '/content/drive/My Drive/solar_jets/data1'\n",
        "    #folder1_test_path = '/content/drive/My Drive/solar_jets/data1_test'\n",
        "\n",
        "    # Julie\n",
        "    folder0_path = '/content/drive/My Drive/Colab Notebooks/CS433-project2/data0'\n",
        "    folder1_path = '/content/drive/My Drive/Colab Notebooks/CS433-project2/data1'\n",
        "    folder0_test_path = '/content/drive/My Drive/Colab Notebooks/CS433-project2/data0_test'\n",
        "    folder1_test_path = '/content/drive/My Drive/Colab Notebooks/CS433-project2/data1_test'\n",
        "else:\n",
        "    # For local environments like VS Code\n",
        "    folder0_path = './data0'\n",
        "    folder1_path = './data1'\n",
        "    folder0_test_path = './data0_test'\n",
        "    folder1_test_path = './data1_test'"
      ]
    },
    {
      "cell_type": "markdown",
      "metadata": {
        "id": "3Qf3qa1SAzrZ"
      },
      "source": [
        "# 1. Very naive Model"
      ]
    },
    {
      "cell_type": "markdown",
      "metadata": {
        "id": "TfEB48NtAzrZ"
      },
      "source": [
        "## 1.1. Prepare the dataset"
      ]
    },
    {
      "cell_type": "markdown",
      "metadata": {
        "id": "GuNDhNg6AzrZ"
      },
      "source": [
        "#### Create the class"
      ]
    },
    {
      "cell_type": "code",
      "execution_count": 3,
      "metadata": {
        "id": "W08Z6kmWAzrb"
      },
      "outputs": [],
      "source": [
        "class NPZDataset(Dataset):\n",
        "    def __init__(self, data_dir, transform=None):\n",
        "        self.data_dir = data_dir\n",
        "\n",
        "        # in self.files, only add f if it has 30 samples\n",
        "        self.files = [f for f in os.listdir(data_dir) if self._check_file_shape(f)]\n",
        "        self.transform = transform\n",
        "\n",
        "    # Check if the file has 30 samples, if not, don't include it in self.files (see above)\n",
        "    def _check_file_shape(self, file):\n",
        "        file_path = os.path.join(self.data_dir, file)\n",
        "        data = np.load(file_path)['arr_0']\n",
        "        return data.shape == (166, 166, 30)\n",
        "\n",
        "    def __len__(self):\n",
        "        return len(self.files)\n",
        "\n",
        "    def __getitem__(self, idx):\n",
        "        file_path = os.path.join(self.data_dir, self.files[idx])\n",
        "        data = np.load(file_path)['arr_0']\n",
        "\n",
        "        # Rearrange dimensions to (30, 166, 166) for PyTorch (insted of (166, 166, 30))\n",
        "        data = np.moveaxis(data, -1, 0)\n",
        "\n",
        "        # assign label 1 if data is from data1, 0 if from data0\n",
        "        label = 1.0 if 'data1' in self.data_dir else 0.0\n",
        "        return torch.from_numpy(data).float(), label"
      ]
    },
    {
      "cell_type": "markdown",
      "metadata": {
        "id": "aPSeILX5Azrc"
      },
      "source": [
        "### Define the transforms that we want to apply"
      ]
    },
    {
      "cell_type": "code",
      "execution_count": 41,
      "metadata": {
        "id": "BfuHmGEtAzrc"
      },
      "outputs": [],
      "source": [
        "mean = 51.6644\n",
        "std = 62.7087\n",
        "\n",
        "train_transform = v2.Compose([\n",
        "    v2.ToImage(),\n",
        "    v2.ToDtype(torch.float32, scale=True), #equivalent to transforms.ToTensor()\n",
        "    v2.Normalize((mean,), (std,)),\n",
        "    #v2.RandomResizedCrop(size=(140, 140)),\n",
        "    #v2.RandomAffine(degrees=(-90,90), translate=(0.3, 0.3), scale=(0.8, 1.2))\n",
        "    # add other transforms if needed\n",
        "])\n",
        "\n",
        "test_transform = v2.Compose([\n",
        "    v2.ToImage(),\n",
        "    v2.ToDtype(torch.float32, scale=True), #equivalent to transforms.ToTensor()\n",
        "    v2.Normalize((mean,), (std,)),\n",
        "])"
      ]
    },
    {
      "cell_type": "markdown",
      "metadata": {
        "id": "v8wiMVA-Azrd"
      },
      "source": [
        "#### Run to get the Data\n",
        "\n",
        "The data was randomly separated into training and test, and put into separated folders. We are using 80% for training and 20% for testing. Notice that we don't use the same transforms on the train and test dataset."
      ]
    },
    {
      "cell_type": "code",
      "execution_count": 42,
      "metadata": {
        "id": "GVga0S_CAzrd"
      },
      "outputs": [],
      "source": [
        "train_data1 = NPZDataset(folder1_path, transform=train_transform)\n",
        "train_data0 = NPZDataset(folder0_path, transform=train_transform)\n",
        "train_data = torch.utils.data.ConcatDataset([train_data1, train_data0])\n",
        "\n",
        "test_data1 = NPZDataset(folder1_test_path, transform=test_transform)\n",
        "test_data0 = NPZDataset(folder0_test_path, transform=test_transform)\n",
        "test_data = torch.utils.data.ConcatDataset([test_data1, test_data0])\n",
        "\n"
      ]
    },
    {
      "cell_type": "markdown",
      "metadata": {
        "id": "c3bVyqN3Azrd"
      },
      "source": [
        "Calculate mean and std for v2.Normalize() (doesn't need to run anymore as the values have been entered above)"
      ]
    },
    {
      "cell_type": "code",
      "execution_count": null,
      "metadata": {
        "id": "UV7cxxuKAzre",
        "outputId": "791bb0e4-9c70-4db5-fa76-207a4461a7b4"
      },
      "outputs": [
        {
          "name": "stdout",
          "output_type": "stream",
          "text": [
            "Mean: tensor([52.4797])\n",
            "Std: tensor([63.5925])\n"
          ]
        }
      ],
      "source": [
        "\n",
        "# Calculate mean and std\n",
        "mean = torch.zeros(1)  # Assuming your images are RGB, change 3 to 1 for grayscale images\n",
        "std = torch.zeros(1)\n",
        "\n",
        "for i in range(len(train_data)):\n",
        "    sequence, _ = train_data[i]\n",
        "\n",
        "    # Make sure the image is a PyTorch tensor\n",
        "    if not isinstance(sequence, torch.Tensor):\n",
        "        sequence = transforms.ToTensor()(sequence)\n",
        "\n",
        "    # Accumulate mean and std\n",
        "    mean += torch.mean(sequence)\n",
        "    std += torch.std(sequence)\n",
        "\n",
        "# Calculate mean and std across the dataset\n",
        "mean /= len(train_data)\n",
        "std /= len(train_data)\n",
        "\n",
        "print(\"Mean:\", mean)\n",
        "print(\"Std:\", std)"
      ]
    },
    {
      "cell_type": "markdown",
      "metadata": {
        "id": "DpVhuT6BAzre"
      },
      "source": [
        "Below we'll see how train_data can be treated just like lists\n",
        "\n",
        "- One element in the list for each sequence of images\n",
        "- Each element of the list has a tuple of two elements, the first the array (166,30,30) and the second the label"
      ]
    },
    {
      "cell_type": "code",
      "execution_count": 6,
      "metadata": {
        "colab": {
          "base_uri": "https://localhost:8080/"
        },
        "id": "j5v7vLN4Azrf",
        "outputId": "6eeeebfd-e9fa-4d83-d262-3a0c86795b6b"
      },
      "outputs": [
        {
          "name": "stdout",
          "output_type": "stream",
          "text": [
            "Total training samples:  1384\n",
            "Total testing samples:  345\n"
          ]
        }
      ],
      "source": [
        "print(\"Total training samples: \",len(train_data))\n",
        "print(\"Total testing samples: \", len(test_data))\n",
        "\n"
      ]
    },
    {
      "cell_type": "code",
      "execution_count": null,
      "metadata": {
        "colab": {
          "base_uri": "https://localhost:8080/"
        },
        "id": "MJD-U4cdAzrf",
        "outputId": "80876184-eeea-407c-d097-8f44c58d087e"
      },
      "outputs": [
        {
          "name": "stdout",
          "output_type": "stream",
          "text": [
            "Sample 0: Shape torch.Size([30, 166, 166]), Label: 1.0\n",
            "Sample 0: Shape torch.Size([30, 166, 166]), Label: 0.0\n"
          ]
        }
      ],
      "source": [
        "print(f\"Sample {0}: Shape {train_data1[0][0].shape}, Label: {train_data1[0][1]}\")\n",
        "print(f\"Sample {0}: Shape {train_data0[0][0].shape}, Label: {train_data0[0][1]}\")\n"
      ]
    },
    {
      "cell_type": "markdown",
      "metadata": {
        "id": "YIuTTZe9Azrf"
      },
      "source": [
        "#### Get the Minibatch\n",
        "for training and testing"
      ]
    },
    {
      "cell_type": "code",
      "execution_count": 43,
      "metadata": {
        "id": "FqOmbpevAzrg"
      },
      "outputs": [],
      "source": [
        "train_loader = DataLoader(train_data, batch_size=32, shuffle=True)\n",
        "test_loader = DataLoader(test_data, batch_size=32, shuffle=False)\n"
      ]
    },
    {
      "cell_type": "markdown",
      "metadata": {
        "id": "Vj-boPo4Azrg"
      },
      "source": [
        "See that we have 42 different minibatches, each with 32 samples"
      ]
    },
    {
      "cell_type": "code",
      "execution_count": null,
      "metadata": {
        "colab": {
          "base_uri": "https://localhost:8080/"
        },
        "id": "7WQsctKVAzrg",
        "outputId": "5eaa3b17-6b29-4c77-841a-d4d426c0f16a"
      },
      "outputs": [
        {
          "name": "stdout",
          "output_type": "stream",
          "text": [
            "Batch 0: samples 32\n",
            "Batch 1: samples 32\n",
            "Batch 2: samples 32\n",
            "Batch 3: samples 32\n",
            "Batch 4: samples 32\n",
            "Batch 5: samples 32\n",
            "Batch 6: samples 32\n",
            "Batch 7: samples 32\n",
            "Batch 8: samples 32\n",
            "Batch 9: samples 32\n",
            "Batch 10: samples 32\n",
            "Batch 11: samples 32\n",
            "Batch 12: samples 32\n",
            "Batch 13: samples 32\n",
            "Batch 14: samples 32\n",
            "Batch 15: samples 32\n",
            "Batch 16: samples 32\n",
            "Batch 17: samples 32\n",
            "Batch 18: samples 32\n",
            "Batch 19: samples 32\n",
            "Batch 20: samples 32\n",
            "Batch 21: samples 32\n",
            "Batch 22: samples 32\n",
            "Batch 23: samples 32\n",
            "Batch 24: samples 32\n",
            "Batch 25: samples 32\n",
            "Batch 26: samples 32\n",
            "Batch 27: samples 32\n",
            "Batch 28: samples 32\n",
            "Batch 29: samples 32\n",
            "Batch 30: samples 32\n",
            "Batch 31: samples 32\n",
            "Batch 32: samples 32\n",
            "Batch 33: samples 32\n",
            "Batch 34: samples 32\n",
            "Batch 35: samples 32\n",
            "Batch 36: samples 32\n",
            "Batch 37: samples 32\n",
            "Batch 38: samples 32\n",
            "Batch 39: samples 32\n",
            "Batch 40: samples 32\n",
            "Batch 41: samples 32\n",
            "Batch 42: samples 32\n",
            "Batch 43: samples 8\n"
          ]
        }
      ],
      "source": [
        "for i, (x, y) in enumerate(train_loader):\n",
        "    print(f\"Batch {i}: samples {x.shape[0]}\")\n"
      ]
    },
    {
      "cell_type": "markdown",
      "metadata": {
        "id": "cQvFCzMJAzV6"
      },
      "source": [
        "# Model 1 from \"Deep Learning for Image Sequence Classification of Astronomical Events\" - Recurrent neural network"
      ]
    },
    {
      "cell_type": "markdown",
      "metadata": {
        "id": "4Hz3fK7FAzrh"
      },
      "source": [
        "# 2. Define the Neural Network"
      ]
    },
    {
      "cell_type": "code",
      "execution_count": 7,
      "metadata": {
        "id": "mxkWdLPHAzrh"
      },
      "outputs": [],
      "source": [
        "class RCNN(torch.nn.Module):\n",
        "\n",
        "    def __init__(self):\n",
        "        super(RCNN, self).__init__()\n",
        "\n",
        "        # Define the layers\n",
        "\n",
        "        # 1. Input layers\n",
        "        #self.input_layer=torch.nn.Linear(in_features=166*166*30, out_features=166*166*30)      # not sure if this is needed\n",
        "        #self.norm=torch.nn.BatchNorm2d(166*166*30)        #not sure this is sufficent for batch renormalization\n",
        "\n",
        "        # 2. Convolutional layers\n",
        "\n",
        "        # Three conv layers\n",
        "        # according to gpt, in_channels=1 because in the sequence, it is still gray scale, not rgb\n",
        "        self.conv1 = self.create_conv_layer(in_channels=30, out_channels=64)\n",
        "        self.conv2 = self.create_conv_layer(in_channels=64, out_channels=64)\n",
        "        self.conv3 = self.create_conv_layer(in_channels=64, out_channels=64)\n",
        "\n",
        "        # First maxpool\n",
        "        self.pool1 = torch.nn.MaxPool2d(kernel_size=2,stride=2)\n",
        "\n",
        "        # Three conv layers\n",
        "        self.conv4 = self.create_conv_layer(in_channels=64, out_channels=64)\n",
        "        self.conv5 = self.create_conv_layer(in_channels=64, out_channels=64)\n",
        "        self.conv6 = self.create_conv_layer(in_channels=64, out_channels=64)\n",
        "\n",
        "        # Second maxpool\n",
        "        self.pool2 = torch.nn.MaxPool2d(kernel_size=2,stride=2)\n",
        "\n",
        "        # Flatten\n",
        "        self.flatten=torch.nn.Flatten()\n",
        "\n",
        "        # Each time we apply pooling, height and width are divided by 2\n",
        "        self.flat_size = 64 * int(np.floor(166/2/2)) * int(np.floor(166/2/2))\n",
        "\n",
        "        # Fully connected with dropout\n",
        "        self.lin=torch.nn.Linear(self.flat_size, 1024)\n",
        "        self.drop=torch.nn.Dropout(p=0.5)\n",
        "\n",
        "        #LSTM\n",
        "        # we set batch_first=True to have batch_size as first dimension: (30,166,166)\n",
        "        self.lstm = torch.nn.LSTM(input_size=1024, hidden_size=512, num_layers=1, batch_first=True)\n",
        "\n",
        "        #output: for binary classification softmax is not needed\n",
        "        #self.output_layer=torch.nn.Softmax(dim=1)\n",
        "        self.output = torch.nn.Linear(512, 1)\n",
        "\n",
        "    # To make the code more clear, let's use this function to create conv layers\n",
        "    def create_conv_layer(self, in_channels, out_channels):\n",
        "        conv = torch.nn.Conv2d(in_channels=in_channels, out_channels=out_channels, kernel_size=3, stride=1, padding=1)\n",
        "        relu = torch.nn.ReLU()\n",
        "        norm = torch.nn.BatchNorm2d(out_channels)\n",
        "        return torch.nn.Sequential(conv, relu, norm)\n",
        "\n",
        "\n",
        "\n",
        "    def forward(self, x):\n",
        "\n",
        "        # Define the forward pass\n",
        "\n",
        "        # 1. Input layers\n",
        "        #x=self.input_layer(x)\n",
        "        #x=self.norm(x)\n",
        "\n",
        "        # 2. Convolutional layers\n",
        "        x=self.conv1(x)\n",
        "        x=self.conv2(x)\n",
        "        x=self.conv3(x)\n",
        "\n",
        "        # First maxpool\n",
        "        x=self.pool1(x)\n",
        "\n",
        "        # Three conv layers\n",
        "        x=self.conv4(x)\n",
        "        x=self.conv5(x)\n",
        "        x=self.conv6(x)\n",
        "\n",
        "        # Second maxpool\n",
        "        x=self.pool2(x)\n",
        "\n",
        "        # Flatten\n",
        "        x=self.flatten(x)\n",
        "\n",
        "        # Fully connected with dropout\n",
        "        x=self.lin(x)\n",
        "        x=self.drop(x)\n",
        "\n",
        "        #LSTM\n",
        "        #x = x.view(x.size(0), -1, self.flat_size)\n",
        "        #x = x.view(x.size(0), 30, -1)\n",
        "        lstm_out, _ = self.lstm(x)\n",
        "        #lstm_out = lstm_out[:, -1, :]\n",
        "\n",
        "        #output\n",
        "        out=self.output(lstm_out)\n",
        "\n",
        "        return out.view(-1)"
      ]
    },
    {
      "cell_type": "markdown",
      "metadata": {
        "id": "U2eH8IGeAzri"
      },
      "source": [
        "#### Define the model"
      ]
    },
    {
      "cell_type": "code",
      "execution_count": 9,
      "metadata": {
        "id": "ItChPsQcAzri"
      },
      "outputs": [],
      "source": [
        "model = RCNN()"
      ]
    },
    {
      "cell_type": "markdown",
      "metadata": {
        "id": "dh-0nMV4Awdz"
      },
      "source": [
        "# Model 2 from \"Fast Solar Image Classification Using Deep Learning and its Importance for Automation in Solar Physics\" - Convolutional neural network\n"
      ]
    },
    {
      "cell_type": "code",
      "execution_count": 44,
      "metadata": {
        "id": "nD6ZJI1_BIhG"
      },
      "outputs": [],
      "source": [
        "class CNN(torch.nn.Module):\n",
        "\n",
        "    def __init__(self):\n",
        "        super(CNN, self).__init__()\n",
        "\n",
        "        ## Convolution layers\n",
        "\n",
        "        # 2 conv 64 + max pool\n",
        "        self.conv1 = self.create_conv_layer(in_channels=30, out_channels=64)\n",
        "        self.conv2 = self.create_conv_layer(in_channels=64, out_channels=64)\n",
        "        self.pool1 = torch.nn.MaxPool2d(kernel_size=2,stride=2)\n",
        "\n",
        "        # 2 conv 128 + max pool\n",
        "        self.conv3 = self.create_conv_layer(in_channels=64, out_channels=128)\n",
        "        self.conv4 = self.create_conv_layer(in_channels=128, out_channels=128)\n",
        "        self.pool2 = torch.nn.MaxPool2d(kernel_size=2,stride=2)\n",
        "\n",
        "        # 2 conv 256 + max pool\n",
        "        self.conv5 = self.create_conv_layer(in_channels=128, out_channels=256)\n",
        "        self.conv6 = self.create_conv_layer(in_channels=256, out_channels=256)\n",
        "        self.pool3 = torch.nn.MaxPool2d(kernel_size=2,stride=2)\n",
        "\n",
        "        # 2 conv 512 + max pool\n",
        "        self.conv7 = self.create_conv_layer(in_channels=256, out_channels=512)\n",
        "        self.conv8 = self.create_conv_layer(in_channels=512, out_channels=512)\n",
        "        self.pool4 = torch.nn.MaxPool2d(kernel_size=2,stride=2)\n",
        "\n",
        "        # 2 conv 512 + max pool\n",
        "        self.conv9 = self.create_conv_layer(in_channels=512, out_channels=512)\n",
        "        self.conv10 = self.create_conv_layer(in_channels=512, out_channels=512)\n",
        "        self.pool5 = torch.nn.MaxPool2d(kernel_size=2,stride=2)\n",
        "\n",
        "        ## Fully connected layers\n",
        "\n",
        "        # linear + ReLU + dropot (p=0.5)\n",
        "        self.linear1 = torch.nn.Linear(in_features=512*5*5, out_features=1600)\n",
        "        self.R1 = torch.nn.ReLU()\n",
        "        self.DO1 = torch.nn.Dropout(p=0.5)\n",
        "\n",
        "        # linear + ReLU + dropot (p=0.5)\n",
        "        self.linear2 = torch.nn.Linear(in_features=1600, out_features=1600)\n",
        "        self.R2 = torch.nn.ReLU()\n",
        "        self.DO2 = torch.nn.Dropout(p=0.5)\n",
        "\n",
        "        # Final linear layer\n",
        "        self.linear3 = torch.nn.Linear(in_features=1600, out_features=2)\n",
        "        self.sm = torch.nn.Softmax()\n",
        "\n",
        "\n",
        "        # To make the code more clear, let's use this function to create conv layers\n",
        "    def create_conv_layer(self, in_channels, out_channels):\n",
        "        conv = torch.nn.Conv2d(in_channels=in_channels, out_channels=out_channels, kernel_size=3, stride=1, padding=1)\n",
        "        norm = torch.nn.BatchNorm2d(out_channels)\n",
        "        relu = torch.nn.ReLU()\n",
        "        return torch.nn.Sequential(conv, norm, relu)\n",
        "\n",
        "\n",
        "    def forward(self, x):\n",
        "\n",
        "        # Define the forward pass\n",
        "        ## Convolution layers\n",
        "        x=self.conv1(x)\n",
        "        x=self.conv2(x)\n",
        "        x=self.pool1(x)\n",
        "\n",
        "        x = self.conv3(x)\n",
        "        x = self.conv4(x)\n",
        "        x = self.pool2(x)\n",
        "\n",
        "        x = self.conv5(x)\n",
        "        x = self.conv6(x)\n",
        "        x = self.pool3(x)\n",
        "\n",
        "        x = self.conv7(x)\n",
        "        x = self.conv8(x)\n",
        "        x = self.pool4(x)\n",
        "\n",
        "        x = self.conv9(x)\n",
        "        x = self.conv10(x)\n",
        "        x = self.pool5(x)\n",
        "        x = x.view(x.size(0), -1)\n",
        "\n",
        "        ## Fully connected layers\n",
        "        x = self.linear1(x)\n",
        "        x = self.R1(x)\n",
        "        x = self.DO1(x)\n",
        "\n",
        "        x = self.linear2(x)\n",
        "        x = self.R2(x)\n",
        "        x = self.DO2(x)\n",
        "\n",
        "        x = self.linear3(x)\n",
        "\n",
        "        return x"
      ]
    },
    {
      "cell_type": "code",
      "execution_count": 45,
      "metadata": {
        "id": "TgkuVT8lITEx"
      },
      "outputs": [],
      "source": [
        "model = CNN()"
      ]
    },
    {
      "cell_type": "markdown",
      "metadata": {
        "id": "2AOkFgVPAzri"
      },
      "source": [
        "# 3. Training Parameters\n",
        "\n",
        "There is a lot that can be done here to get very cool hyperparameters"
      ]
    },
    {
      "cell_type": "code",
      "execution_count": 63,
      "metadata": {
        "id": "MO5-o41MAzrj"
      },
      "outputs": [],
      "source": [
        "#criterion = torch.nn.CrossEntropyLoss()\n",
        "criterion = torch.nn.BCEWithLogitsLoss()\n",
        "\n",
        "\n",
        "num_epochs = 20\n",
        "\n",
        "#optimizer = torch.optim.AdamW(model.parameters())\n",
        "optimizer = torch.optim.SGD(model.parameters(),lr=0.1,momentum=0.9,nesterov=True) # as seen in paper, needs to be improved/adapted\n",
        "\n",
        "scheduler = torch.optim.lr_scheduler.CosineAnnealingLR(\n",
        "    optimizer,\n",
        "    T_max=(len(train_loader.dataset) * num_epochs) // train_loader.batch_size,\n",
        ")"
      ]
    },
    {
      "cell_type": "markdown",
      "metadata": {
        "id": "hMNO7jg7Azrj"
      },
      "source": [
        "# 4. Train Epoch Script"
      ]
    },
    {
      "cell_type": "code",
      "execution_count": 52,
      "metadata": {
        "id": "AujB7DZDAzrj"
      },
      "outputs": [],
      "source": [
        "def train_epoch(model, optimizer, scheduler, criterion, train_loader, epoch, device):\n",
        "    model.train()\n",
        "    loss_history = []\n",
        "    accuracy_history = []\n",
        "    lr_history = []\n",
        "    for batch_idx, (data, target) in enumerate(train_loader):\n",
        "        data, target = data.float().to(device), target.float().to(device)\n",
        "        optimizer.zero_grad()\n",
        "        output = model(data)\n",
        "\n",
        "        argmax_output = torch.argmax(output, dim=1).float().clone().detach().requires_grad_(True) # weird but equivalent to torch.tensor(...)\n",
        "        loss = criterion(argmax_output, target)\n",
        "\n",
        "        loss.backward()\n",
        "        optimizer.step()\n",
        "        scheduler.step()\n",
        "\n",
        "        pred = torch.argmax(output, dim=1).float().clone().detach().requires_grad_(False)\n",
        "\n",
        "        correct = pred.eq(target.view_as(pred)).sum().item()\n",
        "        loss_float = loss.item()\n",
        "        accuracy_float = correct / len(data)\n",
        "\n",
        "        loss_history.append(loss_float)\n",
        "        accuracy_history.append(accuracy_float)\n",
        "        lr_history.append(scheduler.get_last_lr()[0])\n",
        "\n",
        "        # this is the if statement of the lab, but it doesn't work for me. it makes no sense to me tbh\n",
        "        #if batch_idx % (len(train_loader.dataset) // len(data) // 10) == 0:\n",
        "        # this doesn't work bad, but it just prints the last batch of the epoch\n",
        "        \"\"\"\n",
        "        if batch_idx == len(train_loader) - 1:\n",
        "            print(\n",
        "                f\"* Train Epoch: {epoch}-{batch_idx:03d} \\n\"\n",
        "                f\"batch_loss={loss_float:0.2e} \"\n",
        "                f\"batch_acc={accuracy_float:0.3f} \"\n",
        "                f\"lr={scheduler.get_last_lr()[0]:0.3e} \\n\"\n",
        "            )\n",
        "      \"\"\"\n",
        "    epoch_accuracy = np.sum(accuracy_history) / len(train_loader)\n",
        "    epoch_loss = np.sum(loss_history) / len(train_loader)\n",
        "    print(f\"* Train Epoch: {epoch} \\n\"\n",
        "          f\"average accuracy = {100. * epoch_accuracy:.2f}\")\n",
        "\n",
        "    return loss_history, accuracy_history, lr_history"
      ]
    },
    {
      "cell_type": "markdown",
      "metadata": {
        "id": "aJ0c5QVcAzrk"
      },
      "source": [
        "# 5. Test Script"
      ]
    },
    {
      "cell_type": "code",
      "execution_count": 66,
      "metadata": {
        "id": "yaapCmG_Azrk"
      },
      "outputs": [],
      "source": [
        "@torch.no_grad()\n",
        "def test_model(model, test_loader, criterion, device):\n",
        "    model.eval()\n",
        "    test_loss = 0\n",
        "    correct = 0\n",
        "    with torch.no_grad():\n",
        "        for data, target in test_loader:\n",
        "            data, target = data.to(device), target.to(device)\n",
        "            output = model(data)\n",
        "            pred = torch.argmax(output, dim=1).float().clone().detach().requires_grad_(False)\n",
        "            #pred = torch.tensor(torch.argmax(output, dim=1).float(), requires_grad=False)\n",
        "\n",
        "            test_loss += criterion(pred, target)  # sum up batch loss\n",
        "            correct += pred.eq(target.view_as(pred)).sum().item()\n",
        "\n",
        "    test_loss /= len(test_loader.dataset)\n",
        "    test_accuracy = correct / len(test_loader.dataset)\n",
        "    print(f'* Test set: \\n Average loss: {test_loss:.4f}, Accuracy: {correct}/{len(test_loader.dataset)} ({100. * test_accuracy:.2f}%)\\n')\n",
        "    return test_loss, test_accuracy\n"
      ]
    },
    {
      "cell_type": "markdown",
      "metadata": {
        "id": "Wv0Q7qIQAzrk"
      },
      "source": [
        "### Compute the F1 score for the whole data"
      ]
    },
    {
      "cell_type": "code",
      "execution_count": 54,
      "metadata": {
        "id": "UA9qL2OCAzrk"
      },
      "outputs": [],
      "source": [
        "@torch.no_grad()\n",
        "def compute_f1(model, device, test_loader):\n",
        "    model.eval()\n",
        "    batch_f1 = np.zeros(len(test_loader))\n",
        "\n",
        "    for batch_idx, (data, target) in enumerate(test_loader):    # iterate over each minibatch\n",
        "        data, target = data.to(device), target.to(device)\n",
        "        output = model(data)\n",
        "        pred = torch.argmax(output, dim=1).float().clone().detach().requires_grad_(False)\n",
        "\n",
        "        batch_f1[batch_idx] = multiclass_f1_score(pred, target, num_classes=2)   # compute the F1 score for 1 minibatch\n",
        "\n",
        "    f1_score = np.sum(batch_f1) / len(test_loader)  # Output is the average of the f1 score over all minibatches\n",
        "\n",
        "    return f1_score"
      ]
    },
    {
      "cell_type": "markdown",
      "metadata": {
        "id": "Rh3TSwb0Azrl"
      },
      "source": [
        "# 6. Train the Network 😀😀😀😀😀\n"
      ]
    },
    {
      "cell_type": "code",
      "execution_count": 65,
      "metadata": {
        "colab": {
          "base_uri": "https://localhost:8080/"
        },
        "id": "3qgHuHncAzrl",
        "outputId": "c21e8e83-daf8-4374-8e00-b52cd597480f"
      },
      "outputs": [
        {
          "name": "stdout",
          "output_type": "stream",
          "text": [
            " === Training starting for epoch 1 / 20 === \n",
            "\n",
            "* Train Epoch: 1 \n",
            "average accuracy = 0.5262784090909091\n",
            "* Test set: \n",
            " Average loss: 0.0259, Accuracy: 175/345 (50.72%)\n",
            "\n",
            " === Training starting for epoch 2 / 20 === \n",
            "\n",
            "* Train Epoch: 2 \n",
            "average accuracy = 0.5234375\n",
            "* Test set: \n",
            " Average loss: 0.0259, Accuracy: 176/345 (51.01%)\n",
            "\n",
            " === Training starting for epoch 3 / 20 === \n",
            "\n",
            "* Train Epoch: 3 \n",
            "average accuracy = 0.5220170454545454\n",
            "* Test set: \n",
            " Average loss: 0.0259, Accuracy: 175/345 (50.72%)\n",
            "\n",
            " === Training starting for epoch 4 / 20 === \n",
            "\n",
            "* Train Epoch: 4 \n",
            "average accuracy = 0.5056818181818182\n",
            "* Test set: \n",
            " Average loss: 0.0258, Accuracy: 178/345 (51.59%)\n",
            "\n",
            " === Training starting for epoch 5 / 20 === \n",
            "\n",
            "* Train Epoch: 5 \n",
            "average accuracy = 0.515625\n",
            "* Test set: \n",
            " Average loss: 0.0259, Accuracy: 177/345 (51.30%)\n",
            "\n",
            " === Training starting for epoch 6 / 20 === \n",
            "\n",
            "* Train Epoch: 6 \n",
            "average accuracy = 0.49644886363636365\n",
            "* Test set: \n",
            " Average loss: 0.0258, Accuracy: 179/345 (51.88%)\n",
            "\n",
            " === Training starting for epoch 7 / 20 === \n",
            "\n",
            "* Train Epoch: 7 \n",
            "average accuracy = 0.5255681818181818\n",
            "* Test set: \n",
            " Average loss: 0.0259, Accuracy: 175/345 (50.72%)\n",
            "\n",
            " === Training starting for epoch 8 / 20 === \n",
            "\n",
            "* Train Epoch: 8 \n",
            "average accuracy = 0.5099431818181818\n",
            "* Test set: \n",
            " Average loss: 0.0259, Accuracy: 176/345 (51.01%)\n",
            "\n",
            " === Training starting for epoch 9 / 20 === \n",
            "\n",
            "* Train Epoch: 9 \n",
            "average accuracy = 0.5241477272727273\n",
            "* Test set: \n",
            " Average loss: 0.0258, Accuracy: 176/345 (51.01%)\n",
            "\n",
            " === Training starting for epoch 10 / 20 === \n",
            "\n",
            "* Train Epoch: 10 \n",
            "average accuracy = 0.5021306818181818\n",
            "* Test set: \n",
            " Average loss: 0.0258, Accuracy: 178/345 (51.59%)\n",
            "\n",
            " === Training starting for epoch 11 / 20 === \n",
            "\n",
            "* Train Epoch: 11 \n",
            "average accuracy = 0.5262784090909091\n",
            "* Test set: \n",
            " Average loss: 0.0259, Accuracy: 177/345 (51.30%)\n",
            "\n",
            " === Training starting for epoch 12 / 20 === \n",
            "\n",
            "* Train Epoch: 12 \n",
            "average accuracy = 0.5106534090909091\n",
            "* Test set: \n",
            " Average loss: 0.0259, Accuracy: 176/345 (51.01%)\n",
            "\n",
            " === Training starting for epoch 13 / 20 === \n",
            "\n",
            "* Train Epoch: 13 \n",
            "average accuracy = 0.4992897727272727\n",
            "* Test set: \n",
            " Average loss: 0.0259, Accuracy: 176/345 (51.01%)\n",
            "\n",
            " === Training starting for epoch 14 / 20 === \n",
            "\n",
            "* Train Epoch: 14 \n",
            "average accuracy = 0.5191761363636364\n",
            "* Test set: \n",
            " Average loss: 0.0258, Accuracy: 177/345 (51.30%)\n",
            "\n",
            " === Training starting for epoch 15 / 20 === \n",
            "\n",
            "* Train Epoch: 15 \n",
            "average accuracy = 0.5376420454545454\n",
            "* Test set: \n",
            " Average loss: 0.0259, Accuracy: 176/345 (51.01%)\n",
            "\n",
            " === Training starting for epoch 16 / 20 === \n",
            "\n",
            "* Train Epoch: 16 \n",
            "average accuracy = 0.5120738636363636\n",
            "* Test set: \n",
            " Average loss: 0.0259, Accuracy: 176/345 (51.01%)\n",
            "\n",
            " === Training starting for epoch 17 / 20 === \n",
            "\n",
            "* Train Epoch: 17 \n",
            "average accuracy = 0.5035511363636364\n",
            "* Test set: \n",
            " Average loss: 0.0260, Accuracy: 174/345 (50.43%)\n",
            "\n",
            " === Training starting for epoch 18 / 20 === \n",
            "\n",
            "* Train Epoch: 18 \n",
            "average accuracy = 0.4744318181818182\n",
            "* Test set: \n",
            " Average loss: 0.0259, Accuracy: 175/345 (50.72%)\n",
            "\n",
            " === Training starting for epoch 19 / 20 === \n",
            "\n",
            "* Train Epoch: 19 \n",
            "average accuracy = 0.5177556818181818\n",
            "* Test set: \n",
            " Average loss: 0.0259, Accuracy: 175/345 (50.72%)\n",
            "\n",
            " === Training starting for epoch 20 / 20 === \n",
            "\n",
            "* Train Epoch: 20 \n",
            "average accuracy = 0.4992897727272727\n",
            "* Test set: \n",
            " Average loss: 0.0259, Accuracy: 176/345 (51.01%)\n",
            "\n",
            "Final F1 score: 0.5008\n"
          ]
        }
      ],
      "source": [
        "# Training History\n",
        "lr_history = []\n",
        "train_loss_history = []\n",
        "train_acc_history = []\n",
        "\n",
        "# Validation History\n",
        "val_loss_history = []\n",
        "val_acc_history = []\n",
        "\n",
        "device = torch.device(\"cuda\" if torch.cuda.is_available() else \"cpu\")\n",
        "model.to(device)\n",
        "i = 1\n",
        "\n",
        "for epoch in range(1, num_epochs + 1):\n",
        "    print(f\" === Training starting for epoch {i} / {num_epochs} === \\n\")\n",
        "    train_loss, train_acc, lrs = train_epoch(model, optimizer, scheduler, criterion, train_loader, epoch, device)\n",
        "    train_loss_history.extend(train_loss)\n",
        "    train_acc_history.extend(train_acc)\n",
        "    lr_history.extend(lrs)\n",
        "\n",
        "    # Test the model after each epoch\n",
        "    test_loss, test_accuracy = test_model(model, test_loader, criterion, device)\n",
        "    val_loss_history.append(test_loss)\n",
        "    val_acc_history.append(test_accuracy)\n",
        "    i += 1\n",
        "\n",
        "f1_score = compute_f1(model, device, test_loader)\n",
        "\n",
        "print(f\"Final F1 score: {f1_score:.4f}\")\n"
      ]
    },
    {
      "cell_type": "code",
      "execution_count": 67,
      "metadata": {
        "colab": {
          "base_uri": "https://localhost:8080/"
        },
        "id": "HvQ8M0W_Azrl",
        "outputId": "b02c696f-b347-48ab-f869-108de5fa3880"
      },
      "outputs": [
        {
          "name": "stdout",
          "output_type": "stream",
          "text": [
            "learning rate [0.09993537954068375, 0.09992582071507215, 0.09991560333413534, 0.09990472753264745, 0.09989319345406766, 0.0998810012505383, 0.09986815108288273, 0.09985464312060338, 0.09984047754187937, 0.09982565453356429, 0.09981017429118363, 0.09979403701893226, 0.09977724292967169, 0.09975979224492734, 0.0997416851948855, 0.09972292201839042, 0.0997035029629411, 0.09968342828468799, 0.09966269824842969, 0.09964131312760935, 0.0996192732043112, 0.09959657876925672, 0.09957323012180083, 0.099549227569928, 0.09952457143024811, 0.0994992620279923, 0.0994732996970087, 0.09944668477975802, 0.09941941762730898, 0.0993914985993338, 0.09936292806410328, 0.09933370639848212, 0.09930383398792385, 0.09927331122646574, 0.09924213851672366, 0.09921031626988672, 0.09917784490571188, 0.09914472485251835, 0.09911095654718206, 0.09907654043512978, 0.09904147697033328, 0.09900576661530336, 0.09896940984108374, 0.09893240712724488, 0.09889475896187755, 0.09885646584158653, 0.09881752827148393, 0.09877794676518266, 0.09873772184478953, 0.09869685404089842, 0.0986553438925833, 0.09861319194739111, 0.09857039876133447, 0.09852696489888445, 0.09848289093296304, 0.09843817744493567, 0.09839282502460345, 0.09834683427019547, 0.09830020578836088, 0.09825294019416085, 0.09820503811106054, 0.09815650017092081, 0.0981073270139899, 0.09805751928889497, 0.09800707765263363, 0.09795600277056511, 0.09790429531640166, 0.09785195597219956, 0.09779898542835012, 0.09774538438357064, 0.09769115354489513, 0.09763629362766499, 0.09758080535551966, 0.09752468946038693, 0.09746794668247338, 0.09741057777025464, 0.09735258348046541, 0.09729396457808961, 0.09723472183635017, 0.0971748560366989, 0.09711436796880618, 0.09705325843055049, 0.09699152822800798, 0.09692917817544175, 0.0968662090952911, 0.09680262181816082, 0.09673841718281005, 0.09667359603614134, 0.09660815923318943, 0.09654210763710998, 0.0964754421191682, 0.09640816355872735, 0.0963402728432371, 0.0962717708682219, 0.09620265853726911, 0.09613293676201708, 0.09606260646214317, 0.09599166856535156, 0.09592012400736111, 0.09584797373189283, 0.09577521869065768, 0.09570185984334385, 0.09562789815760409, 0.09555333460904303, 0.0954781701812043, 0.09540240586555752, 0.09532604266148523, 0.09524908157626968, 0.09517152362507965, 0.09509336983095693, 0.09501462122480288, 0.09493527884536489, 0.09485534373922253, 0.09477481696077393, 0.09469369957222169, 0.09461199264355906, 0.09452969725255561, 0.09444681448474322, 0.0943633454334016, 0.09427929119954397, 0.09419465289190247, 0.09410943162691363, 0.09402362852870352, 0.09393724472907304, 0.09385028136748287, 0.09376273959103856, 0.09367462055447531, 0.09358592542014278, 0.09349665535798975, 0.09340681154554868, 0.09331639516792022, 0.09322540741775746, 0.0931338494952504, 0.09304172260810988, 0.09294902797155181, 0.09285576680828116, 0.09276194034847568, 0.09266754982976982, 0.09257259649723833, 0.09247708160337983, 0.09238100640810037, 0.09228437217869671, 0.09218718018983964, 0.09208943172355723, 0.0919911280692178, 0.09189227052351304, 0.09179286039044075, 0.09169289898128785, 0.09159238761461287, 0.09149132761622868, 0.09138972031918496, 0.09128756706375067, 0.09118486919739631, 0.09108162807477614, 0.09097784505771037, 0.09087352151516716, 0.09076865882324456, 0.09066325836515234, 0.0905573215311938, 0.09045084971874741, 0.09034384433224833, 0.09023630678316998, 0.09012823849000529, 0.09001964087824811, 0.08991051538037438, 0.08980086343582315, 0.08969068649097771, 0.08957998599914643, 0.08946876342054365, 0.08935702022227035, 0.08924475787829488, 0.0891319778694334, 0.08901868168333052, 0.08890487081443947, 0.0887905467640026, 0.0886757110400314, 0.08856036515728669, 0.08844451063725862, 0.08832814900814666, 0.08821128180483935, 0.08809391056889411, 0.08797603684851686, 0.08785766219854169, 0.08773878818041024, 0.08761941636215115, 0.08749954831835942, 0.08737918563017555, 0.0872583298852648, 0.08713698267779614, 0.08701514560842125, 0.08689282028425342, 0.08677000831884642, 0.08664671133217305, 0.08652293095060394, 0.08639866880688597, 0.08627392654012087, 0.08614870579574341, 0.08602300822549987, 0.08589683548742619, 0.08577018924582606, 0.08564307117124906, 0.08551548294046847, 0.08538742623645934, 0.08525890274837615, 0.08512991417153058, 0.08500046220736918, 0.08487054856345085, 0.0847401749534244, 0.08460934309700584, 0.08447805471995581, 0.08434631155405677, 0.08421411533709014, 0.08408146781281337, 0.08394837073093699, 0.08381482584710147, 0.0836808349228541, 0.08354639972562576, 0.08341152202870758, 0.08327620361122756, 0.0831404462581271, 0.08300425176013747, 0.08286762191375614, 0.08273055852122319, 0.08259306339049738, 0.08245513833523245, 0.08231678517475312, 0.0821780057340311, 0.08203880184366101, 0.08189917533983629, 0.0817591280643249, 0.08161866186444511, 0.081477778593041, 0.08133648010845819, 0.0811947682745192, 0.08105264496049891, 0.08091011204109992, 0.08076717139642779, 0.08062382491196625, 0.08048007447855232, 0.08033592199235141, 0.08019136935483226, 0.08004641847274187, 0.07990107125808035, 0.07975532962807574, 0.07960919550515864, 0.07946267081693693, 0.0793157574961703, 0.07916845748074476, 0.07902077271364709, 0.0788727051429392, 0.07872425672173246, 0.07857542940816187, 0.07842622516536031, 0.07827664596143263, 0.07812669376942963, 0.07797637056732207, 0.07782567833797463, 0.07767461906911967, 0.07752319475333107, 0.07737140738799791, 0.07721925897529816, 0.07706675152217222, 0.07691388704029653, 0.07676066754605691, 0.07660709506052207, 0.0764531716094169, 0.0762988992230958, 0.07614427993651582, 0.07598931578920985, 0.07583400882525977, 0.07567836109326943, 0.07552237464633763, 0.07536605154203105, 0.0752093938423571, 0.07505240361373677, 0.07489508292697726, 0.07473743385724481, 0.07457945848403719, 0.0744211588911564, 0.07426253716668105, 0.07410359540293893, 0.07394433569647936, 0.07378476014804551, 0.07362487086254677, 0.07346466994903084, 0.07330415952065611, 0.07314334169466362, 0.07298221859234921, 0.07282079233903553, 0.07265906506404399, 0.07249703890066664, 0.07233471598613815, 0.07217209846160746, 0.07200918847210967, 0.07184598816653766, 0.07168249969761378, 0.07151872522186146, 0.07135466689957676, 0.07119032689479983, 0.07102570737528643, 0.07086081051247932, 0.07069563848147958, 0.07053019346101796, 0.07036447763342613, 0.07019849318460786, 0.07003224230401027, 0.06986572718459481, 0.06969895002280851, 0.06953191301855485, 0.06936461837516487, 0.06919706829936798, 0.06902926500126294, 0.0688612106942887, 0.06869290759519517, 0.06852435792401401, 0.06835556390402932, 0.06818652776174831, 0.06801725172687198, 0.06784773803226567, 0.0676779889139296, 0.06750800661096935, 0.06733779336556647, 0.06716735142294869, 0.06699668303136047, 0.06682579044203325, 0.06665467590915584, 0.06648334168984456, 0.06631179004411362, 0.06614002323484518, 0.06596804352775956, 0.06579585319138537, 0.06562345449702955, 0.06545084971874741, 0.06527804113331266, 0.06510503102018737, 0.06493182166149188, 0.06475841534197471, 0.06458481434898246, 0.06441102097242958, 0.06423703750476817, 0.06406286624095779, 0.06388850947843518, 0.06371396951708386, 0.06353924865920393, 0.06336434920948161, 0.0631892734749589, 0.06301402376500305, 0.06283860239127623, 0.06266301166770494, 0.062487253910449514, 0.06231133143787361, 0.06213524657051353, 0.061959001631047735, 0.06178259894426611, 0.061606040837039334, 0.06142932963828819, 0.06125246767895288, 0.06107545729196217, 0.060898300812202745, 0.06072100057648831, 0.06054355892352885, 0.06036597819389972, 0.06018826073001078, 0.06001040887607553, 0.059832424978080126, 0.059654311383752524, 0.05947607044253142, 0.059297704505535336, 0.05911921592553155, 0.058940607056905105, 0.058761880255627674, 0.05858303787922663, 0.0584040822867538, 0.058225015838754425, 0.05804584089723601, 0.05786655982563713, 0.057687174988796365, 0.05750768875292092, 0.05732810348555562, 0.05714842155555151, 0.05696864533303475, 0.0567887771893752, 0.0566088194971553, 0.056428774630138664, 0.05624864496323877, 0.05606843287248772, 0.055888140735004796, 0.05570777092896519, 0.05552732583356855, 0.05534680782900769, 0.05516621929643709, 0.054985562617941616, 0.05480484017650493, 0.054624054355978245, 0.05444320754104873, 0.054262302117208124, 0.05408134047072128, 0.053900324988594615, 0.05371925805854474, 0.05353814206896681, 0.05335697940890322, 0.05317577246801188, 0.05299452363653486, 0.05281323530526679, 0.05263190986552327, 0.05245054970910946, 0.052269157228288385, 0.05208773481574954, 0.051906284864577136, 0.05172480976821874, 0.0515433119204535, 0.05136179371536077, 0.051180257547288326, 0.05099870581082099, 0.05081714090074891, 0.05063556521203591, 0.05045398113978817, 0.05027239107922227, 0.050090797425633916, 0.04990920257436611, 0.04972760892077776, 0.04954601886021186, 0.049364434787964095, 0.04918285909925111, 0.04900129418917899, 0.04881974245271168, 0.04863820628463924, 0.04845668807954652, 0.048275190231781284, 0.04809371513542288, 0.04791226518425048, 0.04773084277171163, 0.047549450290890555, 0.047368090134476744, 0.04718676469473323, 0.047005476363465123, 0.04682422753198813, 0.0466430205910968, 0.04646185793103321, 0.046280741941455296, 0.046099675011405404, 0.04591865952927873, 0.04573769788279188, 0.04555679245895128, 0.045375945644021774, 0.04519515982349508, 0.0450144373820584, 0.04483378070356293, 0.04465319217099233, 0.044472674166431476, 0.04429222907103484, 0.04411185926499523, 0.043931567127512304, 0.04375135503676126, 0.043571225369861376, 0.04339118050284474, 0.04321122281062483, 0.043031354666965296, 0.042851578444448535, 0.042671896514444425, 0.042492311247079126, 0.04231282501120368, 0.0421334401743629, 0.04195415910276403, 0.04177498416124561, 0.04159591771324622, 0.04141696212077341, 0.04123811974437235, 0.04105939294309493, 0.04088078407446847, 0.04070229549446468, 0.0405239295574686, 0.040345688616247495, 0.040167575021919893, 0.03998959112392449, 0.03981173926998923, 0.03963402180610029, 0.03945644107647116, 0.039278999423511714, 0.03910169918779728, 0.03892454270803786, 0.03874753232104714, 0.03857067036171183, 0.03839395916296069, 0.038217401055733916, 0.03804099836895228, 0.03786475342948649, 0.03768866856212641, 0.037512746089550485, 0.037336988332295075, 0.03716139760872378, 0.03698597623499696, 0.03681072652504112, 0.0366356507905184, 0.036460751340796085, 0.03628603048291616, 0.03611149052156484, 0.03593713375904223, 0.03576296249523186, 0.03558897902757045, 0.03541518565101757, 0.035241584658025314, 0.035068178338508164, 0.03489496897981267, 0.034721958866687386, 0.03454915028125264, 0.03437654550297051, 0.03420414680861468, 0.0340319564722405, 0.03385997676515488, 0.03368820995588643, 0.03351665831015549, 0.03334532409084421, 0.03317420955796679, 0.033003316968639576, 0.03283264857705136, 0.032662206634433574, 0.0324919933890307, 0.03232201108607047, 0.03215226196773439, 0.03198274827312807, 0.03181347223825173, 0.031644436095970736, 0.03147564207598603, 0.03130709240480487, 0.03113878930571134, 0.03097073499873711, 0.03080293170063207, 0.03063538162483518, 0.030468086981445184, 0.030301049977191533, 0.030134272815405237, 0.02996775769598978, 0.02980150681539218, 0.029635522366573908, 0.029469806538982082, 0.029304361518520457, 0.029139189487520735, 0.028974292624713606, 0.028809673105200214, 0.028645333100423265, 0.028481274778138554, 0.028317500302386247, 0.028154011833462354, 0.02799081152789035, 0.027827901538392562, 0.027665284013861886, 0.027502961099333374, 0.02734093493595607, 0.027179207660964506, 0.027017781407650824, 0.026856658305336414, 0.026695840479343935, 0.026535330050969207, 0.02637512913745327, 0.026215239851954536, 0.02605566430352067, 0.0258964045970611, 0.025737462833318972, 0.025578841108843654, 0.025420541515962847, 0.02526256614275525, 0.02510491707302279, 0.024947596386263274, 0.024790606157642937, 0.02463394845796898, 0.02447762535366242, 0.02432163890673061, 0.024165991174740276, 0.024010684210790213, 0.023855720063484256, 0.02370110077690426, 0.02354682839058315, 0.023392904939477998, 0.023239332453943138, 0.023086112959703517, 0.02293324847782782, 0.022780741024701897, 0.022628592612002136, 0.022476805246668993, 0.022325380930880403, 0.022174321662025452, 0.022023629432677997, 0.021873306230570447, 0.02172335403856744, 0.02157377483463974, 0.02142457059183819, 0.02127574327826761, 0.021127294857060868, 0.02097922728635297, 0.0208315425192553, 0.020684242503829765, 0.020537329183063138, 0.020390804494841416, 0.020244670371924324, 0.020098928741919715, 0.019953581527258187, 0.01980863064516779, 0.01966407800764864, 0.019519925521447736, 0.019376175088033805, 0.019232828603572262, 0.019089887958900136, 0.018947355039501155, 0.01880523172548086, 0.01866351989154187, 0.018522221406959062, 0.01838133813555495, 0.018240871935675144, 0.01810082466016377, 0.017961198156339057, 0.017821994265968963, 0.017683214825246943, 0.01754486166476761, 0.017406936609502686, 0.01726944147877687, 0.017132378086243908, 0.0169957482398626, 0.016859553741872955, 0.016723796388772503, 0.01658847797129249, 0.016453600274374317, 0.016319165077145974, 0.01618517415289861, 0.016051629269063093, 0.015918532187186706, 0.01578588466290992, 0.01565368844594329, 0.015521945280044256, 0.015390656902994225, 0.015259825046575668, 0.015129451436549205, 0.014999537792630883, 0.014870085828469468, 0.01474109725162391, 0.014612573763540724, 0.01448451705953159, 0.014356928828750995, 0.014229810754173981, 0.014103164512573844, 0.013976991774500173, 0.013851294204256641, 0.013726073459879189, 0.013601331193114057, 0.013477069049396107, 0.013353288667826996, 0.013229991681153635, 0.013107179715746613, 0.012984854391578803, 0.012863017322203912, 0.012741670114735232, 0.012620814369824485, 0.012500451681640634, 0.012380583637848903, 0.012261211819589807, 0.012142337801458347, 0.012023963151483168, 0.011906089431105936, 0.01178871819516068, 0.011671850991853371, 0.01155548936274142, 0.011439634842713356, 0.011324288959968645, 0.011209453235997443, 0.011095129185560573, 0.010981318316669531, 0.010868022130566653, 0.01075524212170519, 0.01064297977772971, 0.010531236579456399, 0.010420014000853623, 0.01030931350902235, 0.010199136564176892, 0.010089484619625666, 0.009980359121751926, 0.009871761509994754, 0.009763693216830056, 0.009656155667751699, 0.009549150281252635, 0.009442678468806245, 0.009336741634847703, 0.00923134117675549, 0.009126478484832876, 0.009022154942289654, 0.008918371925223892, 0.00881513080260373, 0.008712432936249367, 0.008610279680815073, 0.008508672383771369, 0.008407612385387179, 0.00830710101871219, 0.008207139609559275, 0.008107729476487005, 0.008008871930782238, 0.007910568276442806, 0.007812819810160396, 0.007715627821303342, 0.007618993591899678, 0.007522918396620201, 0.0074274035027617116, 0.007332450170230217, 0.007238059651524344, 0.00714423319171887, 0.007050972028448218, 0.006958277391890174, 0.006866150504749642, 0.006774592582242568, 0.006683604832079827, 0.006593188454451356, 0.0065033446420102855, 0.006414074579857261, 0.0063253794455247325, 0.006237260408961471, 0.00614971863251716, 0.006062755270927001, 0.005976371471296516, 0.005890568373086414, 0.005805347108097576, 0.0057207088004560935, 0.005636654566598454, 0.005553185515256815, 0.005470302747444418, 0.005388007356440978, 0.005306300427778321, 0.0052251830392261054, 0.005144656260777502, 0.005064721154635154, 0.00498537877519714, 0.004906630169043102, 0.004828476374920381, 0.004750918423730348, 0.004673957338514799, 0.0045975941344425, 0.0045218298187957185, 0.004446665390956988, 0.004372101842395942, 0.0042981401566561765, 0.004224781309342334, 0.004152026268107189, 0.004079875992638931, 0.004008331434648465, 0.00393739353785687, 0.0038670632379829537, 0.0037973414627309296, 0.0037282291317781375, 0.003659727156762937, 0.0035918364412726995, 0.003524557880831852, 0.0034578923628900858, 0.003391840766810633, 0.0033264039638587263, 0.003261582817190012, 0.003197378181839245, 0.00313379090470895, 0.003070821824558318, 0.0030084717719920722, 0.0029467415694495575, 0.0028856320311938808, 0.002825143963301153, 0.0027652781636498874, 0.002706035421910436, 0.002647416519534635, 0.0025894222297454146, 0.0025320533175266675, 0.002475310539613119, 0.0024191946444803835, 0.002363706372335046, 0.0023088464551049193, 0.0022546156164294016, 0.002201014571649924, 0.0021480440278004893, 0.002095704683598377, 0.002043997229434936, 0.0019929223473664224, 0.001942480711105072, 0.0018926729860101528, 0.0018434998290792377, 0.0017949618889395065, 0.0017470598058391968, 0.0016997942116391779, 0.0016531657298045738, 0.001607174975396592, 0.0015618225550643689, 0.0015171090670369875, 0.0014730351011155835, 0.0014296012386655571, 0.0013868080526089127, 0.0013446561074167147, 0.0013031459591016043, 0.0012622781552105006, 0.0012220532348173724, 0.0011824717285160997, 0.0011435341584135179, 0.0011052410381224846, 0.001067592872755158, 0.001030590158916284, 0.0009942333846966749, 0.0009585230296667472, 0.0009234595648702385, 0.0008890434528179506, 0.0008552751474816548, 0.000822155094288141, 0.0007896837301132945, 0.0007578614832763622, 0.0007266887735342733, 0.0006961660120761717, 0.000666293601517898, 0.0006370719358967438, 0.0006085014006662228, 0.0005805823726910244, 0.0005533152202420013, 0.0005267003029913066, 0.0005007379720077089, 0.00047542856975190133, 0.0004507724300720108, 0.0004267698781991737, 0.00040342123074328955, 0.0003807267956888018, 0.0003586868723906402, 0.0003373017515703016, 0.00031657171531198085, 0.0002964970370588739, 0.0002770779816095471, 0.0002583148051144847, 0.0002402077550726579, 0.00022275707032830004, 0.00020596298106773667, 0.0001898257088163658, 0.00017434546643571033, 0.00015952245812063121, 0.0001453568793966354, 0.00013184891711727769, 0.00011899874946171289, 0.0001068065459323309, 9.527246735255294e-05, 8.439666586466669e-05, 7.417928492784446e-05, 6.462045931624474e-05, 5.5720315117241425e-05, 4.747896972975842e-05, 3.989653186270427e-05, 3.2973101533567704e-05, 2.670877006706874e-05, 2.1103620093976266e-05, 1.6157725550008943e-05, 1.1871151674858197e-05, 8.24395501133335e-06, 5.276183404606673e-06, 2.967876001597204e-06, 1.3190632504322956e-06, 3.297669000701388e-07, 0.0, 3.2976690007013867e-07, 1.3190632504322954e-06, 2.967876001591652e-06, 5.276183404606672e-06, 8.24395501133335e-06, 1.1871151674858195e-05, 1.615772555000894e-05, 2.110362009397626e-05, 2.6708770067068728e-05, 3.297310153356769e-05, 3.989653186270425e-05, 4.7478969729758396e-05, 5.57203151172414e-05, 6.462045931624471e-05, 7.417928492784442e-05, 8.439666586466664e-05, 9.527246735255288e-05, 0.00010680654593233082, 0.00011899874946170725, 0.00013184891711727758, 0.00014535687939663526, 0.00015952245812063664, 0.00017434546643571016, 0.00018982570881636562, 0.00020596298106773645, 0.0002227570703282998, 0.00024020775507265765, 0.0002583148051144844]\n",
            "train loss [0.7638545036315918, 0.5569759607315063, 0.7757259607315063, 0.7907403111457825, 0.8188473582267761, 0.814483106136322, 0.7175902128219604, 0.604461669921875, 0.7326045036315918, 0.6938474178314209, 0.8263545632362366, 0.7757259607315063, 0.6625973582267761, 0.7713617086410522, 0.8576045632362366, 0.720733106136322, 0.8188473582267761, 0.8607474565505981, 0.8694759607315063, 0.751983106136322, 0.8113402128219604, 0.8263545036315918, 0.7250973582267761, 0.783233106136322, 0.6938474178314209, 0.7682188153266907, 0.6507259607315063, 0.8026117086410522, 0.751983106136322, 0.5870046019554138, 0.6819759607315063, 0.8619688153266907, 0.8069759607315063, 0.7250973582267761, 0.7725830078125, 0.9276117086410522, 0.6701045036315918, 0.791961669921875, 0.7250973582267761, 0.783233106136322, 0.7638545036315918, 0.8919974565505981, 0.7401117086410522, 0.6756901741027832, 0.845733106136322, 0.7401117086410522, 0.7013545036315918, 0.783233106136322, 0.6776117086410522, 0.6744688153266907, 0.6938473582267761, 0.7713617086410522, 0.7800902128219604, 0.7757259607315063, 0.783233106136322, 0.7951045632362366, 0.7326045036315918, 0.7994687557220459, 0.8500973582267761, 0.783233106136322, 0.751983106136322, 0.7875973582267761, 0.595733106136322, 0.6194759607315063, 0.6788330674171448, 0.8576045036315918, 0.6625973582267761, 0.8963617086410522, 0.8263545036315918, 0.7982474565505981, 0.8801259994506836, 0.8457331657409668, 0.8101188540458679, 0.7326045036315918, 0.626983106136322, 0.689483106136322, 0.7907402515411377, 0.7413330078125, 0.7444759607315063, 0.720733106136322, 0.7013545036315918, 0.7745046019554138, 0.7994687557220459, 0.6819759607315063, 0.9007259607315063, 0.9351189136505127, 0.876983106136322, 0.658233106136322, 0.7994688153266907, 0.9082331657409668, 0.8069759607315063, 0.8026117086410522, 0.6625973582267761, 0.6194759607315063, 0.8057546019554138, 0.6851188540458679, 0.7875974178314209, 0.6938473582267761, 0.7444759607315063, 0.7713617086410522, 0.7788688540458679, 0.8026117086410522, 0.7638545036315918, 0.6863402128219604, 0.6776117086410522, 0.8963617086410522, 0.8307187557220459, 0.7800902128219604, 0.8263545036315918, 0.814483106136322, 0.6432187557220459, 0.6388545036315918, 0.6344902515411377, 0.8069759607315063, 0.814483106136322, 0.7875973582267761, 0.7013545036315918, 0.6938473582267761, 0.7594902515411377, 0.751983106136322, 0.7788688540458679, 0.8144831657409668, 0.7594902515411377, 0.7132259607315063, 0.7413330674171448, 0.823211669921875, 0.7682187557220459, 0.7551259994506836, 0.7488402128219604, 0.845733106136322, 0.8694759607315063, 0.8782044649124146, 0.8769831657409668, 0.8263545036315918, 0.6463617086410522, 0.8069759607315063, 0.7326045632362366, 0.7132259607315063, 0.9244687557220459, 0.5882259607315063, 0.7369687557220459, 0.7713617086410522, 0.7713617086410522, 0.7282402515411377, 0.7757259607315063, 0.6463617086410522, 0.8038330078125, 0.7638545632362366, 0.7357474565505981, 0.8694759607315063, 0.6744687557220459, 0.8069759607315063, 0.7057187557220459, 0.908233106136322, 0.7594902515411377, 0.8500974178314209, 0.7757259607315063, 0.8176259994506836, 0.9944759607315063, 0.7682187557220459, 0.7757259607315063, 0.6744687557220459, 0.751983106136322, 0.7013545036315918, 0.8069759607315063, 0.689483106136322, 0.783233106136322, 0.7207331657409668, 0.7132259607315063, 0.7263187170028687, 0.8500973582267761, 0.7444759607315063, 0.8219902515411377, 0.751983106136322, 0.8382259607315063, 0.9557188153266907, 0.7088617086410522, 0.8188473582267761, 0.876983106136322, 0.7757259607315063, 0.8619687557220459, 0.7757259607315063, 0.7357474565505981, 0.8219902515411377, 0.689483106136322, 0.6313473582267761, 0.7800902128219604, 0.7132259607315063, 0.8026117086410522, 0.6701045036315918, 0.7757259607315063, 0.7088617086410522, 0.6625973582267761, 0.8113402128219604, 0.6938474178314209, 0.7144473195075989, 0.6938473582267761, 0.7563473582267761, 0.814483106136322, 0.7088617086410522, 0.6744687557220459, 0.8219902515411377, 0.783233106136322, 0.8619688153266907, 0.8101188540458679, 0.8069759607315063, 0.6938474178314209, 0.8263545632362366, 0.7863759994506836, 0.7326045036315918, 0.8382259607315063, 0.8738402128219604, 0.8576045036315918, 0.7401117086410522, 0.6000973582267761, 0.7757259607315063, 0.7563473582267761, 0.8813473582267761, 0.8263545632362366, 0.7057187557220459, 0.6507259607315063, 0.7951045036315918, 0.845733106136322, 0.8932187557220459, 0.8694759607315063, 0.845733106136322, 0.7875974178314209, 0.720733106136322, 0.7163689136505127, 0.6744688153266907, 0.8144831657409668, 0.8294974565505981, 0.7219544649124146, 0.8532403111457825, 0.783233106136322, 0.8382259607315063, 0.8263545632362366, 0.720733106136322, 0.7282402515411377, 0.8144831657409668, 0.7757259607315063, 0.7951045036315918, 0.6819759607315063, 0.8026117086410522, 0.7594902515411377, 0.7282402515411377, 0.8382259607315063, 0.7088617086410522, 0.8338617086410522, 0.6701045036315918, 0.6776117086410522, 0.6863402128219604, 0.8813473582267761, 0.8069759607315063, 0.6550902128219604, 0.9276117086410522, 0.6313473582267761, 0.7326045036315918, 0.8694759607315063, 0.7907403111457825, 0.8532402515411377, 0.7907402515411377, 0.8026117086410522, 0.8307187557220459, 0.845733106136322, 0.814483106136322, 0.7713617086410522, 0.720733106136322, 0.8576045036315918, 0.7713617086410522, 0.7875973582267761, 0.7132259607315063, 0.7250973582267761, 0.8113402128219604, 0.7250973582267761, 0.6313473582267761, 0.7088617086410522, 0.8026117086410522, 0.7951045036315918, 0.6819759607315063, 0.751983106136322, 0.7919616103172302, 0.7963259220123291, 0.7444759607315063, 0.7638545036315918, 0.6776117086410522, 0.689483106136322, 0.6863402128219604, 0.7800902128219604, 0.7875974178314209, 0.6625973582267761, 0.6744687557220459, 0.8694759607315063, 0.6982116103172302, 0.7132259607315063, 0.6819759607315063, 0.7875974178314209, 0.7994687557220459, 0.783233106136322, 0.8382259607315063, 0.689483106136322, 0.8576045036315918, 0.7682187557220459, 0.845733106136322, 0.7875973582267761, 0.6863402128219604, 0.8382259607315063, 0.783233106136322, 0.7951045036315918, 0.8069759607315063, 0.8813474178314209, 0.7444759607315063, 0.6819759607315063, 0.7788688540458679, 0.7638545036315918, 0.8144831657409668, 0.8188473582267761, 0.8619688153266907, 0.7488402128219604, 0.8113402128219604, 0.876983106136322, 0.854461669921875, 0.7444759607315063, 0.8382259607315063, 0.6076045036315918, 0.7875973582267761, 0.6819759607315063, 0.7951045036315918, 0.8038330078125, 0.876983106136322, 0.6863402128219604, 0.7951045632362366, 0.7088617086410522, 0.814483106136322, 0.720733106136322, 0.7875974178314209, 0.8888545036315918, 0.7563473582267761, 0.7238759994506836, 0.7444759607315063, 0.8500973582267761, 0.720733106136322, 0.783233106136322, 0.7832331657409668, 0.7682187557220459, 0.814483106136322, 0.6313473582267761, 0.7044974565505981, 0.6776117086410522, 0.8576045036315918, 0.7638545036315918, 0.36074742674827576, 0.7519831657409668, 0.8144831657409668, 0.7444759607315063, 0.8651117086410522, 0.7951045036315918, 0.7326045632362366, 0.8382259607315063, 0.7994687557220459, 0.7757259607315063, 0.7682187557220459, 0.7713617086410522, 0.814483106136322, 0.6982116103172302, 0.8263545036315918, 0.7682187557220459, 0.7875973582267761, 0.7326045036315918, 0.7800902128219604, 0.783233106136322, 0.7907402515411377, 0.6863402128219604, 0.7682187557220459, 0.814483106136322, 0.6463617086410522, 0.7757259607315063, 0.6625973582267761, 0.658233106136322, 0.8069759607315063, 0.7401117086410522, 0.8307188153266907, 0.689483106136322, 0.5719902515411377, 0.7294616103172302, 0.6388545036315918, 0.8382259607315063, 0.7401117086410522, 0.8769831657409668, 0.7369687557220459, 0.7294616103172302, 0.8069759607315063, 0.7682187557220459, 0.7713617086410522, 0.7994687557220459, 0.7057187557220459, 0.7250973582267761, 0.6819759607315063, 0.7369687557220459, 0.6463617086410522, 0.845733106136322, 0.8101188540458679, 0.720733106136322, 0.6313473582267761, 0.9307546019554138, 0.6819759607315063, 0.7444759607315063, 0.7994688153266907, 0.7326045036315918, 0.9157402515411377, 0.720733106136322, 0.751983106136322, 0.7132259607315063, 0.9157402515411377, 0.7982474565505981, 0.7456973195075989, 0.7788688540458679, 0.7326045036315918, 0.7757259607315063, 0.7132259607315063, 0.7563473582267761, 0.8338617086410522, 0.8500974178314209, 0.6701045036315918, 0.7175902128219604, 0.8694759607315063, 0.7757259607315063, 0.8457331657409668, 0.7682187557220459, 0.7132259607315063, 0.845733106136322, 0.9007259607315063, 0.7563473582267761, 0.8651117086410522, 0.720733106136322, 0.8425902128219604, 0.7132259607315063, 0.7132259607315063, 0.7650759220123291, 0.908233106136322, 0.7907402515411377, 0.6938473582267761, 0.8338617086410522, 0.8026117086410522, 0.7057187557220459, 0.7294616103172302, 0.8263545036315918, 0.8338617086410522, 0.7638545036315918, 0.7369688153266907, 0.7994687557220459, 0.7713617086410522, 0.7013545036315918, 0.7444759607315063, 0.6388545036315918, 0.7369688153266907, 0.7713617086410522, 0.8726188540458679, 0.7013545036315918, 0.8144831657409668, 0.7444759607315063, 0.7682187557220459, 0.8026117086410522, 0.8500973582267761, 0.8738402128219604, 0.8026117086410522, 0.8263545036315918, 0.8026117086410522, 0.7476188540458679, 0.8801259994506836, 0.783233106136322, 0.7875973582267761, 0.6625973582267761, 0.6863402128219604, 0.9007259607315063, 0.7444759607315063, 0.6982116103172302, 0.8219903111457825, 0.8694759607315063, 0.6776117086410522, 0.5807187557220459, 0.6701045036315918, 0.6819759607315063, 0.5807187557220459, 0.8069759607315063, 0.8888545036315918, 0.8663330078125, 0.7638545036315918, 0.845733106136322, 0.7713617086410522, 0.9201045036315918, 0.8738402128219604, 0.7326045036315918, 0.8532402515411377, 0.7951045036315918, 0.7951045036315918, 0.8413688540458679, 0.6776117086410522, 0.7563473582267761, 0.8263545036315918, 0.7013545036315918, 0.6657402515411377, 0.6819759607315063, 0.7713617086410522, 0.7907402515411377, 0.7669974565505981, 0.7713617086410522, 0.7488402128219604, 0.8500973582267761, 0.720733106136322, 0.6819759607315063, 0.7638545036315918, 0.8425902128219604, 0.751983106136322, 0.8144831657409668, 0.8026117086410522, 0.8026117086410522, 0.7088617086410522, 0.7444759607315063, 0.8844902515411377, 0.8188473582267761, 0.6463617086410522, 0.658233106136322, 0.751983106136322, 0.6969902515411377, 0.6182546019554138, 0.6076045036315918, 0.9557187557220459, 0.8844902515411377, 0.8069759607315063, 0.8263545632362366, 0.8888545036315918, 0.7682188153266907, 0.8069759607315063, 0.783233106136322, 0.7250973582267761, 0.658233106136322, 0.8888545632362366, 0.7444759607315063, 0.7369687557220459, 0.7757259607315063, 0.7057187557220459, 0.8069759607315063, 0.7519831657409668, 0.7725830674171448, 0.7800902128219604, 0.7875973582267761, 0.6938473582267761, 0.7800902128219604, 0.7982474565505981, 0.8069759607315063, 0.7013545036315918, 0.7444759607315063, 0.7088617086410522, 0.7919616103172302, 0.8069759607315063, 0.8500973582267761, 0.7326045632362366, 0.7444759607315063, 0.6625974178314209, 0.7951045036315918, 0.7250974178314209, 0.6982116103172302, 0.6194759607315063, 0.7757259607315063, 0.7413330674171448, 0.8219902515411377, 0.8026117086410522, 0.8651117086410522, 0.8219902515411377, 0.8069759607315063, 0.9082331657409668, 0.814483106136322, 0.7563474178314209, 0.8338617086410522, 0.8338617086410522, 0.6776117086410522, 0.7326045036315918, 0.6701045036315918, 0.7444759607315063, 0.7282402515411377, 0.7757259607315063, 0.8844902515411377, 0.7638545036315918, 0.783233106136322, 0.7413330078125, 0.8188473582267761, 0.814483106136322, 0.6313473582267761, 0.783233106136322, 0.7132259607315063, 0.7713617086410522, 0.8307187557220459, 0.7088617086410522, 0.8101188540458679, 0.7682187557220459, 0.7563473582267761, 0.6982116103172302, 0.6969902515411377, 0.7088617086410522, 0.6819759607315063, 0.908233106136322, 0.8263545036315918, 0.7757259607315063, 0.7326045036315918, 0.7994687557220459, 0.8425902128219604, 0.7132259607315063, 0.8457331657409668, 0.8263545036315918, 0.7638545036315918, 0.8576045036315918, 0.720733106136322, 0.7994687557220459, 0.7088617086410522, 0.5807187557220459, 0.7088617086410522, 0.791961669921875, 0.7994687557220459, 0.751983106136322, 0.6863402128219604, 0.8263545036315918, 0.7088617086410522, 0.7994688153266907, 0.7013545036315918, 0.7175902128219604, 0.7326045036315918, 0.7401117086410522, 0.7057188153266907, 0.6938473582267761, 0.8425902128219604, 0.8425902128219604, 0.7219544649124146, 0.595733106136322, 0.7282403111457825, 0.8382259607315063, 0.7757259607315063, 0.8101188540458679, 0.8576045036315918, 0.8813473582267761, 0.7757259607315063, 0.6776117086410522, 0.8382259607315063, 0.689483106136322, 0.8726188540458679, 0.6432187557220459, 0.7875973582267761, 0.6907044649124146, 0.7757259607315063, 0.7488402128219604, 0.7456973195075989, 0.6463617086410522, 0.783233106136322, 0.7907402515411377, 0.8382259607315063, 0.6701045036315918, 0.6463617086410522, 0.7401117086410522, 0.8113402128219604, 0.7057187557220459, 0.6388545036315918, 0.8232116103172302, 0.7875973582267761, 0.6344902515411377, 0.7907402515411377, 0.8738402128219604, 0.7638545036315918, 0.7713617086410522, 0.8219902515411377, 0.751983106136322, 0.6819759607315063, 0.6301259994506836, 0.6625973582267761, 0.6776117086410522, 0.7951045632362366, 0.9276117086410522, 0.7326045036315918, 0.7594902515411377, 0.8188474178314209, 0.658233106136322, 0.7444759607315063, 0.6550902128219604, 0.7175902128219604, 0.7013545036315918, 0.7682187557220459, 0.8413688540458679, 0.7875974178314209, 0.8338617086410522, 0.7682187557220459, 0.7476188540458679, 0.908233106136322, 0.791961669921875, 0.8425902128219604, 0.8188473582267761, 0.8069759607315063, 0.8576045036315918, 0.7875973582267761, 0.7132259607315063, 0.7951045632362366, 0.7132259607315063, 0.8069759607315063, 0.6982116103172302, 0.7713617086410522, 1.0332331657409668, 0.8576045036315918, 0.729461669921875, 0.9050902128219604, 0.8413688540458679, 0.658233106136322, 0.7800902128219604, 0.8263545036315918, 0.845733106136322, 0.8026117086410522, 0.8101188540458679, 0.7444759607315063, 0.783233106136322, 0.7250973582267761, 0.7476188540458679, 0.751983106136322, 0.8651117086410522, 0.6625973582267761, 0.8801259994506836, 0.7175902128219604, 0.689483106136322, 0.7982474565505981, 0.720733106136322, 0.7713617086410522, 0.7951045036315918, 0.8932188153266907, 0.7132259607315063, 0.7488402128219604, 0.8026117086410522, 0.7563473582267761, 0.7594902515411377, 0.8844902515411377, 0.7326045036315918, 0.7875973582267761, 0.8219902515411377, 0.7444759607315063, 0.8188474178314209, 0.7057187557220459, 0.8263545036315918, 0.7175902128219604, 0.7132259607315063, 0.7013545036315918, 0.7951045036315918, 0.7132259607315063, 0.7357474565505981, 0.8069759607315063, 0.7875974178314209, 0.689483106136322, 0.7800902128219604, 0.7444759607315063, 0.6938473582267761, 0.7519831657409668, 0.8263545036315918, 0.8919974565505981, 0.8963617086410522, 0.7444759607315063, 0.7476188540458679, 0.783233106136322, 0.7057187557220459, 0.729461669921875, 0.720733106136322, 0.7757259607315063, 0.7682187557220459, 0.7832331657409668, 0.7488402128219604, 0.7488402128219604, 0.8294974565505981, 0.7219544649124146, 0.9007259607315063, 0.7951045036315918, 0.7757259607315063, 1.0138545036315918, 0.7013545036315918, 0.8382259607315063, 0.8101188540458679, 0.7476188540458679, 0.7757259607315063, 0.8576045036315918, 0.8188474178314209, 0.7713617086410522, 0.7594902515411377, 0.689483106136322, 0.6863402128219604, 0.8932188153266907, 0.8413688540458679, 0.720733106136322, 0.8382259607315063, 0.7444759607315063, 1.1107474565505981, 0.845733106136322, 0.626983106136322, 0.6894831657409668, 0.8488759994506836, 0.7725830078125, 0.6463617086410522, 0.7907403111457825, 0.7326045036315918, 0.7994687557220459, 0.9125974178314209, 0.8532402515411377, 0.7369687557220459, 0.6432187557220459, 0.720733106136322, 0.7163688540458679, 0.751983106136322, 0.8069759607315063, 0.8963617086410522, 0.7282402515411377, 0.814483106136322, 0.783233106136322, 0.845733106136322, 0.8219902515411377, 0.7175902128219604, 0.8263545036315918, 0.7369687557220459, 0.8382259607315063, 0.7951045632362366, 0.8069759607315063, 0.7713617086410522, 0.9588617086410522, 0.6119687557220459, 0.7357474565505981, 0.689483106136322, 0.7713617086410522, 0.751983106136322, 0.8576045036315918, 0.7563474178314209, 0.658233106136322, 0.6625973582267761, 0.6463617086410522, 0.7713617086410522, 0.8963617086410522, 0.783233106136322, 0.8425902128219604, 0.7401117086410522, 0.8532402515411377, 0.720733106136322, 0.8307188153266907, 0.7951045036315918, 0.8069759607315063, 0.7875973582267761, 0.6432187557220459, 0.7594902515411377, 0.7875973582267761, 0.7844544649124146, 0.6938473582267761, 0.9082331657409668, 0.7919616103172302, 0.8932187557220459, 0.8382259607315063, 0.7444759607315063, 0.6625973582267761, 0.7488402128219604, 0.7951045036315918, 0.7757259607315063, 0.8425902128219604, 0.8382259607315063, 0.5063473582267761, 0.9038688540458679, 0.845733106136322, 0.720733106136322, 0.635711669921875, 0.7282402515411377, 0.7444759607315063, 0.8651117086410522, 0.8576045036315918, 0.7444759607315063, 0.845733106136322, 0.7951045036315918, 0.6819759607315063, 0.7875973582267761, 0.7875973582267761, 0.7057187557220459, 0.7326045036315918, 0.689483106136322, 0.6938474178314209, 0.8307187557220459]\n",
            "train accuracy [0.59375, 0.8125, 0.5625, 0.5, 0.46875, 0.46875, 0.46875, 0.6875, 0.46875, 0.5, 0.53125, 0.53125, 0.625, 0.53125, 0.375, 0.5, 0.46875, 0.4375, 0.40625, 0.5, 0.375, 0.4375, 0.6875, 0.53125, 0.59375, 0.5625, 0.6875, 0.5, 0.5, 0.71875, 0.65625, 0.375, 0.5625, 0.5625, 0.53125, 0.4375, 0.59375, 0.5, 0.5, 0.46875, 0.5, 0.40625, 0.53125, 0.5, 0.4375, 0.625, 0.5625, 0.5, 0.53125, 0.46875, 0.625, 0.53125, 0.59375, 0.5, 0.5, 0.53125, 0.625, 0.46875, 0.46875, 0.53125, 0.5, 0.5625, 0.6875, 0.6875, 0.625, 0.4375, 0.5625, 0.375, 0.40625, 0.46875, 0.40625, 0.5, 0.4375, 0.53125, 0.6875, 0.65625, 0.5, 0.5625, 0.625, 0.5625, 0.625, 0.53125, 0.46875, 0.59375, 0.3125, 0.3125, 0.40625, 0.5, 0.4375, 0.34375, 0.4375, 0.5, 0.625, 0.6875, 0.53125, 0.65625, 0.53125, 0.625, 0.5, 0.5625, 0.53125, 0.46875, 0.53125, 0.5625, 0.59375, 0.375, 0.40625, 0.53125, 0.5, 0.53125, 0.5625, 0.71875, 0.6875, 0.53125, 0.53125, 0.4375, 0.625, 0.5625, 0.5, 0.5625, 0.5625, 0.46875, 0.46875, 0.59375, 0.625, 0.40625, 0.46875, 0.5625, 0.4375, 0.40625, 0.40625, 0.375, 0.40625, 0.46875, 0.65625, 0.4375, 0.59375, 0.625, 0.28125, 0.6875, 0.46875, 0.5625, 0.5625, 0.65625, 0.4375, 0.5625, 0.46875, 0.5, 0.53125, 0.34375, 0.59375, 0.40625, 0.5, 0.375, 0.59375, 0.5, 0.53125, 0.5, 0.28125, 0.46875, 0.5, 0.65625, 0.53125, 0.5625, 0.5, 0.59375, 0.5, 0.46875, 0.53125, 0.40625, 0.4375, 0.59375, 0.5, 0.5625, 0.40625, 0.5, 0.59375, 0.53125, 0.5, 0.5, 0.375, 0.46875, 0.5625, 0.53125, 0.53125, 0.75, 0.53125, 0.5625, 0.46875, 0.5625, 0.46875, 0.625, 0.625, 0.4375, 0.5625, 0.625, 0.53125, 0.59375, 0.5, 0.5625, 0.53125, 0.4375, 0.5625, 0.4375, 0.4375, 0.4375, 0.5625, 0.46875, 0.5, 0.46875, 0.40625, 0.34375, 0.40625, 0.53125, 0.75, 0.53125, 0.53125, 0.4375, 0.40625, 0.5, 0.65625, 0.5, 0.4375, 0.4375, 0.375, 0.46875, 0.5625, 0.5625, 0.53125, 0.5625, 0.4375, 0.53125, 0.53125, 0.5, 0.46875, 0.40625, 0.4375, 0.5625, 0.625, 0.46875, 0.53125, 0.4375, 0.46875, 0.5, 0.5, 0.5, 0.5, 0.53125, 0.40625, 0.625, 0.53125, 0.53125, 0.375, 0.5625, 0.625, 0.34375, 0.625, 0.53125, 0.4375, 0.5, 0.375, 0.46875, 0.5, 0.375, 0.5, 0.53125, 0.4375, 0.59375, 0.4375, 0.5625, 0.46875, 0.5625, 0.5625, 0.46875, 0.59375, 0.65625, 0.53125, 0.5, 0.5625, 0.5, 0.5, 0.5, 0.59375, 0.53125, 0.5625, 0.6875, 0.625, 0.625, 0.5, 0.53125, 0.6875, 0.625, 0.4375, 0.46875, 0.5625, 0.53125, 0.5, 0.53125, 0.46875, 0.375, 0.625, 0.375, 0.4375, 0.40625, 0.53125, 0.53125, 0.40625, 0.5, 0.5, 0.375, 0.34375, 0.5625, 0.65625, 0.53125, 0.53125, 0.5, 0.53125, 0.3125, 0.46875, 0.4375, 0.46875, 0.375, 0.59375, 0.46875, 0.71875, 0.5, 0.59375, 0.53125, 0.5, 0.375, 0.5625, 0.46875, 0.5625, 0.46875, 0.53125, 0.5, 0.375, 0.5, 0.53125, 0.5625, 0.34375, 0.5625, 0.5, 0.4375, 0.4375, 0.4375, 0.65625, 0.59375, 0.625, 0.4375, 0.46875, 1.0, 0.5, 0.53125, 0.625, 0.4375, 0.46875, 0.5, 0.4375, 0.46875, 0.53125, 0.5, 0.53125, 0.40625, 0.5625, 0.46875, 0.53125, 0.4375, 0.53125, 0.5625, 0.5, 0.4375, 0.6875, 0.46875, 0.5, 0.65625, 0.5625, 0.65625, 0.53125, 0.53125, 0.53125, 0.34375, 0.59375, 0.75, 0.5625, 0.65625, 0.5, 0.5625, 0.40625, 0.59375, 0.5625, 0.46875, 0.53125, 0.5, 0.4375, 0.5, 0.53125, 0.5625, 0.53125, 0.625, 0.4375, 0.53125, 0.5625, 0.625, 0.375, 0.53125, 0.5625, 0.40625, 0.5625, 0.34375, 0.65625, 0.53125, 0.5625, 0.375, 0.5, 0.5, 0.5, 0.5625, 0.4375, 0.5, 0.53125, 0.46875, 0.40625, 0.5, 0.46875, 0.4375, 0.5, 0.4375, 0.53125, 0.625, 0.5, 0.40625, 0.5, 0.4375, 0.53125, 0.46875, 0.59375, 0.5625, 0.5, 0.375, 0.5, 0.5, 0.53125, 0.46875, 0.5, 0.5, 0.5, 0.5, 0.5, 0.4375, 0.5, 0.5, 0.65625, 0.59375, 0.65625, 0.5625, 0.5, 0.4375, 0.59375, 0.5, 0.625, 0.53125, 0.53125, 0.5, 0.40625, 0.46875, 0.46875, 0.4375, 0.59375, 0.375, 0.4375, 0.5625, 0.53125, 0.5625, 0.34375, 0.5, 0.59375, 0.53125, 0.34375, 0.625, 0.59375, 0.65625, 0.625, 0.875, 0.46875, 0.5, 0.5, 0.5, 0.46875, 0.59375, 0.3125, 0.40625, 0.53125, 0.46875, 0.46875, 0.40625, 0.46875, 0.65625, 0.5, 0.40625, 0.5625, 0.65625, 0.5625, 0.4375, 0.46875, 0.5625, 0.53125, 0.46875, 0.46875, 0.5625, 0.59375, 0.625, 0.375, 0.59375, 0.4375, 0.46875, 0.5, 0.625, 0.375, 0.40625, 0.4375, 0.71875, 0.625, 0.5, 0.59375, 0.6875, 0.71875, 0.25, 0.40625, 0.46875, 0.5, 0.4375, 0.5, 0.5, 0.53125, 0.53125, 0.59375, 0.40625, 0.53125, 0.5, 0.46875, 0.5625, 0.40625, 0.59375, 0.4375, 0.375, 0.375, 0.59375, 0.59375, 0.5, 0.4375, 0.5625, 0.53125, 0.65625, 0.4375, 0.4375, 0.5, 0.5, 0.53125, 0.65625, 0.53125, 0.59375, 0.5, 0.59375, 0.46875, 0.53125, 0.4375, 0.4375, 0.34375, 0.46875, 0.5, 0.5, 0.46875, 0.4375, 0.4375, 0.40625, 0.65625, 0.5, 0.59375, 0.46875, 0.625, 0.53125, 0.40625, 0.5, 0.5, 0.5, 0.53125, 0.5, 0.65625, 0.5625, 0.53125, 0.59375, 0.5, 0.625, 0.46875, 0.40625, 0.59375, 0.53125, 0.65625, 0.5625, 0.65625, 0.40625, 0.4375, 0.53125, 0.5, 0.5, 0.375, 0.5625, 0.46875, 0.46875, 0.4375, 0.46875, 0.5, 0.46875, 0.5625, 0.75, 0.625, 0.53125, 0.5, 0.53125, 0.59375, 0.4375, 0.59375, 0.5, 0.625, 0.59375, 0.5625, 0.625, 0.59375, 0.65625, 0.40625, 0.40625, 0.5, 0.625, 0.53125, 0.4375, 0.5625, 0.46875, 0.375, 0.46875, 0.4375, 0.65625, 0.4375, 0.59375, 0.4375, 0.6875, 0.4375, 0.59375, 0.53125, 0.46875, 0.59375, 0.6875, 0.53125, 0.53125, 0.4375, 0.65625, 0.625, 0.53125, 0.40625, 0.625, 0.71875, 0.4375, 0.46875, 0.625, 0.53125, 0.40625, 0.53125, 0.53125, 0.46875, 0.5, 0.59375, 0.6875, 0.75, 0.65625, 0.46875, 0.34375, 0.46875, 0.5625, 0.375, 0.6875, 0.5, 0.6875, 0.5625, 0.59375, 0.5, 0.40625, 0.59375, 0.5, 0.46875, 0.53125, 0.3125, 0.4375, 0.40625, 0.40625, 0.5, 0.46875, 0.46875, 0.5, 0.5, 0.53125, 0.4375, 0.6875, 0.46875, 0.25, 0.40625, 0.53125, 0.375, 0.40625, 0.625, 0.53125, 0.375, 0.40625, 0.46875, 0.5, 0.53125, 0.46875, 0.625, 0.59375, 0.5, 0.40625, 0.625, 0.375, 0.53125, 0.6875, 0.5, 0.53125, 0.53125, 0.4375, 0.375, 0.5625, 0.5, 0.46875, 0.65625, 0.5625, 0.375, 0.59375, 0.40625, 0.4375, 0.59375, 0.40625, 0.5, 0.46875, 0.59375, 0.59375, 0.5625, 0.4375, 0.46875, 0.625, 0.4375, 0.46875, 0.53125, 0.53125, 0.46875, 0.65625, 0.625, 0.46875, 0.40625, 0.375, 0.4375, 0.59375, 0.53125, 0.46875, 0.5625, 0.5625, 0.46875, 0.53125, 0.46875, 0.40625, 0.59375, 0.4375, 0.53125, 0.40625, 0.53125, 0.5, 0.21875, 0.59375, 0.375, 0.5, 0.53125, 0.46875, 0.40625, 0.375, 0.46875, 0.59375, 0.5, 0.5, 0.375, 0.46875, 0.46875, 0.40625, 0.5, 0.125, 0.5625, 0.6875, 0.53125, 0.4375, 0.5, 0.65625, 0.5, 0.59375, 0.5, 0.40625, 0.40625, 0.46875, 0.59375, 0.59375, 0.59375, 0.5, 0.46875, 0.40625, 0.59375, 0.46875, 0.53125, 0.4375, 0.5, 0.5625, 0.46875, 0.46875, 0.5, 0.5, 0.46875, 0.46875, 0.34375, 0.625, 0.5625, 0.6875, 0.46875, 0.5, 0.40625, 0.5, 0.59375, 0.65625, 0.6875, 0.53125, 0.34375, 0.5, 0.40625, 0.53125, 0.4375, 0.53125, 0.34375, 0.5625, 0.40625, 0.53125, 0.65625, 0.5, 0.53125, 0.40625, 0.5625, 0.34375, 0.5, 0.375, 0.4375, 0.53125, 0.625, 0.5, 0.5625, 0.625, 0.4375, 0.40625, 0.78125, 0.40625, 0.3125, 0.53125, 0.65625, 0.53125, 0.4375, 0.40625, 0.40625, 0.53125, 0.375, 0.46875, 0.625, 0.53125, 0.46875, 0.59375, 0.625, 0.5625, 0.59375, 0.375]\n",
            "test loss [tensor(0.0259, device='cuda:0', dtype=torch.float64), tensor(0.0259, device='cuda:0', dtype=torch.float64), tensor(0.0259, device='cuda:0', dtype=torch.float64), tensor(0.0258, device='cuda:0', dtype=torch.float64), tensor(0.0259, device='cuda:0', dtype=torch.float64), tensor(0.0258, device='cuda:0', dtype=torch.float64), tensor(0.0259, device='cuda:0', dtype=torch.float64), tensor(0.0259, device='cuda:0', dtype=torch.float64), tensor(0.0258, device='cuda:0', dtype=torch.float64), tensor(0.0258, device='cuda:0', dtype=torch.float64), tensor(0.0259, device='cuda:0', dtype=torch.float64), tensor(0.0259, device='cuda:0', dtype=torch.float64), tensor(0.0259, device='cuda:0', dtype=torch.float64), tensor(0.0258, device='cuda:0', dtype=torch.float64), tensor(0.0259, device='cuda:0', dtype=torch.float64), tensor(0.0259, device='cuda:0', dtype=torch.float64), tensor(0.0260, device='cuda:0', dtype=torch.float64), tensor(0.0259, device='cuda:0', dtype=torch.float64), tensor(0.0259, device='cuda:0', dtype=torch.float64), tensor(0.0259, device='cuda:0', dtype=torch.float64)]\n",
            "test accuracy [0.5072463768115942, 0.5101449275362319, 0.5072463768115942, 0.5159420289855072, 0.5130434782608696, 0.518840579710145, 0.5072463768115942, 0.5101449275362319, 0.5101449275362319, 0.5159420289855072, 0.5130434782608696, 0.5101449275362319, 0.5101449275362319, 0.5130434782608696, 0.5101449275362319, 0.5101449275362319, 0.5043478260869565, 0.5072463768115942, 0.5072463768115942, 0.5101449275362319]\n"
          ]
        }
      ],
      "source": [
        "print(\"learning rate\", lr_history)\n",
        "print(\"train loss\", train_loss_history)\n",
        "print(\"train accuracy\", train_acc_history)\n",
        "print(\"test loss\", val_loss_history)\n",
        "print(\"test accuracy\", val_acc_history)"
      ]
    },
    {
      "cell_type": "markdown",
      "metadata": {
        "id": "vdRO8xm8Azrm"
      },
      "source": [
        "! learning rate is weird !"
      ]
    },
    {
      "cell_type": "code",
      "execution_count": 68,
      "metadata": {
        "colab": {
          "base_uri": "https://localhost:8080/",
          "height": 335
        },
        "id": "-QYlELShAzrm",
        "outputId": "fe29435c-a035-4fde-fa1b-6bae1d767fba"
      },
      "outputs": [
        {
          "data": {
            "image/png": "[encoded data removed]",
            "text/plain": [
              "<Figure size 1500x500 with 3 Axes>"
            ]
          },
          "metadata": {},
          "output_type": "display_data"
        }
      ],
      "source": [
        "n_train = len(train_acc_history)\n",
        "t_train = num_epochs * np.arange(n_train) / n_train\n",
        "t_test = np.arange(1, num_epochs + 1)\n",
        "\n",
        "\n",
        "fig, axs = plt.subplots(1, 3, figsize=(15, 5))\n",
        "\n",
        "# Plotting learning rate history\n",
        "axs[0].plot(t_train, lr_history)\n",
        "axs[0].set_title('Learning Rate History')\n",
        "axs[0].set_xlabel('Epoch')\n",
        "axs[0].set_ylabel('Learning Rate')\n",
        "\n",
        "# Plotting training loss history\n",
        "axs[1].plot(t_train, train_loss_history, color='b', label=\"Train\")\n",
        "#axs[1].plot(t_test, val_loss_history, label=\"Test\", color='orange')\n",
        "axs[1].legend()\n",
        "axs[1].set_title('Training Loss History')\n",
        "axs[1].set_xlabel('Epoch')\n",
        "axs[1].set_ylabel('Loss')\n",
        "\n",
        "# Plotting training accuracy history\n",
        "axs[2].plot(t_train, train_acc_history, color='b', label=\"Train\")\n",
        "axs[2].plot(t_test, val_acc_history, label=\"Test\", color='orange')\n",
        "axs[2].legend()\n",
        "axs[2].set_title('Training Accuracy History')\n",
        "axs[2].set_xlabel('Epoch')\n",
        "axs[2].set_ylabel('Accuracy')\n",
        "\n",
        "plt.tight_layout()\n",
        "plt.show()\n",
        "\n",
        "plt.show()"
      ]
    },
    {
      "cell_type": "markdown",
      "metadata": {
        "id": "vMVVrJ3kAzrm"
      },
      "source": [
        "# 5. Introduce a parameter selection function\n",
        "\n",
        "We want as output of the model:\n",
        "- f1 score as fctn of criterion + optimizer + scheduler\n",
        "- f1 score as fctn of the epoch?\n",
        "\n",
        "- test different models in this function as well??\n",
        "\n",
        "and then later, we will compute the learning rate, accuracy and loss for the optimal parameters to make the graphs\n",
        "\n",
        "=> needs improvements, not sure all hyperparameters can be well combined"
      ]
    },
    {
      "cell_type": "code",
      "execution_count": null,
      "metadata": {
        "id": "VZwMtiVTAzrm"
      },
      "outputs": [],
      "source": [
        "def param_selection(model, device, criterions, optimizers, schedulers, num_epochs, test_loader):\n",
        "    a = len(criterions)\n",
        "    b = len(optimizers)\n",
        "    c = len(schedulers)\n",
        "    n_combi = a*b*c\n",
        "\n",
        "    all_f1, crilog, optilog, schedlog = [], [], [], []\n",
        "\n",
        "    for i, criterion in enumerate(criterions):\n",
        "        for j, optimizer in enumerate(optimizers):\n",
        "            for k, scheduler in enumerate(schedulers):\n",
        "\n",
        "                print(\"===============================================\")\n",
        "                print(f\"Round {i*j*k+1} of {n_combi} \\n * criterion: {criterion} \\n * optmizer: {optimizer} \\n * scheduler: {scheduler}\")\n",
        "                print(\"===============================================\")\n",
        "\n",
        "                # Keep a record of the hyperparameters we are using\n",
        "                crilog.append(criterion)\n",
        "                optilog.append(optimizer)\n",
        "                schedlog.append(scheduler)\n",
        "\n",
        "                device = torch.device(\"cuda\" if torch.cuda.is_available() else \"cpu\")\n",
        "                model.to(device)\n",
        "\n",
        "                # Training\n",
        "                for epoch in range(1, num_epochs + 1):\n",
        "                    train_loss, train_acc, lrs = train_epoch(model, optimizer, scheduler, criterion, train_loader, epoch, device)\n",
        "\n",
        "                # Compute f1 score for this combination of hyperparameters and store it\n",
        "                f1_score = compute_f1(model, device, test_loader)\n",
        "                all_f1.append(f1_score)\n",
        "\n",
        "                best = max(all_f1)\n",
        "                best_idx = all_f1.index(best)\n",
        "\n",
        "                optimal_param = [crilog[best_idx], optilog[best_idx], schedlog[best_idx]]\n",
        "\n",
        "\n",
        "    return criterions, optimizers, schedulers, all_f1, optimal_param"
      ]
    },
    {
      "cell_type": "markdown",
      "metadata": {
        "id": "br9OlaoBAzrn"
      },
      "source": [
        "Define the hyperparameters to test"
      ]
    },
    {
      "cell_type": "code",
      "execution_count": null,
      "metadata": {
        "id": "vbHOKTCsAzrn"
      },
      "outputs": [],
      "source": [
        "num_epochs = 1\n",
        "criterions = [torch.nn.CrossEntropyLoss()]\n",
        "optimizers = [torch.optim.AdamW(model.parameters())]\n",
        "schedulers = [torch.optim.lr_scheduler.CosineAnnealingLR(torch.optim.AdamW(model.parameters()),T_max=(len(train_loader.dataset) * num_epochs) // train_loader.batch_size,)]\n",
        "\n",
        "device = torch.device(\"cuda\" if torch.cuda.is_available() else \"cpu\")"
      ]
    },
    {
      "cell_type": "markdown",
      "metadata": {
        "id": "t-yNw_iVAzrn"
      },
      "source": [
        "Run the function"
      ]
    },
    {
      "cell_type": "code",
      "execution_count": null,
      "metadata": {
        "id": "wN1p3fIbAzrn",
        "outputId": "aa3e753d-6ef3-4d65-b0a4-f2e0d9b67175"
      },
      "outputs": [
        {
          "name": "stdout",
          "output_type": "stream",
          "text": [
            "===============================================\n",
            "Cross-validation round 1 of 1 \n",
            " * criterion: CrossEntropyLoss() \n",
            " * optmizer: AdamW (\n",
            "Parameter Group 0\n",
            "    amsgrad: False\n",
            "    betas: (0.9, 0.999)\n",
            "    capturable: False\n",
            "    differentiable: False\n",
            "    eps: 1e-08\n",
            "    foreach: None\n",
            "    fused: None\n",
            "    lr: 0.001\n",
            "    maximize: False\n",
            "    weight_decay: 0.01\n",
            ") \n",
            " * scheduler: <torch.optim.lr_scheduler.CosineAnnealingLR object at 0x17659ca60>\n",
            "===============================================\n"
          ]
        },
        {
          "name": "stderr",
          "output_type": "stream",
          "text": [
            "/Library/Frameworks/Python.framework/Versions/3.10/lib/python3.10/site-packages/torch/optim/lr_scheduler.py:136: UserWarning: Detected call of `lr_scheduler.step()` before `optimizer.step()`. In PyTorch 1.1.0 and later, you should call them in the opposite order: `optimizer.step()` before `lr_scheduler.step()`.  Failure to do this will result in PyTorch skipping the first value of the learning rate schedule. See more details at https://pytorch.org/docs/stable/optim.html#how-to-adjust-learning-rate\n",
            "  warnings.warn(\"Detected call of `lr_scheduler.step()` before `optimizer.step()`. \"\n"
          ]
        },
        {
          "name": "stdout",
          "output_type": "stream",
          "text": [
            "Train Epoch: 1-042 batch_loss=3.75e+01 batch_acc=0.478 lr=1.398e-06 \n"
          ]
        },
        {
          "name": "stderr",
          "output_type": "stream",
          "text": [
            "/var/folders/7l/ltdxzx1s3dj_sz2kw6_5g8k00000gn/T/ipykernel_9264/2011082625.py:9: UserWarning: To copy construct from a tensor, it is recommended to use sourceTensor.clone().detach() or sourceTensor.clone().detach().requires_grad_(True), rather than torch.tensor(sourceTensor).\n",
            "  predictions = torch.tensor((output >= 0.5).float())\n"
          ]
        },
        {
          "name": "stdout",
          "output_type": "stream",
          "text": [
            "F1 score:  [0.5443181883205067]\n"
          ]
        }
      ],
      "source": [
        "criterions, optimizers, schedulers, all_f1, optimal_param = param_selection(model, device, criterions, optimizers, schedulers, num_epochs, test_loader)\n",
        "print(\"F1 score: \", all_f1)"
      ]
    },
    {
      "cell_type": "markdown",
      "metadata": {
        "id": "IZ0NzQH4Azro"
      },
      "source": [
        "# 7. Analyze the output of parameter selection"
      ]
    }
  ],
  "metadata": {
    "accelerator": "GPU",
    "colab": {
      "gpuType": "T4",
      "provenance": []
    },
    "kernelspec": {
      "display_name": "Python 3",
      "name": "python3"
    },
    "language_info": {
      "codemirror_mode": {
        "name": "ipython",
        "version": 3
      },
      "file_extension": ".py",
      "mimetype": "text/x-python",
      "name": "python",
      "nbconvert_exporter": "python",
      "pygments_lexer": "ipython3",
      "version": "3.10.4"
    },
    "orig_nbformat": 4
  },
  "nbformat": 4,
  "nbformat_minor": 0
}
