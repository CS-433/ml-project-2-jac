{
 "cells": [
  {
   "cell_type": "markdown",
   "metadata": {},
   "source": [
    "<div style=\"width: 1350px; height: 30px; background-color: green;\"></div>\n"
   ]
  },
  {
   "cell_type": "markdown",
   "metadata": {},
   "source": [
    "# TO DO\n",
    "\n",
    "##### **Cross Validation**\n",
    "- Currently, we are using cross-entropy for the criterion, but according to ChatGPT, it has nothing to do with cross-validation, and I think that makes sense.\n",
    "- We want to use cross-validation to somehow max the F1 score\n",
    "  - We are minimizing loss, but somehow we want to maximize F1 score during cross validation (see feedback Project 1)\n",
    "  - Currently the `train_acc_history` doesn't work well. At each epoch it returns the acc for ALL minibatches. Therefore, at the end of the 5 epochs instead of containing 5 values, it contains 20 (5 epochs x 4 minibatches). I think that with cross-validation we have to take the average of them ?? \n",
    "\n",
    "##### **Other**\n",
    "- Parameter tuning: get cool hyperparameters (criterion, number of epochs, optimizer, scheduler)\n",
    "- Data Augmentation: transformations (rotations, translations, cutouts, zoom in, zoom out...)\n",
    "- Multimodal data: currently we only train the image itself. Maybe it's useful to train other parameters such as the date or the location, as Sophie said that if a jet occurs in a location, it is more likely that another jet occurs in that same location.\n",
    "- Batch size set to 32. Change it?\n",
    "\n",
    "##### **Model Testing**\n",
    "- We have to divide data into training, validation, and test. BUT, as we are using cross validation we don't need the validation set I think???\n",
    "- Need to evaluate and test model\n",
    "\n",
    "##### **Network Model**\n",
    "- I didn't include the first two layers from the paper (input layer and BRN). Should we? CAREFUL AS THIS MAY REBOOT THE LAPTOP\n",
    "- Batch **re**normalization ?\n",
    "- Part of me thinks that this model is better when we have small images but with a lot of samples, because using 127 datapoints (which is low but not that low), it only takes 2 min to run even when running on CPU, which seems like so little time."
   ]
  },
  {
   "cell_type": "markdown",
   "metadata": {},
   "source": [
    "<div style=\"width: 1350px; height: 30px; background-color: green;\"></div>\n"
   ]
  },
  {
   "cell_type": "markdown",
   "metadata": {},
   "source": [
    "# 0. Load Modules"
   ]
  },
  {
   "cell_type": "code",
   "execution_count": 1,
   "metadata": {},
   "outputs": [],
   "source": [
    "# Main libraries used all the time\n",
    "import numpy as np\n",
    "import matplotlib.pyplot as plt\n",
    "import pandas as pd\n",
    "\n",
    "# Operating system libraries\n",
    "import os\n",
    "import sys\n",
    "\n",
    "# Machine learning libraries\n",
    "import torch\n",
    "from torchvision import transforms, datasets\n",
    "from torchvision.datasets import ImageFolder\n",
    "from torch.utils.data import Dataset, DataLoader, random_split\n",
    "\n",
    "from torchvision.transforms import v2 # library to define the transforms\n",
    "\n",
    "from torcheval.metrics.functional import multiclass_f1_score "
   ]
  },
  {
   "cell_type": "code",
   "execution_count": 2,
   "metadata": {},
   "outputs": [],
   "source": [
    "# For Google Colab, mount Google Drive, for local environments, get local path (github)\n",
    "\n",
    "# Change with the appropriate path. Log in into Drive and create the folders with the data\n",
    "\n",
    "if 'google.colab' in sys.modules:\n",
    "    from google.colab import drive\n",
    "    drive.mount('/content/drive')\n",
    "    folder0_path = '/content/drive/My Drive/solar_jets/data0'\n",
    "    folder1_path = '/content/drive/My Drive/solar_jets/data1'\n",
    "    folder0_test_path = '/content/drive/My Drive/solar_jets/data0_test'\n",
    "    folder1_test_path = '/content/drive/My Drive/solar_jets/data1_test'\n",
    "else:\n",
    "    # For local environments like VS Code\n",
    "    folder0_path = './data0'\n",
    "    folder1_path = './data1'\n",
    "    folder0_test_path = './data0_test'\n",
    "    folder1_test_path = './data1_test'"
   ]
  },
  {
   "cell_type": "markdown",
   "metadata": {},
   "source": [
    "# 1. Very naive Model"
   ]
  },
  {
   "cell_type": "markdown",
   "metadata": {},
   "source": [
    "## 1.1. Prepare the dataset"
   ]
  },
  {
   "cell_type": "markdown",
   "metadata": {},
   "source": [
    "#### Create the class"
   ]
  },
  {
   "cell_type": "code",
   "execution_count": 3,
   "metadata": {},
   "outputs": [],
   "source": [
    "class NPZDataset(Dataset):\n",
    "    def __init__(self, data_dir, transform=None):\n",
    "        self.data_dir = data_dir\n",
    "\n",
    "        # in self.files, only add f if it has 30 samples\n",
    "        self.files = [f for f in os.listdir(data_dir) if self._check_file_shape(f)]\n",
    "        self.transform = transform\n",
    "\n",
    "    # Check if the file has 30 samples, if not, don't include it in self.files (see above)\n",
    "    def _check_file_shape(self, file):\n",
    "        file_path = os.path.join(self.data_dir, file)\n",
    "        data = np.load(file_path)['arr_0']\n",
    "        return data.shape == (166, 166, 30)\n",
    "\n",
    "    def __len__(self):\n",
    "        return len(self.files)\n",
    "\n",
    "    def __getitem__(self, idx):\n",
    "        file_path = os.path.join(self.data_dir, self.files[idx])\n",
    "        data = np.load(file_path)['arr_0']\n",
    "\n",
    "        # Rearrange dimensions to (30, 166, 166) for PyTorch (insted of (166, 166, 30))\n",
    "        data = np.moveaxis(data, -1, 0)\n",
    "\n",
    "        # assign label 1 if data is from data1, 0 if from data0\n",
    "        label = 1.0 if 'data1' in self.data_dir else 0.0\n",
    "        return torch.from_numpy(data).float(), label"
   ]
  },
  {
   "cell_type": "markdown",
   "metadata": {},
   "source": [
    "### Define the transforms that we want to apply"
   ]
  },
  {
   "cell_type": "code",
   "execution_count": 4,
   "metadata": {},
   "outputs": [],
   "source": [
    "mean = 51.6644\n",
    "std = 62.7087\n",
    "\n",
    "train_transform = v2.Compose([\n",
    "    v2.ToImage(), \n",
    "    v2.ToDtype(torch.float32, scale=True), #equivalent to transforms.ToTensor()\n",
    "    v2.Normalize((mean,), (std,)),\n",
    "    v2.RandomResizedCrop(size=(55, 55)),\n",
    "    v2.RandomAffine(degrees=(-90,90), translate=(0.3, 0.3), scale=(0.8, 1.2))\n",
    "    # add other transforms if needed\n",
    "])\n",
    "\n",
    "test_transform = v2.Compose([\n",
    "    v2.ToImage(), \n",
    "    v2.ToDtype(torch.float32, scale=True), #equivalent to transforms.ToTensor()\n",
    "    v2.Normalize((mean,), (std,)),\n",
    "])"
   ]
  },
  {
   "cell_type": "markdown",
   "metadata": {},
   "source": [
    "#### Run to get the Data\n",
    "\n",
    "The data was randomly separated into training and test, and put into separated folders. We are using 80% for training and 20% for testing. Notice that we don't use the same transforms on the train and test dataset."
   ]
  },
  {
   "cell_type": "code",
   "execution_count": 6,
   "metadata": {},
   "outputs": [],
   "source": [
    "train_data1 = NPZDataset(folder1_path, transform=train_transform)\n",
    "train_data0 = NPZDataset(folder0_path, transform=train_transform)\n",
    "train_data = torch.utils.data.ConcatDataset([train_data1, train_data0])\n",
    "\n",
    "test_data1 = NPZDataset(folder1_test_path, transform=test_transform)\n",
    "test_data0 = NPZDataset(folder0_test_path, transform=test_transform)\n",
    "test_data = torch.utils.data.ConcatDataset([test_data1, test_data0])\n",
    "\n"
   ]
  },
  {
   "cell_type": "markdown",
   "metadata": {},
   "source": [
    "Calculate mean and std for v2.Normalize() (doesn't need to run anymore as the values have been entered above)"
   ]
  },
  {
   "cell_type": "code",
   "execution_count": 64,
   "metadata": {},
   "outputs": [
    {
     "name": "stdout",
     "output_type": "stream",
     "text": [
      "Mean: tensor([52.4797])\n",
      "Std: tensor([63.5925])\n"
     ]
    }
   ],
   "source": [
    "\n",
    "# Calculate mean and std\n",
    "mean = torch.zeros(1)  # Assuming your images are RGB, change 3 to 1 for grayscale images\n",
    "std = torch.zeros(1)\n",
    "\n",
    "for i in range(len(train_data)):\n",
    "    sequence, _ = train_data[i]\n",
    "\n",
    "    # Make sure the image is a PyTorch tensor\n",
    "    if not isinstance(sequence, torch.Tensor):\n",
    "        sequence = transforms.ToTensor()(sequence)\n",
    "\n",
    "    # Accumulate mean and std\n",
    "    mean += torch.mean(sequence)\n",
    "    std += torch.std(sequence)\n",
    "\n",
    "# Calculate mean and std across the dataset\n",
    "mean /= len(train_data)\n",
    "std /= len(train_data)\n",
    "\n",
    "print(\"Mean:\", mean)\n",
    "print(\"Std:\", std)"
   ]
  },
  {
   "cell_type": "markdown",
   "metadata": {},
   "source": [
    "Below we'll see how train_data can be treated just like lists\n",
    "\n",
    "- One element in the list for each sequence of images\n",
    "- Each element of the list has a tuple of two elements, the first the array (166,30,30) and the second the label"
   ]
  },
  {
   "cell_type": "code",
   "execution_count": 41,
   "metadata": {},
   "outputs": [
    {
     "name": "stdout",
     "output_type": "stream",
     "text": [
      "Training samples y=1:  693\n",
      "Training samples y=0:  674\n",
      "Total training samples:  1367\n",
      "Total testing samples:  345\n"
     ]
    }
   ],
   "source": [
    "print(\"Training samples y=1: \",len(train_data1))\n",
    "print(\"Training samples y=0: \",len(train_data0))\n",
    "\n",
    "print(\"Total training samples: \",len(train_data))\n",
    "print(\"Total testing samples: \", len(test_data))\n"
   ]
  },
  {
   "cell_type": "code",
   "execution_count": 42,
   "metadata": {},
   "outputs": [
    {
     "name": "stdout",
     "output_type": "stream",
     "text": [
      "Sample 0: Shape torch.Size([30, 166, 166]), Label: 1.0\n",
      "Sample 0: Shape torch.Size([30, 166, 166]), Label: 0.0\n"
     ]
    }
   ],
   "source": [
    "print(f\"Sample {0}: Shape {train_data1[0][0].shape}, Label: {train_data1[0][1]}\")\n",
    "print(f\"Sample {0}: Shape {train_data0[0][0].shape}, Label: {train_data0[0][1]}\")\n"
   ]
  },
  {
   "cell_type": "markdown",
   "metadata": {},
   "source": [
    "#### Get the Minibatch \n",
    "for training and testing"
   ]
  },
  {
   "cell_type": "code",
   "execution_count": 7,
   "metadata": {},
   "outputs": [],
   "source": [
    "train_loader = DataLoader(train_data, batch_size=32, shuffle=True)\n",
    "test_loader = DataLoader(test_data, batch_size=32, shuffle=False)\n"
   ]
  },
  {
   "cell_type": "markdown",
   "metadata": {},
   "source": [
    "See that we have 42 different minibatches, each with 32 samples"
   ]
  },
  {
   "cell_type": "code",
   "execution_count": 43,
   "metadata": {},
   "outputs": [
    {
     "name": "stdout",
     "output_type": "stream",
     "text": [
      "Batch 0: samples 32\n",
      "Batch 1: samples 32\n",
      "Batch 2: samples 32\n",
      "Batch 3: samples 32\n",
      "Batch 4: samples 32\n",
      "Batch 5: samples 32\n",
      "Batch 6: samples 32\n",
      "Batch 7: samples 32\n",
      "Batch 8: samples 32\n",
      "Batch 9: samples 32\n",
      "Batch 10: samples 32\n",
      "Batch 11: samples 32\n",
      "Batch 12: samples 32\n",
      "Batch 13: samples 32\n",
      "Batch 14: samples 32\n",
      "Batch 15: samples 32\n",
      "Batch 16: samples 32\n",
      "Batch 17: samples 32\n",
      "Batch 18: samples 32\n",
      "Batch 19: samples 32\n",
      "Batch 20: samples 32\n",
      "Batch 21: samples 32\n",
      "Batch 22: samples 32\n",
      "Batch 23: samples 32\n",
      "Batch 24: samples 32\n",
      "Batch 25: samples 32\n",
      "Batch 26: samples 32\n",
      "Batch 27: samples 32\n",
      "Batch 28: samples 32\n",
      "Batch 29: samples 32\n",
      "Batch 30: samples 32\n",
      "Batch 31: samples 32\n",
      "Batch 32: samples 32\n",
      "Batch 33: samples 32\n",
      "Batch 34: samples 32\n",
      "Batch 35: samples 32\n",
      "Batch 36: samples 32\n",
      "Batch 37: samples 32\n",
      "Batch 38: samples 32\n",
      "Batch 39: samples 32\n",
      "Batch 40: samples 32\n",
      "Batch 41: samples 32\n",
      "Batch 42: samples 23\n"
     ]
    }
   ],
   "source": [
    "for i, (x, y) in enumerate(train_loader):\n",
    "    print(f\"Batch {i}: samples {x.shape[0]}\")\n"
   ]
  },
  {
   "cell_type": "markdown",
   "metadata": {},
   "source": [
    "# 2. Define the Neural Network"
   ]
  },
  {
   "cell_type": "code",
   "execution_count": 8,
   "metadata": {},
   "outputs": [],
   "source": [
    "class RCNN(torch.nn.Module):\n",
    "    \n",
    "    def __init__(self):\n",
    "        super(RCNN, self).__init__()\n",
    "\n",
    "        # Define the layers\n",
    "\n",
    "        # 1. Input layers\n",
    "        #self.input_layer=torch.nn.Linear(in_features=166*166*30, out_features=166*166*30)      # not sure if this is needed\n",
    "        #self.norm=torch.nn.BatchNorm2d(166*166*30)        #not sure this is sufficent for batch renormalization\n",
    "\n",
    "        # 2. Convolutional layers\n",
    "\n",
    "        # Three conv layers\n",
    "        # according to gpt, in_channels=1 because in the sequence, it is still gray scale, not rgb\n",
    "        self.conv1 = self.create_conv_layer(in_channels=30, out_channels=64)\n",
    "        self.conv2 = self.create_conv_layer(in_channels=64, out_channels=64)\n",
    "        self.conv3 = self.create_conv_layer(in_channels=64, out_channels=64)\n",
    "\n",
    "        # First maxpool\n",
    "        self.pool1 = torch.nn.MaxPool2d(kernel_size=2,stride=2)\n",
    "\n",
    "        # Three conv layers\n",
    "        self.conv4 = self.create_conv_layer(in_channels=64, out_channels=64)\n",
    "        self.conv5 = self.create_conv_layer(in_channels=64, out_channels=64)\n",
    "        self.conv6 = self.create_conv_layer(in_channels=64, out_channels=64)\n",
    "\n",
    "        # Second maxpool\n",
    "        self.pool2 = torch.nn.MaxPool2d(kernel_size=2,stride=2)\n",
    "\n",
    "        # Flatten\n",
    "        self.flatten=torch.nn.Flatten()\n",
    "\n",
    "        # Each time we apply pooling, height and width are divided by 2\n",
    "        self.flat_size = 64 * int(np.floor(166/2/2)) * int(np.floor(166/2/2))\n",
    "\n",
    "        # Fully connected with dropout\n",
    "        self.lin=torch.nn.Linear(self.flat_size, 1024)\n",
    "        self.drop=torch.nn.Dropout(p=0.5)\n",
    "\n",
    "        #LSTM\n",
    "        # we set batch_first=True to have batch_size as first dimension: (30,166,166)\n",
    "        self.lstm = torch.nn.LSTM(input_size=1024, hidden_size=512, num_layers=1, batch_first=True)\n",
    "\n",
    "        #output: for binary classification softmax is not needed\n",
    "        #self.output_layer=torch.nn.Softmax(dim=1)\n",
    "        self.output = torch.nn.Linear(512, 1)\n",
    "\n",
    "    # To make the code more clear, let's use this function to create conv layers\n",
    "    def create_conv_layer(self, in_channels, out_channels):\n",
    "        conv = torch.nn.Conv2d(in_channels=in_channels, out_channels=out_channels, kernel_size=3, stride=1, padding=1)\n",
    "        relu = torch.nn.ReLU()\n",
    "        norm = torch.nn.BatchNorm2d(out_channels)\n",
    "        return torch.nn.Sequential(conv, relu, norm)\n",
    "\n",
    "\n",
    "\n",
    "    def forward(self, x):\n",
    "        \n",
    "        # Define the forward pass\n",
    "\n",
    "        # 1. Input layers\n",
    "        #x=self.input_layer(x)\n",
    "        #x=self.norm(x)\n",
    "\n",
    "        # 2. Convolutional layers\n",
    "        x=self.conv1(x)\n",
    "        x=self.conv2(x)\n",
    "        x=self.conv3(x)\n",
    "\n",
    "        # First maxpool\n",
    "        x=self.pool1(x)\n",
    "\n",
    "        # Three conv layers\n",
    "        x=self.conv4(x)\n",
    "        x=self.conv5(x)\n",
    "        x=self.conv6(x)\n",
    "\n",
    "        # Second maxpool\n",
    "        x=self.pool2(x)\n",
    "\n",
    "        # Flatten\n",
    "        x=self.flatten(x)\n",
    "\n",
    "        # Fully connected with dropout\n",
    "        x=self.lin(x)\n",
    "        x=self.drop(x)\n",
    "\n",
    "        #LSTM\n",
    "        #x = x.view(x.size(0), -1, self.flat_size)\n",
    "        #x = x.view(x.size(0), 30, -1)\n",
    "        lstm_out, _ = self.lstm(x)\n",
    "        #lstm_out = lstm_out[:, -1, :]\n",
    "\n",
    "        #output\n",
    "        out=self.output(lstm_out)\n",
    "        \n",
    "        return out.view(-1)"
   ]
  },
  {
   "cell_type": "markdown",
   "metadata": {},
   "source": [
    "#### Define the model"
   ]
  },
  {
   "cell_type": "code",
   "execution_count": 9,
   "metadata": {},
   "outputs": [],
   "source": [
    "model = RCNN()"
   ]
  },
  {
   "cell_type": "markdown",
   "metadata": {},
   "source": [
    "# 3. Training Parameters\n",
    "\n",
    "There is a lot that can be done here to get very cool hyperparameters"
   ]
  },
  {
   "cell_type": "code",
   "execution_count": 47,
   "metadata": {},
   "outputs": [],
   "source": [
    "criterion = torch.nn.CrossEntropyLoss()\n",
    "\n",
    "num_epochs = 5\n",
    "\n",
    "optimizer = torch.optim.AdamW(model.parameters())\n",
    "\n",
    "scheduler = torch.optim.lr_scheduler.CosineAnnealingLR(\n",
    "    optimizer,\n",
    "    T_max=(len(train_loader.dataset) * num_epochs) // train_loader.batch_size,\n",
    ")"
   ]
  },
  {
   "cell_type": "markdown",
   "metadata": {},
   "source": [
    "# 4. Train Epoch Script"
   ]
  },
  {
   "cell_type": "code",
   "execution_count": 44,
   "metadata": {},
   "outputs": [],
   "source": [
    "def train_epoch(model, optimizer, scheduler, criterion, train_loader, epoch, device):\n",
    "    model.train()\n",
    "    loss_history = []\n",
    "    accuracy_history = []\n",
    "    lr_history = []\n",
    "    for batch_idx, (data, target) in enumerate(train_loader):\n",
    "        data, target = data.to(device), target.to(device)\n",
    "        optimizer.zero_grad()\n",
    "        output = model(data)\n",
    "        loss = criterion(output, target)\n",
    "        loss.backward()\n",
    "        optimizer.step()\n",
    "        scheduler.step()\n",
    "\n",
    "        threshold = 0.5\n",
    "        pred = (output >= threshold).float()\n",
    "        correct = pred.eq(target.view_as(pred)).sum().item()\n",
    "        loss_float = loss.item()\n",
    "        accuracy_float = correct / len(data)\n",
    "\n",
    "        loss_history.append(loss_float)\n",
    "        accuracy_history.append(accuracy_float)\n",
    "        lr_history.append(scheduler.get_last_lr()[0])\n",
    "        \n",
    "        # this is the if statement of the lab, but it doesn't work for me. it makes no sense to me tbh\n",
    "        #if batch_idx % (len(train_loader.dataset) // len(data) // 10) == 0:\n",
    "        # this doesn't work bad, but it just prints the last batch of the epoch\n",
    "        if batch_idx == len(train_loader) - 1:\n",
    "            print(\n",
    "                f\"* Train Epoch: {epoch}-{batch_idx:03d} \\n\"\n",
    "                f\"batch_loss={loss_float:0.2e} \"\n",
    "                f\"batch_acc={accuracy_float:0.3f} \"\n",
    "                f\"lr={scheduler.get_last_lr()[0]:0.3e} \"\n",
    "            )\n",
    "\n",
    "    return loss_history, accuracy_history, lr_history"
   ]
  },
  {
   "cell_type": "markdown",
   "metadata": {},
   "source": [
    "# 5. Test Script"
   ]
  },
  {
   "cell_type": "code",
   "execution_count": 45,
   "metadata": {},
   "outputs": [],
   "source": [
    "def test_model(model, test_loader, criterion, device):\n",
    "    model.eval()\n",
    "    test_loss = 0\n",
    "    correct = 0\n",
    "    with torch.no_grad():\n",
    "        for data, target in test_loader:\n",
    "            data, target = data.to(device), target.to(device)\n",
    "            output = model(data)\n",
    "            test_loss += criterion(output, target).item()  # sum up batch loss\n",
    "            pred = (output >= 0.5).float()  # threshold for binary classification\n",
    "            correct += pred.eq(target.view_as(pred)).sum().item()\n",
    "\n",
    "    test_loss /= len(test_loader.dataset)\n",
    "    test_accuracy = correct / len(test_loader.dataset)\n",
    "    print(f'* Test set: \\n Average loss: {test_loss:.4f}, Accuracy: {correct}/{len(test_loader.dataset)} ({100. * test_accuracy:.2f}%)\\n')\n",
    "    return test_loss, test_accuracy\n"
   ]
  },
  {
   "cell_type": "markdown",
   "metadata": {},
   "source": [
    "### Compute the F1 score for the whole data"
   ]
  },
  {
   "cell_type": "code",
   "execution_count": 46,
   "metadata": {},
   "outputs": [],
   "source": [
    "@torch.no_grad()\n",
    "def compute_f1(model, device, test_loader):\n",
    "    model.eval()\n",
    "    batch_f1 = np.zeros(len(test_loader))\n",
    "\n",
    "    for batch_idx, (data, target) in enumerate(test_loader):    # iterate over each minibatch\n",
    "        data, target = data.to(device), target.to(device)\n",
    "        output = model(data)\n",
    "        predictions = torch.tensor((output >= 0.5).float()) \n",
    "\n",
    "        batch_f1[batch_idx] = multiclass_f1_score(predictions, target, num_classes=2)   # compute the F1 score for 1 minibatch\n",
    "\n",
    "    f1_score = np.sum(batch_f1) / len(test_loader)  # Output is the average of the f1 score over all minibatches\n",
    "\n",
    "    return f1_score"
   ]
  },
  {
   "cell_type": "markdown",
   "metadata": {},
   "source": [
    "# 6. Train the Network 😀😀😀😀😀\n"
   ]
  },
  {
   "cell_type": "code",
   "execution_count": 48,
   "metadata": {},
   "outputs": [
    {
     "name": "stdout",
     "output_type": "stream",
     "text": [
      "* Train Epoch: 1-042 \n",
      "batch_loss=4.66e+01 batch_acc=0.391 lr=9.028e-04 \n",
      "* Test set: \n",
      " Average loss: 1.7743, Accuracy: 189/345 (54.78%)\n",
      "\n",
      "* Train Epoch: 2-042 \n",
      "batch_loss=4.09e+01 batch_acc=0.478 lr=6.489e-04 \n",
      "* Test set: \n",
      " Average loss: 1.7593, Accuracy: 173/345 (50.14%)\n",
      "\n",
      "* Train Epoch: 3-042 \n",
      "batch_loss=3.32e+01 batch_acc=0.609 lr=3.371e-04 \n",
      "* Test set: \n",
      " Average loss: 1.7735, Accuracy: 192/345 (55.65%)\n",
      "\n",
      "* Train Epoch: 4-042 \n",
      "batch_loss=3.29e+01 batch_acc=0.652 lr=8.867e-05 \n",
      "* Test set: \n",
      " Average loss: 1.7652, Accuracy: 206/345 (59.71%)\n",
      "\n",
      "* Train Epoch: 5-042 \n",
      "batch_loss=4.01e+01 batch_acc=0.609 lr=2.175e-07 \n",
      "* Test set: \n",
      " Average loss: 1.7613, Accuracy: 195/345 (56.52%)\n",
      "\n"
     ]
    },
    {
     "name": "stderr",
     "output_type": "stream",
     "text": [
      "/var/folders/7l/ltdxzx1s3dj_sz2kw6_5g8k00000gn/T/ipykernel_9264/2011082625.py:9: UserWarning: To copy construct from a tensor, it is recommended to use sourceTensor.clone().detach() or sourceTensor.clone().detach().requires_grad_(True), rather than torch.tensor(sourceTensor).\n",
      "  predictions = torch.tensor((output >= 0.5).float())\n"
     ]
    },
    {
     "name": "stdout",
     "output_type": "stream",
     "text": [
      "Final F1 score:  0.5698863701386885\n"
     ]
    }
   ],
   "source": [
    "# Training History\n",
    "lr_history = []\n",
    "train_loss_history = []\n",
    "train_acc_history = []\n",
    "\n",
    "# Validation History\n",
    "val_loss_history = []\n",
    "val_acc_history = []\n",
    "\n",
    "device = torch.device(\"cuda\" if torch.cuda.is_available() else \"cpu\")\n",
    "model.to(device)\n",
    "\n",
    "for epoch in range(1, num_epochs + 1):\n",
    "    train_loss, train_acc, lrs = train_epoch(model, optimizer, scheduler, criterion, train_loader, epoch, device)\n",
    "    train_loss_history.extend(train_loss)\n",
    "    train_acc_history.extend(train_acc)\n",
    "    lr_history.extend(lrs)\n",
    "\n",
    "    # Test the model after each epoch\n",
    "    test_loss, test_accuracy = test_model(model, test_loader, criterion, device)\n",
    "    val_loss_history.append(test_loss)\n",
    "    val_acc_history.append(test_accuracy)\n",
    "\n",
    "f1_score = compute_f1(model, device, test_loader)\n",
    "\n",
    "print(\"Final F1 score: \", f1_score)\n"
   ]
  },
  {
   "cell_type": "code",
   "execution_count": 49,
   "metadata": {},
   "outputs": [
    {
     "name": "stdout",
     "output_type": "stream",
     "text": [
      "learning rate [0.0009999456158087995, 0.0009997824750657587, 0.0009995106132599872, 0.0009991300895314224, 0.0009986409866579653, 0.0009980434110374726, 0.0009973374926646118, 0.0009965233851025816, 0.0009956012654497074, 0.0009945713343009154, 0.0009934338157040951, 0.0009921889571113628, 0.000990837029325229, 0.0009893783264396903, 0.0009878131657762535, 0.0009861418878149056, 0.0009843648561200476, 0.0009824824572614052, 0.000980495100729936, 0.0009784032188487506, 0.0009762072666790656, 0.0009739077219212119, 0.0009715050848107166, 0.0009689998780094836, 0.0009663926464920956, 0.0009636839574272619, 0.0009608744000544389, 0.0009579645855556478, 0.0009549551469225205, 0.0009518467388186017, 0.0009486400374369336, 0.0009453357403529605, 0.0009419345663727802, 0.0009384372553767768, 0.0009348445681586698, 0.0009311572862600136, 0.0009273762118001832, 0.0009235021673018845, 0.0009195359955122241, 0.0009154785592193816, 0.0009113307410649217, 0.0009070934433517868, 0.0009027675878480127, 0.000898354115586211, 0.0008938539866588589, 0.0008892681800094443, 0.00088459769321951, 0.0008798435422916421, 0.000875006761428453, 0.0008700884028076038, 0.0008650895363529168, 0.0008600112495016283, 0.0008548546469678307, 0.0008496208505021567, 0.0008443109986477569, 0.0008389262464926253, 0.0008334677654183249, 0.0008279367428451696, 0.000822334381973916, 0.0008166619015240232, 0.0008109205354685365, 0.0008051115327656534, 0.0007992361570870283, 0.0007932956865428787, 0.0007872914134039481, 0.0007812246438203899, 0.0007750966975376323, 0.0007689089076092846, 0.000762662620107149, 0.0007563591938284008, 0.0007499999999999997, 0.000743586421980398, 0.0007371198549586088, 0.0007306017056507015, 0.0007240333919937891, 0.0007174163428375745, 0.0007107519976335238, 0.0007040418061217324, 0.0006972872280155526, 0.0006904897326840535, 0.0006836507988323782, 0.0006767719141800715, 0.0006698545751374461, 0.0006629002864800584, 0.0006559105610213647, 0.0006488869192836276, 0.0006418308891671481, 0.0006347440056178904, 0.0006276278102935736, 0.0006204838512283069, 0.0006133136824958332, 0.0006061188638714613, 0.0005989009604927584, 0.000591661542519074, 0.0005844021847899732, 0.0005771244664826509, 0.0005698299707684029, 0.0005625202844682278, 0.0005551969977076346, 0.0005478617035707334, 0.0005405159977536797, 0.0005331614782175517, 0.0005257997448407363, 0.0005184323990708953, 0.0005110610435765931, 0.0005036872818986558, 0.0004963127181013435, 0.0004889389564234063, 0.000481567600929104, 0.0004742002551592631, 0.0004668385217824477, 0.0004594840022463198, 0.00045213829642926594, 0.00044480300229236483, 0.00043747971553177175, 0.00043017002923159654, 0.00042287553351734854, 0.0004155978152100263, 0.00040833845748092554, 0.00040109903950724115, 0.00039388113612853813, 0.00038668631750416637, 0.00037951614877169255, 0.00037237218970642596, 0.0003652559943821094, 0.0003581691108328514, 0.000351113080716372, 0.00034408943897863497, 0.0003370997135199411, 0.0003301454248625535, 0.00032322808581992804, 0.0003163492011676214, 0.00030951026731594616, 0.0003027127719844472, 0.00029595819387826747, 0.00028924800236647586, 0.00028258365716242527, 0.00027596660800621064, 0.0002693982943492982, 0.0002628801450413909, 0.00025641357801960173, 0.0002499999999999998, 0.00024364080617159873, 0.00023733737989285042, 0.0002310910923907148, 0.00022490330246236728, 0.0002187753561796096, 0.00021270858659605147, 0.00020670431345712082, 0.00020076384291297124, 0.00019488846723434634, 0.0001890794645314632, 0.00018333809847597633, 0.00017766561802608346, 0.00017206325715482976, 0.0001665322345816747, 0.00016107375350737446, 0.00015568900135224273, 0.00015037914949784294, 0.00014514535303216888, 0.00013998875049837136, 0.00013491046364708288, 0.00012991159719239593, 0.00012499323857154666, 0.00012015645770835755, 0.00011540230678048965, 0.00011073181999055532, 0.00010614601334114077, 0.00010164588441378864, 9.723241215198686e-05, 9.290655664821291e-05, 8.866925893507794e-05, 8.452144078061814e-05, 8.046400448777569e-05, 7.649783269811517e-05, 7.262378819981641e-05, 6.884271373998602e-05, 6.515543184132983e-05, 6.156274462322288e-05, 5.8065433627219405e-05, 5.46642596470391e-05, 5.1359962563066153e-05, 4.8153261181398094e-05, 4.504485307747916e-05, 4.2035414444352074e-05, 3.912559994556084e-05, 3.6316042572737717e-05, 3.36073535079042e-05, 3.100012199051625e-05, 2.8494915189283297e-05, 2.6092278078787976e-05, 2.3792733320934323e-05, 2.1596781151249504e-05, 1.950489927006414e-05, 1.7517542738595055e-05, 1.5635143879952557e-05, 1.3858112185094458e-05, 1.2186834223746599e-05, 1.0621673560309785e-05, 9.162970674771167e-06, 7.811042888637202e-06, 6.566184295904769e-06, 5.428665699084783e-06, 4.398734550292711e-06, 3.4766148974185694e-06, 2.662507335388473e-06, 1.9565889625275927e-06, 1.3590133420350303e-06, 8.699104685779828e-07, 4.893867400131975e-07, 2.1752493424148624e-07, 5.4384191200629267e-08, 0.0, 5.438419120062932e-08, 2.1752493424148646e-07]\n",
      "train loss [52.91773700714111, 54.38158988952637, 72.68866157531738, 61.95522999763489, 50.74910807609558, 51.27208662033081, 42.88629388809204, 46.40319228172302, 49.22432994842529, 44.21670413017273, 39.92051291465759, 59.43847465515137, 54.184640645980835, 46.958364963531494, 65.56934070587158, 73.4640531539917, 50.10570740699768, 75.90463399887085, 29.41727924346924, 45.53888249397278, 62.312541484832764, 59.51808309555054, 50.4518768787384, 44.05944633483887, 63.04069662094116, 52.300060749053955, 51.74700617790222, 68.9098539352417, 56.341630935668945, 69.02656698226929, 72.45927667617798, 52.18314599990845, 50.987030029296875, 48.23410439491272, 59.486382484436035, 67.47448873519897, 66.71749806404114, 47.991852045059204, 48.15641951560974, 43.75115418434143, 54.8251736164093, 68.33132028579712, 46.57168436050415, 46.46275973320007, 49.63606381416321, 48.913103342056274, 74.1708014011383, 59.322261095047, 58.86957025527954, 49.91830325126648, 58.67748498916626, 54.39891004562378, 47.05892777442932, 55.092963457107544, 39.99992299079895, 65.20312333106995, 74.32784366607666, 76.19673871994019, 48.22344708442688, 62.81743001937866, 57.94134712219238, 43.56916832923889, 54.290085792541504, 44.70769286155701, 50.698731899261475, 40.754934310913086, 61.719245195388794, 43.82687520980835, 36.91380572319031, 57.56784915924072, 43.02904200553894, 46.48069190979004, 77.16126918792725, 47.4015212059021, 67.85292601585388, 47.38139581680298, 85.07230257987976, 64.8231372833252, 58.87065935134888, 63.40119290351868, 51.172853231430054, 45.08829879760742, 46.84428358078003, 71.57883930206299, 53.08286499977112, 40.92043614387512, 38.61285662651062, 57.72613263130188, 55.203731536865234, 62.385507345199585, 44.53631830215454, 60.21958351135254, 37.89353084564209, 58.13557434082031, 44.323625564575195, 61.28178930282593, 39.68333148956299, 47.91412115097046, 30.224111318588257, 71.73665237426758, 50.84673857688904, 72.70297050476074, 61.09557294845581, 72.10266971588135, 79.80400443077087, 60.84429168701172, 51.05842900276184, 71.6076180934906, 50.45010495185852, 42.927769899368286, 78.84126615524292, 50.53203201293945, 47.61533546447754, 54.85583448410034, 58.409810304641724, 39.471540689468384, 40.82992672920227, 68.67301869392395, 58.07998847961426, 54.16147017478943, 50.31579613685608, 49.74000692367554, 51.068135023117065, 43.23453426361084, 63.2210636138916, 62.274786949157715, 54.664621353149414, 73.87966752052307, 33.2134153842926, 42.97062110900879, 58.26059103012085, 68.50394630432129, 78.68593907356262, 80.3497862815857, 54.00877118110657, 76.34712195396423, 56.737860918045044, 49.956398010253906, 61.563448429107666, 71.43299126625061, 45.66714692115784, 43.483882665634155, 52.84102940559387, 58.03653621673584, 70.09699892997742, 37.744566917419434, 35.866459369659424, 56.050347328186035, 55.13395309448242, 50.05938172340393, 51.29224610328674, 50.35632824897766, 47.795130252838135, 61.73814821243286, 50.305569887161255, 54.08137369155884, 36.91708827018738, 46.296666860580444, 66.9740138053894, 44.206536531448364, 69.53970122337341, 58.29800367355347, 53.98689317703247, 68.95901036262512, 48.19043850898743, 50.292208194732666, 61.178852558135986, 43.154985189437866, 49.773274660110474, 56.04520535469055, 38.05440855026245, 32.93234181404114, 60.95943856239319, 54.78008675575256, 57.79320955276489, 59.04732275009155, 43.13861155509949, 65.40878295898438, 34.792397260665894, 72.58159756660461, 57.870845794677734, 50.990631341934204, 56.66240620613098, 70.34586787223816, 57.35930895805359, 36.140870094299316, 55.20143675804138, 36.962599992752075, 49.200483083724976, 52.7349853515625, 71.61573123931885, 57.40309166908264, 68.63345861434937, 74.90660953521729, 44.13859844207764, 36.65883660316467, 64.42606258392334, 49.617727279663086, 43.22051668167114, 49.68080520629883, 61.42963719367981, 70.6475465297699, 36.629051208496094, 54.93323612213135, 49.14426589012146, 61.296262979507446, 57.394816398620605, 61.01334190368652, 57.13034152984619, 54.49576187133789, 55.11349034309387, 58.30163311958313, 47.02147102355957, 45.27749276161194, 40.107744455337524]\n",
      "train accuracy [0.5625, 0.65625, 0.4375, 0.5, 0.65625, 0.59375, 0.40625, 0.6875, 0.65625, 0.5625, 0.65625, 0.5625, 0.5625, 0.53125, 0.53125, 0.5625, 0.65625, 0.5, 0.71875, 0.65625, 0.53125, 0.53125, 0.59375, 0.59375, 0.59375, 0.65625, 0.65625, 0.53125, 0.59375, 0.46875, 0.40625, 0.5625, 0.5625, 0.53125, 0.40625, 0.375, 0.5625, 0.59375, 0.59375, 0.625, 0.59375, 0.625, 0.391304347826087, 0.5625, 0.625, 0.5625, 0.28125, 0.5, 0.5625, 0.71875, 0.53125, 0.59375, 0.59375, 0.46875, 0.59375, 0.53125, 0.5625, 0.4375, 0.59375, 0.4375, 0.53125, 0.625, 0.59375, 0.5625, 0.5625, 0.625, 0.5, 0.59375, 0.6875, 0.5625, 0.6875, 0.65625, 0.34375, 0.59375, 0.4375, 0.5625, 0.28125, 0.46875, 0.53125, 0.46875, 0.5, 0.65625, 0.5625, 0.375, 0.53125, 0.4782608695652174, 0.625, 0.46875, 0.5625, 0.5, 0.5625, 0.53125, 0.625, 0.53125, 0.625, 0.4375, 0.625, 0.59375, 0.75, 0.34375, 0.53125, 0.40625, 0.5625, 0.40625, 0.25, 0.53125, 0.5625, 0.46875, 0.59375, 0.625, 0.375, 0.59375, 0.5625, 0.5, 0.5625, 0.65625, 0.625, 0.40625, 0.53125, 0.5, 0.59375, 0.5625, 0.59375, 0.59375, 0.5, 0.5, 0.5625, 0.46875, 0.6086956521739131, 0.6875, 0.59375, 0.40625, 0.34375, 0.40625, 0.53125, 0.34375, 0.53125, 0.65625, 0.46875, 0.53125, 0.71875, 0.625, 0.59375, 0.59375, 0.4375, 0.65625, 0.78125, 0.59375, 0.53125, 0.59375, 0.5, 0.625, 0.625, 0.59375, 0.625, 0.5, 0.71875, 0.6875, 0.46875, 0.6875, 0.4375, 0.53125, 0.625, 0.4375, 0.59375, 0.625, 0.5625, 0.6875, 0.625, 0.65625, 0.625, 0.6521739130434783, 0.5625, 0.5625, 0.625, 0.5, 0.65625, 0.4375, 0.71875, 0.4375, 0.5625, 0.625, 0.59375, 0.53125, 0.5, 0.71875, 0.5625, 0.6875, 0.59375, 0.65625, 0.40625, 0.625, 0.4375, 0.34375, 0.59375, 0.65625, 0.46875, 0.625, 0.625, 0.59375, 0.53125, 0.4375, 0.71875, 0.5625, 0.53125, 0.53125, 0.5625, 0.5625, 0.53125, 0.5625, 0.5625, 0.46875, 0.65625, 0.625, 0.6086956521739131]\n",
      "test loss [1.774329019629437, 1.7592501598855723, 1.7735012869904008, 1.76516840354256, 1.761259711307028]\n",
      "test accuracy [0.5478260869565217, 0.5014492753623189, 0.5565217391304348, 0.5971014492753624, 0.5652173913043478]\n"
     ]
    }
   ],
   "source": [
    "print(\"learning rate\", lr_history)\n",
    "print(\"train loss\", train_loss_history)\n",
    "print(\"train accuracy\", train_acc_history)\n",
    "print(\"test loss\", val_loss_history)\n",
    "print(\"test accuracy\", val_acc_history)"
   ]
  },
  {
   "cell_type": "markdown",
   "metadata": {},
   "source": [
    "! learning rate is weird !"
   ]
  },
  {
   "cell_type": "code",
   "execution_count": 50,
   "metadata": {},
   "outputs": [
    {
     "data": {
      "image/png": "[encoded data removed]",
      "text/plain": [
       "<Figure size 1500x500 with 3 Axes>"
      ]
     },
     "metadata": {},
     "output_type": "display_data"
    }
   ],
   "source": [
    "n_train = len(train_acc_history)\n",
    "t_train = num_epochs * np.arange(n_train) / n_train\n",
    "t_test = np.arange(1, num_epochs + 1)\n",
    "\n",
    "fig, axs = plt.subplots(1, 3, figsize=(15, 5))\n",
    "\n",
    "# Plotting learning rate history\n",
    "axs[0].plot(t_train, lr_history)\n",
    "axs[0].set_title('Learning Rate History')\n",
    "axs[0].set_xlabel('Epoch')\n",
    "axs[0].set_ylabel('Learning Rate')\n",
    "\n",
    "# Plotting training loss history\n",
    "axs[1].plot(t_train, train_loss_history, color='b', label=\"Train\")\n",
    "axs[1].plot(t_test, val_loss_history, label=\"Test\", color='orange')\n",
    "axs[1].legend()\n",
    "axs[1].set_title('Training Loss History')\n",
    "axs[1].set_xlabel('Epoch')\n",
    "axs[1].set_ylabel('Loss')\n",
    "\n",
    "# Plotting training accuracy history\n",
    "axs[2].plot(t_train, train_acc_history, color='b', label=\"Train\")\n",
    "axs[2].plot(t_test, val_acc_history, label=\"Test\", color='orange')\n",
    "axs[2].legend()\n",
    "axs[2].set_title('Training Accuracy History')\n",
    "axs[2].set_xlabel('Epoch')\n",
    "axs[2].set_ylabel('Accuracy')\n",
    "\n",
    "plt.tight_layout()\n",
    "plt.show()\n",
    "\n",
    "plt.show()"
   ]
  },
  {
   "cell_type": "markdown",
   "metadata": {},
   "source": [
    "# 5. Introduce a parameter selection function\n",
    "\n",
    "We want as output of the model:\n",
    "- f1 score as fctn of criterion + optimizer + scheduler\n",
    "- f1 score as fctn of the epoch?\n",
    "\n",
    "- test different models in this function as well??\n",
    "\n",
    "and then later, we will compute the learning rate, accuracy and loss for the optimal parameters to make the graphs\n",
    "\n",
    "=> needs improvements, not sure all hyperparameters can be well combined"
   ]
  },
  {
   "cell_type": "code",
   "execution_count": 38,
   "metadata": {},
   "outputs": [],
   "source": [
    "def param_selection(model, device, criterions, optimizers, schedulers, num_epochs, test_loader):\n",
    "    a = len(criterions)\n",
    "    b = len(optimizers)\n",
    "    c = len(schedulers)\n",
    "    n_combi = a*b*c\n",
    "\n",
    "    all_f1, crilog, optilog, schedlog = [], [], [], []\n",
    "\n",
    "    for i, criterion in enumerate(criterions):\n",
    "        for j, optimizer in enumerate(optimizers):\n",
    "            for k, scheduler in enumerate(schedulers):\n",
    "\n",
    "                print(\"===============================================\")\n",
    "                print(f\"Round {i*j*k+1} of {n_combi} \\n * criterion: {criterion} \\n * optmizer: {optimizer} \\n * scheduler: {scheduler}\")\n",
    "                print(\"===============================================\")\n",
    "\n",
    "                # Keep a record of the hyperparameters we are using\n",
    "                crilog.append(criterion)\n",
    "                optilog.append(optimizer)\n",
    "                schedlog.append(scheduler)\n",
    "\n",
    "                device = torch.device(\"cuda\" if torch.cuda.is_available() else \"cpu\")\n",
    "                model.to(device)\n",
    "\n",
    "                # Training \n",
    "                for epoch in range(1, num_epochs + 1):\n",
    "                    train_loss, train_acc, lrs = train_epoch(model, optimizer, scheduler, criterion, train_loader, epoch, device)\n",
    "    \n",
    "                # Compute f1 score for this combination of hyperparameters and store it\n",
    "                f1_score = compute_f1(model, device, test_loader)\n",
    "                all_f1.append(f1_score)\n",
    "\n",
    "                best = max(all_f1)\n",
    "                best_idx = all_f1.index(best)\n",
    "\n",
    "                optimal_param = [crilog[best_idx], optilog[best_idx], schedlog[best_idx]]\n",
    "\n",
    "\n",
    "    return criterions, optimizers, schedulers, all_f1, optimal_param"
   ]
  },
  {
   "cell_type": "markdown",
   "metadata": {},
   "source": [
    "Define the hyperparameters to test "
   ]
  },
  {
   "cell_type": "code",
   "execution_count": 39,
   "metadata": {},
   "outputs": [],
   "source": [
    "num_epochs = 1\n",
    "criterions = [torch.nn.CrossEntropyLoss()]\n",
    "optimizers = [torch.optim.AdamW(model.parameters())]\n",
    "schedulers = [torch.optim.lr_scheduler.CosineAnnealingLR(torch.optim.AdamW(model.parameters()),T_max=(len(train_loader.dataset) * num_epochs) // train_loader.batch_size,)]\n",
    "\n",
    "device = torch.device(\"cuda\" if torch.cuda.is_available() else \"cpu\")"
   ]
  },
  {
   "cell_type": "markdown",
   "metadata": {},
   "source": [
    "Run the function"
   ]
  },
  {
   "cell_type": "code",
   "execution_count": 40,
   "metadata": {},
   "outputs": [
    {
     "name": "stdout",
     "output_type": "stream",
     "text": [
      "===============================================\n",
      "Cross-validation round 1 of 1 \n",
      " * criterion: CrossEntropyLoss() \n",
      " * optmizer: AdamW (\n",
      "Parameter Group 0\n",
      "    amsgrad: False\n",
      "    betas: (0.9, 0.999)\n",
      "    capturable: False\n",
      "    differentiable: False\n",
      "    eps: 1e-08\n",
      "    foreach: None\n",
      "    fused: None\n",
      "    lr: 0.001\n",
      "    maximize: False\n",
      "    weight_decay: 0.01\n",
      ") \n",
      " * scheduler: <torch.optim.lr_scheduler.CosineAnnealingLR object at 0x17659ca60>\n",
      "===============================================\n"
     ]
    },
    {
     "name": "stderr",
     "output_type": "stream",
     "text": [
      "/Library/Frameworks/Python.framework/Versions/3.10/lib/python3.10/site-packages/torch/optim/lr_scheduler.py:136: UserWarning: Detected call of `lr_scheduler.step()` before `optimizer.step()`. In PyTorch 1.1.0 and later, you should call them in the opposite order: `optimizer.step()` before `lr_scheduler.step()`.  Failure to do this will result in PyTorch skipping the first value of the learning rate schedule. See more details at https://pytorch.org/docs/stable/optim.html#how-to-adjust-learning-rate\n",
      "  warnings.warn(\"Detected call of `lr_scheduler.step()` before `optimizer.step()`. \"\n"
     ]
    },
    {
     "name": "stdout",
     "output_type": "stream",
     "text": [
      "Train Epoch: 1-042 batch_loss=3.75e+01 batch_acc=0.478 lr=1.398e-06 \n"
     ]
    },
    {
     "name": "stderr",
     "output_type": "stream",
     "text": [
      "/var/folders/7l/ltdxzx1s3dj_sz2kw6_5g8k00000gn/T/ipykernel_9264/2011082625.py:9: UserWarning: To copy construct from a tensor, it is recommended to use sourceTensor.clone().detach() or sourceTensor.clone().detach().requires_grad_(True), rather than torch.tensor(sourceTensor).\n",
      "  predictions = torch.tensor((output >= 0.5).float())\n"
     ]
    },
    {
     "name": "stdout",
     "output_type": "stream",
     "text": [
      "F1 score:  [0.5443181883205067]\n"
     ]
    }
   ],
   "source": [
    "criterions, optimizers, schedulers, all_f1, optimal_param = param_selection(model, device, criterions, optimizers, schedulers, num_epochs, test_loader)\n",
    "print(\"F1 score: \", all_f1)"
   ]
  },
  {
   "cell_type": "markdown",
   "metadata": {},
   "source": [
    "# 7. Analyze the output of parameter selection"
   ]
  }
 ],
 "metadata": {
  "kernelspec": {
   "display_name": "solarjets",
   "language": "python",
   "name": "python3"
  },
  "language_info": {
   "codemirror_mode": {
    "name": "ipython",
    "version": 3
   },
   "file_extension": ".py",
   "mimetype": "text/x-python",
   "name": "python",
   "nbconvert_exporter": "python",
   "pygments_lexer": "ipython3",
   "version": "3.10.4"
  },
  "orig_nbformat": 4
 },
 "nbformat": 4,
 "nbformat_minor": 2
}
