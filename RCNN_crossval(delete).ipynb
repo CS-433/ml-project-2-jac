{
  "cells": [
    {
      "cell_type": "markdown",
      "metadata": {
        "id": "fgiVlL5W8WI7"
      },
      "source": [
        "<div style=\"width: 1350px; height: 30px; background-color: green;\"></div>\n"
      ]
    },
    {
      "cell_type": "markdown",
      "metadata": {},
      "source": [
        "IMPORTANT: for this code use data0 and data1 without separating testing data into a separate folder"
      ]
    },
    {
      "cell_type": "markdown",
      "metadata": {},
      "source": [
        "<div style=\"width: 1350px; height: 30px; background-color: green;\"></div>\n"
      ]
    },
    {
      "cell_type": "markdown",
      "metadata": {
        "id": "nmorYGCa8WI9"
      },
      "source": [
        "# TO DO\n",
        "\n",
        "\n",
        "##### **Other**\n",
        "- Parameter tuning: get cool hyperparameters (criterion, number of epochs, optimizer, scheduler)\n",
        "- Multimodal data: currently we only train the image itself. Maybe it's useful to train other parameters such as the date or the location, as Sophie said that if a jet occurs in a location, it is more likely that another jet occurs in that same location.\n",
        "- Batch size set to 32. Change it?\n",
        "- Maybe other threshols work better (currently using 0.5)\n",
        "- Batch normalization is not currently used\n",
        "\n",
        "\n",
        "##### **Network Model**\n",
        "- I didn't include the first two layers from the paper (input layer and BRN). Should we? CAREFUL AS THIS MAY REBOOT THE LAPTOP\n",
        "- Batch **re**normalization ?\n",
        "- Part of me thinks that this model is better when we have small images but with a lot of samples, because using 127 datapoints (which is low but not that low), it only takes 2 min to run even when running on CPU, which seems like so little time.\n"
      ]
    },
    {
      "cell_type": "markdown",
      "metadata": {
        "id": "STOpHJvh8WI_"
      },
      "source": [
        "<div style=\"width: 1350px; height: 30px; background-color: green;\"></div>\n"
      ]
    },
    {
      "cell_type": "markdown",
      "metadata": {
        "id": "v9AagZiQ_9aG"
      },
      "source": [
        "DONE:\n",
        "\n",
        "##### **Cross Validation**\n",
        "- Currently, we are using cross-entropy for the criterion, but according to ChatGPT, it has nothing to do with cross-validation, and I think that makes sense.\n",
        "- We want to use cross-validation to somehow max the F1 score\n",
        "  - We are minimizing loss, but somehow we want to maximize F1 score during cross validation (see feedback Project 1)\n",
        "  - Currently the `train_acc_history` doesn't work well. At each epoch it returns the acc for ALL minibatches. Therefore, at the end of the 5 epochs instead of containing 5 values, it contains 20 (5 epochs x 4 minibatches). I think that with cross-validation we have to take the average of them ??\n",
        "\n",
        "##### **Other**\n",
        "- Data Augmentation: transformations (rotations, translations, cutouts, zoom in, zoom out...)\n",
        "\n",
        "##### **Model Testing**\n",
        "- We have to divide data into training, validation, and test. BUT, as we are using cross validation we don't need the validation set I think???\n",
        "- Need to evaluate and test model"
      ]
    },
    {
      "cell_type": "markdown",
      "metadata": {
        "id": "p3xO2wwt8WI_"
      },
      "source": [
        "# 0. Load Modules"
      ]
    },
    {
      "cell_type": "markdown",
      "metadata": {
        "id": "tZ7mpr4b8WI_"
      },
      "source": [
        "Convert to py:\n",
        "\n",
        "`jupyter nbconvert --to script RCNN_crossval.ipynb`"
      ]
    },
    {
      "cell_type": "code",
      "execution_count": 95,
      "metadata": {
        "id": "dvMqFAyy8WJA"
      },
      "outputs": [],
      "source": [
        "# Main libraries used all the time\n",
        "import numpy as np\n",
        "import matplotlib.pyplot as plt\n",
        "import pandas as pd\n",
        "\n",
        "# Operating system libraries\n",
        "import os\n",
        "import sys\n",
        "\n",
        "# Machine learning libraries\n",
        "import torch\n",
        "from torchvision import transforms, datasets\n",
        "from torchvision.datasets import ImageFolder\n",
        "from torch.utils.data import Dataset, DataLoader, random_split, Subset\n",
        "\n",
        "# Transforms (Data Augmentation)\n",
        "from torchvision.transforms import Compose, RandomHorizontalFlip, RandomRotation, RandomVerticalFlip, ColorJitter, RandomAffine, RandomPerspective, RandomResizedCrop, GaussianBlur\n",
        "import random\n",
        "\n",
        "# Cross validation\n",
        "from sklearn.model_selection import KFold\n",
        "from sklearn.metrics import f1_score"
      ]
    },
    {
      "cell_type": "code",
      "execution_count": 96,
      "metadata": {
        "colab": {
          "base_uri": "https://localhost:8080/"
        },
        "id": "tTmZUgya8WJB",
        "outputId": "e5f7d133-d219-4f58-f5c2-f6b3277c1f67"
      },
      "outputs": [],
      "source": [
        "# For Google Colab, mount Google Drive, for local environments, get local path (github)\n",
        "\n",
        "# Change with the appropriate path. Log in into Drive and create the folders with the data\n",
        "\n",
        "if 'google.colab' in sys.modules:\n",
        "    from google.colab import drive\n",
        "    drive.mount('/content/drive')\n",
        "    folder0_path = '/content/drive/My Drive/solar_jets/data0'\n",
        "    folder1_path = '/content/drive/My Drive/solar_jets/data1'\n",
        "else:\n",
        "    # For local environments like VS Code\n",
        "    folder0_path = './data_all/data0'\n",
        "    folder1_path = './data_all/data1'"
      ]
    },
    {
      "cell_type": "markdown",
      "metadata": {
        "id": "CJ4oaIE28WJB"
      },
      "source": [
        "# 1. Very naive Model"
      ]
    },
    {
      "cell_type": "markdown",
      "metadata": {
        "id": "bcGqScbn8WJC"
      },
      "source": [
        "## 1.1. Prepare the dataset"
      ]
    },
    {
      "cell_type": "markdown",
      "metadata": {
        "id": "sSF0xLC78WJC"
      },
      "source": [
        "#### Create the class"
      ]
    },
    {
      "cell_type": "code",
      "execution_count": 97,
      "metadata": {
        "id": "PQ4tCtRw8WJC"
      },
      "outputs": [],
      "source": [
        "class NPZDataset(Dataset):\n",
        "    def __init__(self, data_dir, augment=False, mean=None, std=None):\n",
        "        self.data_dir = data_dir\n",
        "        self.augment = augment\n",
        "        self.files = [f for f in os.listdir(data_dir) if self._check_file_shape(f)]\n",
        "        self.transform = Compose([\n",
        "            RandomHorizontalFlip(),\n",
        "            RandomRotation(30),\n",
        "            RandomVerticalFlip(),\n",
        "            ColorJitter(),\n",
        "            RandomAffine(degrees=30, translate=(0.1, 0.1), scale=(0.9, 1.1), shear=10),\n",
        "            RandomPerspective(distortion_scale=0.5, p=0.5),\n",
        "            RandomResizedCrop(size=(166, 166), scale=(0.8, 1.0)),\n",
        "            GaussianBlur(kernel_size=(5, 9), sigma=(0.1, 5)),\n",
        "        ])\n",
        "        self.mean = mean\n",
        "        self.std = std\n",
        "\n",
        "    def _check_file_shape(self, file):\n",
        "        file_path = os.path.join(self.data_dir, file)\n",
        "        data = np.load(file_path)['arr_0']\n",
        "        return data.shape == (166, 166, 30)\n",
        "\n",
        "    def __len__(self):\n",
        "        return len(self.files)\n",
        "\n",
        "    def __getitem__(self, idx):\n",
        "        file_path = os.path.join(self.data_dir, self.files[idx])\n",
        "        data = np.load(file_path)['arr_0']\n",
        "        data = np.moveaxis(data, -1, 0)\n",
        "\n",
        "        if self.augment:\n",
        "            # Apply augmentation to each frame\n",
        "            data = np.array([self.transform(frame) for frame in data])\n",
        "\n",
        "        label = 1.0 if 'data1' in self.data_dir else 0.0\n",
        "\n",
        "        if self.mean is not None and self.std is not None:\n",
        "            data = (data - self.mean) / self.std\n",
        "\n",
        "        return torch.from_numpy(data).float(), label"
      ]
    },
    {
      "cell_type": "markdown",
      "metadata": {
        "id": "pvVU4cLZ8WJC"
      },
      "source": [
        "#### Run to get the Data"
      ]
    },
    {
      "cell_type": "code",
      "execution_count": 98,
      "metadata": {
        "id": "ofvsSor18WJD"
      },
      "outputs": [],
      "source": [
        "mean_data = 51.664371490478516\n",
        "std_data = 62.70865249633789"
      ]
    },
    {
      "cell_type": "code",
      "execution_count": 99,
      "metadata": {
        "id": "idv9Ccu58WJD"
      },
      "outputs": [],
      "source": [
        "train_data1 = NPZDataset(folder1_path, mean=mean_data, std=std_data)\n",
        "train_data0 = NPZDataset(folder0_path, mean=mean_data, std=std_data)\n",
        "train_data = torch.utils.data.ConcatDataset([train_data1, train_data0])"
      ]
    },
    {
      "cell_type": "markdown",
      "metadata": {
        "id": "hUpUkTw48WJD"
      },
      "source": [
        "Below we'll see how train_data can be treated just like lists\n",
        "\n",
        "- One element in the list for each sequence of images\n",
        "- Each element of the list has a tuple of two elements, the first the array (166,30,30) and the second the label"
      ]
    },
    {
      "cell_type": "code",
      "execution_count": 106,
      "metadata": {},
      "outputs": [],
      "source": [
        "train_data1 = ([train_data1[i] for i in range(10)])\n",
        "train_data0 = ([train_data1[i] for i in range(10)])\n",
        "train_data = torch.utils.data.ConcatDataset([train_data1, train_data0])"
      ]
    },
    {
      "cell_type": "code",
      "execution_count": 107,
      "metadata": {
        "colab": {
          "base_uri": "https://localhost:8080/"
        },
        "id": "h-oXlEEi8WJD",
        "outputId": "106f189d-bb30-4eae-ffc7-0a4e29454dc1"
      },
      "outputs": [
        {
          "name": "stdout",
          "output_type": "stream",
          "text": [
            "samples y=1:  10\n",
            "samples y=0:  10\n",
            "samples total  20\n"
          ]
        }
      ],
      "source": [
        "print(\"samples y=1: \",len(train_data1))\n",
        "print(\"samples y=0: \",len(train_data0))\n",
        "print(\"samples total \",len(train_data))"
      ]
    },
    {
      "cell_type": "code",
      "execution_count": 108,
      "metadata": {
        "colab": {
          "base_uri": "https://localhost:8080/"
        },
        "id": "g06R_ROA8WJF",
        "outputId": "3373337e-18c9-43c8-cd65-13f3eeb2b2a9"
      },
      "outputs": [
        {
          "name": "stdout",
          "output_type": "stream",
          "text": [
            "Sample 0: Shape torch.Size([30, 166, 166]), Label: 1.0\n",
            "Sample 0: Shape torch.Size([30, 166, 166]), Label: 1.0\n"
          ]
        }
      ],
      "source": [
        "print(f\"Sample {0}: Shape {train_data1[0][0].shape}, Label: {train_data1[0][1]}\")\n",
        "print(f\"Sample {0}: Shape {train_data0[0][0].shape}, Label: {train_data0[0][1]}\")"
      ]
    },
    {
      "cell_type": "markdown",
      "metadata": {
        "id": "ooTweIk78WJF"
      },
      "source": [
        "Comput mean and std for train dataset (do not run this)"
      ]
    },
    {
      "cell_type": "code",
      "execution_count": 109,
      "metadata": {
        "id": "fZwNPOkq8WJF"
      },
      "outputs": [],
      "source": [
        "def compute_mean_std(dataset):\n",
        "    mean = 0.0\n",
        "    std = 0.0\n",
        "    for data, _ in dataset:\n",
        "        mean += data.mean()\n",
        "        std += data.std()\n",
        "    mean /= len(dataset)\n",
        "    std /= len(dataset)\n",
        "    return mean.item(), std.item()\n",
        "\n",
        "\n",
        "mean, std = compute_mean_std(train_data)"
      ]
    },
    {
      "cell_type": "code",
      "execution_count": 110,
      "metadata": {
        "colab": {
          "base_uri": "https://localhost:8080/"
        },
        "id": "AarVa-9n8WJF",
        "outputId": "b3a9b723-528d-4a4a-b56b-974eb04dcce4"
      },
      "outputs": [
        {
          "data": {
            "text/plain": [
              "(0.523143470287323, 2.669326066970825)"
            ]
          },
          "execution_count": 110,
          "metadata": {},
          "output_type": "execute_result"
        }
      ],
      "source": [
        "mean, std"
      ]
    },
    {
      "cell_type": "markdown",
      "metadata": {
        "id": "gNeiq6A18WJF"
      },
      "source": [
        "#### Get the Minibatch"
      ]
    },
    {
      "cell_type": "code",
      "execution_count": 111,
      "metadata": {
        "id": "U_vh2PCW8WJF"
      },
      "outputs": [],
      "source": [
        "train_size = int(0.8 * len(train_data))  # 80% of data for training\n",
        "test_size = len(train_data) - train_size  # remaining 20% for testing\n",
        "train_dataset, test_dataset = random_split(train_data, [train_size, test_size])"
      ]
    },
    {
      "cell_type": "code",
      "execution_count": 112,
      "metadata": {
        "id": "S2Fl1MSG8WJG"
      },
      "outputs": [],
      "source": [
        "train_loader = DataLoader(train_dataset, batch_size=32, shuffle=True)\n",
        "test_loader = DataLoader(test_dataset, batch_size=32, shuffle=False)"
      ]
    },
    {
      "cell_type": "code",
      "execution_count": 113,
      "metadata": {
        "colab": {
          "base_uri": "https://localhost:8080/"
        },
        "id": "8GwVlyYk8WJG",
        "outputId": "da870177-2b6b-4308-8ddb-1461acc05df3"
      },
      "outputs": [
        {
          "data": {
            "text/plain": [
              "<torch.utils.data.dataset.Subset at 0x17d0cf410>"
            ]
          },
          "execution_count": 113,
          "metadata": {},
          "output_type": "execute_result"
        }
      ],
      "source": [
        "train_dataset"
      ]
    },
    {
      "cell_type": "markdown",
      "metadata": {
        "id": "S-dssVUc8WJG"
      },
      "source": [
        "See that we have 4 different minibatches, each with 32 samples"
      ]
    },
    {
      "cell_type": "code",
      "execution_count": 114,
      "metadata": {
        "colab": {
          "base_uri": "https://localhost:8080/"
        },
        "id": "AG5EwkPw8WJG",
        "outputId": "98a5688b-ce50-43dd-f5b2-9ff76c2b85d6"
      },
      "outputs": [
        {
          "name": "stdout",
          "output_type": "stream",
          "text": [
            "Number of batches:  1\n",
            "Batch 0: samples 16\n"
          ]
        }
      ],
      "source": [
        "print(\"Number of batches: \",len(train_loader))\n",
        "for i, (x, y) in enumerate(train_loader):\n",
        "    print(f\"Batch {i}: samples {x.shape[0]}\")"
      ]
    },
    {
      "cell_type": "markdown",
      "metadata": {
        "id": "DYtnaQCp8WJG"
      },
      "source": [
        "DataLoader is designed to iterate over batches of data rather than individual samples, so when we try to access for example the first mini-batch as `train_loader[0]`, we get an error.\n",
        "\n",
        "However, note how before we could iterate over it\n"
      ]
    },
    {
      "cell_type": "markdown",
      "metadata": {
        "id": "xjoFf4yO8WJH"
      },
      "source": [
        "# 2. Define the Neural Network"
      ]
    },
    {
      "cell_type": "code",
      "execution_count": 115,
      "metadata": {
        "id": "tY5U1rgA8WJH"
      },
      "outputs": [],
      "source": [
        "class RCNN(torch.nn.Module):\n",
        "\n",
        "    def __init__(self):\n",
        "        super(RCNN, self).__init__()\n",
        "\n",
        "        # Define the layers\n",
        "\n",
        "        # 1. Input layers\n",
        "        #self.input_layer=torch.nn.Linear(in_features=166*166*30, out_features=166*166*30)      # not sure if this is needed\n",
        "        #self.norm=torch.nn.BatchNorm2d(166*166*30)        #not sure this is sufficent for batch renormalization\n",
        "\n",
        "        # 2. Convolutional layers\n",
        "\n",
        "        # Three conv layers\n",
        "        # according to gpt, in_channels=1 because in the sequence, it is still gray scale, not rgb\n",
        "        self.conv1 = self.create_conv_layer(in_channels=30, out_channels=64)\n",
        "        self.conv2 = self.create_conv_layer(in_channels=64, out_channels=64)\n",
        "        self.conv3 = self.create_conv_layer(in_channels=64, out_channels=64)\n",
        "\n",
        "        # First maxpool\n",
        "        self.pool1 = torch.nn.MaxPool2d(kernel_size=2,stride=2)\n",
        "\n",
        "        # Three conv layers\n",
        "        self.conv4 = self.create_conv_layer(in_channels=64, out_channels=64)\n",
        "        self.conv5 = self.create_conv_layer(in_channels=64, out_channels=64)\n",
        "        self.conv6 = self.create_conv_layer(in_channels=64, out_channels=64)\n",
        "\n",
        "        # Second maxpool\n",
        "        self.pool2 = torch.nn.MaxPool2d(kernel_size=2,stride=2)\n",
        "\n",
        "        # Flatten\n",
        "        self.flatten=torch.nn.Flatten()\n",
        "\n",
        "        # Each time we apply pooling, height and width are divided by 2\n",
        "        self.flat_size = 64 * int(np.floor(166/2/2)) * int(np.floor(166/2/2))\n",
        "\n",
        "        # Fully connected with dropout\n",
        "        self.lin=torch.nn.Linear(self.flat_size, 1024)\n",
        "        self.drop=torch.nn.Dropout(p=0.5)\n",
        "\n",
        "        #LSTM\n",
        "        # we set batch_first=True to have batch_size as first dimension: (30,166,166)\n",
        "        self.lstm = torch.nn.LSTM(input_size=1024, hidden_size=512, num_layers=1, batch_first=True)\n",
        "\n",
        "        #output: for binary classification softmax is not needed\n",
        "        #self.output_layer=torch.nn.Softmax(dim=1)\n",
        "        self.output = torch.nn.Linear(512, 1)\n",
        "\n",
        "    # To make the code more clear, let's use this function to create conv layers\n",
        "    def create_conv_layer(self, in_channels, out_channels):\n",
        "        conv = torch.nn.Conv2d(in_channels=in_channels, out_channels=out_channels, kernel_size=3, stride=1, padding=1)\n",
        "        relu = torch.nn.ReLU()\n",
        "        norm = torch.nn.BatchNorm2d(out_channels)\n",
        "        return torch.nn.Sequential(conv, relu, norm)\n",
        "\n",
        "\n",
        "\n",
        "    def forward(self, x):\n",
        "\n",
        "        # Define the forward pass\n",
        "\n",
        "        # 1. Input layers\n",
        "        #x=self.input_layer(x)\n",
        "        #x=self.norm(x)\n",
        "\n",
        "        # 2. Convolutional layers\n",
        "        x=self.conv1(x)\n",
        "        x=self.conv2(x)\n",
        "        x=self.conv3(x)\n",
        "\n",
        "        # First maxpool\n",
        "        x=self.pool1(x)\n",
        "\n",
        "        # Three conv layers\n",
        "        x=self.conv4(x)\n",
        "        x=self.conv5(x)\n",
        "        x=self.conv6(x)\n",
        "\n",
        "        # Second maxpool\n",
        "        x=self.pool2(x)\n",
        "\n",
        "        # Flatten\n",
        "        x=self.flatten(x)\n",
        "\n",
        "        # Fully connected with dropout\n",
        "        x=self.lin(x)\n",
        "        x=self.drop(x)\n",
        "\n",
        "        #LSTM\n",
        "        #x = x.view(x.size(0), -1, self.flat_size)\n",
        "        #x = x.view(x.size(0), 30, -1)\n",
        "        lstm_out, _ = self.lstm(x)\n",
        "        #lstm_out = lstm_out[:, -1, :]\n",
        "\n",
        "        #output\n",
        "        out=self.output(lstm_out)\n",
        "\n",
        "        return out.view(-1)"
      ]
    },
    {
      "cell_type": "markdown",
      "metadata": {
        "id": "l-sKaRkB8WJH"
      },
      "source": [
        "#### Define the model"
      ]
    },
    {
      "cell_type": "code",
      "execution_count": 116,
      "metadata": {
        "id": "1yyeZ0368WJH"
      },
      "outputs": [],
      "source": [
        "model = RCNN()"
      ]
    },
    {
      "cell_type": "markdown",
      "metadata": {
        "id": "qyB-i0kb8WJI"
      },
      "source": [
        "# 3. Training Parameters\n",
        "\n",
        "There is a lot that can be done here to get very cool hyperparameters"
      ]
    },
    {
      "cell_type": "code",
      "execution_count": 117,
      "metadata": {},
      "outputs": [],
      "source": [
        "def plot_lr(epochs, lrs):\n",
        "    # Creating subplots\n",
        "    fig, (ax1, ax2) = plt.subplots(1, 2, figsize=(20, 6))\n",
        "\n",
        "    # Linear scale plot\n",
        "    ax1.plot(epochs, lrs, marker='o')\n",
        "    ax1.set_title('Learning Rate per Epoch (Linear Scale)')\n",
        "    ax1.set_xlabel('Epoch')\n",
        "    ax1.set_ylabel('Learning Rate')\n",
        "    ax1.set_xticks(epochs)\n",
        "    ax1.grid(True)\n",
        "\n",
        "    # Log scale plot\n",
        "    ax2.plot(epochs, lrs, marker='o')\n",
        "    ax2.set_title('Learning Rate per Epoch (Log Scale)')\n",
        "    ax2.set_xlabel('Epoch')\n",
        "    ax2.set_ylabel('Learning Rate')\n",
        "    ax2.set_yscale('log')\n",
        "    ax2.set_xticks(epochs)\n",
        "    ax2.grid(True)\n",
        "\n",
        "    # Display the plots\n",
        "    plt.show()"
      ]
    },
    {
      "cell_type": "code",
      "execution_count": 118,
      "metadata": {},
      "outputs": [
        {
          "data": {
            "image/png": "[encoded data removed]",
            "text/plain": [
              "<Figure size 2000x600 with 2 Axes>"
            ]
          },
          "metadata": {},
          "output_type": "display_data"
        }
      ],
      "source": [
        "num_epochs = 20\n",
        "initial_lr = 0.05\n",
        "weight_decay = 200\n",
        "\n",
        "# Function to create optimizer and scheduler\n",
        "def reset_optimizer_scheduler():\n",
        "    optimizer = torch.optim.AdamW(model.parameters(), lr=initial_lr, weight_decay=weight_decay)\n",
        "    #scheduler = torch.optim.lr_scheduler.CosineAnnealingLR(optimizer, T_max=num_epochs, eta_min=1e-6, last_epoch=-1)\n",
        "    scheduler = torch.optim.lr_scheduler.ExponentialLR(optimizer, gamma=0.7)\n",
        "    #scheduler = torch.optim.lr_scheduler.ReduceLROnPlateau(optimizer, verbose=True, patience=3, factor=0.75)\n",
        "\n",
        "    return optimizer, scheduler\n",
        "\n",
        "# Initialize optimizer and scheduler\n",
        "optimizer, scheduler = reset_optimizer_scheduler()\n",
        "\n",
        "# Lists to store epoch numbers and corresponding learning rates\n",
        "epochs = []\n",
        "lrs = []\n",
        "\n",
        "# Loop to update and record learning rate\n",
        "for epoch in range(num_epochs):\n",
        "    optimizer.step()\n",
        "    scheduler.step()\n",
        "    current_lr = optimizer.param_groups[0]['lr']\n",
        "    epochs.append(epoch + 1)\n",
        "    lrs.append(current_lr)\n",
        "\n",
        "plot_lr(epochs, lrs)"
      ]
    },
    {
      "cell_type": "code",
      "execution_count": 119,
      "metadata": {
        "id": "J03e-cJn8WJI"
      },
      "outputs": [],
      "source": [
        "criterion = torch.nn.BCEWithLogitsLoss()\n",
        "\n",
        "optimizer, scheduler = reset_optimizer_scheduler()"
      ]
    },
    {
      "cell_type": "markdown",
      "metadata": {
        "id": "IUqXkC0g8WJJ"
      },
      "source": [
        "# 4. Train Epoch Script"
      ]
    },
    {
      "cell_type": "code",
      "execution_count": 124,
      "metadata": {
        "id": "urR48DBX8WJK"
      },
      "outputs": [],
      "source": [
        "def train_epoch(model, optimizer, scheduler, criterion, train_loader, epoch, device):\n",
        "    model.train()\n",
        "    loss_history = []\n",
        "    accuracy_history = []\n",
        "    lr_history = []\n",
        "    for batch_idx, (data, target) in enumerate(train_loader):\n",
        "        data, target = data.to(device), target.to(device)\n",
        "        optimizer.zero_grad()\n",
        "        output = model(data)\n",
        "        loss = criterion(output, target)\n",
        "        loss.backward()\n",
        "        optimizer.step()\n",
        "        #scheduler.step()\n",
        "\n",
        "        threshold = 0.5\n",
        "        pred = (output >= threshold).float()\n",
        "        correct = pred.eq(target.view_as(pred)).sum().item()\n",
        "        loss_float = loss.item()\n",
        "        accuracy_float = correct / len(data)\n",
        "\n",
        "        loss_history.append(loss_float)\n",
        "        accuracy_history.append(accuracy_float)\n",
        "        lr_history.append(scheduler.get_last_lr()[0])\n",
        "\n",
        "        # this is the if statement of the lab, but it doesn't work for me. it makes no sense to me tbh\n",
        "        #if batch_idx % (len(train_loader.dataset) // len(data) // 10) == 0:\n",
        "        # this doesn't work bad, but it just prints the last batch of the epoch\n",
        "        if batch_idx == len(train_loader) - 1:\n",
        "            print(\n",
        "                f\"* Train Epoch: {epoch}-{batch_idx:03d} \\n\"\n",
        "                f\"batch_loss={loss_float:0.2e} \"\n",
        "                f\"batch_acc={accuracy_float:0.3f} \"\n",
        "                f\"lr={scheduler.get_last_lr()[0]:0.3e} \"\n",
        "            )\n",
        "\n",
        "    # Temporary implementation\n",
        "    loss_history = np.mean(loss_history)\n",
        "    accuracy_history = np.mean(accuracy_history)\n",
        "    lr_history = np.mean(lr_history)\n",
        "\n",
        "    return loss_history, accuracy_history, lr_history"
      ]
    },
    {
      "cell_type": "markdown",
      "metadata": {
        "id": "7uv1vX6J8WJM"
      },
      "source": [
        "# 5. Test Script"
      ]
    },
    {
      "cell_type": "code",
      "execution_count": 121,
      "metadata": {
        "id": "38S9p-Y88WJN"
      },
      "outputs": [],
      "source": [
        "def test_model(model, test_loader, criterion, device):\n",
        "    model.eval()\n",
        "    test_loss = 0\n",
        "    correct = 0\n",
        "    all_preds = []\n",
        "    all_targets = []\n",
        "\n",
        "    with torch.no_grad():\n",
        "        for data, target in test_loader:\n",
        "            data, target = data.to(device), target.to(device)\n",
        "            output = model(data)\n",
        "            test_loss += criterion(output, target).item()  # sum up batch loss\n",
        "\n",
        "            # Convert outputs to binary predictions (adjust threshold if needed)\n",
        "            pred = (output >= 0.5).float()\n",
        "            correct += pred.eq(target.view_as(pred)).sum().item()\n",
        "\n",
        "            # Store predictions and targets\n",
        "            all_preds.extend(pred.view(-1).cpu().numpy())\n",
        "            all_targets.extend(target.view(-1).cpu().numpy())\n",
        "\n",
        "    test_loss /= len(test_loader.dataset)\n",
        "    test_accuracy = correct / len(test_loader.dataset)\n",
        "\n",
        "    return test_loss, test_accuracy, np.array(all_preds), np.array(all_targets)"
      ]
    },
    {
      "cell_type": "code",
      "execution_count": 122,
      "metadata": {},
      "outputs": [
        {
          "data": {
            "text/plain": [
              "<torch.utils.data.dataset.Subset at 0x17d234890>"
            ]
          },
          "execution_count": 122,
          "metadata": {},
          "output_type": "execute_result"
        }
      ],
      "source": [
        "test_loader.dataset"
      ]
    },
    {
      "cell_type": "markdown",
      "metadata": {
        "id": "0yKfGhWj8WJP"
      },
      "source": [
        "# 6. Train the Network 😀😀😀😀😀\n"
      ]
    },
    {
      "cell_type": "code",
      "execution_count": 125,
      "metadata": {
        "colab": {
          "base_uri": "https://localhost:8080/"
        },
        "id": "uCEig4tb8WJP",
        "outputId": "74aaca56-2ccc-4962-bc96-08930d9765fb"
      },
      "outputs": [
        {
          "name": "stdout",
          "output_type": "stream",
          "text": [
            "\n",
            "\n",
            "---------------------------------------------------------------\n",
            "Starting Fold 1\n",
            "---------------------------------------------------------------\n",
            "* Train Epoch: 1-000 \n",
            "batch_loss=3.67e-03 batch_acc=1.000 lr=1.412e-03 \n",
            "Epoch 1/20 - Fold 1 - Train Loss: 0.0037, Val Loss: 0.0043, Train Acc: 1.0000, Val Acc: 1.0000, Val F1 Score: 1.0000\n",
            "* Train Epoch: 2-000 \n",
            "batch_loss=2.66e-02 batch_acc=1.000 lr=9.887e-04 \n",
            "Epoch 2/20 - Fold 1 - Train Loss: 0.0266, Val Loss: 0.0089, Train Acc: 1.0000, Val Acc: 1.0000, Val F1 Score: 1.0000\n",
            "* Train Epoch: 3-000 \n",
            "batch_loss=5.86e-02 batch_acc=1.000 lr=6.921e-04 \n",
            "Epoch 3/20 - Fold 1 - Train Loss: 0.0586, Val Loss: 0.0131, Train Acc: 1.0000, Val Acc: 1.0000, Val F1 Score: 1.0000\n",
            "* Train Epoch: 4-000 \n",
            "batch_loss=9.98e-02 batch_acc=1.000 lr=4.844e-04 \n",
            "Epoch 4/20 - Fold 1 - Train Loss: 0.0998, Val Loss: 0.0152, Train Acc: 1.0000, Val Acc: 1.0000, Val F1 Score: 1.0000\n"
          ]
        }
      ],
      "source": [
        "# Training and Validation History for all folds\n",
        "all_folds_train_loss = []\n",
        "all_folds_train_acc = []\n",
        "all_folds_val_loss = []\n",
        "all_folds_val_acc = []\n",
        "all_folds_val_f1 = []\n",
        "\n",
        "best_model_state = None\n",
        "best_f1_score = 0\n",
        "\n",
        "device = torch.device(\"cuda\" if torch.cuda.is_available() else \"cpu\")\n",
        "model.to(device)\n",
        "\n",
        "optimizer, scheduler = reset_optimizer_scheduler()\n",
        "\n",
        "# Early stopping parameters\n",
        "patience = 20\n",
        "best_loss = float('inf')\n",
        "epochs_no_improve = 0\n",
        "\n",
        "# Cross-validation\n",
        "kf = KFold(n_splits=5, shuffle=True)  # for example, 5-fold cross-validation\n",
        "\n",
        "\n",
        "for fold, (train_idx, val_idx) in enumerate(kf.split(train_dataset)):\n",
        "    print(\"\\n\\n---------------------------------------------------------------\")\n",
        "    print(f\"Starting Fold {fold+1}\")\n",
        "    print(\"---------------------------------------------------------------\")\n",
        "\n",
        "    # Creating data subsets for the current fold\n",
        "    train_subset = Subset(train_dataset, train_idx)\n",
        "    val_subset = Subset(train_dataset, val_idx)\n",
        "\n",
        "    train_loader = DataLoader(train_subset, batch_size=32, shuffle=True)\n",
        "    val_loader = DataLoader(val_subset, batch_size=32, shuffle=False)\n",
        "\n",
        "    # Training and Validation History for the current fold\n",
        "    fold_train_loss = []\n",
        "    fold_train_acc = []\n",
        "    fold_val_loss = []\n",
        "    fold_val_acc = []\n",
        "    fold_val_f1 = []\n",
        "\n",
        "\n",
        "    for epoch in range(1, num_epochs + 1):\n",
        "        # Train\n",
        "        train_loss, train_acc, lrs = train_epoch(model, optimizer, scheduler, criterion, train_loader, epoch, device)\n",
        "        fold_train_loss.append(train_loss)\n",
        "        fold_train_acc.append(train_acc)\n",
        "\n",
        "        # Validate\n",
        "        val_loss, val_acc, val_preds, val_targets = test_model(model, val_loader, criterion, device)\n",
        "        fold_val_loss.append(val_loss)\n",
        "        fold_val_acc.append(val_acc)\n",
        "\n",
        "        # Calculate F1 score\n",
        "        f1 = f1_score(val_targets, val_preds, average='binary')  # adjust the average parameter as needed\n",
        "        fold_val_f1.append(f1)\n",
        "\n",
        "        print(f\"Epoch {epoch}/{num_epochs} - Fold {fold+1} - Train Loss: {train_loss:.4f}, Val Loss: {val_loss:.4f}, Train Acc: {train_acc:.4f}, Val Acc: {val_acc:.4f}, Val F1 Score: {f1:.4f}\")\n",
        "\n",
        "        # Scheduler step\n",
        "        scheduler.step()\n",
        "\n",
        "        if val_loss < best_loss:\n",
        "          best_loss = val_loss\n",
        "          epochs_no_improve = 0\n",
        "        else:\n",
        "          epochs_no_improve += 1\n",
        "\n",
        "        if epochs_no_improve == patience:\n",
        "          print(f\"Early stopping triggered after {epoch + 1} epochs.\")\n",
        "          break\n",
        "\n",
        "\n",
        "\n",
        "    # Check if the current fold's model is the best so far\n",
        "    avg_fold_f1_score = np.mean(fold_val_f1)\n",
        "    if avg_fold_f1_score > best_f1_score:\n",
        "        best_f1_score = avg_fold_f1_score\n",
        "        best_model_state = model.state_dict()  # Save the model state\n",
        "\n",
        "\n",
        "    # Append fold results to all folds history\n",
        "    all_folds_train_loss.append(fold_train_loss)\n",
        "    all_folds_train_acc.append(fold_train_acc)\n",
        "    all_folds_val_loss.append(fold_val_loss)\n",
        "    all_folds_val_acc.append(fold_val_acc)\n",
        "    all_folds_val_f1.append(fold_val_f1)\n",
        "\n",
        "# Load the best model state\n",
        "best_model = RCNN()\n",
        "best_model.load_state_dict(best_model_state)\n",
        "best_model.to(device)\n",
        "\n",
        "# Evaluate on test data\n",
        "test_loss, test_accuracy, test_predictions, test_targets = test_model(best_model, test_loader, criterion, device)\n",
        "test_f1_score = f1_score(test_targets, test_predictions, average='binary')  # adjust as needed\n",
        "\n",
        "print(f\"Test Loss: {test_loss:.4f}, Test Accuracy: {test_accuracy:.4f}, Test F1 Score: {test_f1_score:.4f}\")"
      ]
    },
    {
      "cell_type": "code",
      "execution_count": null,
      "metadata": {},
      "outputs": [],
      "source": [
        "from sklearn.metrics import roc_curve, auc\n",
        "\n",
        "# Compute ROC curve and ROC area for each class\n",
        "fpr, tpr, _ = roc_curve(test_targets, test_predictions)\n",
        "roc_auc = auc(fpr, tpr)\n",
        "\n",
        "# Plotting the ROC curve\n",
        "plt.figure()\n",
        "plt.plot(fpr, tpr, color='darkorange', lw=2, label=f'ROC curve (area = {roc_auc:.2f})')\n",
        "plt.plot([0, 1], [0, 1], color='navy', lw=2, linestyle='--')\n",
        "plt.xlim([0.0, 1.0])\n",
        "plt.ylim([0.0, 1.05])\n",
        "plt.xlabel('False Positive Rate')\n",
        "plt.ylabel('True Positive Rate')\n",
        "plt.title('Receiver Operating Characteristic')\n",
        "plt.legend(loc=\"lower right\")\n",
        "plt.show()"
      ]
    },
    {
      "cell_type": "code",
      "execution_count": null,
      "metadata": {
        "id": "KFqAANce8WJQ"
      },
      "outputs": [],
      "source": [
        "fig, axs = plt.subplots(1, 3, figsize=(15, 5))\n",
        "\n",
        "# Plotting learning rate history\n",
        "axs[0].plot(range(1, num_epochs + 1), lr_history, marker='o')\n",
        "axs[0].set_title('Learning Rate History')\n",
        "axs[0].set_xlabel('Epoch')\n",
        "axs[0].set_ylabel('Learning Rate')\n",
        "\n",
        "# Plotting training loss history\n",
        "axs[1].plot(range(1, num_epochs + 1), train_loss_history, marker='o', color='r')\n",
        "axs[1].set_title('Training Loss History')\n",
        "axs[1].set_xlabel('Epoch')\n",
        "axs[1].set_ylabel('Loss')\n",
        "\n",
        "# Plotting training accuracy history\n",
        "axs[2].plot(range(1, num_epochs + 1), train_acc_history, marker='o', color='g')\n",
        "axs[2].set_title('Training Accuracy History')\n",
        "axs[2].set_xlabel('Epoch')\n",
        "axs[2].set_ylabel('Accuracy')\n",
        "\n",
        "plt.tight_layout()\n",
        "plt.show()"
      ]
    },
    {
      "cell_type": "markdown",
      "metadata": {
        "id": "5B92-ZCP8WJS"
      },
      "source": [
        "# 5. Evaluate the Model"
      ]
    },
    {
      "cell_type": "code",
      "execution_count": null,
      "metadata": {
        "id": "RkW_gk008WJT"
      },
      "outputs": [],
      "source": []
    }
  ],
  "metadata": {
    "accelerator": "GPU",
    "colab": {
      "gpuType": "T4",
      "provenance": []
    },
    "kernelspec": {
      "display_name": "Python 3",
      "name": "python3"
    },
    "language_info": {
      "codemirror_mode": {
        "name": "ipython",
        "version": 3
      },
      "file_extension": ".py",
      "mimetype": "text/x-python",
      "name": "python",
      "nbconvert_exporter": "python",
      "pygments_lexer": "ipython3",
      "version": "3.11.5"
    },
    "orig_nbformat": 4
  },
  "nbformat": 4,
  "nbformat_minor": 0
}
