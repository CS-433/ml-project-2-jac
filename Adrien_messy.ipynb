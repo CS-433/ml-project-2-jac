{
 "cells": [
  {
   "cell_type": "markdown",
   "metadata": {},
   "source": [
    "# Description"
   ]
  },
  {
   "cell_type": "markdown",
   "metadata": {},
   "source": [
    "In this notebook you'll find a way to download the data.  \n",
    "Both data with jet and without are downloaded here and are stored in the previously defined folder : data1 and data0 respectively.  \n",
    "The steps are the following :  \n",
    "- Importing csv file that contain the date and the cutout wanted for the image\n",
    "- Making the request to the JSOC server for the wanted duration (30 images)\n",
    "- Getting the numpy array from the requested files\n",
    "- Transforming the array to perform a MaxPool2D (convolution over the image to deacrease its size from 500x500 to 166x166)\n",
    "- Storing the image into a numpy array using a compressed version  \n",
    "\n",
    "\n",
    "**Somes infos :**  \n",
    "`Total number of events` = 1766  \n",
    "`Downloading rate` : 2mins / event --> total = 59 hours (2,5 days !!!!)  \n",
    "`File data storage` = 900 Ko  \n",
    "`Total storage` = 1,6 Go   "
   ]
  },
  {
   "cell_type": "markdown",
   "metadata": {},
   "source": [
    "Problem : Some event, when requesting the files, found only 29 files and not 30 ? why ?  \n",
    "   idk maybe a loss in the jsoc database... !!!Events dates are overlapping\n",
    "   "
   ]
  },
  {
   "cell_type": "markdown",
   "metadata": {},
   "source": [
    "# Import functions and libraries"
   ]
  },
  {
   "cell_type": "code",
   "execution_count": 1,
   "metadata": {},
   "outputs": [],
   "source": [
    "import pandas as pd\n",
    "import numpy as np\n",
    "from functions_AIA import *"
   ]
  },
  {
   "cell_type": "markdown",
   "metadata": {},
   "source": [
    "# Run AIA requests"
   ]
  },
  {
   "cell_type": "markdown",
   "metadata": {},
   "source": [
    "## First the data with jet (data1)"
   ]
  },
  {
   "cell_type": "code",
   "execution_count": 5,
   "metadata": {},
   "outputs": [
    {
     "name": "stdout",
     "output_type": "stream",
     "text": [
      "Export request pending. [id=JSOC_20231129_2238, status=2]\n",
      "Waiting for 0 seconds...\n",
      "6 URLs found for download. Full request totalling 1MB\n"
     ]
    },
    {
     "data": {
      "application/vnd.jupyter.widget-view+json": {
       "model_id": "82ad6cfa1f0e4a6794f0c486ad891b2c",
       "version_major": 2,
       "version_minor": 0
      },
      "text/plain": [
       "Files Downloaded:   0%|          | 0/6 [00:00<?, ?file/s]"
      ]
     },
     "metadata": {},
     "output_type": "display_data"
    },
    {
     "data": {
      "application/vnd.jupyter.widget-view+json": {
       "model_id": "c3f87787eb9b417fa912590a9f0973e0",
       "version_major": 2,
       "version_minor": 0
      },
      "text/plain": [
       "aia.lev1_euv_12s.2011-05-31T212026Z.304.image.fits:   0%|          | 0.00/187k [00:00<?, ?B/s]"
      ]
     },
     "metadata": {},
     "output_type": "display_data"
    },
    {
     "data": {
      "application/vnd.jupyter.widget-view+json": {
       "model_id": "d8c144269aaf48f1966c45fa0e4a46b0",
       "version_major": 2,
       "version_minor": 0
      },
      "text/plain": [
       "aia.lev1_euv_12s.2011-05-31T212226Z.304.image.fits:   0%|          | 0.00/187k [00:00<?, ?B/s]"
      ]
     },
     "metadata": {},
     "output_type": "display_data"
    },
    {
     "data": {
      "application/vnd.jupyter.widget-view+json": {
       "model_id": "e205acc273a94098822ceb977c140ef8",
       "version_major": 2,
       "version_minor": 0
      },
      "text/plain": [
       "aia.lev1_euv_12s.2011-05-31T212426Z.304.image.fits:   0%|          | 0.00/187k [00:00<?, ?B/s]"
      ]
     },
     "metadata": {},
     "output_type": "display_data"
    },
    {
     "data": {
      "application/vnd.jupyter.widget-view+json": {
       "model_id": "3c6804846984482da399c4fab0ce21fb",
       "version_major": 2,
       "version_minor": 0
      },
      "text/plain": [
       "aia.lev1_euv_12s.2011-05-31T212626Z.304.image.fits:   0%|          | 0.00/187k [00:00<?, ?B/s]"
      ]
     },
     "metadata": {},
     "output_type": "display_data"
    },
    {
     "data": {
      "application/vnd.jupyter.widget-view+json": {
       "model_id": "051145c4ceb8432b80d7ff2275a3928f",
       "version_major": 2,
       "version_minor": 0
      },
      "text/plain": [
       "aia.lev1_euv_12s.2011-05-31T212826Z.304.image.fits:   0%|          | 0.00/187k [00:00<?, ?B/s]"
      ]
     },
     "metadata": {},
     "output_type": "display_data"
    },
    {
     "data": {
      "application/vnd.jupyter.widget-view+json": {
       "model_id": "97aa7911eddf4a1299d2396ad70c49ee",
       "version_major": 2,
       "version_minor": 0
      },
      "text/plain": [
       "aia.lev1_euv_12s.2011-05-31T213026Z.304.image.fits:   0%|          | 0.00/187k [00:00<?, ?B/s]"
      ]
     },
     "metadata": {},
     "output_type": "display_data"
    },
    {
     "name": "stdout",
     "output_type": "stream",
     "text": [
      "Download = 1/2 and array =(166, 166, 6)\n",
      "Export request pending. [id=JSOC_20231129_2239, status=2]\n",
      "Waiting for 0 seconds...\n",
      "6 URLs found for download. Full request totalling 1MB\n"
     ]
    },
    {
     "data": {
      "application/vnd.jupyter.widget-view+json": {
       "model_id": "b792b3e93e6e4fd8aa7e5929c9514228",
       "version_major": 2,
       "version_minor": 0
      },
      "text/plain": [
       "Files Downloaded:   0%|          | 0/6 [00:00<?, ?file/s]"
      ]
     },
     "metadata": {},
     "output_type": "display_data"
    },
    {
     "data": {
      "application/vnd.jupyter.widget-view+json": {
       "model_id": "c44bf6ca00f645e587875607b443be1f",
       "version_major": 2,
       "version_minor": 0
      },
      "text/plain": [
       "aia.lev1_euv_12s.2011-05-31T213326Z.304.image.fits:   0%|          | 0.00/187k [00:00<?, ?B/s]"
      ]
     },
     "metadata": {},
     "output_type": "display_data"
    },
    {
     "data": {
      "application/vnd.jupyter.widget-view+json": {
       "model_id": "3dcf31060d7648a09fbef4f7f80c2fda",
       "version_major": 2,
       "version_minor": 0
      },
      "text/plain": [
       "aia.lev1_euv_12s.2011-05-31T213526Z.304.image.fits:   0%|          | 0.00/190k [00:00<?, ?B/s]"
      ]
     },
     "metadata": {},
     "output_type": "display_data"
    },
    {
     "data": {
      "application/vnd.jupyter.widget-view+json": {
       "model_id": "2f014ff9d0e64b16b54047a37a4737dc",
       "version_major": 2,
       "version_minor": 0
      },
      "text/plain": [
       "aia.lev1_euv_12s.2011-05-31T213726Z.304.image.fits:   0%|          | 0.00/190k [00:00<?, ?B/s]"
      ]
     },
     "metadata": {},
     "output_type": "display_data"
    },
    {
     "data": {
      "application/vnd.jupyter.widget-view+json": {
       "model_id": "6dc6165f164f409aaafea9309f0db898",
       "version_major": 2,
       "version_minor": 0
      },
      "text/plain": [
       "aia.lev1_euv_12s.2011-05-31T213926Z.304.image.fits:   0%|          | 0.00/190k [00:00<?, ?B/s]"
      ]
     },
     "metadata": {},
     "output_type": "display_data"
    },
    {
     "data": {
      "application/vnd.jupyter.widget-view+json": {
       "model_id": "aaf06e01b1914ae4bbb9f161c295e3a6",
       "version_major": 2,
       "version_minor": 0
      },
      "text/plain": [
       "aia.lev1_euv_12s.2011-05-31T214126Z.304.image.fits:   0%|          | 0.00/190k [00:00<?, ?B/s]"
      ]
     },
     "metadata": {},
     "output_type": "display_data"
    },
    {
     "data": {
      "application/vnd.jupyter.widget-view+json": {
       "model_id": "5c75e17853dd42b98080e6f47da04276",
       "version_major": 2,
       "version_minor": 0
      },
      "text/plain": [
       "aia.lev1_euv_12s.2011-05-31T214326Z.304.image.fits:   0%|          | 0.00/190k [00:00<?, ?B/s]"
      ]
     },
     "metadata": {},
     "output_type": "display_data"
    },
    {
     "name": "stdout",
     "output_type": "stream",
     "text": [
      "Download = 2/2 and array =(166, 166, 6)\n"
     ]
    }
   ],
   "source": [
    "data1=load_data()\n",
    "num_images=30\n",
    "jsoc_email=\"adrien.joliat@epfl.ch\"\n",
    "\n",
    "events_list = data1.iloc[94:96]\n",
    "a=0\n",
    "\n",
    "for i in events_list.index:\n",
    "    a+=1\n",
    "    files = get_images(data1.iloc[i], num_images, jsoc_email) # selects data line i\n",
    "    # \"files\" is (class <parfive>) and contains N <HDUList> objects (where N is the nb of images in the sequence) \n",
    "    # that we open as \"f\". The attribute f.data returns a numpy array in our case, bc the data is an image.\n",
    "    # sequence_array is a 3D array of shape (166, 166, N) which contains all the pixel values for one line of data (~ 1 event)\n",
    "    sequence_array = array_file(files) #torch array of the whole sequency event\n",
    "\n",
    "    #Save the array\n",
    "    np.savez_compressed(\"./data1/\"+str(i)+\".npz\" , sequence_array)\n",
    "    \n",
    "    # Check the size of final array\n",
    "    print(f\"Download = {a}/{len(events_list.index)} and array ={sequence_array.shape}\")"
   ]
  },
  {
   "cell_type": "markdown",
   "metadata": {},
   "source": [
    "## Secondly, data without jet (data0)"
   ]
  },
  {
   "cell_type": "code",
   "execution_count": null,
   "metadata": {},
   "outputs": [],
   "source": [
    "data0=load_data_nojet()\n",
    "num_images=30\n",
    "jsoc_email=\"adrien.joliat@epfl.ch\"\n",
    "\n",
    "events_list = data0.iloc[:1]\n",
    "a=0\n",
    "for i in events_list.index:\n",
    "    a+=1\n",
    "    files = get_images(data0.iloc[i], num_images, jsoc_email) # selects data line i\n",
    "    # \"files\" is (class <parfive>) and contains N <HDUList> objects (where N is the nb of images in the sequence) \n",
    "    # that we open as \"f\". The attribute f.data returns a numpy array in our case, bc the data is an image.\n",
    "    # sequence_array is a array of shape (166, 166, N) which contains all the pixel values for one line of data (~ 1 event)\n",
    "    sequence_array = array_file(files) #torch array of the whole sequency event\n",
    "\n",
    "    #Save the array\n",
    "    np.savez_compressed(\"./data0/\"+str(i)+\".npz\" , sequence_array)\n",
    "    \n",
    "    # Check the size of final array\n",
    "    print(f\"Download = {a}/{len(events_list.index)} and array ={sequence_array.shape}\")"
   ]
  },
  {
   "cell_type": "markdown",
   "metadata": {},
   "source": [
    "## Access data "
   ]
  },
  {
   "cell_type": "code",
   "execution_count": null,
   "metadata": {},
   "outputs": [],
   "source": [
    "archive= np.load(\"./data1/0.npz\")\n",
    "array=archive[\"arr_0\"]\n",
    "\n",
    "for i in range(30):\n",
    "    plot_array(array[:,:,i])"
   ]
  },
  {
   "cell_type": "code",
   "execution_count": null,
   "metadata": {},
   "outputs": [],
   "source": [
    "archive= np.load(\"./data0/0.npz\")\n",
    "array=archive[\"arr_0\"]\n",
    "plot_array(array[:,:,15])"
   ]
  },
  {
   "cell_type": "markdown",
   "metadata": {},
   "source": [
    "# Verify Images Shapes"
   ]
  },
  {
   "cell_type": "code",
   "execution_count": 4,
   "metadata": {},
   "outputs": [
    {
     "name": "stdout",
     "output_type": "stream",
     "text": [
      "The event 27 has not a conform shape : (166, 166, 29)\n",
      "The event 28 has not a conform shape : (166, 166, 27)\n",
      "The event 30 has not a conform shape : (166, 166, 29)\n",
      "The event 63 has not a conform shape : (166, 166, 6)\n",
      "The event 64 has not a conform shape : (166, 166, 5)\n",
      "The event 65 has not a conform shape : (166, 166, 5)\n",
      "The event 66 has not a conform shape : (166, 166, 25)\n",
      "The event 94 has not a conform shape : (166, 166, 6)\n",
      "The event 95 has not a conform shape : (166, 166, 6)\n"
     ]
    }
   ],
   "source": [
    "for i in range(125):\n",
    "    archive= np.load(f\"./data1/{i}.npz\")\n",
    "    array=archive[\"arr_0\"]\n",
    "    #print(array.shape)\n",
    "    if array.shape!=(166,166,30):\n",
    "        print(f\"The event {i} has not a conform shape : {array.shape}\")\n",
    "    "
   ]
  },
  {
   "cell_type": "code",
   "execution_count": 9,
   "metadata": {},
   "outputs": [
    {
     "data": {
      "text/plain": [
       "#sjh_ID                             sjh_2011-05-27T22_1\n",
       "date                         2011-05-27T22:10:32.000000\n",
       "SOL_event                SOL2011-05-27T21:40:29L028C078\n",
       "duration                                           14.0\n",
       "basepoint_X                                    -917.895\n",
       "std_X                                               0.0\n",
       "basepoint_Y                                     260.182\n",
       "std_Y                                               0.0\n",
       "basepoint_X_longitude                             -89.0\n",
       "basepoint_Y_latitude                               15.0\n",
       "max_height                                    53.018991\n",
       "upper_H                                       15.417014\n",
       "lower_H                                      -11.943925\n",
       "avg_width                                     20.855258\n",
       "std_width                                           0.0\n",
       "sigma                                          0.399803\n",
       "flag                                                 10\n",
       "Name: 63, dtype: object"
      ]
     },
     "metadata": {},
     "output_type": "display_data"
    },
    {
     "data": {
      "text/plain": [
       "#sjh_ID                             sjh_2011-05-27T22_2\n",
       "date                         2011-05-27T22:23:32.000000\n",
       "SOL_event                SOL2011-05-27T21:40:29L028C078\n",
       "duration                                           16.0\n",
       "basepoint_X                                    -921.456\n",
       "std_X                                               0.0\n",
       "basepoint_Y                                     248.459\n",
       "std_Y                                               0.0\n",
       "basepoint_X_longitude                             -89.0\n",
       "basepoint_Y_latitude                               15.0\n",
       "max_height                                    69.916141\n",
       "upper_H                                        18.90039\n",
       "lower_H                                      -14.878338\n",
       "avg_width                                     30.725744\n",
       "std_width                                           0.0\n",
       "sigma                                           0.38032\n",
       "flag                                                 10\n",
       "Name: 64, dtype: object"
      ]
     },
     "metadata": {},
     "output_type": "display_data"
    },
    {
     "data": {
      "text/plain": [
       "#sjh_ID                             sjh_2011-05-27T22_3\n",
       "date                         2011-05-27T22:23:32.000000\n",
       "SOL_event                SOL2011-05-27T21:40:29L028C078\n",
       "duration                                           16.0\n",
       "basepoint_X                                    -921.456\n",
       "std_X                                               0.0\n",
       "basepoint_Y                                     248.459\n",
       "std_Y                                               0.0\n",
       "basepoint_X_longitude                             -89.0\n",
       "basepoint_Y_latitude                               15.0\n",
       "max_height                                   209.693396\n",
       "upper_H                                       70.140689\n",
       "lower_H                                      -52.559856\n",
       "avg_width                                     24.734475\n",
       "std_width                                           0.0\n",
       "sigma                                          0.438476\n",
       "flag                                                 10\n",
       "Name: 65, dtype: object"
      ]
     },
     "metadata": {},
     "output_type": "display_data"
    }
   ],
   "source": [
    "display(data1.iloc[63])\n",
    "display(data1.iloc[64])\n",
    "display(data1.iloc[65])"
   ]
  }
 ],
 "metadata": {
  "kernelspec": {
   "display_name": "envADA",
   "language": "python",
   "name": "python3"
  },
  "language_info": {
   "codemirror_mode": {
    "name": "ipython",
    "version": 3
   },
   "file_extension": ".py",
   "mimetype": "text/x-python",
   "name": "python",
   "nbconvert_exporter": "python",
   "pygments_lexer": "ipython3",
   "version": "3.9.18"
  }
 },
 "nbformat": 4,
 "nbformat_minor": 2
}
