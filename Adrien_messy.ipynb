{
 "cells": [
  {
   "cell_type": "markdown",
   "metadata": {},
   "source": [
    "# Description"
   ]
  },
  {
   "cell_type": "markdown",
   "metadata": {},
   "source": [
    "In this notebook you'll find a way to download the data.  \n",
    "Both data with jet and without are downloaded here and are stored in the previously defined folder : data1 and data0 respectively.  \n",
    "The steps are the following :  \n",
    "- Importing csv file that contain the date and the cutout wanted for the image\n",
    "- Making the request to the JSOC server for the wanted duration (30 images)\n",
    "- Getting the numpy array from the requested files\n",
    "- Transforming the array to perform a MaxPool2D (convolution over the image to deacrease its size from 500x500 to 166x166)\n",
    "- Storing the image into a numpy array using a compressed version  \n",
    "\n",
    "\n",
    "**Somes infos :**  \n",
    "`Total number of events` = 1766  \n",
    "`Downloading rate` : 2mins / event --> total = 59 hours (2,5 days !!!!)  \n",
    "`File data storage` = 900 Ko  \n",
    "`Total storage` = 1,6 Go   "
   ]
  },
  {
   "cell_type": "markdown",
   "metadata": {},
   "source": [
    "Problem : Get stuck during the enumeration of events "
   ]
  },
  {
   "cell_type": "markdown",
   "metadata": {},
   "source": [
    "# Import functions and libraries"
   ]
  },
  {
   "cell_type": "code",
   "execution_count": 1,
   "metadata": {},
   "outputs": [],
   "source": [
    "import pandas as pd\n",
    "import numpy as np\n",
    "from functions_AIA import *"
   ]
  },
  {
   "cell_type": "markdown",
   "metadata": {},
   "source": [
    "# Run AIA requests"
   ]
  },
  {
   "cell_type": "markdown",
   "metadata": {},
   "source": [
    "## First the data with jet (data1)"
   ]
  },
  {
   "cell_type": "code",
   "execution_count": 3,
   "metadata": {},
   "outputs": [
    {
     "name": "stdout",
     "output_type": "stream",
     "text": [
      "Export request pending. [id=JSOC_20231129_1015, status=2]\n",
      "Waiting for 0 seconds...\n",
      "30 URLs found for download. Full request totalling 6MB\n"
     ]
    },
    {
     "data": {
      "application/vnd.jupyter.widget-view+json": {
       "model_id": "dd2a14cb96bb4e5cba77d9fa9d8043b2",
       "version_major": 2,
       "version_minor": 0
      },
      "text/plain": [
       "Files Downloaded:   0%|          | 0/30 [00:00<?, ?file/s]"
      ]
     },
     "metadata": {},
     "output_type": "display_data"
    },
    {
     "data": {
      "application/vnd.jupyter.widget-view+json": {
       "model_id": "efec12df1cbc49dfbc41e66d09cd3a11",
       "version_major": 2,
       "version_minor": 0
      },
      "text/plain": [
       "aia.lev1_euv_12s.2011-04-08T175650Z.304.image.fits:   0%|          | 0.00/204k [00:00<?, ?B/s]"
      ]
     },
     "metadata": {},
     "output_type": "display_data"
    },
    {
     "data": {
      "application/vnd.jupyter.widget-view+json": {
       "model_id": "1a79160b1fe04c15bce396a7ff6958dc",
       "version_major": 2,
       "version_minor": 0
      },
      "text/plain": [
       "aia.lev1_euv_12s.2011-04-08T175714Z.304.image.fits:   0%|          | 0.00/204k [00:00<?, ?B/s]"
      ]
     },
     "metadata": {},
     "output_type": "display_data"
    },
    {
     "data": {
      "application/vnd.jupyter.widget-view+json": {
       "model_id": "e36b8a2a2ff74323ae487d012f167d78",
       "version_major": 2,
       "version_minor": 0
      },
      "text/plain": [
       "aia.lev1_euv_12s.2011-04-08T175738Z.304.image.fits:   0%|          | 0.00/204k [00:00<?, ?B/s]"
      ]
     },
     "metadata": {},
     "output_type": "display_data"
    },
    {
     "data": {
      "application/vnd.jupyter.widget-view+json": {
       "model_id": "6eb21a1c58394ce4ad91a5f8779295a7",
       "version_major": 2,
       "version_minor": 0
      },
      "text/plain": [
       "aia.lev1_euv_12s.2011-04-08T175802Z.304.image.fits:   0%|          | 0.00/204k [00:00<?, ?B/s]"
      ]
     },
     "metadata": {},
     "output_type": "display_data"
    },
    {
     "data": {
      "application/vnd.jupyter.widget-view+json": {
       "model_id": "4e60d1a12ada49dfa1fa16acf2c13c5b",
       "version_major": 2,
       "version_minor": 0
      },
      "text/plain": [
       "aia.lev1_euv_12s.2011-04-08T175826Z.304.image.fits:   0%|          | 0.00/204k [00:00<?, ?B/s]"
      ]
     },
     "metadata": {},
     "output_type": "display_data"
    },
    {
     "data": {
      "application/vnd.jupyter.widget-view+json": {
       "model_id": "89877e0a8e1245ee94b4b40f2797bdd0",
       "version_major": 2,
       "version_minor": 0
      },
      "text/plain": [
       "aia.lev1_euv_12s.2011-04-08T175850Z.304.image.fits:   0%|          | 0.00/207k [00:00<?, ?B/s]"
      ]
     },
     "metadata": {},
     "output_type": "display_data"
    },
    {
     "data": {
      "application/vnd.jupyter.widget-view+json": {
       "model_id": "91e74c6839b4485a88f24e28f157ef08",
       "version_major": 2,
       "version_minor": 0
      },
      "text/plain": [
       "aia.lev1_euv_12s.2011-04-08T175914Z.304.image.fits:   0%|          | 0.00/207k [00:00<?, ?B/s]"
      ]
     },
     "metadata": {},
     "output_type": "display_data"
    },
    {
     "data": {
      "application/vnd.jupyter.widget-view+json": {
       "model_id": "327b11d1be7649218056f351bb664e87",
       "version_major": 2,
       "version_minor": 0
      },
      "text/plain": [
       "aia.lev1_euv_12s.2011-04-08T175938Z.304.image.fits:   0%|          | 0.00/207k [00:00<?, ?B/s]"
      ]
     },
     "metadata": {},
     "output_type": "display_data"
    },
    {
     "data": {
      "application/vnd.jupyter.widget-view+json": {
       "model_id": "af22c7c76d944515b2495b7c017bec57",
       "version_major": 2,
       "version_minor": 0
      },
      "text/plain": [
       "aia.lev1_euv_12s.2011-04-08T180002Z.304.image.fits:   0%|          | 0.00/207k [00:00<?, ?B/s]"
      ]
     },
     "metadata": {},
     "output_type": "display_data"
    },
    {
     "data": {
      "application/vnd.jupyter.widget-view+json": {
       "model_id": "6342f91d45d6409795c9920a74b89a29",
       "version_major": 2,
       "version_minor": 0
      },
      "text/plain": [
       "aia.lev1_euv_12s.2011-04-08T180026Z.304.image.fits:   0%|          | 0.00/207k [00:00<?, ?B/s]"
      ]
     },
     "metadata": {},
     "output_type": "display_data"
    },
    {
     "data": {
      "application/vnd.jupyter.widget-view+json": {
       "model_id": "2e3cb388158849f7b4b8302cba5bb680",
       "version_major": 2,
       "version_minor": 0
      },
      "text/plain": [
       "aia.lev1_euv_12s.2011-04-08T180050Z.304.image.fits:   0%|          | 0.00/207k [00:00<?, ?B/s]"
      ]
     },
     "metadata": {},
     "output_type": "display_data"
    },
    {
     "data": {
      "application/vnd.jupyter.widget-view+json": {
       "model_id": "a286a295cf4545589a596b8f7e5066a8",
       "version_major": 2,
       "version_minor": 0
      },
      "text/plain": [
       "aia.lev1_euv_12s.2011-04-08T180114Z.304.image.fits:   0%|          | 0.00/207k [00:00<?, ?B/s]"
      ]
     },
     "metadata": {},
     "output_type": "display_data"
    },
    {
     "data": {
      "application/vnd.jupyter.widget-view+json": {
       "model_id": "24fa0ab7c2464f26aa70dd4cf3ff9401",
       "version_major": 2,
       "version_minor": 0
      },
      "text/plain": [
       "aia.lev1_euv_12s.2011-04-08T180138Z.304.image.fits:   0%|          | 0.00/207k [00:00<?, ?B/s]"
      ]
     },
     "metadata": {},
     "output_type": "display_data"
    },
    {
     "data": {
      "application/vnd.jupyter.widget-view+json": {
       "model_id": "2a0faa4cc9b141989f5d89d8358e25ec",
       "version_major": 2,
       "version_minor": 0
      },
      "text/plain": [
       "aia.lev1_euv_12s.2011-04-08T180202Z.304.image.fits:   0%|          | 0.00/207k [00:00<?, ?B/s]"
      ]
     },
     "metadata": {},
     "output_type": "display_data"
    },
    {
     "data": {
      "application/vnd.jupyter.widget-view+json": {
       "model_id": "92303c68154a4835855cb8b86f4d8fd4",
       "version_major": 2,
       "version_minor": 0
      },
      "text/plain": [
       "aia.lev1_euv_12s.2011-04-08T180226Z.304.image.fits:   0%|          | 0.00/207k [00:00<?, ?B/s]"
      ]
     },
     "metadata": {},
     "output_type": "display_data"
    },
    {
     "data": {
      "application/vnd.jupyter.widget-view+json": {
       "model_id": "624443b3d0bb4333a6e65512673ce3ba",
       "version_major": 2,
       "version_minor": 0
      },
      "text/plain": [
       "aia.lev1_euv_12s.2011-04-08T180250Z.304.image.fits:   0%|          | 0.00/207k [00:00<?, ?B/s]"
      ]
     },
     "metadata": {},
     "output_type": "display_data"
    },
    {
     "data": {
      "application/vnd.jupyter.widget-view+json": {
       "model_id": "523890464d414a16b7accf7621b2a3e9",
       "version_major": 2,
       "version_minor": 0
      },
      "text/plain": [
       "aia.lev1_euv_12s.2011-04-08T180314Z.304.image.fits:   0%|          | 0.00/207k [00:00<?, ?B/s]"
      ]
     },
     "metadata": {},
     "output_type": "display_data"
    },
    {
     "data": {
      "application/vnd.jupyter.widget-view+json": {
       "model_id": "a08609912ce645e29da79e7a59ad5d13",
       "version_major": 2,
       "version_minor": 0
      },
      "text/plain": [
       "aia.lev1_euv_12s.2011-04-08T180338Z.304.image.fits:   0%|          | 0.00/207k [00:00<?, ?B/s]"
      ]
     },
     "metadata": {},
     "output_type": "display_data"
    },
    {
     "data": {
      "application/vnd.jupyter.widget-view+json": {
       "model_id": "9e2cd6f2971d4a17ad4875cea656b409",
       "version_major": 2,
       "version_minor": 0
      },
      "text/plain": [
       "aia.lev1_euv_12s.2011-04-08T180402Z.304.image.fits:   0%|          | 0.00/207k [00:00<?, ?B/s]"
      ]
     },
     "metadata": {},
     "output_type": "display_data"
    },
    {
     "data": {
      "application/vnd.jupyter.widget-view+json": {
       "model_id": "3a0dcd440c4e4470964ff44e6e8640a2",
       "version_major": 2,
       "version_minor": 0
      },
      "text/plain": [
       "aia.lev1_euv_12s.2011-04-08T180426Z.304.image.fits:   0%|          | 0.00/207k [00:00<?, ?B/s]"
      ]
     },
     "metadata": {},
     "output_type": "display_data"
    },
    {
     "data": {
      "application/vnd.jupyter.widget-view+json": {
       "model_id": "bb213fda6ce8411d8474c39425df6fa1",
       "version_major": 2,
       "version_minor": 0
      },
      "text/plain": [
       "aia.lev1_euv_12s.2011-04-08T180450Z.304.image.fits:   0%|          | 0.00/207k [00:00<?, ?B/s]"
      ]
     },
     "metadata": {},
     "output_type": "display_data"
    },
    {
     "data": {
      "application/vnd.jupyter.widget-view+json": {
       "model_id": "b3d082ddd96542efa4728698cbd86795",
       "version_major": 2,
       "version_minor": 0
      },
      "text/plain": [
       "aia.lev1_euv_12s.2011-04-08T180514Z.304.image.fits:   0%|          | 0.00/207k [00:00<?, ?B/s]"
      ]
     },
     "metadata": {},
     "output_type": "display_data"
    },
    {
     "data": {
      "application/vnd.jupyter.widget-view+json": {
       "model_id": "b8049e4672894258ad90ce1c3a6e24d5",
       "version_major": 2,
       "version_minor": 0
      },
      "text/plain": [
       "aia.lev1_euv_12s.2011-04-08T180538Z.304.image.fits:   0%|          | 0.00/207k [00:00<?, ?B/s]"
      ]
     },
     "metadata": {},
     "output_type": "display_data"
    },
    {
     "data": {
      "application/vnd.jupyter.widget-view+json": {
       "model_id": "acbecb7d077148d8a4b398454817cfac",
       "version_major": 2,
       "version_minor": 0
      },
      "text/plain": [
       "aia.lev1_euv_12s.2011-04-08T180602Z.304.image.fits:   0%|          | 0.00/207k [00:00<?, ?B/s]"
      ]
     },
     "metadata": {},
     "output_type": "display_data"
    },
    {
     "data": {
      "application/vnd.jupyter.widget-view+json": {
       "model_id": "3157bef13f7a488799d51953816c48eb",
       "version_major": 2,
       "version_minor": 0
      },
      "text/plain": [
       "aia.lev1_euv_12s.2011-04-08T180626Z.304.image.fits:   0%|          | 0.00/207k [00:00<?, ?B/s]"
      ]
     },
     "metadata": {},
     "output_type": "display_data"
    },
    {
     "data": {
      "application/vnd.jupyter.widget-view+json": {
       "model_id": "7259291fbaab46a3a687377c1344926e",
       "version_major": 2,
       "version_minor": 0
      },
      "text/plain": [
       "aia.lev1_euv_12s.2011-04-08T180650Z.304.image.fits:   0%|          | 0.00/207k [00:00<?, ?B/s]"
      ]
     },
     "metadata": {},
     "output_type": "display_data"
    },
    {
     "data": {
      "application/vnd.jupyter.widget-view+json": {
       "model_id": "c6c2b7165ab54988818ae681efc79b5f",
       "version_major": 2,
       "version_minor": 0
      },
      "text/plain": [
       "aia.lev1_euv_12s.2011-04-08T180714Z.304.image.fits:   0%|          | 0.00/204k [00:00<?, ?B/s]"
      ]
     },
     "metadata": {},
     "output_type": "display_data"
    },
    {
     "data": {
      "application/vnd.jupyter.widget-view+json": {
       "model_id": "84c0cee4c2934b7ba6a422328feb82de",
       "version_major": 2,
       "version_minor": 0
      },
      "text/plain": [
       "aia.lev1_euv_12s.2011-04-08T180738Z.304.image.fits:   0%|          | 0.00/204k [00:00<?, ?B/s]"
      ]
     },
     "metadata": {},
     "output_type": "display_data"
    },
    {
     "data": {
      "application/vnd.jupyter.widget-view+json": {
       "model_id": "cfe6e02f92e947a3b6c2a4c905003fe8",
       "version_major": 2,
       "version_minor": 0
      },
      "text/plain": [
       "aia.lev1_euv_12s.2011-04-08T180802Z.304.image.fits:   0%|          | 0.00/204k [00:00<?, ?B/s]"
      ]
     },
     "metadata": {},
     "output_type": "display_data"
    },
    {
     "data": {
      "application/vnd.jupyter.widget-view+json": {
       "model_id": "b37e2a00495b40f68add8d0ed7e307ea",
       "version_major": 2,
       "version_minor": 0
      },
      "text/plain": [
       "aia.lev1_euv_12s.2011-04-08T180826Z.304.image.fits:   0%|          | 0.00/204k [00:00<?, ?B/s]"
      ]
     },
     "metadata": {},
     "output_type": "display_data"
    },
    {
     "name": "stdout",
     "output_type": "stream",
     "text": [
      "Download = 1/19 and array =(166, 166, 30)\n",
      "Export request pending. [id=JSOC_20231129_1019, status=2]\n",
      "Waiting for 0 seconds...\n",
      "30 URLs found for download. Full request totalling 6MB\n"
     ]
    },
    {
     "data": {
      "application/vnd.jupyter.widget-view+json": {
       "model_id": "c026c837578a408b84f1ef57bdd4f7f7",
       "version_major": 2,
       "version_minor": 0
      },
      "text/plain": [
       "Files Downloaded:   0%|          | 0/30 [00:00<?, ?file/s]"
      ]
     },
     "metadata": {},
     "output_type": "display_data"
    },
    {
     "data": {
      "application/vnd.jupyter.widget-view+json": {
       "model_id": "3979c6ca98264ac184dad65c4ac805bf",
       "version_major": 2,
       "version_minor": 0
      },
      "text/plain": [
       "aia.lev1_euv_12s.2011-04-08T182802Z.304.image.fits:   0%|          | 0.00/202k [00:00<?, ?B/s]"
      ]
     },
     "metadata": {},
     "output_type": "display_data"
    },
    {
     "data": {
      "application/vnd.jupyter.widget-view+json": {
       "model_id": "386aa6bb3d5e408fafc1268753530cd0",
       "version_major": 2,
       "version_minor": 0
      },
      "text/plain": [
       "aia.lev1_euv_12s.2011-04-08T182826Z.304.image.fits:   0%|          | 0.00/202k [00:00<?, ?B/s]"
      ]
     },
     "metadata": {},
     "output_type": "display_data"
    },
    {
     "data": {
      "application/vnd.jupyter.widget-view+json": {
       "model_id": "8eaeeca95bf14c87b101a307a462613f",
       "version_major": 2,
       "version_minor": 0
      },
      "text/plain": [
       "aia.lev1_euv_12s.2011-04-08T182850Z.304.image.fits:   0%|          | 0.00/202k [00:00<?, ?B/s]"
      ]
     },
     "metadata": {},
     "output_type": "display_data"
    },
    {
     "data": {
      "application/vnd.jupyter.widget-view+json": {
       "model_id": "941d1d0ef4164f9cbb5429de487ca030",
       "version_major": 2,
       "version_minor": 0
      },
      "text/plain": [
       "aia.lev1_euv_12s.2011-04-08T182914Z.304.image.fits:   0%|          | 0.00/202k [00:00<?, ?B/s]"
      ]
     },
     "metadata": {},
     "output_type": "display_data"
    },
    {
     "data": {
      "application/vnd.jupyter.widget-view+json": {
       "model_id": "e6078f00ed824c54949b703f1444398d",
       "version_major": 2,
       "version_minor": 0
      },
      "text/plain": [
       "aia.lev1_euv_12s.2011-04-08T182938Z.304.image.fits:   0%|          | 0.00/202k [00:00<?, ?B/s]"
      ]
     },
     "metadata": {},
     "output_type": "display_data"
    },
    {
     "data": {
      "application/vnd.jupyter.widget-view+json": {
       "model_id": "fc4705d1b79047f4853c3d00fa7d7eb5",
       "version_major": 2,
       "version_minor": 0
      },
      "text/plain": [
       "aia.lev1_euv_12s.2011-04-08T183002Z.304.image.fits:   0%|          | 0.00/202k [00:00<?, ?B/s]"
      ]
     },
     "metadata": {},
     "output_type": "display_data"
    },
    {
     "data": {
      "application/vnd.jupyter.widget-view+json": {
       "model_id": "a74b5dd63ca347f18aef19df28d58134",
       "version_major": 2,
       "version_minor": 0
      },
      "text/plain": [
       "aia.lev1_euv_12s.2011-04-08T183026Z.304.image.fits:   0%|          | 0.00/202k [00:00<?, ?B/s]"
      ]
     },
     "metadata": {},
     "output_type": "display_data"
    },
    {
     "data": {
      "application/vnd.jupyter.widget-view+json": {
       "model_id": "c1ab69a3d86c4ddca139c5d89349de07",
       "version_major": 2,
       "version_minor": 0
      },
      "text/plain": [
       "aia.lev1_euv_12s.2011-04-08T183050Z.304.image.fits:   0%|          | 0.00/202k [00:00<?, ?B/s]"
      ]
     },
     "metadata": {},
     "output_type": "display_data"
    },
    {
     "data": {
      "application/vnd.jupyter.widget-view+json": {
       "model_id": "ad2d0e93ff5d4b4dadc3d0392487ae01",
       "version_major": 2,
       "version_minor": 0
      },
      "text/plain": [
       "aia.lev1_euv_12s.2011-04-08T183114Z.304.image.fits:   0%|          | 0.00/202k [00:00<?, ?B/s]"
      ]
     },
     "metadata": {},
     "output_type": "display_data"
    },
    {
     "data": {
      "application/vnd.jupyter.widget-view+json": {
       "model_id": "eee8ed0ce5c54518bcb23adff80adf88",
       "version_major": 2,
       "version_minor": 0
      },
      "text/plain": [
       "aia.lev1_euv_12s.2011-04-08T183138Z.304.image.fits:   0%|          | 0.00/202k [00:00<?, ?B/s]"
      ]
     },
     "metadata": {},
     "output_type": "display_data"
    },
    {
     "data": {
      "application/vnd.jupyter.widget-view+json": {
       "model_id": "e0dba16cc80a49aa9c612f33cdfcd2fc",
       "version_major": 2,
       "version_minor": 0
      },
      "text/plain": [
       "aia.lev1_euv_12s.2011-04-08T183202Z.304.image.fits:   0%|          | 0.00/202k [00:00<?, ?B/s]"
      ]
     },
     "metadata": {},
     "output_type": "display_data"
    },
    {
     "data": {
      "application/vnd.jupyter.widget-view+json": {
       "model_id": "111a4015fa8d46478e7a84d1ac6177d7",
       "version_major": 2,
       "version_minor": 0
      },
      "text/plain": [
       "aia.lev1_euv_12s.2011-04-08T183226Z.304.image.fits:   0%|          | 0.00/202k [00:00<?, ?B/s]"
      ]
     },
     "metadata": {},
     "output_type": "display_data"
    },
    {
     "data": {
      "application/vnd.jupyter.widget-view+json": {
       "model_id": "7b72385747544a8588fdd17ae4723a04",
       "version_major": 2,
       "version_minor": 0
      },
      "text/plain": [
       "aia.lev1_euv_12s.2011-04-08T183250Z.304.image.fits:   0%|          | 0.00/204k [00:00<?, ?B/s]"
      ]
     },
     "metadata": {},
     "output_type": "display_data"
    },
    {
     "data": {
      "application/vnd.jupyter.widget-view+json": {
       "model_id": "a0ab75e3f15248638087cf3386af4296",
       "version_major": 2,
       "version_minor": 0
      },
      "text/plain": [
       "aia.lev1_euv_12s.2011-04-08T183314Z.304.image.fits:   0%|          | 0.00/204k [00:00<?, ?B/s]"
      ]
     },
     "metadata": {},
     "output_type": "display_data"
    },
    {
     "data": {
      "application/vnd.jupyter.widget-view+json": {
       "model_id": "91360172a7014549a03d9e1a2d21a277",
       "version_major": 2,
       "version_minor": 0
      },
      "text/plain": [
       "aia.lev1_euv_12s.2011-04-08T183338Z.304.image.fits:   0%|          | 0.00/204k [00:00<?, ?B/s]"
      ]
     },
     "metadata": {},
     "output_type": "display_data"
    },
    {
     "data": {
      "application/vnd.jupyter.widget-view+json": {
       "model_id": "14141a8e41a04ced81ba0dda1d4f25f9",
       "version_major": 2,
       "version_minor": 0
      },
      "text/plain": [
       "aia.lev1_euv_12s.2011-04-08T183402Z.304.image.fits:   0%|          | 0.00/202k [00:00<?, ?B/s]"
      ]
     },
     "metadata": {},
     "output_type": "display_data"
    },
    {
     "data": {
      "application/vnd.jupyter.widget-view+json": {
       "model_id": "085d726bbe554f38b83d94b59fe27359",
       "version_major": 2,
       "version_minor": 0
      },
      "text/plain": [
       "aia.lev1_euv_12s.2011-04-08T183426Z.304.image.fits:   0%|          | 0.00/202k [00:00<?, ?B/s]"
      ]
     },
     "metadata": {},
     "output_type": "display_data"
    },
    {
     "data": {
      "application/vnd.jupyter.widget-view+json": {
       "model_id": "839da1e99c084ae59e17a4973a80f87a",
       "version_major": 2,
       "version_minor": 0
      },
      "text/plain": [
       "aia.lev1_euv_12s.2011-04-08T183450Z.304.image.fits:   0%|          | 0.00/202k [00:00<?, ?B/s]"
      ]
     },
     "metadata": {},
     "output_type": "display_data"
    },
    {
     "data": {
      "application/vnd.jupyter.widget-view+json": {
       "model_id": "73298b15d102413cbe542afe45f0b287",
       "version_major": 2,
       "version_minor": 0
      },
      "text/plain": [
       "aia.lev1_euv_12s.2011-04-08T183514Z.304.image.fits:   0%|          | 0.00/204k [00:00<?, ?B/s]"
      ]
     },
     "metadata": {},
     "output_type": "display_data"
    },
    {
     "data": {
      "application/vnd.jupyter.widget-view+json": {
       "model_id": "2b1c60cf4d604c56ace3e7345ab2b507",
       "version_major": 2,
       "version_minor": 0
      },
      "text/plain": [
       "aia.lev1_euv_12s.2011-04-08T183538Z.304.image.fits:   0%|          | 0.00/204k [00:00<?, ?B/s]"
      ]
     },
     "metadata": {},
     "output_type": "display_data"
    },
    {
     "data": {
      "application/vnd.jupyter.widget-view+json": {
       "model_id": "a1d1bf3fa6f446c7a594d049c20b9daa",
       "version_major": 2,
       "version_minor": 0
      },
      "text/plain": [
       "aia.lev1_euv_12s.2011-04-08T183602Z.304.image.fits:   0%|          | 0.00/204k [00:00<?, ?B/s]"
      ]
     },
     "metadata": {},
     "output_type": "display_data"
    },
    {
     "data": {
      "application/vnd.jupyter.widget-view+json": {
       "model_id": "a158017359df4a75bfa1e7f0adeff28f",
       "version_major": 2,
       "version_minor": 0
      },
      "text/plain": [
       "aia.lev1_euv_12s.2011-04-08T183626Z.304.image.fits:   0%|          | 0.00/204k [00:00<?, ?B/s]"
      ]
     },
     "metadata": {},
     "output_type": "display_data"
    },
    {
     "data": {
      "application/vnd.jupyter.widget-view+json": {
       "model_id": "7d918deaf47249d9aaa8a4905ba70c23",
       "version_major": 2,
       "version_minor": 0
      },
      "text/plain": [
       "aia.lev1_euv_12s.2011-04-08T183650Z.304.image.fits:   0%|          | 0.00/204k [00:00<?, ?B/s]"
      ]
     },
     "metadata": {},
     "output_type": "display_data"
    },
    {
     "data": {
      "application/vnd.jupyter.widget-view+json": {
       "model_id": "10fc1d2bf21d4abb93db518566d012d1",
       "version_major": 2,
       "version_minor": 0
      },
      "text/plain": [
       "aia.lev1_euv_12s.2011-04-08T183714Z.304.image.fits:   0%|          | 0.00/204k [00:00<?, ?B/s]"
      ]
     },
     "metadata": {},
     "output_type": "display_data"
    },
    {
     "data": {
      "application/vnd.jupyter.widget-view+json": {
       "model_id": "66a752ce29914c458b2a821f31b1e3dc",
       "version_major": 2,
       "version_minor": 0
      },
      "text/plain": [
       "aia.lev1_euv_12s.2011-04-08T183738Z.304.image.fits:   0%|          | 0.00/202k [00:00<?, ?B/s]"
      ]
     },
     "metadata": {},
     "output_type": "display_data"
    },
    {
     "data": {
      "application/vnd.jupyter.widget-view+json": {
       "model_id": "efcfedb8903849718f6b9b09c3779d65",
       "version_major": 2,
       "version_minor": 0
      },
      "text/plain": [
       "aia.lev1_euv_12s.2011-04-08T183802Z.304.image.fits:   0%|          | 0.00/202k [00:00<?, ?B/s]"
      ]
     },
     "metadata": {},
     "output_type": "display_data"
    },
    {
     "data": {
      "application/vnd.jupyter.widget-view+json": {
       "model_id": "6d3c1808c35f4bcfa5127a47a9841775",
       "version_major": 2,
       "version_minor": 0
      },
      "text/plain": [
       "aia.lev1_euv_12s.2011-04-08T183826Z.304.image.fits:   0%|          | 0.00/202k [00:00<?, ?B/s]"
      ]
     },
     "metadata": {},
     "output_type": "display_data"
    },
    {
     "data": {
      "application/vnd.jupyter.widget-view+json": {
       "model_id": "7f3298a3344f471a8ff4852b371205ea",
       "version_major": 2,
       "version_minor": 0
      },
      "text/plain": [
       "aia.lev1_euv_12s.2011-04-08T183850Z.304.image.fits:   0%|          | 0.00/202k [00:00<?, ?B/s]"
      ]
     },
     "metadata": {},
     "output_type": "display_data"
    },
    {
     "data": {
      "application/vnd.jupyter.widget-view+json": {
       "model_id": "e2802a6428314a9c86e73f880365836b",
       "version_major": 2,
       "version_minor": 0
      },
      "text/plain": [
       "aia.lev1_euv_12s.2011-04-08T183914Z.304.image.fits:   0%|          | 0.00/202k [00:00<?, ?B/s]"
      ]
     },
     "metadata": {},
     "output_type": "display_data"
    },
    {
     "data": {
      "application/vnd.jupyter.widget-view+json": {
       "model_id": "2996680bed8545e484926f7e920dce2f",
       "version_major": 2,
       "version_minor": 0
      },
      "text/plain": [
       "aia.lev1_euv_12s.2011-04-08T183938Z.304.image.fits:   0%|          | 0.00/202k [00:00<?, ?B/s]"
      ]
     },
     "metadata": {},
     "output_type": "display_data"
    },
    {
     "name": "stdout",
     "output_type": "stream",
     "text": [
      "Download = 2/19 and array =(166, 166, 30)\n",
      "Export request pending. [id=JSOC_20231129_1050, status=2]\n",
      "Waiting for 0 seconds...\n",
      "Export request pending. [id=JSOC_20231129_1050, status=1]\n",
      "Waiting for 5 seconds...\n",
      "Export request pending. [id=JSOC_20231129_1050, status=1]\n",
      "Waiting for 5 seconds...\n",
      "Export request pending. [id=JSOC_20231129_1050, status=1]\n",
      "Waiting for 5 seconds...\n",
      "Export request pending. [id=JSOC_20231129_1050, status=1]\n",
      "Waiting for 5 seconds...\n",
      "Export request pending. [id=JSOC_20231129_1050, status=1]\n",
      "Waiting for 5 seconds...\n",
      "30 URLs found for download. Full request totalling 6MB\n"
     ]
    },
    {
     "data": {
      "application/vnd.jupyter.widget-view+json": {
       "model_id": "88bc60ed26f149a28b7c22f54e5f1c7a",
       "version_major": 2,
       "version_minor": 0
      },
      "text/plain": [
       "Files Downloaded:   0%|          | 0/30 [00:00<?, ?file/s]"
      ]
     },
     "metadata": {},
     "output_type": "display_data"
    },
    {
     "data": {
      "application/vnd.jupyter.widget-view+json": {
       "model_id": "ec1c896bdc9b4a57a05848999504dc42",
       "version_major": 2,
       "version_minor": 0
      },
      "text/plain": [
       "aia.lev1_euv_12s.2011-04-08T184338Z.304.image.fits:   0%|          | 0.00/207k [00:00<?, ?B/s]"
      ]
     },
     "metadata": {},
     "output_type": "display_data"
    },
    {
     "data": {
      "application/vnd.jupyter.widget-view+json": {
       "model_id": "e8d28de0fad94df4b41f1c3c9710eb97",
       "version_major": 2,
       "version_minor": 0
      },
      "text/plain": [
       "aia.lev1_euv_12s.2011-04-08T184402Z.304.image.fits:   0%|          | 0.00/207k [00:00<?, ?B/s]"
      ]
     },
     "metadata": {},
     "output_type": "display_data"
    },
    {
     "data": {
      "application/vnd.jupyter.widget-view+json": {
       "model_id": "3dbf51f04e4f47229c4048aca88916e0",
       "version_major": 2,
       "version_minor": 0
      },
      "text/plain": [
       "aia.lev1_euv_12s.2011-04-08T184426Z.304.image.fits:   0%|          | 0.00/207k [00:00<?, ?B/s]"
      ]
     },
     "metadata": {},
     "output_type": "display_data"
    },
    {
     "data": {
      "application/vnd.jupyter.widget-view+json": {
       "model_id": "0858f4d4fe4d4127880c76f238cbfd88",
       "version_major": 2,
       "version_minor": 0
      },
      "text/plain": [
       "aia.lev1_euv_12s.2011-04-08T184450Z.304.image.fits:   0%|          | 0.00/207k [00:00<?, ?B/s]"
      ]
     },
     "metadata": {},
     "output_type": "display_data"
    },
    {
     "data": {
      "application/vnd.jupyter.widget-view+json": {
       "model_id": "ad5dc96daba944628f30e16237710581",
       "version_major": 2,
       "version_minor": 0
      },
      "text/plain": [
       "aia.lev1_euv_12s.2011-04-08T184514Z.304.image.fits:   0%|          | 0.00/207k [00:00<?, ?B/s]"
      ]
     },
     "metadata": {},
     "output_type": "display_data"
    },
    {
     "data": {
      "application/vnd.jupyter.widget-view+json": {
       "model_id": "b3ee2168e2484c27b9bb591cff664d70",
       "version_major": 2,
       "version_minor": 0
      },
      "text/plain": [
       "aia.lev1_euv_12s.2011-04-08T184538Z.304.image.fits:   0%|          | 0.00/207k [00:00<?, ?B/s]"
      ]
     },
     "metadata": {},
     "output_type": "display_data"
    },
    {
     "data": {
      "application/vnd.jupyter.widget-view+json": {
       "model_id": "1978ab2096d349cda511dc2d7c430fc4",
       "version_major": 2,
       "version_minor": 0
      },
      "text/plain": [
       "aia.lev1_euv_12s.2011-04-08T184602Z.304.image.fits:   0%|          | 0.00/207k [00:00<?, ?B/s]"
      ]
     },
     "metadata": {},
     "output_type": "display_data"
    },
    {
     "data": {
      "application/vnd.jupyter.widget-view+json": {
       "model_id": "48cade05e8254e22b5bfe871ebe62b7f",
       "version_major": 2,
       "version_minor": 0
      },
      "text/plain": [
       "aia.lev1_euv_12s.2011-04-08T184626Z.304.image.fits:   0%|          | 0.00/207k [00:00<?, ?B/s]"
      ]
     },
     "metadata": {},
     "output_type": "display_data"
    },
    {
     "data": {
      "application/vnd.jupyter.widget-view+json": {
       "model_id": "9dfc3b9b7fb2431098c466749717cca6",
       "version_major": 2,
       "version_minor": 0
      },
      "text/plain": [
       "aia.lev1_euv_12s.2011-04-08T184650Z.304.image.fits:   0%|          | 0.00/207k [00:00<?, ?B/s]"
      ]
     },
     "metadata": {},
     "output_type": "display_data"
    },
    {
     "data": {
      "application/vnd.jupyter.widget-view+json": {
       "model_id": "70f8ce9062fb48acb4922f8e6b6e7256",
       "version_major": 2,
       "version_minor": 0
      },
      "text/plain": [
       "aia.lev1_euv_12s.2011-04-08T184714Z.304.image.fits:   0%|          | 0.00/207k [00:00<?, ?B/s]"
      ]
     },
     "metadata": {},
     "output_type": "display_data"
    },
    {
     "data": {
      "application/vnd.jupyter.widget-view+json": {
       "model_id": "00155de505424a73abb88136b850166a",
       "version_major": 2,
       "version_minor": 0
      },
      "text/plain": [
       "aia.lev1_euv_12s.2011-04-08T184738Z.304.image.fits:   0%|          | 0.00/207k [00:00<?, ?B/s]"
      ]
     },
     "metadata": {},
     "output_type": "display_data"
    },
    {
     "data": {
      "application/vnd.jupyter.widget-view+json": {
       "model_id": "864135bbf4d3409b88833f6f9681e443",
       "version_major": 2,
       "version_minor": 0
      },
      "text/plain": [
       "aia.lev1_euv_12s.2011-04-08T184802Z.304.image.fits:   0%|          | 0.00/207k [00:00<?, ?B/s]"
      ]
     },
     "metadata": {},
     "output_type": "display_data"
    },
    {
     "data": {
      "application/vnd.jupyter.widget-view+json": {
       "model_id": "2ec66fed037447079374f287beec8a77",
       "version_major": 2,
       "version_minor": 0
      },
      "text/plain": [
       "aia.lev1_euv_12s.2011-04-08T184826Z.304.image.fits:   0%|          | 0.00/207k [00:00<?, ?B/s]"
      ]
     },
     "metadata": {},
     "output_type": "display_data"
    },
    {
     "data": {
      "application/vnd.jupyter.widget-view+json": {
       "model_id": "425847541eea4caabb69fe5c50ce3f3f",
       "version_major": 2,
       "version_minor": 0
      },
      "text/plain": [
       "aia.lev1_euv_12s.2011-04-08T184850Z.304.image.fits:   0%|          | 0.00/207k [00:00<?, ?B/s]"
      ]
     },
     "metadata": {},
     "output_type": "display_data"
    },
    {
     "data": {
      "application/vnd.jupyter.widget-view+json": {
       "model_id": "4568940989c24213a015bc46c536f54b",
       "version_major": 2,
       "version_minor": 0
      },
      "text/plain": [
       "aia.lev1_euv_12s.2011-04-08T184914Z.304.image.fits:   0%|          | 0.00/207k [00:00<?, ?B/s]"
      ]
     },
     "metadata": {},
     "output_type": "display_data"
    },
    {
     "data": {
      "application/vnd.jupyter.widget-view+json": {
       "model_id": "a1494d00fb06486591c3a48311a21c64",
       "version_major": 2,
       "version_minor": 0
      },
      "text/plain": [
       "aia.lev1_euv_12s.2011-04-08T184938Z.304.image.fits:   0%|          | 0.00/207k [00:00<?, ?B/s]"
      ]
     },
     "metadata": {},
     "output_type": "display_data"
    },
    {
     "data": {
      "application/vnd.jupyter.widget-view+json": {
       "model_id": "a1e24517eaf74ad68f58c0a66b285603",
       "version_major": 2,
       "version_minor": 0
      },
      "text/plain": [
       "aia.lev1_euv_12s.2011-04-08T185002Z.304.image.fits:   0%|          | 0.00/207k [00:00<?, ?B/s]"
      ]
     },
     "metadata": {},
     "output_type": "display_data"
    },
    {
     "data": {
      "application/vnd.jupyter.widget-view+json": {
       "model_id": "d82217c9659b4ce2861a113defa3c181",
       "version_major": 2,
       "version_minor": 0
      },
      "text/plain": [
       "aia.lev1_euv_12s.2011-04-08T185026Z.304.image.fits:   0%|          | 0.00/207k [00:00<?, ?B/s]"
      ]
     },
     "metadata": {},
     "output_type": "display_data"
    },
    {
     "data": {
      "application/vnd.jupyter.widget-view+json": {
       "model_id": "7ab889cd4dbd497797ebfcfabe69df50",
       "version_major": 2,
       "version_minor": 0
      },
      "text/plain": [
       "aia.lev1_euv_12s.2011-04-08T185050Z.304.image.fits:   0%|          | 0.00/207k [00:00<?, ?B/s]"
      ]
     },
     "metadata": {},
     "output_type": "display_data"
    },
    {
     "data": {
      "application/vnd.jupyter.widget-view+json": {
       "model_id": "6aca124b5b3142b28efc2e090fb94c41",
       "version_major": 2,
       "version_minor": 0
      },
      "text/plain": [
       "aia.lev1_euv_12s.2011-04-08T185114Z.304.image.fits:   0%|          | 0.00/207k [00:00<?, ?B/s]"
      ]
     },
     "metadata": {},
     "output_type": "display_data"
    },
    {
     "data": {
      "application/vnd.jupyter.widget-view+json": {
       "model_id": "a0927062244242aa9a0bd05f05420d05",
       "version_major": 2,
       "version_minor": 0
      },
      "text/plain": [
       "aia.lev1_euv_12s.2011-04-08T185138Z.304.image.fits:   0%|          | 0.00/207k [00:00<?, ?B/s]"
      ]
     },
     "metadata": {},
     "output_type": "display_data"
    },
    {
     "data": {
      "application/vnd.jupyter.widget-view+json": {
       "model_id": "6d7863c7f5b54ed5bd2a74ba9fe9e7cf",
       "version_major": 2,
       "version_minor": 0
      },
      "text/plain": [
       "aia.lev1_euv_12s.2011-04-08T185202Z.304.image.fits:   0%|          | 0.00/207k [00:00<?, ?B/s]"
      ]
     },
     "metadata": {},
     "output_type": "display_data"
    },
    {
     "data": {
      "application/vnd.jupyter.widget-view+json": {
       "model_id": "29cea12e50544343afcfd6644a05f142",
       "version_major": 2,
       "version_minor": 0
      },
      "text/plain": [
       "aia.lev1_euv_12s.2011-04-08T185226Z.304.image.fits:   0%|          | 0.00/207k [00:00<?, ?B/s]"
      ]
     },
     "metadata": {},
     "output_type": "display_data"
    },
    {
     "data": {
      "application/vnd.jupyter.widget-view+json": {
       "model_id": "8b010f0e13614ffd827fa7a7ed0e08d7",
       "version_major": 2,
       "version_minor": 0
      },
      "text/plain": [
       "aia.lev1_euv_12s.2011-04-08T185250Z.304.image.fits:   0%|          | 0.00/207k [00:00<?, ?B/s]"
      ]
     },
     "metadata": {},
     "output_type": "display_data"
    },
    {
     "data": {
      "application/vnd.jupyter.widget-view+json": {
       "model_id": "893adc469c2246ab902caaf0bd659294",
       "version_major": 2,
       "version_minor": 0
      },
      "text/plain": [
       "aia.lev1_euv_12s.2011-04-08T185314Z.304.image.fits:   0%|          | 0.00/207k [00:00<?, ?B/s]"
      ]
     },
     "metadata": {},
     "output_type": "display_data"
    },
    {
     "data": {
      "application/vnd.jupyter.widget-view+json": {
       "model_id": "7bc7b874e2a84701bc5c6f0941a13425",
       "version_major": 2,
       "version_minor": 0
      },
      "text/plain": [
       "aia.lev1_euv_12s.2011-04-08T185338Z.304.image.fits:   0%|          | 0.00/207k [00:00<?, ?B/s]"
      ]
     },
     "metadata": {},
     "output_type": "display_data"
    },
    {
     "data": {
      "application/vnd.jupyter.widget-view+json": {
       "model_id": "aff2d3177b474520825e48eb3e3372f2",
       "version_major": 2,
       "version_minor": 0
      },
      "text/plain": [
       "aia.lev1_euv_12s.2011-04-08T185402Z.304.image.fits:   0%|          | 0.00/207k [00:00<?, ?B/s]"
      ]
     },
     "metadata": {},
     "output_type": "display_data"
    },
    {
     "data": {
      "application/vnd.jupyter.widget-view+json": {
       "model_id": "3928b387b80041e18adc282bf6843ac1",
       "version_major": 2,
       "version_minor": 0
      },
      "text/plain": [
       "aia.lev1_euv_12s.2011-04-08T185426Z.304.image.fits:   0%|          | 0.00/207k [00:00<?, ?B/s]"
      ]
     },
     "metadata": {},
     "output_type": "display_data"
    },
    {
     "data": {
      "application/vnd.jupyter.widget-view+json": {
       "model_id": "686b5fd68f694c8fbfc9b7ebff573495",
       "version_major": 2,
       "version_minor": 0
      },
      "text/plain": [
       "aia.lev1_euv_12s.2011-04-08T185450Z.304.image.fits:   0%|          | 0.00/207k [00:00<?, ?B/s]"
      ]
     },
     "metadata": {},
     "output_type": "display_data"
    },
    {
     "data": {
      "application/vnd.jupyter.widget-view+json": {
       "model_id": "7f434c759aab441491ff5dee1a180319",
       "version_major": 2,
       "version_minor": 0
      },
      "text/plain": [
       "aia.lev1_euv_12s.2011-04-08T185514Z.304.image.fits:   0%|          | 0.00/207k [00:00<?, ?B/s]"
      ]
     },
     "metadata": {},
     "output_type": "display_data"
    },
    {
     "name": "stdout",
     "output_type": "stream",
     "text": [
      "Download = 3/19 and array =(166, 166, 30)\n",
      "Export request pending. [id=JSOC_20231129_1057, status=2]\n",
      "Waiting for 0 seconds...\n",
      "Export request pending. [id=JSOC_20231129_1057, status=1]\n",
      "Waiting for 5 seconds...\n",
      "Export request pending. [id=JSOC_20231129_1057, status=1]\n",
      "Waiting for 5 seconds...\n",
      "Export request pending. [id=JSOC_20231129_1057, status=1]\n",
      "Waiting for 5 seconds...\n",
      "Export request pending. [id=JSOC_20231129_1057, status=1]\n",
      "Waiting for 5 seconds...\n",
      "Export request pending. [id=JSOC_20231129_1057, status=1]\n",
      "Waiting for 5 seconds...\n",
      "Export request pending. [id=JSOC_20231129_1057, status=1]\n",
      "Waiting for 5 seconds...\n",
      "30 URLs found for download. Full request totalling 6MB\n"
     ]
    },
    {
     "data": {
      "application/vnd.jupyter.widget-view+json": {
       "model_id": "6f09b291bd28499b82922d6d15ae5b5c",
       "version_major": 2,
       "version_minor": 0
      },
      "text/plain": [
       "Files Downloaded:   0%|          | 0/30 [00:00<?, ?file/s]"
      ]
     },
     "metadata": {},
     "output_type": "display_data"
    },
    {
     "data": {
      "application/vnd.jupyter.widget-view+json": {
       "model_id": "817a251315484ad1926463022cf316cf",
       "version_major": 2,
       "version_minor": 0
      },
      "text/plain": [
       "aia.lev1_euv_12s.2011-04-08T190426Z.304.image.fits:   0%|          | 0.00/207k [00:00<?, ?B/s]"
      ]
     },
     "metadata": {},
     "output_type": "display_data"
    },
    {
     "data": {
      "application/vnd.jupyter.widget-view+json": {
       "model_id": "bf1ad0459ba64f7087421d2aa9ad0cd3",
       "version_major": 2,
       "version_minor": 0
      },
      "text/plain": [
       "aia.lev1_euv_12s.2011-04-08T190450Z.304.image.fits:   0%|          | 0.00/207k [00:00<?, ?B/s]"
      ]
     },
     "metadata": {},
     "output_type": "display_data"
    },
    {
     "data": {
      "application/vnd.jupyter.widget-view+json": {
       "model_id": "7288d0e6390540129eea138d3740cc8a",
       "version_major": 2,
       "version_minor": 0
      },
      "text/plain": [
       "aia.lev1_euv_12s.2011-04-08T190514Z.304.image.fits:   0%|          | 0.00/207k [00:00<?, ?B/s]"
      ]
     },
     "metadata": {},
     "output_type": "display_data"
    },
    {
     "data": {
      "application/vnd.jupyter.widget-view+json": {
       "model_id": "11f5a0aa63a940fc8615be1b1fc9254b",
       "version_major": 2,
       "version_minor": 0
      },
      "text/plain": [
       "aia.lev1_euv_12s.2011-04-08T190538Z.304.image.fits:   0%|          | 0.00/207k [00:00<?, ?B/s]"
      ]
     },
     "metadata": {},
     "output_type": "display_data"
    },
    {
     "data": {
      "application/vnd.jupyter.widget-view+json": {
       "model_id": "a5357e8e2e564027b97300127d0bb9c8",
       "version_major": 2,
       "version_minor": 0
      },
      "text/plain": [
       "aia.lev1_euv_12s.2011-04-08T190602Z.304.image.fits:   0%|          | 0.00/207k [00:00<?, ?B/s]"
      ]
     },
     "metadata": {},
     "output_type": "display_data"
    },
    {
     "data": {
      "application/vnd.jupyter.widget-view+json": {
       "model_id": "7bf7a645375b428fa9cc253d2e9dcbf0",
       "version_major": 2,
       "version_minor": 0
      },
      "text/plain": [
       "aia.lev1_euv_12s.2011-04-08T190626Z.304.image.fits:   0%|          | 0.00/207k [00:00<?, ?B/s]"
      ]
     },
     "metadata": {},
     "output_type": "display_data"
    },
    {
     "data": {
      "application/vnd.jupyter.widget-view+json": {
       "model_id": "722b703cba284006a9024e5293bc53d4",
       "version_major": 2,
       "version_minor": 0
      },
      "text/plain": [
       "aia.lev1_euv_12s.2011-04-08T190650Z.304.image.fits:   0%|          | 0.00/207k [00:00<?, ?B/s]"
      ]
     },
     "metadata": {},
     "output_type": "display_data"
    },
    {
     "data": {
      "application/vnd.jupyter.widget-view+json": {
       "model_id": "e3cd26ae418d4ffeba940055ee1c22ac",
       "version_major": 2,
       "version_minor": 0
      },
      "text/plain": [
       "aia.lev1_euv_12s.2011-04-08T190714Z.304.image.fits:   0%|          | 0.00/207k [00:00<?, ?B/s]"
      ]
     },
     "metadata": {},
     "output_type": "display_data"
    },
    {
     "data": {
      "application/vnd.jupyter.widget-view+json": {
       "model_id": "7da0a209c78b45f8930e9125ced9c41a",
       "version_major": 2,
       "version_minor": 0
      },
      "text/plain": [
       "aia.lev1_euv_12s.2011-04-08T190738Z.304.image.fits:   0%|          | 0.00/207k [00:00<?, ?B/s]"
      ]
     },
     "metadata": {},
     "output_type": "display_data"
    },
    {
     "data": {
      "application/vnd.jupyter.widget-view+json": {
       "model_id": "3098bf5c4d4547a7a72783dd8d076681",
       "version_major": 2,
       "version_minor": 0
      },
      "text/plain": [
       "aia.lev1_euv_12s.2011-04-08T190802Z.304.image.fits:   0%|          | 0.00/207k [00:00<?, ?B/s]"
      ]
     },
     "metadata": {},
     "output_type": "display_data"
    },
    {
     "data": {
      "application/vnd.jupyter.widget-view+json": {
       "model_id": "183dcadb7ae14430a195fca1bf813776",
       "version_major": 2,
       "version_minor": 0
      },
      "text/plain": [
       "aia.lev1_euv_12s.2011-04-08T190826Z.304.image.fits:   0%|          | 0.00/207k [00:00<?, ?B/s]"
      ]
     },
     "metadata": {},
     "output_type": "display_data"
    },
    {
     "data": {
      "application/vnd.jupyter.widget-view+json": {
       "model_id": "14447afdabb7447fa2221443db107df9",
       "version_major": 2,
       "version_minor": 0
      },
      "text/plain": [
       "aia.lev1_euv_12s.2011-04-08T190850Z.304.image.fits:   0%|          | 0.00/207k [00:00<?, ?B/s]"
      ]
     },
     "metadata": {},
     "output_type": "display_data"
    },
    {
     "data": {
      "application/vnd.jupyter.widget-view+json": {
       "model_id": "c038c660b6d246e69544d7e078feaaee",
       "version_major": 2,
       "version_minor": 0
      },
      "text/plain": [
       "aia.lev1_euv_12s.2011-04-08T190914Z.304.image.fits:   0%|          | 0.00/207k [00:00<?, ?B/s]"
      ]
     },
     "metadata": {},
     "output_type": "display_data"
    },
    {
     "data": {
      "application/vnd.jupyter.widget-view+json": {
       "model_id": "36fcccf97ced446aabfae1a8e8f64a64",
       "version_major": 2,
       "version_minor": 0
      },
      "text/plain": [
       "aia.lev1_euv_12s.2011-04-08T190938Z.304.image.fits:   0%|          | 0.00/207k [00:00<?, ?B/s]"
      ]
     },
     "metadata": {},
     "output_type": "display_data"
    },
    {
     "data": {
      "application/vnd.jupyter.widget-view+json": {
       "model_id": "1677849fbe7746e7b78311dd49dcb0de",
       "version_major": 2,
       "version_minor": 0
      },
      "text/plain": [
       "aia.lev1_euv_12s.2011-04-08T191002Z.304.image.fits:   0%|          | 0.00/207k [00:00<?, ?B/s]"
      ]
     },
     "metadata": {},
     "output_type": "display_data"
    },
    {
     "data": {
      "application/vnd.jupyter.widget-view+json": {
       "model_id": "bb5ef14a42f5452f81ad7c98fac2f5bc",
       "version_major": 2,
       "version_minor": 0
      },
      "text/plain": [
       "aia.lev1_euv_12s.2011-04-08T191026Z.304.image.fits:   0%|          | 0.00/207k [00:00<?, ?B/s]"
      ]
     },
     "metadata": {},
     "output_type": "display_data"
    },
    {
     "data": {
      "application/vnd.jupyter.widget-view+json": {
       "model_id": "3942f18c5f724fec8aeaae94b55e398b",
       "version_major": 2,
       "version_minor": 0
      },
      "text/plain": [
       "aia.lev1_euv_12s.2011-04-08T191050Z.304.image.fits:   0%|          | 0.00/207k [00:00<?, ?B/s]"
      ]
     },
     "metadata": {},
     "output_type": "display_data"
    },
    {
     "data": {
      "application/vnd.jupyter.widget-view+json": {
       "model_id": "6eeb5d26793a4623a5909455cee7d639",
       "version_major": 2,
       "version_minor": 0
      },
      "text/plain": [
       "aia.lev1_euv_12s.2011-04-08T191114Z.304.image.fits:   0%|          | 0.00/207k [00:00<?, ?B/s]"
      ]
     },
     "metadata": {},
     "output_type": "display_data"
    },
    {
     "data": {
      "application/vnd.jupyter.widget-view+json": {
       "model_id": "78fffc46ae25448898e4f37f1ff7fe07",
       "version_major": 2,
       "version_minor": 0
      },
      "text/plain": [
       "aia.lev1_euv_12s.2011-04-08T191138Z.304.image.fits:   0%|          | 0.00/207k [00:00<?, ?B/s]"
      ]
     },
     "metadata": {},
     "output_type": "display_data"
    },
    {
     "data": {
      "application/vnd.jupyter.widget-view+json": {
       "model_id": "4dcd7f499f7041f5b570d68a8757139c",
       "version_major": 2,
       "version_minor": 0
      },
      "text/plain": [
       "aia.lev1_euv_12s.2011-04-08T191202Z.304.image.fits:   0%|          | 0.00/207k [00:00<?, ?B/s]"
      ]
     },
     "metadata": {},
     "output_type": "display_data"
    },
    {
     "data": {
      "application/vnd.jupyter.widget-view+json": {
       "model_id": "4ecd586a16364ddd99c1336a4ffcaa55",
       "version_major": 2,
       "version_minor": 0
      },
      "text/plain": [
       "aia.lev1_euv_12s.2011-04-08T191226Z.304.image.fits:   0%|          | 0.00/207k [00:00<?, ?B/s]"
      ]
     },
     "metadata": {},
     "output_type": "display_data"
    },
    {
     "data": {
      "application/vnd.jupyter.widget-view+json": {
       "model_id": "8bb3da483c184eb6b9b636a4400980c0",
       "version_major": 2,
       "version_minor": 0
      },
      "text/plain": [
       "aia.lev1_euv_12s.2011-04-08T191250Z.304.image.fits:   0%|          | 0.00/207k [00:00<?, ?B/s]"
      ]
     },
     "metadata": {},
     "output_type": "display_data"
    },
    {
     "data": {
      "application/vnd.jupyter.widget-view+json": {
       "model_id": "f761a70f22e5469dbe4c543fe9d16721",
       "version_major": 2,
       "version_minor": 0
      },
      "text/plain": [
       "aia.lev1_euv_12s.2011-04-08T191314Z.304.image.fits:   0%|          | 0.00/207k [00:00<?, ?B/s]"
      ]
     },
     "metadata": {},
     "output_type": "display_data"
    },
    {
     "data": {
      "application/vnd.jupyter.widget-view+json": {
       "model_id": "0aad9d33aa704156a4adc8be167bc048",
       "version_major": 2,
       "version_minor": 0
      },
      "text/plain": [
       "aia.lev1_euv_12s.2011-04-08T191338Z.304.image.fits:   0%|          | 0.00/207k [00:00<?, ?B/s]"
      ]
     },
     "metadata": {},
     "output_type": "display_data"
    },
    {
     "data": {
      "application/vnd.jupyter.widget-view+json": {
       "model_id": "cdb9457d427c46159983c9da37033f5a",
       "version_major": 2,
       "version_minor": 0
      },
      "text/plain": [
       "aia.lev1_euv_12s.2011-04-08T191402Z.304.image.fits:   0%|          | 0.00/207k [00:00<?, ?B/s]"
      ]
     },
     "metadata": {},
     "output_type": "display_data"
    },
    {
     "data": {
      "application/vnd.jupyter.widget-view+json": {
       "model_id": "cb402c6505164b4787877037849eb663",
       "version_major": 2,
       "version_minor": 0
      },
      "text/plain": [
       "aia.lev1_euv_12s.2011-04-08T191426Z.304.image.fits:   0%|          | 0.00/207k [00:00<?, ?B/s]"
      ]
     },
     "metadata": {},
     "output_type": "display_data"
    },
    {
     "data": {
      "application/vnd.jupyter.widget-view+json": {
       "model_id": "0b08bc9d2a774083a0e88f564c487ffb",
       "version_major": 2,
       "version_minor": 0
      },
      "text/plain": [
       "aia.lev1_euv_12s.2011-04-08T191450Z.304.image.fits:   0%|          | 0.00/207k [00:00<?, ?B/s]"
      ]
     },
     "metadata": {},
     "output_type": "display_data"
    },
    {
     "data": {
      "application/vnd.jupyter.widget-view+json": {
       "model_id": "9cf2753f8ba94368ad3724bc1b6a74ad",
       "version_major": 2,
       "version_minor": 0
      },
      "text/plain": [
       "aia.lev1_euv_12s.2011-04-08T191514Z.304.image.fits:   0%|          | 0.00/207k [00:00<?, ?B/s]"
      ]
     },
     "metadata": {},
     "output_type": "display_data"
    },
    {
     "data": {
      "application/vnd.jupyter.widget-view+json": {
       "model_id": "fa4bcc03d9554a48ac2ef9c420eff44f",
       "version_major": 2,
       "version_minor": 0
      },
      "text/plain": [
       "aia.lev1_euv_12s.2011-04-08T191538Z.304.image.fits:   0%|          | 0.00/207k [00:00<?, ?B/s]"
      ]
     },
     "metadata": {},
     "output_type": "display_data"
    },
    {
     "data": {
      "application/vnd.jupyter.widget-view+json": {
       "model_id": "5fa947af958b4d73954af87f936d43c2",
       "version_major": 2,
       "version_minor": 0
      },
      "text/plain": [
       "aia.lev1_euv_12s.2011-04-08T191602Z.304.image.fits:   0%|          | 0.00/207k [00:00<?, ?B/s]"
      ]
     },
     "metadata": {},
     "output_type": "display_data"
    },
    {
     "name": "stdout",
     "output_type": "stream",
     "text": [
      "Download = 4/19 and array =(166, 166, 30)\n",
      "Export request pending. [id=JSOC_20231129_1063, status=2]\n",
      "Waiting for 0 seconds...\n",
      "Export request pending. [id=JSOC_20231129_1063, status=1]\n",
      "Waiting for 5 seconds...\n",
      "Export request pending. [id=JSOC_20231129_1063, status=1]\n",
      "Waiting for 5 seconds...\n",
      "Export request pending. [id=JSOC_20231129_1063, status=1]\n",
      "Waiting for 5 seconds...\n",
      "Export request pending. [id=JSOC_20231129_1063, status=1]\n",
      "Waiting for 5 seconds...\n",
      "Export request pending. [id=JSOC_20231129_1063, status=1]\n",
      "Waiting for 5 seconds...\n",
      "Export request pending. [id=JSOC_20231129_1063, status=1]\n",
      "Waiting for 5 seconds...\n",
      "Export request pending. [id=JSOC_20231129_1063, status=1]\n",
      "Waiting for 5 seconds...\n",
      "30 URLs found for download. Full request totalling 5MB\n"
     ]
    },
    {
     "data": {
      "application/vnd.jupyter.widget-view+json": {
       "model_id": "60f33f96ca6e47d8a83e9561979adf9a",
       "version_major": 2,
       "version_minor": 0
      },
      "text/plain": [
       "Files Downloaded:   0%|          | 0/30 [00:00<?, ?file/s]"
      ]
     },
     "metadata": {},
     "output_type": "display_data"
    },
    {
     "data": {
      "application/vnd.jupyter.widget-view+json": {
       "model_id": "ab6db12887cf4e6d8e9535a861b1a529",
       "version_major": 2,
       "version_minor": 0
      },
      "text/plain": [
       "aia.lev1_euv_12s.2011-05-27T080102Z.304.image.fits:   0%|          | 0.00/190k [00:00<?, ?B/s]"
      ]
     },
     "metadata": {},
     "output_type": "display_data"
    },
    {
     "data": {
      "application/vnd.jupyter.widget-view+json": {
       "model_id": "fe64dacb09624dcc8df2419f02784b23",
       "version_major": 2,
       "version_minor": 0
      },
      "text/plain": [
       "aia.lev1_euv_12s.2011-05-27T080126Z.304.image.fits:   0%|          | 0.00/190k [00:00<?, ?B/s]"
      ]
     },
     "metadata": {},
     "output_type": "display_data"
    },
    {
     "data": {
      "application/vnd.jupyter.widget-view+json": {
       "model_id": "5a9577bf30084c2bb3976e4ea5edf96e",
       "version_major": 2,
       "version_minor": 0
      },
      "text/plain": [
       "aia.lev1_euv_12s.2011-05-27T080150Z.304.image.fits:   0%|          | 0.00/190k [00:00<?, ?B/s]"
      ]
     },
     "metadata": {},
     "output_type": "display_data"
    },
    {
     "data": {
      "application/vnd.jupyter.widget-view+json": {
       "model_id": "bfd3f6229c6149248e9be0bde09e3bd4",
       "version_major": 2,
       "version_minor": 0
      },
      "text/plain": [
       "aia.lev1_euv_12s.2011-05-27T080214Z.304.image.fits:   0%|          | 0.00/190k [00:00<?, ?B/s]"
      ]
     },
     "metadata": {},
     "output_type": "display_data"
    },
    {
     "data": {
      "application/vnd.jupyter.widget-view+json": {
       "model_id": "0f3a316ace4b412b84b1e3fed754b38e",
       "version_major": 2,
       "version_minor": 0
      },
      "text/plain": [
       "aia.lev1_euv_12s.2011-05-27T080238Z.304.image.fits:   0%|          | 0.00/190k [00:00<?, ?B/s]"
      ]
     },
     "metadata": {},
     "output_type": "display_data"
    },
    {
     "data": {
      "application/vnd.jupyter.widget-view+json": {
       "model_id": "e1cc2f1d79d14f1aa259f6c6e6608ff3",
       "version_major": 2,
       "version_minor": 0
      },
      "text/plain": [
       "aia.lev1_euv_12s.2011-05-27T080302Z.304.image.fits:   0%|          | 0.00/190k [00:00<?, ?B/s]"
      ]
     },
     "metadata": {},
     "output_type": "display_data"
    },
    {
     "data": {
      "application/vnd.jupyter.widget-view+json": {
       "model_id": "355f78f336b24a8b88915cc7ce52a683",
       "version_major": 2,
       "version_minor": 0
      },
      "text/plain": [
       "aia.lev1_euv_12s.2011-05-27T080326Z.304.image.fits:   0%|          | 0.00/190k [00:00<?, ?B/s]"
      ]
     },
     "metadata": {},
     "output_type": "display_data"
    },
    {
     "data": {
      "application/vnd.jupyter.widget-view+json": {
       "model_id": "9955aa858fbc4d1a9b28f5f8c688c43c",
       "version_major": 2,
       "version_minor": 0
      },
      "text/plain": [
       "aia.lev1_euv_12s.2011-05-27T080350Z.304.image.fits:   0%|          | 0.00/190k [00:00<?, ?B/s]"
      ]
     },
     "metadata": {},
     "output_type": "display_data"
    },
    {
     "data": {
      "application/vnd.jupyter.widget-view+json": {
       "model_id": "7f883e5872a4462faedfa4a353bc8a10",
       "version_major": 2,
       "version_minor": 0
      },
      "text/plain": [
       "aia.lev1_euv_12s.2011-05-27T080414Z.304.image.fits:   0%|          | 0.00/190k [00:00<?, ?B/s]"
      ]
     },
     "metadata": {},
     "output_type": "display_data"
    },
    {
     "data": {
      "application/vnd.jupyter.widget-view+json": {
       "model_id": "488f67f8253d45b8a5dada0ddfa61a82",
       "version_major": 2,
       "version_minor": 0
      },
      "text/plain": [
       "aia.lev1_euv_12s.2011-05-27T080438Z.304.image.fits:   0%|          | 0.00/190k [00:00<?, ?B/s]"
      ]
     },
     "metadata": {},
     "output_type": "display_data"
    },
    {
     "data": {
      "application/vnd.jupyter.widget-view+json": {
       "model_id": "198699b62db9445bbfeb4d134aab9f3d",
       "version_major": 2,
       "version_minor": 0
      },
      "text/plain": [
       "aia.lev1_euv_12s.2011-05-27T080502Z.304.image.fits:   0%|          | 0.00/190k [00:00<?, ?B/s]"
      ]
     },
     "metadata": {},
     "output_type": "display_data"
    },
    {
     "data": {
      "application/vnd.jupyter.widget-view+json": {
       "model_id": "a11a1441844f4bb7927caf94f7a0a759",
       "version_major": 2,
       "version_minor": 0
      },
      "text/plain": [
       "aia.lev1_euv_12s.2011-05-27T080526Z.304.image.fits:   0%|          | 0.00/190k [00:00<?, ?B/s]"
      ]
     },
     "metadata": {},
     "output_type": "display_data"
    },
    {
     "data": {
      "application/vnd.jupyter.widget-view+json": {
       "model_id": "424376a1a6324b0dbdd1db50234a0fc5",
       "version_major": 2,
       "version_minor": 0
      },
      "text/plain": [
       "aia.lev1_euv_12s.2011-05-27T080550Z.304.image.fits:   0%|          | 0.00/190k [00:00<?, ?B/s]"
      ]
     },
     "metadata": {},
     "output_type": "display_data"
    },
    {
     "data": {
      "application/vnd.jupyter.widget-view+json": {
       "model_id": "14c05b1ac1ae450f923bce3a9b1bea7a",
       "version_major": 2,
       "version_minor": 0
      },
      "text/plain": [
       "aia.lev1_euv_12s.2011-05-27T080614Z.304.image.fits:   0%|          | 0.00/190k [00:00<?, ?B/s]"
      ]
     },
     "metadata": {},
     "output_type": "display_data"
    },
    {
     "data": {
      "application/vnd.jupyter.widget-view+json": {
       "model_id": "7a4976d5d2cf4d3f965b5cf395c9af02",
       "version_major": 2,
       "version_minor": 0
      },
      "text/plain": [
       "aia.lev1_euv_12s.2011-05-27T080638Z.304.image.fits:   0%|          | 0.00/190k [00:00<?, ?B/s]"
      ]
     },
     "metadata": {},
     "output_type": "display_data"
    },
    {
     "data": {
      "application/vnd.jupyter.widget-view+json": {
       "model_id": "aa17941a3f7f42f5a9f4391d06aeefc1",
       "version_major": 2,
       "version_minor": 0
      },
      "text/plain": [
       "aia.lev1_euv_12s.2011-05-27T080702Z.304.image.fits:   0%|          | 0.00/190k [00:00<?, ?B/s]"
      ]
     },
     "metadata": {},
     "output_type": "display_data"
    },
    {
     "data": {
      "application/vnd.jupyter.widget-view+json": {
       "model_id": "7f6fe4439f064b0595edbfab4d664998",
       "version_major": 2,
       "version_minor": 0
      },
      "text/plain": [
       "aia.lev1_euv_12s.2011-05-27T080726Z.304.image.fits:   0%|          | 0.00/190k [00:00<?, ?B/s]"
      ]
     },
     "metadata": {},
     "output_type": "display_data"
    },
    {
     "data": {
      "application/vnd.jupyter.widget-view+json": {
       "model_id": "4a05bbc575814b9aa008fc1415a9762a",
       "version_major": 2,
       "version_minor": 0
      },
      "text/plain": [
       "aia.lev1_euv_12s.2011-05-27T080750Z.304.image.fits:   0%|          | 0.00/190k [00:00<?, ?B/s]"
      ]
     },
     "metadata": {},
     "output_type": "display_data"
    },
    {
     "data": {
      "application/vnd.jupyter.widget-view+json": {
       "model_id": "8d7098c6040946fcbfb580cb6b50c24a",
       "version_major": 2,
       "version_minor": 0
      },
      "text/plain": [
       "aia.lev1_euv_12s.2011-05-27T080814Z.304.image.fits:   0%|          | 0.00/190k [00:00<?, ?B/s]"
      ]
     },
     "metadata": {},
     "output_type": "display_data"
    },
    {
     "data": {
      "application/vnd.jupyter.widget-view+json": {
       "model_id": "9110077d9af245a5bbdf55a64ae17388",
       "version_major": 2,
       "version_minor": 0
      },
      "text/plain": [
       "aia.lev1_euv_12s.2011-05-27T080838Z.304.image.fits:   0%|          | 0.00/190k [00:00<?, ?B/s]"
      ]
     },
     "metadata": {},
     "output_type": "display_data"
    },
    {
     "data": {
      "application/vnd.jupyter.widget-view+json": {
       "model_id": "fd724c2776834bf7b80493e5edca2b4c",
       "version_major": 2,
       "version_minor": 0
      },
      "text/plain": [
       "aia.lev1_euv_12s.2011-05-27T080902Z.304.image.fits:   0%|          | 0.00/190k [00:00<?, ?B/s]"
      ]
     },
     "metadata": {},
     "output_type": "display_data"
    },
    {
     "data": {
      "application/vnd.jupyter.widget-view+json": {
       "model_id": "15d6608906094621b7bd4f3108f52fec",
       "version_major": 2,
       "version_minor": 0
      },
      "text/plain": [
       "aia.lev1_euv_12s.2011-05-27T080926Z.304.image.fits:   0%|          | 0.00/190k [00:00<?, ?B/s]"
      ]
     },
     "metadata": {},
     "output_type": "display_data"
    },
    {
     "data": {
      "application/vnd.jupyter.widget-view+json": {
       "model_id": "10ed5d87f12d4d22b65c92eecc306f23",
       "version_major": 2,
       "version_minor": 0
      },
      "text/plain": [
       "aia.lev1_euv_12s.2011-05-27T080950Z.304.image.fits:   0%|          | 0.00/190k [00:00<?, ?B/s]"
      ]
     },
     "metadata": {},
     "output_type": "display_data"
    },
    {
     "data": {
      "application/vnd.jupyter.widget-view+json": {
       "model_id": "017cce3da0194a20b1ff0806ce1b4652",
       "version_major": 2,
       "version_minor": 0
      },
      "text/plain": [
       "aia.lev1_euv_12s.2011-05-27T081014Z.304.image.fits:   0%|          | 0.00/190k [00:00<?, ?B/s]"
      ]
     },
     "metadata": {},
     "output_type": "display_data"
    },
    {
     "data": {
      "application/vnd.jupyter.widget-view+json": {
       "model_id": "59cbebbfa5de442ab84ea58f045180d2",
       "version_major": 2,
       "version_minor": 0
      },
      "text/plain": [
       "aia.lev1_euv_12s.2011-05-27T081038Z.304.image.fits:   0%|          | 0.00/190k [00:00<?, ?B/s]"
      ]
     },
     "metadata": {},
     "output_type": "display_data"
    },
    {
     "data": {
      "application/vnd.jupyter.widget-view+json": {
       "model_id": "bcca3e04e28f4884940ab3263df27751",
       "version_major": 2,
       "version_minor": 0
      },
      "text/plain": [
       "aia.lev1_euv_12s.2011-05-27T081102Z.304.image.fits:   0%|          | 0.00/190k [00:00<?, ?B/s]"
      ]
     },
     "metadata": {},
     "output_type": "display_data"
    },
    {
     "data": {
      "application/vnd.jupyter.widget-view+json": {
       "model_id": "97901d738a3f480e808c08c113d2de19",
       "version_major": 2,
       "version_minor": 0
      },
      "text/plain": [
       "aia.lev1_euv_12s.2011-05-27T081126Z.304.image.fits:   0%|          | 0.00/190k [00:00<?, ?B/s]"
      ]
     },
     "metadata": {},
     "output_type": "display_data"
    },
    {
     "data": {
      "application/vnd.jupyter.widget-view+json": {
       "model_id": "51766666d8084655ade594cf654389cf",
       "version_major": 2,
       "version_minor": 0
      },
      "text/plain": [
       "aia.lev1_euv_12s.2011-05-27T081150Z.304.image.fits:   0%|          | 0.00/190k [00:00<?, ?B/s]"
      ]
     },
     "metadata": {},
     "output_type": "display_data"
    },
    {
     "data": {
      "application/vnd.jupyter.widget-view+json": {
       "model_id": "79499c4722184e35aa42fb7b99fba718",
       "version_major": 2,
       "version_minor": 0
      },
      "text/plain": [
       "aia.lev1_euv_12s.2011-05-27T081214Z.304.image.fits:   0%|          | 0.00/190k [00:00<?, ?B/s]"
      ]
     },
     "metadata": {},
     "output_type": "display_data"
    },
    {
     "data": {
      "application/vnd.jupyter.widget-view+json": {
       "model_id": "5eb4fe85d9c0403cb9b9a50eb36ec7c2",
       "version_major": 2,
       "version_minor": 0
      },
      "text/plain": [
       "aia.lev1_euv_12s.2011-05-27T081238Z.304.image.fits:   0%|          | 0.00/190k [00:00<?, ?B/s]"
      ]
     },
     "metadata": {},
     "output_type": "display_data"
    },
    {
     "name": "stdout",
     "output_type": "stream",
     "text": [
      "Download = 5/19 and array =(166, 166, 30)\n",
      "Export request pending. [id=JSOC_20231129_1067, status=2]\n",
      "Waiting for 0 seconds...\n",
      "Export request pending. [id=JSOC_20231129_1067, status=1]\n",
      "Waiting for 5 seconds...\n",
      "Export request pending. [id=JSOC_20231129_1067, status=1]\n",
      "Waiting for 5 seconds...\n",
      "Export request pending. [id=JSOC_20231129_1067, status=1]\n",
      "Waiting for 5 seconds...\n",
      "Export request pending. [id=JSOC_20231129_1067, status=1]\n",
      "Waiting for 5 seconds...\n",
      "Export request pending. [id=JSOC_20231129_1067, status=1]\n",
      "Waiting for 5 seconds...\n",
      "30 URLs found for download. Full request totalling 5MB\n"
     ]
    },
    {
     "data": {
      "application/vnd.jupyter.widget-view+json": {
       "model_id": "cb0e12aa56bc44eabd1ec7a5212b7743",
       "version_major": 2,
       "version_minor": 0
      },
      "text/plain": [
       "Files Downloaded:   0%|          | 0/30 [00:00<?, ?file/s]"
      ]
     },
     "metadata": {},
     "output_type": "display_data"
    },
    {
     "data": {
      "application/vnd.jupyter.widget-view+json": {
       "model_id": "1643f4529d1244fcb4dcc076860cae1b",
       "version_major": 2,
       "version_minor": 0
      },
      "text/plain": [
       "aia.lev1_euv_12s.2011-05-27T081638Z.304.image.fits:   0%|          | 0.00/190k [00:00<?, ?B/s]"
      ]
     },
     "metadata": {},
     "output_type": "display_data"
    },
    {
     "data": {
      "application/vnd.jupyter.widget-view+json": {
       "model_id": "e53a94ea7b0f4fd09294558b315f4c79",
       "version_major": 2,
       "version_minor": 0
      },
      "text/plain": [
       "aia.lev1_euv_12s.2011-05-27T081702Z.304.image.fits:   0%|          | 0.00/190k [00:00<?, ?B/s]"
      ]
     },
     "metadata": {},
     "output_type": "display_data"
    },
    {
     "data": {
      "application/vnd.jupyter.widget-view+json": {
       "model_id": "0e2dfc951ae341b7a7cb58fef05f54cc",
       "version_major": 2,
       "version_minor": 0
      },
      "text/plain": [
       "aia.lev1_euv_12s.2011-05-27T081726Z.304.image.fits:   0%|          | 0.00/190k [00:00<?, ?B/s]"
      ]
     },
     "metadata": {},
     "output_type": "display_data"
    },
    {
     "data": {
      "application/vnd.jupyter.widget-view+json": {
       "model_id": "867ae501a9ff402d8301ddbea16112e4",
       "version_major": 2,
       "version_minor": 0
      },
      "text/plain": [
       "aia.lev1_euv_12s.2011-05-27T081750Z.304.image.fits:   0%|          | 0.00/190k [00:00<?, ?B/s]"
      ]
     },
     "metadata": {},
     "output_type": "display_data"
    },
    {
     "data": {
      "application/vnd.jupyter.widget-view+json": {
       "model_id": "1bd62774ed264f89b0e6f4fe602e8512",
       "version_major": 2,
       "version_minor": 0
      },
      "text/plain": [
       "aia.lev1_euv_12s.2011-05-27T081814Z.304.image.fits:   0%|          | 0.00/190k [00:00<?, ?B/s]"
      ]
     },
     "metadata": {},
     "output_type": "display_data"
    },
    {
     "data": {
      "application/vnd.jupyter.widget-view+json": {
       "model_id": "d5530f0aa10f4c65b9f4d4369ecf18dc",
       "version_major": 2,
       "version_minor": 0
      },
      "text/plain": [
       "aia.lev1_euv_12s.2011-05-27T081838Z.304.image.fits:   0%|          | 0.00/190k [00:00<?, ?B/s]"
      ]
     },
     "metadata": {},
     "output_type": "display_data"
    },
    {
     "data": {
      "application/vnd.jupyter.widget-view+json": {
       "model_id": "0cb17b5151e949aa89ae82aaa4bd57f8",
       "version_major": 2,
       "version_minor": 0
      },
      "text/plain": [
       "aia.lev1_euv_12s.2011-05-27T081902Z.304.image.fits:   0%|          | 0.00/190k [00:00<?, ?B/s]"
      ]
     },
     "metadata": {},
     "output_type": "display_data"
    },
    {
     "data": {
      "application/vnd.jupyter.widget-view+json": {
       "model_id": "d994365fb1ae463b9d0f4b4e01870594",
       "version_major": 2,
       "version_minor": 0
      },
      "text/plain": [
       "aia.lev1_euv_12s.2011-05-27T081926Z.304.image.fits:   0%|          | 0.00/190k [00:00<?, ?B/s]"
      ]
     },
     "metadata": {},
     "output_type": "display_data"
    },
    {
     "data": {
      "application/vnd.jupyter.widget-view+json": {
       "model_id": "31f5b59774b24af78e8819f4153fdeda",
       "version_major": 2,
       "version_minor": 0
      },
      "text/plain": [
       "aia.lev1_euv_12s.2011-05-27T081950Z.304.image.fits:   0%|          | 0.00/190k [00:00<?, ?B/s]"
      ]
     },
     "metadata": {},
     "output_type": "display_data"
    },
    {
     "data": {
      "application/vnd.jupyter.widget-view+json": {
       "model_id": "4893878a29c649029059a011e0e91963",
       "version_major": 2,
       "version_minor": 0
      },
      "text/plain": [
       "aia.lev1_euv_12s.2011-05-27T082014Z.304.image.fits:   0%|          | 0.00/190k [00:00<?, ?B/s]"
      ]
     },
     "metadata": {},
     "output_type": "display_data"
    },
    {
     "data": {
      "application/vnd.jupyter.widget-view+json": {
       "model_id": "74186ea378af45e2bb745ff90acea11a",
       "version_major": 2,
       "version_minor": 0
      },
      "text/plain": [
       "aia.lev1_euv_12s.2011-05-27T082038Z.304.image.fits:   0%|          | 0.00/190k [00:00<?, ?B/s]"
      ]
     },
     "metadata": {},
     "output_type": "display_data"
    },
    {
     "data": {
      "application/vnd.jupyter.widget-view+json": {
       "model_id": "27b97f93210b46f3a6554de3398fcdfd",
       "version_major": 2,
       "version_minor": 0
      },
      "text/plain": [
       "aia.lev1_euv_12s.2011-05-27T082102Z.304.image.fits:   0%|          | 0.00/190k [00:00<?, ?B/s]"
      ]
     },
     "metadata": {},
     "output_type": "display_data"
    },
    {
     "data": {
      "application/vnd.jupyter.widget-view+json": {
       "model_id": "7e043c105343499d999451bb6fa54691",
       "version_major": 2,
       "version_minor": 0
      },
      "text/plain": [
       "aia.lev1_euv_12s.2011-05-27T082126Z.304.image.fits:   0%|          | 0.00/190k [00:00<?, ?B/s]"
      ]
     },
     "metadata": {},
     "output_type": "display_data"
    },
    {
     "data": {
      "application/vnd.jupyter.widget-view+json": {
       "model_id": "a875c73ae455401a964d45aee89272c5",
       "version_major": 2,
       "version_minor": 0
      },
      "text/plain": [
       "aia.lev1_euv_12s.2011-05-27T082150Z.304.image.fits:   0%|          | 0.00/190k [00:00<?, ?B/s]"
      ]
     },
     "metadata": {},
     "output_type": "display_data"
    },
    {
     "data": {
      "application/vnd.jupyter.widget-view+json": {
       "model_id": "0d871c274cbb48ad9206ab47a378d565",
       "version_major": 2,
       "version_minor": 0
      },
      "text/plain": [
       "aia.lev1_euv_12s.2011-05-27T082214Z.304.image.fits:   0%|          | 0.00/190k [00:00<?, ?B/s]"
      ]
     },
     "metadata": {},
     "output_type": "display_data"
    },
    {
     "data": {
      "application/vnd.jupyter.widget-view+json": {
       "model_id": "f554987a1d9d4e6e88468b40699e4112",
       "version_major": 2,
       "version_minor": 0
      },
      "text/plain": [
       "aia.lev1_euv_12s.2011-05-27T082238Z.304.image.fits:   0%|          | 0.00/190k [00:00<?, ?B/s]"
      ]
     },
     "metadata": {},
     "output_type": "display_data"
    },
    {
     "data": {
      "application/vnd.jupyter.widget-view+json": {
       "model_id": "260030ea8a1c414c9c4924f920642fc6",
       "version_major": 2,
       "version_minor": 0
      },
      "text/plain": [
       "aia.lev1_euv_12s.2011-05-27T082302Z.304.image.fits:   0%|          | 0.00/190k [00:00<?, ?B/s]"
      ]
     },
     "metadata": {},
     "output_type": "display_data"
    },
    {
     "data": {
      "application/vnd.jupyter.widget-view+json": {
       "model_id": "5b2aba3ced294e9592a1f0687ee87f82",
       "version_major": 2,
       "version_minor": 0
      },
      "text/plain": [
       "aia.lev1_euv_12s.2011-05-27T082326Z.304.image.fits:   0%|          | 0.00/190k [00:00<?, ?B/s]"
      ]
     },
     "metadata": {},
     "output_type": "display_data"
    },
    {
     "data": {
      "application/vnd.jupyter.widget-view+json": {
       "model_id": "997ad7963d9f479f8fb1ce3777d6d9e7",
       "version_major": 2,
       "version_minor": 0
      },
      "text/plain": [
       "aia.lev1_euv_12s.2011-05-27T082350Z.304.image.fits:   0%|          | 0.00/190k [00:00<?, ?B/s]"
      ]
     },
     "metadata": {},
     "output_type": "display_data"
    },
    {
     "data": {
      "application/vnd.jupyter.widget-view+json": {
       "model_id": "96246da1e7b24976a8b74e808ee05040",
       "version_major": 2,
       "version_minor": 0
      },
      "text/plain": [
       "aia.lev1_euv_12s.2011-05-27T082414Z.304.image.fits:   0%|          | 0.00/190k [00:00<?, ?B/s]"
      ]
     },
     "metadata": {},
     "output_type": "display_data"
    },
    {
     "data": {
      "application/vnd.jupyter.widget-view+json": {
       "model_id": "125b55a355c140738fcd91bbc396c404",
       "version_major": 2,
       "version_minor": 0
      },
      "text/plain": [
       "aia.lev1_euv_12s.2011-05-27T082438Z.304.image.fits:   0%|          | 0.00/190k [00:00<?, ?B/s]"
      ]
     },
     "metadata": {},
     "output_type": "display_data"
    },
    {
     "data": {
      "application/vnd.jupyter.widget-view+json": {
       "model_id": "e1cc3653e7af4f1eb5ee59b14e86d6c9",
       "version_major": 2,
       "version_minor": 0
      },
      "text/plain": [
       "aia.lev1_euv_12s.2011-05-27T082502Z.304.image.fits:   0%|          | 0.00/190k [00:00<?, ?B/s]"
      ]
     },
     "metadata": {},
     "output_type": "display_data"
    },
    {
     "data": {
      "application/vnd.jupyter.widget-view+json": {
       "model_id": "ec26cbb1be284964908be29014442391",
       "version_major": 2,
       "version_minor": 0
      },
      "text/plain": [
       "aia.lev1_euv_12s.2011-05-27T082526Z.304.image.fits:   0%|          | 0.00/190k [00:00<?, ?B/s]"
      ]
     },
     "metadata": {},
     "output_type": "display_data"
    },
    {
     "data": {
      "application/vnd.jupyter.widget-view+json": {
       "model_id": "98d51ed9d1df4e8ea27d91f56e1122f0",
       "version_major": 2,
       "version_minor": 0
      },
      "text/plain": [
       "aia.lev1_euv_12s.2011-05-27T082550Z.304.image.fits:   0%|          | 0.00/190k [00:00<?, ?B/s]"
      ]
     },
     "metadata": {},
     "output_type": "display_data"
    },
    {
     "data": {
      "application/vnd.jupyter.widget-view+json": {
       "model_id": "1fc1f5e48de54614975f9c7fe8156dff",
       "version_major": 2,
       "version_minor": 0
      },
      "text/plain": [
       "aia.lev1_euv_12s.2011-05-27T082614Z.304.image.fits:   0%|          | 0.00/190k [00:00<?, ?B/s]"
      ]
     },
     "metadata": {},
     "output_type": "display_data"
    },
    {
     "data": {
      "application/vnd.jupyter.widget-view+json": {
       "model_id": "37e4dbf6802c47b99e76d00292a24f2a",
       "version_major": 2,
       "version_minor": 0
      },
      "text/plain": [
       "aia.lev1_euv_12s.2011-05-27T082638Z.304.image.fits:   0%|          | 0.00/190k [00:00<?, ?B/s]"
      ]
     },
     "metadata": {},
     "output_type": "display_data"
    },
    {
     "data": {
      "application/vnd.jupyter.widget-view+json": {
       "model_id": "515463ae8e7b447e9d1b83c2ce176ab4",
       "version_major": 2,
       "version_minor": 0
      },
      "text/plain": [
       "aia.lev1_euv_12s.2011-05-27T082702Z.304.image.fits:   0%|          | 0.00/190k [00:00<?, ?B/s]"
      ]
     },
     "metadata": {},
     "output_type": "display_data"
    },
    {
     "data": {
      "application/vnd.jupyter.widget-view+json": {
       "model_id": "15e23d0a1bb546ac9e0bc566762a7eef",
       "version_major": 2,
       "version_minor": 0
      },
      "text/plain": [
       "aia.lev1_euv_12s.2011-05-27T082726Z.304.image.fits:   0%|          | 0.00/190k [00:00<?, ?B/s]"
      ]
     },
     "metadata": {},
     "output_type": "display_data"
    },
    {
     "data": {
      "application/vnd.jupyter.widget-view+json": {
       "model_id": "c1f74c19dc9844498c7c6577a36c45c7",
       "version_major": 2,
       "version_minor": 0
      },
      "text/plain": [
       "aia.lev1_euv_12s.2011-05-27T082750Z.304.image.fits:   0%|          | 0.00/190k [00:00<?, ?B/s]"
      ]
     },
     "metadata": {},
     "output_type": "display_data"
    },
    {
     "data": {
      "application/vnd.jupyter.widget-view+json": {
       "model_id": "ab053f9f149c429f8cbddbb65c39aa67",
       "version_major": 2,
       "version_minor": 0
      },
      "text/plain": [
       "aia.lev1_euv_12s.2011-05-27T082814Z.304.image.fits:   0%|          | 0.00/190k [00:00<?, ?B/s]"
      ]
     },
     "metadata": {},
     "output_type": "display_data"
    },
    {
     "name": "stdout",
     "output_type": "stream",
     "text": [
      "Download = 6/19 and array =(166, 166, 30)\n",
      "Export request pending. [id=JSOC_20231129_1076, status=2]\n",
      "Waiting for 0 seconds...\n",
      "Export request pending. [id=JSOC_20231129_1076, status=1]\n",
      "Waiting for 5 seconds...\n",
      "Export request pending. [id=JSOC_20231129_1076, status=1]\n",
      "Waiting for 5 seconds...\n",
      "Export request pending. [id=JSOC_20231129_1076, status=1]\n",
      "Waiting for 5 seconds...\n",
      "Export request pending. [id=JSOC_20231129_1076, status=1]\n",
      "Waiting for 5 seconds...\n",
      "Export request pending. [id=JSOC_20231129_1076, status=1]\n",
      "Waiting for 5 seconds...\n",
      "Export request pending. [id=JSOC_20231129_1076, status=1]\n",
      "Waiting for 5 seconds...\n",
      "30 URLs found for download. Full request totalling 5MB\n"
     ]
    },
    {
     "data": {
      "application/vnd.jupyter.widget-view+json": {
       "model_id": "c5d24b37cbf846a4bdb966c6122cc3e6",
       "version_major": 2,
       "version_minor": 0
      },
      "text/plain": [
       "Files Downloaded:   0%|          | 0/30 [00:00<?, ?file/s]"
      ]
     },
     "metadata": {},
     "output_type": "display_data"
    },
    {
     "data": {
      "application/vnd.jupyter.widget-view+json": {
       "model_id": "6b44f24e674f49e1bb5ac65b74203c59",
       "version_major": 2,
       "version_minor": 0
      },
      "text/plain": [
       "aia.lev1_euv_12s.2011-05-27T091402Z.304.image.fits:   0%|          | 0.00/190k [00:00<?, ?B/s]"
      ]
     },
     "metadata": {},
     "output_type": "display_data"
    },
    {
     "data": {
      "application/vnd.jupyter.widget-view+json": {
       "model_id": "49c1be736e0048d7b49fc21f3b8b527c",
       "version_major": 2,
       "version_minor": 0
      },
      "text/plain": [
       "aia.lev1_euv_12s.2011-05-27T091426Z.304.image.fits:   0%|          | 0.00/190k [00:00<?, ?B/s]"
      ]
     },
     "metadata": {},
     "output_type": "display_data"
    },
    {
     "data": {
      "application/vnd.jupyter.widget-view+json": {
       "model_id": "b5662326cfbd40a49ee859f09c7b83c1",
       "version_major": 2,
       "version_minor": 0
      },
      "text/plain": [
       "aia.lev1_euv_12s.2011-05-27T091450Z.304.image.fits:   0%|          | 0.00/190k [00:00<?, ?B/s]"
      ]
     },
     "metadata": {},
     "output_type": "display_data"
    },
    {
     "data": {
      "application/vnd.jupyter.widget-view+json": {
       "model_id": "2bb9f3557d6d4260a460677ec9210675",
       "version_major": 2,
       "version_minor": 0
      },
      "text/plain": [
       "aia.lev1_euv_12s.2011-05-27T091514Z.304.image.fits:   0%|          | 0.00/190k [00:00<?, ?B/s]"
      ]
     },
     "metadata": {},
     "output_type": "display_data"
    },
    {
     "data": {
      "application/vnd.jupyter.widget-view+json": {
       "model_id": "c8e69461103047ffa1c6be668e7fd455",
       "version_major": 2,
       "version_minor": 0
      },
      "text/plain": [
       "aia.lev1_euv_12s.2011-05-27T091538Z.304.image.fits:   0%|          | 0.00/190k [00:00<?, ?B/s]"
      ]
     },
     "metadata": {},
     "output_type": "display_data"
    },
    {
     "data": {
      "application/vnd.jupyter.widget-view+json": {
       "model_id": "7296e26e9e2a4f7ba5312d485dd4b372",
       "version_major": 2,
       "version_minor": 0
      },
      "text/plain": [
       "aia.lev1_euv_12s.2011-05-27T091602Z.304.image.fits:   0%|          | 0.00/190k [00:00<?, ?B/s]"
      ]
     },
     "metadata": {},
     "output_type": "display_data"
    },
    {
     "data": {
      "application/vnd.jupyter.widget-view+json": {
       "model_id": "3188375b0a7d485ebfc541d943fe786d",
       "version_major": 2,
       "version_minor": 0
      },
      "text/plain": [
       "aia.lev1_euv_12s.2011-05-27T091626Z.304.image.fits:   0%|          | 0.00/190k [00:00<?, ?B/s]"
      ]
     },
     "metadata": {},
     "output_type": "display_data"
    },
    {
     "data": {
      "application/vnd.jupyter.widget-view+json": {
       "model_id": "2c87416cac3b40d8bbc31c895610a85b",
       "version_major": 2,
       "version_minor": 0
      },
      "text/plain": [
       "aia.lev1_euv_12s.2011-05-27T091650Z.304.image.fits:   0%|          | 0.00/190k [00:00<?, ?B/s]"
      ]
     },
     "metadata": {},
     "output_type": "display_data"
    },
    {
     "data": {
      "application/vnd.jupyter.widget-view+json": {
       "model_id": "544e2c7c2eba448b86b031869b2557cc",
       "version_major": 2,
       "version_minor": 0
      },
      "text/plain": [
       "aia.lev1_euv_12s.2011-05-27T091714Z.304.image.fits:   0%|          | 0.00/190k [00:00<?, ?B/s]"
      ]
     },
     "metadata": {},
     "output_type": "display_data"
    },
    {
     "data": {
      "application/vnd.jupyter.widget-view+json": {
       "model_id": "03b6d579288a4a31bf32852220f49679",
       "version_major": 2,
       "version_minor": 0
      },
      "text/plain": [
       "aia.lev1_euv_12s.2011-05-27T091738Z.304.image.fits:   0%|          | 0.00/190k [00:00<?, ?B/s]"
      ]
     },
     "metadata": {},
     "output_type": "display_data"
    },
    {
     "data": {
      "application/vnd.jupyter.widget-view+json": {
       "model_id": "6002f9cb6ffd4173b9e300a1e2f5ad0f",
       "version_major": 2,
       "version_minor": 0
      },
      "text/plain": [
       "aia.lev1_euv_12s.2011-05-27T091802Z.304.image.fits:   0%|          | 0.00/190k [00:00<?, ?B/s]"
      ]
     },
     "metadata": {},
     "output_type": "display_data"
    },
    {
     "data": {
      "application/vnd.jupyter.widget-view+json": {
       "model_id": "4bb1cf0a396947ccbc31c02749c11697",
       "version_major": 2,
       "version_minor": 0
      },
      "text/plain": [
       "aia.lev1_euv_12s.2011-05-27T091826Z.304.image.fits:   0%|          | 0.00/190k [00:00<?, ?B/s]"
      ]
     },
     "metadata": {},
     "output_type": "display_data"
    },
    {
     "data": {
      "application/vnd.jupyter.widget-view+json": {
       "model_id": "613c7015c0984dea95c72c1a0e1c13c7",
       "version_major": 2,
       "version_minor": 0
      },
      "text/plain": [
       "aia.lev1_euv_12s.2011-05-27T091850Z.304.image.fits:   0%|          | 0.00/190k [00:00<?, ?B/s]"
      ]
     },
     "metadata": {},
     "output_type": "display_data"
    },
    {
     "data": {
      "application/vnd.jupyter.widget-view+json": {
       "model_id": "56b7352b033045668644e97c2395ab46",
       "version_major": 2,
       "version_minor": 0
      },
      "text/plain": [
       "aia.lev1_euv_12s.2011-05-27T091914Z.304.image.fits:   0%|          | 0.00/190k [00:00<?, ?B/s]"
      ]
     },
     "metadata": {},
     "output_type": "display_data"
    },
    {
     "data": {
      "application/vnd.jupyter.widget-view+json": {
       "model_id": "12da8d3e5f9f40368e46c2709e0d47ba",
       "version_major": 2,
       "version_minor": 0
      },
      "text/plain": [
       "aia.lev1_euv_12s.2011-05-27T091938Z.304.image.fits:   0%|          | 0.00/190k [00:00<?, ?B/s]"
      ]
     },
     "metadata": {},
     "output_type": "display_data"
    },
    {
     "data": {
      "application/vnd.jupyter.widget-view+json": {
       "model_id": "a047053d9cad4bffb5e8ac4073034920",
       "version_major": 2,
       "version_minor": 0
      },
      "text/plain": [
       "aia.lev1_euv_12s.2011-05-27T092002Z.304.image.fits:   0%|          | 0.00/190k [00:00<?, ?B/s]"
      ]
     },
     "metadata": {},
     "output_type": "display_data"
    },
    {
     "data": {
      "application/vnd.jupyter.widget-view+json": {
       "model_id": "0312bce142e84bc18606d06fb1ace994",
       "version_major": 2,
       "version_minor": 0
      },
      "text/plain": [
       "aia.lev1_euv_12s.2011-05-27T092026Z.304.image.fits:   0%|          | 0.00/190k [00:00<?, ?B/s]"
      ]
     },
     "metadata": {},
     "output_type": "display_data"
    },
    {
     "data": {
      "application/vnd.jupyter.widget-view+json": {
       "model_id": "7eb9afccb2f548d394e8c71174b93629",
       "version_major": 2,
       "version_minor": 0
      },
      "text/plain": [
       "aia.lev1_euv_12s.2011-05-27T092050Z.304.image.fits:   0%|          | 0.00/190k [00:00<?, ?B/s]"
      ]
     },
     "metadata": {},
     "output_type": "display_data"
    },
    {
     "data": {
      "application/vnd.jupyter.widget-view+json": {
       "model_id": "8921e670da0647a58f9aa9abf1d8524d",
       "version_major": 2,
       "version_minor": 0
      },
      "text/plain": [
       "aia.lev1_euv_12s.2011-05-27T092114Z.304.image.fits:   0%|          | 0.00/190k [00:00<?, ?B/s]"
      ]
     },
     "metadata": {},
     "output_type": "display_data"
    },
    {
     "data": {
      "application/vnd.jupyter.widget-view+json": {
       "model_id": "0228f83f5cd646b7af4729eb7d0b4e7c",
       "version_major": 2,
       "version_minor": 0
      },
      "text/plain": [
       "aia.lev1_euv_12s.2011-05-27T092138Z.304.image.fits:   0%|          | 0.00/190k [00:00<?, ?B/s]"
      ]
     },
     "metadata": {},
     "output_type": "display_data"
    },
    {
     "data": {
      "application/vnd.jupyter.widget-view+json": {
       "model_id": "b88d49ade70c4615b7f9653d2f6c0676",
       "version_major": 2,
       "version_minor": 0
      },
      "text/plain": [
       "aia.lev1_euv_12s.2011-05-27T092202Z.304.image.fits:   0%|          | 0.00/190k [00:00<?, ?B/s]"
      ]
     },
     "metadata": {},
     "output_type": "display_data"
    },
    {
     "data": {
      "application/vnd.jupyter.widget-view+json": {
       "model_id": "5c8aea42285d4a1c8ff905a0161be8ce",
       "version_major": 2,
       "version_minor": 0
      },
      "text/plain": [
       "aia.lev1_euv_12s.2011-05-27T092226Z.304.image.fits:   0%|          | 0.00/190k [00:00<?, ?B/s]"
      ]
     },
     "metadata": {},
     "output_type": "display_data"
    },
    {
     "data": {
      "application/vnd.jupyter.widget-view+json": {
       "model_id": "0e6df8c378f54b1d8ba9a6474f1665cb",
       "version_major": 2,
       "version_minor": 0
      },
      "text/plain": [
       "aia.lev1_euv_12s.2011-05-27T092250Z.304.image.fits:   0%|          | 0.00/190k [00:00<?, ?B/s]"
      ]
     },
     "metadata": {},
     "output_type": "display_data"
    },
    {
     "data": {
      "application/vnd.jupyter.widget-view+json": {
       "model_id": "91559887a2be4c2abf37816d6f749e4f",
       "version_major": 2,
       "version_minor": 0
      },
      "text/plain": [
       "aia.lev1_euv_12s.2011-05-27T092314Z.304.image.fits:   0%|          | 0.00/190k [00:00<?, ?B/s]"
      ]
     },
     "metadata": {},
     "output_type": "display_data"
    },
    {
     "data": {
      "application/vnd.jupyter.widget-view+json": {
       "model_id": "2183f40c65d14929a123c3595a856692",
       "version_major": 2,
       "version_minor": 0
      },
      "text/plain": [
       "aia.lev1_euv_12s.2011-05-27T092338Z.304.image.fits:   0%|          | 0.00/190k [00:00<?, ?B/s]"
      ]
     },
     "metadata": {},
     "output_type": "display_data"
    },
    {
     "data": {
      "application/vnd.jupyter.widget-view+json": {
       "model_id": "a7b934f04352484d9aeaccee87189413",
       "version_major": 2,
       "version_minor": 0
      },
      "text/plain": [
       "aia.lev1_euv_12s.2011-05-27T092402Z.304.image.fits:   0%|          | 0.00/190k [00:00<?, ?B/s]"
      ]
     },
     "metadata": {},
     "output_type": "display_data"
    },
    {
     "data": {
      "application/vnd.jupyter.widget-view+json": {
       "model_id": "69d8ef3554ca4467a4a605211f730432",
       "version_major": 2,
       "version_minor": 0
      },
      "text/plain": [
       "aia.lev1_euv_12s.2011-05-27T092426Z.304.image.fits:   0%|          | 0.00/190k [00:00<?, ?B/s]"
      ]
     },
     "metadata": {},
     "output_type": "display_data"
    },
    {
     "data": {
      "application/vnd.jupyter.widget-view+json": {
       "model_id": "8ea32e924bca40cfac4b8b07da467fc5",
       "version_major": 2,
       "version_minor": 0
      },
      "text/plain": [
       "aia.lev1_euv_12s.2011-05-27T092450Z.304.image.fits:   0%|          | 0.00/190k [00:00<?, ?B/s]"
      ]
     },
     "metadata": {},
     "output_type": "display_data"
    },
    {
     "data": {
      "application/vnd.jupyter.widget-view+json": {
       "model_id": "3d5c25ea6d134d939ed7db561f61d527",
       "version_major": 2,
       "version_minor": 0
      },
      "text/plain": [
       "aia.lev1_euv_12s.2011-05-27T092514Z.304.image.fits:   0%|          | 0.00/190k [00:00<?, ?B/s]"
      ]
     },
     "metadata": {},
     "output_type": "display_data"
    },
    {
     "data": {
      "application/vnd.jupyter.widget-view+json": {
       "model_id": "b684efb0aca14bf78921522fe268158a",
       "version_major": 2,
       "version_minor": 0
      },
      "text/plain": [
       "aia.lev1_euv_12s.2011-05-27T092538Z.304.image.fits:   0%|          | 0.00/190k [00:00<?, ?B/s]"
      ]
     },
     "metadata": {},
     "output_type": "display_data"
    },
    {
     "name": "stdout",
     "output_type": "stream",
     "text": [
      "Download = 7/19 and array =(166, 166, 30)\n",
      "Export request pending. [id=JSOC_20231129_1080, status=2]\n",
      "Waiting for 0 seconds...\n",
      "Export request pending. [id=JSOC_20231129_1080, status=1]\n",
      "Waiting for 5 seconds...\n",
      "Export request pending. [id=JSOC_20231129_1080, status=1]\n",
      "Waiting for 5 seconds...\n",
      "Export request pending. [id=JSOC_20231129_1080, status=1]\n",
      "Waiting for 5 seconds...\n",
      "Export request pending. [id=JSOC_20231129_1080, status=1]\n",
      "Waiting for 5 seconds...\n",
      "Export request pending. [id=JSOC_20231129_1080, status=1]\n",
      "Waiting for 5 seconds...\n",
      "6 URLs found for download. Full request totalling 1MB\n"
     ]
    },
    {
     "data": {
      "application/vnd.jupyter.widget-view+json": {
       "model_id": "741980e92d5c4ec5825fed4ed205fc06",
       "version_major": 2,
       "version_minor": 0
      },
      "text/plain": [
       "Files Downloaded:   0%|          | 0/6 [00:00<?, ?file/s]"
      ]
     },
     "metadata": {},
     "output_type": "display_data"
    },
    {
     "data": {
      "application/vnd.jupyter.widget-view+json": {
       "model_id": "5b6af018f00e4a2f82843264f397c836",
       "version_major": 2,
       "version_minor": 0
      },
      "text/plain": [
       "aia.lev1_euv_12s.2011-05-27T221026Z.304.image.fits:   0%|          | 0.00/196k [00:00<?, ?B/s]"
      ]
     },
     "metadata": {},
     "output_type": "display_data"
    },
    {
     "data": {
      "application/vnd.jupyter.widget-view+json": {
       "model_id": "84e26d5c4ce741b09143bc0ef80c0ee6",
       "version_major": 2,
       "version_minor": 0
      },
      "text/plain": [
       "aia.lev1_euv_12s.2011-05-27T221226Z.304.image.fits:   0%|          | 0.00/196k [00:00<?, ?B/s]"
      ]
     },
     "metadata": {},
     "output_type": "display_data"
    },
    {
     "data": {
      "application/vnd.jupyter.widget-view+json": {
       "model_id": "b3887aefcd4144f3a6307b96715006ac",
       "version_major": 2,
       "version_minor": 0
      },
      "text/plain": [
       "aia.lev1_euv_12s.2011-05-27T221426Z.304.image.fits:   0%|          | 0.00/196k [00:00<?, ?B/s]"
      ]
     },
     "metadata": {},
     "output_type": "display_data"
    },
    {
     "data": {
      "application/vnd.jupyter.widget-view+json": {
       "model_id": "cd9c64cefd9846f88360a70f7bf249d0",
       "version_major": 2,
       "version_minor": 0
      },
      "text/plain": [
       "aia.lev1_euv_12s.2011-05-27T221626Z.304.image.fits:   0%|          | 0.00/196k [00:00<?, ?B/s]"
      ]
     },
     "metadata": {},
     "output_type": "display_data"
    },
    {
     "data": {
      "application/vnd.jupyter.widget-view+json": {
       "model_id": "aa75f33bd34e43d4a03b66e69438e3d3",
       "version_major": 2,
       "version_minor": 0
      },
      "text/plain": [
       "aia.lev1_euv_12s.2011-05-27T221826Z.304.image.fits:   0%|          | 0.00/196k [00:00<?, ?B/s]"
      ]
     },
     "metadata": {},
     "output_type": "display_data"
    },
    {
     "data": {
      "application/vnd.jupyter.widget-view+json": {
       "model_id": "483e864407d44dcb8c06fe773dd4082e",
       "version_major": 2,
       "version_minor": 0
      },
      "text/plain": [
       "aia.lev1_euv_12s.2011-05-27T222026Z.304.image.fits:   0%|          | 0.00/196k [00:00<?, ?B/s]"
      ]
     },
     "metadata": {},
     "output_type": "display_data"
    },
    {
     "name": "stdout",
     "output_type": "stream",
     "text": [
      "Download = 8/19 and array =(166, 166, 6)\n",
      "Export request pending. [id=JSOC_20231129_1083, status=2]\n",
      "Waiting for 0 seconds...\n",
      "Export request pending. [id=JSOC_20231129_1083, status=1]\n",
      "Waiting for 5 seconds...\n",
      "Export request pending. [id=JSOC_20231129_1083, status=1]\n",
      "Waiting for 5 seconds...\n",
      "Export request pending. [id=JSOC_20231129_1083, status=1]\n",
      "Waiting for 5 seconds...\n",
      "Export request pending. [id=JSOC_20231129_1083, status=1]\n",
      "Waiting for 5 seconds...\n",
      "5 URLs found for download. Full request totalling 1MB\n"
     ]
    },
    {
     "data": {
      "application/vnd.jupyter.widget-view+json": {
       "model_id": "6d51de22c3264445947a0b0b5adc7c6c",
       "version_major": 2,
       "version_minor": 0
      },
      "text/plain": [
       "Files Downloaded:   0%|          | 0/5 [00:00<?, ?file/s]"
      ]
     },
     "metadata": {},
     "output_type": "display_data"
    },
    {
     "data": {
      "application/vnd.jupyter.widget-view+json": {
       "model_id": "07297bb509ae4f4490bcad6517e30503",
       "version_major": 2,
       "version_minor": 0
      },
      "text/plain": [
       "aia.lev1_euv_12s.2011-05-27T222326Z.304.image.fits:   0%|          | 0.00/193k [00:00<?, ?B/s]"
      ]
     },
     "metadata": {},
     "output_type": "display_data"
    },
    {
     "data": {
      "application/vnd.jupyter.widget-view+json": {
       "model_id": "a4f39ab265164da7b7ca955974e8e7dd",
       "version_major": 2,
       "version_minor": 0
      },
      "text/plain": [
       "aia.lev1_euv_12s.2011-05-27T222526Z.304.image.fits:   0%|          | 0.00/193k [00:00<?, ?B/s]"
      ]
     },
     "metadata": {},
     "output_type": "display_data"
    },
    {
     "data": {
      "application/vnd.jupyter.widget-view+json": {
       "model_id": "3b228388d11a4f9ea8913b5f03d20077",
       "version_major": 2,
       "version_minor": 0
      },
      "text/plain": [
       "aia.lev1_euv_12s.2011-05-27T222926Z.304.image.fits:   0%|          | 0.00/193k [00:00<?, ?B/s]"
      ]
     },
     "metadata": {},
     "output_type": "display_data"
    },
    {
     "data": {
      "application/vnd.jupyter.widget-view+json": {
       "model_id": "d2c921f18f6a4d6fa694f765d0631100",
       "version_major": 2,
       "version_minor": 0
      },
      "text/plain": [
       "aia.lev1_euv_12s.2011-05-27T223126Z.304.image.fits:   0%|          | 0.00/193k [00:00<?, ?B/s]"
      ]
     },
     "metadata": {},
     "output_type": "display_data"
    },
    {
     "data": {
      "application/vnd.jupyter.widget-view+json": {
       "model_id": "b0d63b2aece143b69e1bcb44ec0b0472",
       "version_major": 2,
       "version_minor": 0
      },
      "text/plain": [
       "aia.lev1_euv_12s.2011-05-27T223326Z.304.image.fits:   0%|          | 0.00/193k [00:00<?, ?B/s]"
      ]
     },
     "metadata": {},
     "output_type": "display_data"
    },
    {
     "name": "stdout",
     "output_type": "stream",
     "text": [
      "Download = 9/19 and array =(166, 166, 5)\n",
      "Export request pending. [id=JSOC_20231129_1083, status=2]\n",
      "Waiting for 0 seconds...\n",
      "5 URLs found for download. Full request totalling 1MB\n"
     ]
    },
    {
     "data": {
      "application/vnd.jupyter.widget-view+json": {
       "model_id": "b931c47cb2734353b1a13c17c5337f11",
       "version_major": 2,
       "version_minor": 0
      },
      "text/plain": [
       "Files Downloaded:   0%|          | 0/5 [00:00<?, ?file/s]"
      ]
     },
     "metadata": {},
     "output_type": "display_data"
    },
    {
     "data": {
      "application/vnd.jupyter.widget-view+json": {
       "model_id": "a424139f3bcb4ef9bac89832fbdbd011",
       "version_major": 2,
       "version_minor": 0
      },
      "text/plain": [
       "aia.lev1_euv_12s.2011-05-27T222326Z.304.image.fits:   0%|          | 0.00/193k [00:00<?, ?B/s]"
      ]
     },
     "metadata": {},
     "output_type": "display_data"
    },
    {
     "data": {
      "application/vnd.jupyter.widget-view+json": {
       "model_id": "d91f5d89494f4ab588ff0b4b150a33f0",
       "version_major": 2,
       "version_minor": 0
      },
      "text/plain": [
       "aia.lev1_euv_12s.2011-05-27T222526Z.304.image.fits:   0%|          | 0.00/193k [00:00<?, ?B/s]"
      ]
     },
     "metadata": {},
     "output_type": "display_data"
    },
    {
     "data": {
      "application/vnd.jupyter.widget-view+json": {
       "model_id": "b9485ef5551f426ba8154bfe87dfd8c1",
       "version_major": 2,
       "version_minor": 0
      },
      "text/plain": [
       "aia.lev1_euv_12s.2011-05-27T222926Z.304.image.fits:   0%|          | 0.00/193k [00:00<?, ?B/s]"
      ]
     },
     "metadata": {},
     "output_type": "display_data"
    },
    {
     "data": {
      "application/vnd.jupyter.widget-view+json": {
       "model_id": "8d0c9c6655ec42f58bbd4cff3d9bab6b",
       "version_major": 2,
       "version_minor": 0
      },
      "text/plain": [
       "aia.lev1_euv_12s.2011-05-27T223126Z.304.image.fits:   0%|          | 0.00/193k [00:00<?, ?B/s]"
      ]
     },
     "metadata": {},
     "output_type": "display_data"
    },
    {
     "data": {
      "application/vnd.jupyter.widget-view+json": {
       "model_id": "2f1e9f96e4094b269861e78d764c05f7",
       "version_major": 2,
       "version_minor": 0
      },
      "text/plain": [
       "aia.lev1_euv_12s.2011-05-27T223326Z.304.image.fits:   0%|          | 0.00/193k [00:00<?, ?B/s]"
      ]
     },
     "metadata": {},
     "output_type": "display_data"
    },
    {
     "name": "stdout",
     "output_type": "stream",
     "text": [
      "Download = 10/19 and array =(166, 166, 5)\n",
      "Export request pending. [id=JSOC_20231129_1086, status=2]\n",
      "Waiting for 0 seconds...\n",
      "Export request pending. [id=JSOC_20231129_1086, status=1]\n",
      "Waiting for 5 seconds...\n",
      "Export request pending. [id=JSOC_20231129_1086, status=1]\n",
      "Waiting for 5 seconds...\n",
      "Export request pending. [id=JSOC_20231129_1086, status=1]\n",
      "Waiting for 5 seconds...\n",
      "Export request pending. [id=JSOC_20231129_1086, status=1]\n",
      "Waiting for 5 seconds...\n",
      "Export request pending. [id=JSOC_20231129_1086, status=1]\n",
      "Waiting for 5 seconds...\n",
      "Export request pending. [id=JSOC_20231129_1086, status=1]\n",
      "Waiting for 5 seconds...\n",
      "25 URLs found for download. Full request totalling 5MB\n"
     ]
    },
    {
     "data": {
      "application/vnd.jupyter.widget-view+json": {
       "model_id": "a3de2c2820884a169064051adf62d1a4",
       "version_major": 2,
       "version_minor": 0
      },
      "text/plain": [
       "Files Downloaded:   0%|          | 0/25 [00:00<?, ?file/s]"
      ]
     },
     "metadata": {},
     "output_type": "display_data"
    },
    {
     "data": {
      "application/vnd.jupyter.widget-view+json": {
       "model_id": "993c60c41a0141a2ac2f058928f84e26",
       "version_major": 2,
       "version_minor": 0
      },
      "text/plain": [
       "aia.lev1_euv_12s.2011-05-27T223826Z.304.image.fits:   0%|          | 0.00/193k [00:00<?, ?B/s]"
      ]
     },
     "metadata": {},
     "output_type": "display_data"
    },
    {
     "data": {
      "application/vnd.jupyter.widget-view+json": {
       "model_id": "839531a2aaa6470396df6f4064fff27c",
       "version_major": 2,
       "version_minor": 0
      },
      "text/plain": [
       "aia.lev1_euv_12s.2011-05-27T224026Z.304.image.fits:   0%|          | 0.00/193k [00:00<?, ?B/s]"
      ]
     },
     "metadata": {},
     "output_type": "display_data"
    },
    {
     "data": {
      "application/vnd.jupyter.widget-view+json": {
       "model_id": "e38611e58701453abc3f35f17a550f1f",
       "version_major": 2,
       "version_minor": 0
      },
      "text/plain": [
       "aia.lev1_euv_12s.2011-05-27T224114Z.304.image.fits:   0%|          | 0.00/193k [00:00<?, ?B/s]"
      ]
     },
     "metadata": {},
     "output_type": "display_data"
    },
    {
     "data": {
      "application/vnd.jupyter.widget-view+json": {
       "model_id": "116514a52f62476e8f5c876bbd56a1da",
       "version_major": 2,
       "version_minor": 0
      },
      "text/plain": [
       "aia.lev1_euv_12s.2011-05-27T224138Z.304.image.fits:   0%|          | 0.00/193k [00:00<?, ?B/s]"
      ]
     },
     "metadata": {},
     "output_type": "display_data"
    },
    {
     "data": {
      "application/vnd.jupyter.widget-view+json": {
       "model_id": "d6e5c42677c246fd8840ca3a8b56a133",
       "version_major": 2,
       "version_minor": 0
      },
      "text/plain": [
       "aia.lev1_euv_12s.2011-05-27T224202Z.304.image.fits:   0%|          | 0.00/193k [00:00<?, ?B/s]"
      ]
     },
     "metadata": {},
     "output_type": "display_data"
    },
    {
     "data": {
      "application/vnd.jupyter.widget-view+json": {
       "model_id": "2176ea4fbbeb4763925a5d6d3ad534e9",
       "version_major": 2,
       "version_minor": 0
      },
      "text/plain": [
       "aia.lev1_euv_12s.2011-05-27T224226Z.304.image.fits:   0%|          | 0.00/193k [00:00<?, ?B/s]"
      ]
     },
     "metadata": {},
     "output_type": "display_data"
    },
    {
     "data": {
      "application/vnd.jupyter.widget-view+json": {
       "model_id": "7df5e159bc614494aa81b43ea3f58102",
       "version_major": 2,
       "version_minor": 0
      },
      "text/plain": [
       "aia.lev1_euv_12s.2011-05-27T224250Z.304.image.fits:   0%|          | 0.00/193k [00:00<?, ?B/s]"
      ]
     },
     "metadata": {},
     "output_type": "display_data"
    },
    {
     "data": {
      "application/vnd.jupyter.widget-view+json": {
       "model_id": "d823568a68d6405ea26020b5132f8f59",
       "version_major": 2,
       "version_minor": 0
      },
      "text/plain": [
       "aia.lev1_euv_12s.2011-05-27T224314Z.304.image.fits:   0%|          | 0.00/193k [00:00<?, ?B/s]"
      ]
     },
     "metadata": {},
     "output_type": "display_data"
    },
    {
     "data": {
      "application/vnd.jupyter.widget-view+json": {
       "model_id": "e32d99a8b08c4ccb94a4650c6cf772b1",
       "version_major": 2,
       "version_minor": 0
      },
      "text/plain": [
       "aia.lev1_euv_12s.2011-05-27T224338Z.304.image.fits:   0%|          | 0.00/193k [00:00<?, ?B/s]"
      ]
     },
     "metadata": {},
     "output_type": "display_data"
    },
    {
     "data": {
      "application/vnd.jupyter.widget-view+json": {
       "model_id": "c65f2ae6362e477caa20646100550bbb",
       "version_major": 2,
       "version_minor": 0
      },
      "text/plain": [
       "aia.lev1_euv_12s.2011-05-27T224402Z.304.image.fits:   0%|          | 0.00/193k [00:00<?, ?B/s]"
      ]
     },
     "metadata": {},
     "output_type": "display_data"
    },
    {
     "data": {
      "application/vnd.jupyter.widget-view+json": {
       "model_id": "1f7643d216074def9604187efb55c2c1",
       "version_major": 2,
       "version_minor": 0
      },
      "text/plain": [
       "aia.lev1_euv_12s.2011-05-27T224426Z.304.image.fits:   0%|          | 0.00/196k [00:00<?, ?B/s]"
      ]
     },
     "metadata": {},
     "output_type": "display_data"
    },
    {
     "data": {
      "application/vnd.jupyter.widget-view+json": {
       "model_id": "27390bcc738045308619c7777867e559",
       "version_major": 2,
       "version_minor": 0
      },
      "text/plain": [
       "aia.lev1_euv_12s.2011-05-27T224450Z.304.image.fits:   0%|          | 0.00/193k [00:00<?, ?B/s]"
      ]
     },
     "metadata": {},
     "output_type": "display_data"
    },
    {
     "data": {
      "application/vnd.jupyter.widget-view+json": {
       "model_id": "fa6150367daa42a9a567d36e5887888b",
       "version_major": 2,
       "version_minor": 0
      },
      "text/plain": [
       "aia.lev1_euv_12s.2011-05-27T224514Z.304.image.fits:   0%|          | 0.00/193k [00:00<?, ?B/s]"
      ]
     },
     "metadata": {},
     "output_type": "display_data"
    },
    {
     "data": {
      "application/vnd.jupyter.widget-view+json": {
       "model_id": "397384e1acb74b148191801e4a77c49c",
       "version_major": 2,
       "version_minor": 0
      },
      "text/plain": [
       "aia.lev1_euv_12s.2011-05-27T224538Z.304.image.fits:   0%|          | 0.00/196k [00:00<?, ?B/s]"
      ]
     },
     "metadata": {},
     "output_type": "display_data"
    },
    {
     "data": {
      "application/vnd.jupyter.widget-view+json": {
       "model_id": "cbb4d37d93f4432abfb23a0b5a0c51bc",
       "version_major": 2,
       "version_minor": 0
      },
      "text/plain": [
       "aia.lev1_euv_12s.2011-05-27T224602Z.304.image.fits:   0%|          | 0.00/196k [00:00<?, ?B/s]"
      ]
     },
     "metadata": {},
     "output_type": "display_data"
    },
    {
     "data": {
      "application/vnd.jupyter.widget-view+json": {
       "model_id": "e1626ba3646746b28359c5d32775e0e5",
       "version_major": 2,
       "version_minor": 0
      },
      "text/plain": [
       "aia.lev1_euv_12s.2011-05-27T224626Z.304.image.fits:   0%|          | 0.00/196k [00:00<?, ?B/s]"
      ]
     },
     "metadata": {},
     "output_type": "display_data"
    },
    {
     "data": {
      "application/vnd.jupyter.widget-view+json": {
       "model_id": "19cdf173a4e34e578281cde2e55bda54",
       "version_major": 2,
       "version_minor": 0
      },
      "text/plain": [
       "aia.lev1_euv_12s.2011-05-27T224650Z.304.image.fits:   0%|          | 0.00/196k [00:00<?, ?B/s]"
      ]
     },
     "metadata": {},
     "output_type": "display_data"
    },
    {
     "data": {
      "application/vnd.jupyter.widget-view+json": {
       "model_id": "12072c64ae9c4ee1bd675c89c750bd5a",
       "version_major": 2,
       "version_minor": 0
      },
      "text/plain": [
       "aia.lev1_euv_12s.2011-05-27T224714Z.304.image.fits:   0%|          | 0.00/196k [00:00<?, ?B/s]"
      ]
     },
     "metadata": {},
     "output_type": "display_data"
    },
    {
     "data": {
      "application/vnd.jupyter.widget-view+json": {
       "model_id": "d84dd511832f4a2da5f8372ad0171521",
       "version_major": 2,
       "version_minor": 0
      },
      "text/plain": [
       "aia.lev1_euv_12s.2011-05-27T224738Z.304.image.fits:   0%|          | 0.00/193k [00:00<?, ?B/s]"
      ]
     },
     "metadata": {},
     "output_type": "display_data"
    },
    {
     "data": {
      "application/vnd.jupyter.widget-view+json": {
       "model_id": "d8bbd2e617494d19ab93687bcb86aed2",
       "version_major": 2,
       "version_minor": 0
      },
      "text/plain": [
       "aia.lev1_euv_12s.2011-05-27T224802Z.304.image.fits:   0%|          | 0.00/196k [00:00<?, ?B/s]"
      ]
     },
     "metadata": {},
     "output_type": "display_data"
    },
    {
     "data": {
      "application/vnd.jupyter.widget-view+json": {
       "model_id": "97b2226fb58749d4a9dfffeaa6b733e5",
       "version_major": 2,
       "version_minor": 0
      },
      "text/plain": [
       "aia.lev1_euv_12s.2011-05-27T224826Z.304.image.fits:   0%|          | 0.00/193k [00:00<?, ?B/s]"
      ]
     },
     "metadata": {},
     "output_type": "display_data"
    },
    {
     "data": {
      "application/vnd.jupyter.widget-view+json": {
       "model_id": "60557e2f1c8d4d58a9807605040584e0",
       "version_major": 2,
       "version_minor": 0
      },
      "text/plain": [
       "aia.lev1_euv_12s.2011-05-27T224850Z.304.image.fits:   0%|          | 0.00/193k [00:00<?, ?B/s]"
      ]
     },
     "metadata": {},
     "output_type": "display_data"
    },
    {
     "data": {
      "application/vnd.jupyter.widget-view+json": {
       "model_id": "3a6fb9020ac9413ea783fc62a03b8966",
       "version_major": 2,
       "version_minor": 0
      },
      "text/plain": [
       "aia.lev1_euv_12s.2011-05-27T224914Z.304.image.fits:   0%|          | 0.00/193k [00:00<?, ?B/s]"
      ]
     },
     "metadata": {},
     "output_type": "display_data"
    },
    {
     "data": {
      "application/vnd.jupyter.widget-view+json": {
       "model_id": "230101eefd054aad915f12b9d94f0c09",
       "version_major": 2,
       "version_minor": 0
      },
      "text/plain": [
       "aia.lev1_euv_12s.2011-05-27T224938Z.304.image.fits:   0%|          | 0.00/196k [00:00<?, ?B/s]"
      ]
     },
     "metadata": {},
     "output_type": "display_data"
    },
    {
     "data": {
      "application/vnd.jupyter.widget-view+json": {
       "model_id": "92cd317b74814605b91b897fd86e93c7",
       "version_major": 2,
       "version_minor": 0
      },
      "text/plain": [
       "aia.lev1_euv_12s.2011-05-27T225002Z.304.image.fits:   0%|          | 0.00/196k [00:00<?, ?B/s]"
      ]
     },
     "metadata": {},
     "output_type": "display_data"
    },
    {
     "name": "stdout",
     "output_type": "stream",
     "text": [
      "Download = 11/19 and array =(166, 166, 25)\n",
      "Export request pending. [id=JSOC_20231129_1094, status=2]\n",
      "Waiting for 0 seconds...\n",
      "Export request pending. [id=JSOC_20231129_1094, status=1]\n",
      "Waiting for 5 seconds...\n",
      "Export request pending. [id=JSOC_20231129_1094, status=1]\n",
      "Waiting for 5 seconds...\n",
      "Export request pending. [id=JSOC_20231129_1094, status=1]\n",
      "Waiting for 5 seconds...\n",
      "Export request pending. [id=JSOC_20231129_1094, status=1]\n",
      "Waiting for 5 seconds...\n",
      "Export request pending. [id=JSOC_20231129_1094, status=1]\n",
      "Waiting for 5 seconds...\n",
      "30 URLs found for download. Full request totalling 6MB\n"
     ]
    },
    {
     "data": {
      "application/vnd.jupyter.widget-view+json": {
       "model_id": "0efeaf477e7745f086e53290dfde6e8b",
       "version_major": 2,
       "version_minor": 0
      },
      "text/plain": [
       "Files Downloaded:   0%|          | 0/30 [00:00<?, ?file/s]"
      ]
     },
     "metadata": {},
     "output_type": "display_data"
    },
    {
     "data": {
      "application/vnd.jupyter.widget-view+json": {
       "model_id": "d489a93eb80048c4bf1898cdca5010f6",
       "version_major": 2,
       "version_minor": 0
      },
      "text/plain": [
       "aia.lev1_euv_12s.2011-05-27T231626Z.304.image.fits:   0%|          | 0.00/193k [00:00<?, ?B/s]"
      ]
     },
     "metadata": {},
     "output_type": "display_data"
    },
    {
     "data": {
      "application/vnd.jupyter.widget-view+json": {
       "model_id": "01d2a2540b20455ab3577028a4174081",
       "version_major": 2,
       "version_minor": 0
      },
      "text/plain": [
       "aia.lev1_euv_12s.2011-05-27T231650Z.304.image.fits:   0%|          | 0.00/193k [00:00<?, ?B/s]"
      ]
     },
     "metadata": {},
     "output_type": "display_data"
    },
    {
     "data": {
      "application/vnd.jupyter.widget-view+json": {
       "model_id": "d1f43751f8c142b29940b68417721867",
       "version_major": 2,
       "version_minor": 0
      },
      "text/plain": [
       "aia.lev1_euv_12s.2011-05-27T231714Z.304.image.fits:   0%|          | 0.00/193k [00:00<?, ?B/s]"
      ]
     },
     "metadata": {},
     "output_type": "display_data"
    },
    {
     "data": {
      "application/vnd.jupyter.widget-view+json": {
       "model_id": "6bcbfc0180264b939fd40d28a3c24fa4",
       "version_major": 2,
       "version_minor": 0
      },
      "text/plain": [
       "aia.lev1_euv_12s.2011-05-27T231738Z.304.image.fits:   0%|          | 0.00/193k [00:00<?, ?B/s]"
      ]
     },
     "metadata": {},
     "output_type": "display_data"
    },
    {
     "data": {
      "application/vnd.jupyter.widget-view+json": {
       "model_id": "39c93549ecae43babddeebfa2f23960e",
       "version_major": 2,
       "version_minor": 0
      },
      "text/plain": [
       "aia.lev1_euv_12s.2011-05-27T231802Z.304.image.fits:   0%|          | 0.00/193k [00:00<?, ?B/s]"
      ]
     },
     "metadata": {},
     "output_type": "display_data"
    },
    {
     "data": {
      "application/vnd.jupyter.widget-view+json": {
       "model_id": "aeff0a2129a746f08a4dcff7a86ebae0",
       "version_major": 2,
       "version_minor": 0
      },
      "text/plain": [
       "aia.lev1_euv_12s.2011-05-27T231826Z.304.image.fits:   0%|          | 0.00/193k [00:00<?, ?B/s]"
      ]
     },
     "metadata": {},
     "output_type": "display_data"
    },
    {
     "data": {
      "application/vnd.jupyter.widget-view+json": {
       "model_id": "1b52dd53a1564ad8848b74cb9597a35f",
       "version_major": 2,
       "version_minor": 0
      },
      "text/plain": [
       "aia.lev1_euv_12s.2011-05-27T231850Z.304.image.fits:   0%|          | 0.00/193k [00:00<?, ?B/s]"
      ]
     },
     "metadata": {},
     "output_type": "display_data"
    },
    {
     "data": {
      "application/vnd.jupyter.widget-view+json": {
       "model_id": "3aae5dd40a284ff0901bf6bfe2ddf22d",
       "version_major": 2,
       "version_minor": 0
      },
      "text/plain": [
       "aia.lev1_euv_12s.2011-05-27T231914Z.304.image.fits:   0%|          | 0.00/193k [00:00<?, ?B/s]"
      ]
     },
     "metadata": {},
     "output_type": "display_data"
    },
    {
     "data": {
      "application/vnd.jupyter.widget-view+json": {
       "model_id": "d1a3f9438b9e4007a9809b36b5823eba",
       "version_major": 2,
       "version_minor": 0
      },
      "text/plain": [
       "aia.lev1_euv_12s.2011-05-27T231938Z.304.image.fits:   0%|          | 0.00/193k [00:00<?, ?B/s]"
      ]
     },
     "metadata": {},
     "output_type": "display_data"
    },
    {
     "data": {
      "application/vnd.jupyter.widget-view+json": {
       "model_id": "9091fcbfdbb341eeae77ce068d091fed",
       "version_major": 2,
       "version_minor": 0
      },
      "text/plain": [
       "aia.lev1_euv_12s.2011-05-27T232002Z.304.image.fits:   0%|          | 0.00/193k [00:00<?, ?B/s]"
      ]
     },
     "metadata": {},
     "output_type": "display_data"
    },
    {
     "data": {
      "application/vnd.jupyter.widget-view+json": {
       "model_id": "a9b068b80ed14c0fbb67ac98e67c489c",
       "version_major": 2,
       "version_minor": 0
      },
      "text/plain": [
       "aia.lev1_euv_12s.2011-05-27T232026Z.304.image.fits:   0%|          | 0.00/193k [00:00<?, ?B/s]"
      ]
     },
     "metadata": {},
     "output_type": "display_data"
    },
    {
     "data": {
      "application/vnd.jupyter.widget-view+json": {
       "model_id": "f9b8364b404948e08607531e47facdb0",
       "version_major": 2,
       "version_minor": 0
      },
      "text/plain": [
       "aia.lev1_euv_12s.2011-05-27T232050Z.304.image.fits:   0%|          | 0.00/193k [00:00<?, ?B/s]"
      ]
     },
     "metadata": {},
     "output_type": "display_data"
    },
    {
     "data": {
      "application/vnd.jupyter.widget-view+json": {
       "model_id": "a348df17665845cfa53029f720050d83",
       "version_major": 2,
       "version_minor": 0
      },
      "text/plain": [
       "aia.lev1_euv_12s.2011-05-27T232114Z.304.image.fits:   0%|          | 0.00/193k [00:00<?, ?B/s]"
      ]
     },
     "metadata": {},
     "output_type": "display_data"
    },
    {
     "data": {
      "application/vnd.jupyter.widget-view+json": {
       "model_id": "0de33ad4b7aa49edbc5ae2e2036ba4b2",
       "version_major": 2,
       "version_minor": 0
      },
      "text/plain": [
       "aia.lev1_euv_12s.2011-05-27T232138Z.304.image.fits:   0%|          | 0.00/193k [00:00<?, ?B/s]"
      ]
     },
     "metadata": {},
     "output_type": "display_data"
    },
    {
     "data": {
      "application/vnd.jupyter.widget-view+json": {
       "model_id": "f6db3863004043cd90e943765facaa23",
       "version_major": 2,
       "version_minor": 0
      },
      "text/plain": [
       "aia.lev1_euv_12s.2011-05-27T232202Z.304.image.fits:   0%|          | 0.00/193k [00:00<?, ?B/s]"
      ]
     },
     "metadata": {},
     "output_type": "display_data"
    },
    {
     "data": {
      "application/vnd.jupyter.widget-view+json": {
       "model_id": "f20f5cc03b18404c941d084eda9babf4",
       "version_major": 2,
       "version_minor": 0
      },
      "text/plain": [
       "aia.lev1_euv_12s.2011-05-27T232226Z.304.image.fits:   0%|          | 0.00/193k [00:00<?, ?B/s]"
      ]
     },
     "metadata": {},
     "output_type": "display_data"
    },
    {
     "data": {
      "application/vnd.jupyter.widget-view+json": {
       "model_id": "74c451fa35c54549ad6ee0810b9d3237",
       "version_major": 2,
       "version_minor": 0
      },
      "text/plain": [
       "aia.lev1_euv_12s.2011-05-27T232250Z.304.image.fits:   0%|          | 0.00/193k [00:00<?, ?B/s]"
      ]
     },
     "metadata": {},
     "output_type": "display_data"
    },
    {
     "data": {
      "application/vnd.jupyter.widget-view+json": {
       "model_id": "3ef892623b3e46fa95fefa239464b94f",
       "version_major": 2,
       "version_minor": 0
      },
      "text/plain": [
       "aia.lev1_euv_12s.2011-05-27T232314Z.304.image.fits:   0%|          | 0.00/193k [00:00<?, ?B/s]"
      ]
     },
     "metadata": {},
     "output_type": "display_data"
    },
    {
     "data": {
      "application/vnd.jupyter.widget-view+json": {
       "model_id": "0cdff1691cae46288042b82d0d8057f9",
       "version_major": 2,
       "version_minor": 0
      },
      "text/plain": [
       "aia.lev1_euv_12s.2011-05-27T232338Z.304.image.fits:   0%|          | 0.00/193k [00:00<?, ?B/s]"
      ]
     },
     "metadata": {},
     "output_type": "display_data"
    },
    {
     "data": {
      "application/vnd.jupyter.widget-view+json": {
       "model_id": "a5f23a76a43d487f83d6181e3f0bd90f",
       "version_major": 2,
       "version_minor": 0
      },
      "text/plain": [
       "aia.lev1_euv_12s.2011-05-27T232402Z.304.image.fits:   0%|          | 0.00/193k [00:00<?, ?B/s]"
      ]
     },
     "metadata": {},
     "output_type": "display_data"
    },
    {
     "data": {
      "application/vnd.jupyter.widget-view+json": {
       "model_id": "cb0f3702a4c8470b838580fe4dc2da4f",
       "version_major": 2,
       "version_minor": 0
      },
      "text/plain": [
       "aia.lev1_euv_12s.2011-05-27T232426Z.304.image.fits:   0%|          | 0.00/193k [00:00<?, ?B/s]"
      ]
     },
     "metadata": {},
     "output_type": "display_data"
    },
    {
     "data": {
      "application/vnd.jupyter.widget-view+json": {
       "model_id": "c6f541719caa4975a86d34c9e3055ec3",
       "version_major": 2,
       "version_minor": 0
      },
      "text/plain": [
       "aia.lev1_euv_12s.2011-05-27T232450Z.304.image.fits:   0%|          | 0.00/193k [00:00<?, ?B/s]"
      ]
     },
     "metadata": {},
     "output_type": "display_data"
    },
    {
     "data": {
      "application/vnd.jupyter.widget-view+json": {
       "model_id": "99a883928bcf408db8e4eede924fd711",
       "version_major": 2,
       "version_minor": 0
      },
      "text/plain": [
       "aia.lev1_euv_12s.2011-05-27T232514Z.304.image.fits:   0%|          | 0.00/193k [00:00<?, ?B/s]"
      ]
     },
     "metadata": {},
     "output_type": "display_data"
    },
    {
     "data": {
      "application/vnd.jupyter.widget-view+json": {
       "model_id": "65200d42030245feb71f10e00c0a8e6c",
       "version_major": 2,
       "version_minor": 0
      },
      "text/plain": [
       "aia.lev1_euv_12s.2011-05-27T232538Z.304.image.fits:   0%|          | 0.00/193k [00:00<?, ?B/s]"
      ]
     },
     "metadata": {},
     "output_type": "display_data"
    },
    {
     "data": {
      "application/vnd.jupyter.widget-view+json": {
       "model_id": "078bc558fb2c484e9bda491b31507974",
       "version_major": 2,
       "version_minor": 0
      },
      "text/plain": [
       "aia.lev1_euv_12s.2011-05-27T232602Z.304.image.fits:   0%|          | 0.00/196k [00:00<?, ?B/s]"
      ]
     },
     "metadata": {},
     "output_type": "display_data"
    },
    {
     "data": {
      "application/vnd.jupyter.widget-view+json": {
       "model_id": "19372c53480243b8a9d7bb44c18f2b07",
       "version_major": 2,
       "version_minor": 0
      },
      "text/plain": [
       "aia.lev1_euv_12s.2011-05-27T232626Z.304.image.fits:   0%|          | 0.00/196k [00:00<?, ?B/s]"
      ]
     },
     "metadata": {},
     "output_type": "display_data"
    },
    {
     "data": {
      "application/vnd.jupyter.widget-view+json": {
       "model_id": "83347414c8624cdebd35b2778511669f",
       "version_major": 2,
       "version_minor": 0
      },
      "text/plain": [
       "aia.lev1_euv_12s.2011-05-27T232650Z.304.image.fits:   0%|          | 0.00/196k [00:00<?, ?B/s]"
      ]
     },
     "metadata": {},
     "output_type": "display_data"
    },
    {
     "data": {
      "application/vnd.jupyter.widget-view+json": {
       "model_id": "0899e90e96724ecfb413780ca721af09",
       "version_major": 2,
       "version_minor": 0
      },
      "text/plain": [
       "aia.lev1_euv_12s.2011-05-27T232714Z.304.image.fits:   0%|          | 0.00/196k [00:00<?, ?B/s]"
      ]
     },
     "metadata": {},
     "output_type": "display_data"
    },
    {
     "data": {
      "application/vnd.jupyter.widget-view+json": {
       "model_id": "63596ca127344d5996b1187c9f77cb6e",
       "version_major": 2,
       "version_minor": 0
      },
      "text/plain": [
       "aia.lev1_euv_12s.2011-05-27T232738Z.304.image.fits:   0%|          | 0.00/193k [00:00<?, ?B/s]"
      ]
     },
     "metadata": {},
     "output_type": "display_data"
    },
    {
     "data": {
      "application/vnd.jupyter.widget-view+json": {
       "model_id": "e75b248472404281b0d59f650fc9c85e",
       "version_major": 2,
       "version_minor": 0
      },
      "text/plain": [
       "aia.lev1_euv_12s.2011-05-27T232802Z.304.image.fits:   0%|          | 0.00/193k [00:00<?, ?B/s]"
      ]
     },
     "metadata": {},
     "output_type": "display_data"
    },
    {
     "name": "stdout",
     "output_type": "stream",
     "text": [
      "Download = 12/19 and array =(166, 166, 30)\n",
      "Export request pending. [id=JSOC_20231129_1099, status=2]\n",
      "Waiting for 0 seconds...\n",
      "Export request pending. [id=JSOC_20231129_1099, status=1]\n",
      "Waiting for 5 seconds...\n",
      "Export request pending. [id=JSOC_20231129_1099, status=1]\n",
      "Waiting for 5 seconds...\n",
      "Export request pending. [id=JSOC_20231129_1099, status=1]\n",
      "Waiting for 5 seconds...\n",
      "Export request pending. [id=JSOC_20231129_1099, status=1]\n",
      "Waiting for 5 seconds...\n",
      "Export request pending. [id=JSOC_20231129_1099, status=1]\n",
      "Waiting for 5 seconds...\n",
      "Export request pending. [id=JSOC_20231129_1099, status=1]\n",
      "Waiting for 5 seconds...\n",
      "30 URLs found for download. Full request totalling 6MB\n"
     ]
    },
    {
     "data": {
      "application/vnd.jupyter.widget-view+json": {
       "model_id": "9542978cbd1541bb85f9e9c6d2b5b13a",
       "version_major": 2,
       "version_minor": 0
      },
      "text/plain": [
       "Files Downloaded:   0%|          | 0/30 [00:00<?, ?file/s]"
      ]
     },
     "metadata": {},
     "output_type": "display_data"
    },
    {
     "data": {
      "application/vnd.jupyter.widget-view+json": {
       "model_id": "780b686b49474f02aa8aea3328484eaa",
       "version_major": 2,
       "version_minor": 0
      },
      "text/plain": [
       "aia.lev1_euv_12s.2011-05-28T000002Z.304.image.fits:   0%|          | 0.00/196k [00:00<?, ?B/s]"
      ]
     },
     "metadata": {},
     "output_type": "display_data"
    },
    {
     "data": {
      "application/vnd.jupyter.widget-view+json": {
       "model_id": "d9013b40b7fe4bf9aea5c730a03810cd",
       "version_major": 2,
       "version_minor": 0
      },
      "text/plain": [
       "aia.lev1_euv_12s.2011-05-28T000026Z.304.image.fits:   0%|          | 0.00/196k [00:00<?, ?B/s]"
      ]
     },
     "metadata": {},
     "output_type": "display_data"
    },
    {
     "data": {
      "application/vnd.jupyter.widget-view+json": {
       "model_id": "ec4addec7d514089a5b700d8cfc41b89",
       "version_major": 2,
       "version_minor": 0
      },
      "text/plain": [
       "aia.lev1_euv_12s.2011-05-28T000050Z.304.image.fits:   0%|          | 0.00/196k [00:00<?, ?B/s]"
      ]
     },
     "metadata": {},
     "output_type": "display_data"
    },
    {
     "data": {
      "application/vnd.jupyter.widget-view+json": {
       "model_id": "408747cccd204defbf1e0b365ce793e0",
       "version_major": 2,
       "version_minor": 0
      },
      "text/plain": [
       "aia.lev1_euv_12s.2011-05-28T000114Z.304.image.fits:   0%|          | 0.00/196k [00:00<?, ?B/s]"
      ]
     },
     "metadata": {},
     "output_type": "display_data"
    },
    {
     "data": {
      "application/vnd.jupyter.widget-view+json": {
       "model_id": "51b59822e45c4371ba23fae34043bb1f",
       "version_major": 2,
       "version_minor": 0
      },
      "text/plain": [
       "aia.lev1_euv_12s.2011-05-28T000138Z.304.image.fits:   0%|          | 0.00/196k [00:00<?, ?B/s]"
      ]
     },
     "metadata": {},
     "output_type": "display_data"
    },
    {
     "data": {
      "application/vnd.jupyter.widget-view+json": {
       "model_id": "27c99290cdba4da48caae72dd5874400",
       "version_major": 2,
       "version_minor": 0
      },
      "text/plain": [
       "aia.lev1_euv_12s.2011-05-28T000202Z.304.image.fits:   0%|          | 0.00/196k [00:00<?, ?B/s]"
      ]
     },
     "metadata": {},
     "output_type": "display_data"
    },
    {
     "data": {
      "application/vnd.jupyter.widget-view+json": {
       "model_id": "555900f978a14147af11759d2da8624b",
       "version_major": 2,
       "version_minor": 0
      },
      "text/plain": [
       "aia.lev1_euv_12s.2011-05-28T000226Z.304.image.fits:   0%|          | 0.00/196k [00:00<?, ?B/s]"
      ]
     },
     "metadata": {},
     "output_type": "display_data"
    },
    {
     "data": {
      "application/vnd.jupyter.widget-view+json": {
       "model_id": "e8a4e9420fef47e6935596fb144d4c21",
       "version_major": 2,
       "version_minor": 0
      },
      "text/plain": [
       "aia.lev1_euv_12s.2011-05-28T000250Z.304.image.fits:   0%|          | 0.00/196k [00:00<?, ?B/s]"
      ]
     },
     "metadata": {},
     "output_type": "display_data"
    },
    {
     "data": {
      "application/vnd.jupyter.widget-view+json": {
       "model_id": "f14cbde7edd7469688cd6d3a2527157e",
       "version_major": 2,
       "version_minor": 0
      },
      "text/plain": [
       "aia.lev1_euv_12s.2011-05-28T000314Z.304.image.fits:   0%|          | 0.00/196k [00:00<?, ?B/s]"
      ]
     },
     "metadata": {},
     "output_type": "display_data"
    },
    {
     "data": {
      "application/vnd.jupyter.widget-view+json": {
       "model_id": "8121c8becbac42adb68014fc6f77721e",
       "version_major": 2,
       "version_minor": 0
      },
      "text/plain": [
       "aia.lev1_euv_12s.2011-05-28T000338Z.304.image.fits:   0%|          | 0.00/196k [00:00<?, ?B/s]"
      ]
     },
     "metadata": {},
     "output_type": "display_data"
    },
    {
     "data": {
      "application/vnd.jupyter.widget-view+json": {
       "model_id": "8b2e714bb2064205bca4c41fe9a305cb",
       "version_major": 2,
       "version_minor": 0
      },
      "text/plain": [
       "aia.lev1_euv_12s.2011-05-28T000402Z.304.image.fits:   0%|          | 0.00/196k [00:00<?, ?B/s]"
      ]
     },
     "metadata": {},
     "output_type": "display_data"
    },
    {
     "data": {
      "application/vnd.jupyter.widget-view+json": {
       "model_id": "010dace2795e491d8dfc4edc710e7c7e",
       "version_major": 2,
       "version_minor": 0
      },
      "text/plain": [
       "aia.lev1_euv_12s.2011-05-28T000426Z.304.image.fits:   0%|          | 0.00/196k [00:00<?, ?B/s]"
      ]
     },
     "metadata": {},
     "output_type": "display_data"
    },
    {
     "data": {
      "application/vnd.jupyter.widget-view+json": {
       "model_id": "788b4fd3c6d1433fadf320c068a2e3f8",
       "version_major": 2,
       "version_minor": 0
      },
      "text/plain": [
       "aia.lev1_euv_12s.2011-05-28T000450Z.304.image.fits:   0%|          | 0.00/196k [00:00<?, ?B/s]"
      ]
     },
     "metadata": {},
     "output_type": "display_data"
    },
    {
     "data": {
      "application/vnd.jupyter.widget-view+json": {
       "model_id": "101d442a221f4024b97262b7afb89bff",
       "version_major": 2,
       "version_minor": 0
      },
      "text/plain": [
       "aia.lev1_euv_12s.2011-05-28T000514Z.304.image.fits:   0%|          | 0.00/196k [00:00<?, ?B/s]"
      ]
     },
     "metadata": {},
     "output_type": "display_data"
    },
    {
     "data": {
      "application/vnd.jupyter.widget-view+json": {
       "model_id": "8cb546a9ddbc45b1a1815134675001d5",
       "version_major": 2,
       "version_minor": 0
      },
      "text/plain": [
       "aia.lev1_euv_12s.2011-05-28T000538Z.304.image.fits:   0%|          | 0.00/196k [00:00<?, ?B/s]"
      ]
     },
     "metadata": {},
     "output_type": "display_data"
    },
    {
     "data": {
      "application/vnd.jupyter.widget-view+json": {
       "model_id": "20eb45d181af4c3aac7e134b62ff74e3",
       "version_major": 2,
       "version_minor": 0
      },
      "text/plain": [
       "aia.lev1_euv_12s.2011-05-28T000602Z.304.image.fits:   0%|          | 0.00/196k [00:00<?, ?B/s]"
      ]
     },
     "metadata": {},
     "output_type": "display_data"
    },
    {
     "data": {
      "application/vnd.jupyter.widget-view+json": {
       "model_id": "beeb5f4d7a8b45e8a8eb2588434d25db",
       "version_major": 2,
       "version_minor": 0
      },
      "text/plain": [
       "aia.lev1_euv_12s.2011-05-28T000626Z.304.image.fits:   0%|          | 0.00/196k [00:00<?, ?B/s]"
      ]
     },
     "metadata": {},
     "output_type": "display_data"
    },
    {
     "data": {
      "application/vnd.jupyter.widget-view+json": {
       "model_id": "07198d668a7045db8a7871e550887b54",
       "version_major": 2,
       "version_minor": 0
      },
      "text/plain": [
       "aia.lev1_euv_12s.2011-05-28T000650Z.304.image.fits:   0%|          | 0.00/196k [00:00<?, ?B/s]"
      ]
     },
     "metadata": {},
     "output_type": "display_data"
    },
    {
     "data": {
      "application/vnd.jupyter.widget-view+json": {
       "model_id": "8f12a09c02074d40adfc766bb84c66d3",
       "version_major": 2,
       "version_minor": 0
      },
      "text/plain": [
       "aia.lev1_euv_12s.2011-05-28T000714Z.304.image.fits:   0%|          | 0.00/196k [00:00<?, ?B/s]"
      ]
     },
     "metadata": {},
     "output_type": "display_data"
    },
    {
     "data": {
      "application/vnd.jupyter.widget-view+json": {
       "model_id": "e5c79bfea861467a8029ecff607ed4e7",
       "version_major": 2,
       "version_minor": 0
      },
      "text/plain": [
       "aia.lev1_euv_12s.2011-05-28T000738Z.304.image.fits:   0%|          | 0.00/196k [00:00<?, ?B/s]"
      ]
     },
     "metadata": {},
     "output_type": "display_data"
    },
    {
     "data": {
      "application/vnd.jupyter.widget-view+json": {
       "model_id": "3f7d71d1138142308e2768b6e3d1ec7c",
       "version_major": 2,
       "version_minor": 0
      },
      "text/plain": [
       "aia.lev1_euv_12s.2011-05-28T000802Z.304.image.fits:   0%|          | 0.00/196k [00:00<?, ?B/s]"
      ]
     },
     "metadata": {},
     "output_type": "display_data"
    },
    {
     "data": {
      "application/vnd.jupyter.widget-view+json": {
       "model_id": "c53f73df7ab04372b87dbc7acee24300",
       "version_major": 2,
       "version_minor": 0
      },
      "text/plain": [
       "aia.lev1_euv_12s.2011-05-28T000826Z.304.image.fits:   0%|          | 0.00/196k [00:00<?, ?B/s]"
      ]
     },
     "metadata": {},
     "output_type": "display_data"
    },
    {
     "data": {
      "application/vnd.jupyter.widget-view+json": {
       "model_id": "29edc8fda25a497e8b0dc6cb8e1d5a56",
       "version_major": 2,
       "version_minor": 0
      },
      "text/plain": [
       "aia.lev1_euv_12s.2011-05-28T000850Z.304.image.fits:   0%|          | 0.00/196k [00:00<?, ?B/s]"
      ]
     },
     "metadata": {},
     "output_type": "display_data"
    },
    {
     "data": {
      "application/vnd.jupyter.widget-view+json": {
       "model_id": "73d6391d2fda42fe81de8c9ba40215cc",
       "version_major": 2,
       "version_minor": 0
      },
      "text/plain": [
       "aia.lev1_euv_12s.2011-05-28T000914Z.304.image.fits:   0%|          | 0.00/196k [00:00<?, ?B/s]"
      ]
     },
     "metadata": {},
     "output_type": "display_data"
    },
    {
     "data": {
      "application/vnd.jupyter.widget-view+json": {
       "model_id": "7a461728648440e8b682c27b0bea39bf",
       "version_major": 2,
       "version_minor": 0
      },
      "text/plain": [
       "aia.lev1_euv_12s.2011-05-28T000938Z.304.image.fits:   0%|          | 0.00/196k [00:00<?, ?B/s]"
      ]
     },
     "metadata": {},
     "output_type": "display_data"
    },
    {
     "data": {
      "application/vnd.jupyter.widget-view+json": {
       "model_id": "0ca840850d00480da9b445d4fbf3e53f",
       "version_major": 2,
       "version_minor": 0
      },
      "text/plain": [
       "aia.lev1_euv_12s.2011-05-28T001002Z.304.image.fits:   0%|          | 0.00/196k [00:00<?, ?B/s]"
      ]
     },
     "metadata": {},
     "output_type": "display_data"
    },
    {
     "data": {
      "application/vnd.jupyter.widget-view+json": {
       "model_id": "64225affb2404190bacdb0bff5862985",
       "version_major": 2,
       "version_minor": 0
      },
      "text/plain": [
       "aia.lev1_euv_12s.2011-05-28T001026Z.304.image.fits:   0%|          | 0.00/196k [00:00<?, ?B/s]"
      ]
     },
     "metadata": {},
     "output_type": "display_data"
    },
    {
     "data": {
      "application/vnd.jupyter.widget-view+json": {
       "model_id": "e77e50298e66417abdcb8e021b538c02",
       "version_major": 2,
       "version_minor": 0
      },
      "text/plain": [
       "aia.lev1_euv_12s.2011-05-28T001050Z.304.image.fits:   0%|          | 0.00/196k [00:00<?, ?B/s]"
      ]
     },
     "metadata": {},
     "output_type": "display_data"
    },
    {
     "data": {
      "application/vnd.jupyter.widget-view+json": {
       "model_id": "be20019f39f24cab821fba8bd6bfff16",
       "version_major": 2,
       "version_minor": 0
      },
      "text/plain": [
       "aia.lev1_euv_12s.2011-05-28T001114Z.304.image.fits:   0%|          | 0.00/196k [00:00<?, ?B/s]"
      ]
     },
     "metadata": {},
     "output_type": "display_data"
    },
    {
     "data": {
      "application/vnd.jupyter.widget-view+json": {
       "model_id": "b81b2477ee9e4c5b96a4e011984dbf54",
       "version_major": 2,
       "version_minor": 0
      },
      "text/plain": [
       "aia.lev1_euv_12s.2011-05-28T001138Z.304.image.fits:   0%|          | 0.00/196k [00:00<?, ?B/s]"
      ]
     },
     "metadata": {},
     "output_type": "display_data"
    },
    {
     "name": "stdout",
     "output_type": "stream",
     "text": [
      "Download = 13/19 and array =(166, 166, 30)\n",
      "Export request pending. [id=JSOC_20231129_1103, status=2]\n",
      "Waiting for 0 seconds...\n",
      "Export request pending. [id=JSOC_20231129_1103, status=1]\n",
      "Waiting for 5 seconds...\n",
      "Export request pending. [id=JSOC_20231129_1103, status=1]\n",
      "Waiting for 5 seconds...\n",
      "Export request pending. [id=JSOC_20231129_1103, status=1]\n",
      "Waiting for 5 seconds...\n",
      "Export request pending. [id=JSOC_20231129_1103, status=1]\n",
      "Waiting for 5 seconds...\n",
      "Export request pending. [id=JSOC_20231129_1103, status=1]\n",
      "Waiting for 5 seconds...\n",
      "Export request pending. [id=JSOC_20231129_1103, status=1]\n",
      "Waiting for 5 seconds...\n",
      "30 URLs found for download. Full request totalling 6MB\n"
     ]
    },
    {
     "data": {
      "application/vnd.jupyter.widget-view+json": {
       "model_id": "2572fa3753b74c28a3753225ab9e84f1",
       "version_major": 2,
       "version_minor": 0
      },
      "text/plain": [
       "Files Downloaded:   0%|          | 0/30 [00:00<?, ?file/s]"
      ]
     },
     "metadata": {},
     "output_type": "display_data"
    },
    {
     "data": {
      "application/vnd.jupyter.widget-view+json": {
       "model_id": "4cff3c14f5cb4f13b5ac89171e5b3d9c",
       "version_major": 2,
       "version_minor": 0
      },
      "text/plain": [
       "aia.lev1_euv_12s.2011-05-28T031226Z.304.image.fits:   0%|          | 0.00/199k [00:00<?, ?B/s]"
      ]
     },
     "metadata": {},
     "output_type": "display_data"
    },
    {
     "data": {
      "application/vnd.jupyter.widget-view+json": {
       "model_id": "ec708dbde5924cac927a3e29d3d003f9",
       "version_major": 2,
       "version_minor": 0
      },
      "text/plain": [
       "aia.lev1_euv_12s.2011-05-28T031250Z.304.image.fits:   0%|          | 0.00/199k [00:00<?, ?B/s]"
      ]
     },
     "metadata": {},
     "output_type": "display_data"
    },
    {
     "data": {
      "application/vnd.jupyter.widget-view+json": {
       "model_id": "7484798cd0864eb1be8d356711f33f9d",
       "version_major": 2,
       "version_minor": 0
      },
      "text/plain": [
       "aia.lev1_euv_12s.2011-05-28T031314Z.304.image.fits:   0%|          | 0.00/199k [00:00<?, ?B/s]"
      ]
     },
     "metadata": {},
     "output_type": "display_data"
    },
    {
     "data": {
      "application/vnd.jupyter.widget-view+json": {
       "model_id": "a335eb3f9f6b42c39df5b077c2216b9b",
       "version_major": 2,
       "version_minor": 0
      },
      "text/plain": [
       "aia.lev1_euv_12s.2011-05-28T031338Z.304.image.fits:   0%|          | 0.00/199k [00:00<?, ?B/s]"
      ]
     },
     "metadata": {},
     "output_type": "display_data"
    },
    {
     "data": {
      "application/vnd.jupyter.widget-view+json": {
       "model_id": "4042dd49fa804767b7365caedde2f497",
       "version_major": 2,
       "version_minor": 0
      },
      "text/plain": [
       "aia.lev1_euv_12s.2011-05-28T031402Z.304.image.fits:   0%|          | 0.00/199k [00:00<?, ?B/s]"
      ]
     },
     "metadata": {},
     "output_type": "display_data"
    },
    {
     "data": {
      "application/vnd.jupyter.widget-view+json": {
       "model_id": "afdf88f6c572428bbaf0534afe0ce9ac",
       "version_major": 2,
       "version_minor": 0
      },
      "text/plain": [
       "aia.lev1_euv_12s.2011-05-28T031426Z.304.image.fits:   0%|          | 0.00/196k [00:00<?, ?B/s]"
      ]
     },
     "metadata": {},
     "output_type": "display_data"
    },
    {
     "data": {
      "application/vnd.jupyter.widget-view+json": {
       "model_id": "03b6dc770f484bb2b829f5000958bb22",
       "version_major": 2,
       "version_minor": 0
      },
      "text/plain": [
       "aia.lev1_euv_12s.2011-05-28T031450Z.304.image.fits:   0%|          | 0.00/196k [00:00<?, ?B/s]"
      ]
     },
     "metadata": {},
     "output_type": "display_data"
    },
    {
     "data": {
      "application/vnd.jupyter.widget-view+json": {
       "model_id": "466c8f1db5d0491f9c75f529c99be135",
       "version_major": 2,
       "version_minor": 0
      },
      "text/plain": [
       "aia.lev1_euv_12s.2011-05-28T031514Z.304.image.fits:   0%|          | 0.00/196k [00:00<?, ?B/s]"
      ]
     },
     "metadata": {},
     "output_type": "display_data"
    },
    {
     "data": {
      "application/vnd.jupyter.widget-view+json": {
       "model_id": "6da0145be09c430786b29f5a3e1a68b9",
       "version_major": 2,
       "version_minor": 0
      },
      "text/plain": [
       "aia.lev1_euv_12s.2011-05-28T031538Z.304.image.fits:   0%|          | 0.00/196k [00:00<?, ?B/s]"
      ]
     },
     "metadata": {},
     "output_type": "display_data"
    },
    {
     "data": {
      "application/vnd.jupyter.widget-view+json": {
       "model_id": "4970df4ce88e477b858b56121bc7c272",
       "version_major": 2,
       "version_minor": 0
      },
      "text/plain": [
       "aia.lev1_euv_12s.2011-05-28T031602Z.304.image.fits:   0%|          | 0.00/196k [00:00<?, ?B/s]"
      ]
     },
     "metadata": {},
     "output_type": "display_data"
    },
    {
     "data": {
      "application/vnd.jupyter.widget-view+json": {
       "model_id": "a454bb0fa5a549839188fd24c87cc301",
       "version_major": 2,
       "version_minor": 0
      },
      "text/plain": [
       "aia.lev1_euv_12s.2011-05-28T031626Z.304.image.fits:   0%|          | 0.00/196k [00:00<?, ?B/s]"
      ]
     },
     "metadata": {},
     "output_type": "display_data"
    },
    {
     "data": {
      "application/vnd.jupyter.widget-view+json": {
       "model_id": "e4dc65a9a5f046a386030c3d1f008662",
       "version_major": 2,
       "version_minor": 0
      },
      "text/plain": [
       "aia.lev1_euv_12s.2011-05-28T031650Z.304.image.fits:   0%|          | 0.00/196k [00:00<?, ?B/s]"
      ]
     },
     "metadata": {},
     "output_type": "display_data"
    },
    {
     "data": {
      "application/vnd.jupyter.widget-view+json": {
       "model_id": "4111dabd7d174aceb11370ca6c8295ec",
       "version_major": 2,
       "version_minor": 0
      },
      "text/plain": [
       "aia.lev1_euv_12s.2011-05-28T031714Z.304.image.fits:   0%|          | 0.00/196k [00:00<?, ?B/s]"
      ]
     },
     "metadata": {},
     "output_type": "display_data"
    },
    {
     "data": {
      "application/vnd.jupyter.widget-view+json": {
       "model_id": "7cc75676df7c41f0ba0e0ca50da9fe67",
       "version_major": 2,
       "version_minor": 0
      },
      "text/plain": [
       "aia.lev1_euv_12s.2011-05-28T031738Z.304.image.fits:   0%|          | 0.00/196k [00:00<?, ?B/s]"
      ]
     },
     "metadata": {},
     "output_type": "display_data"
    },
    {
     "data": {
      "application/vnd.jupyter.widget-view+json": {
       "model_id": "193ca65351444d4e95e25f8ce33a1f0d",
       "version_major": 2,
       "version_minor": 0
      },
      "text/plain": [
       "aia.lev1_euv_12s.2011-05-28T031802Z.304.image.fits:   0%|          | 0.00/196k [00:00<?, ?B/s]"
      ]
     },
     "metadata": {},
     "output_type": "display_data"
    },
    {
     "data": {
      "application/vnd.jupyter.widget-view+json": {
       "model_id": "db3c7c62d1e3421c85f48c222f0ccc59",
       "version_major": 2,
       "version_minor": 0
      },
      "text/plain": [
       "aia.lev1_euv_12s.2011-05-28T031826Z.304.image.fits:   0%|          | 0.00/196k [00:00<?, ?B/s]"
      ]
     },
     "metadata": {},
     "output_type": "display_data"
    },
    {
     "data": {
      "application/vnd.jupyter.widget-view+json": {
       "model_id": "e8cf02988a694d08a5149359aec70eb3",
       "version_major": 2,
       "version_minor": 0
      },
      "text/plain": [
       "aia.lev1_euv_12s.2011-05-28T031850Z.304.image.fits:   0%|          | 0.00/196k [00:00<?, ?B/s]"
      ]
     },
     "metadata": {},
     "output_type": "display_data"
    },
    {
     "data": {
      "application/vnd.jupyter.widget-view+json": {
       "model_id": "f238b1f5d8ce4254835e270f40c66afc",
       "version_major": 2,
       "version_minor": 0
      },
      "text/plain": [
       "aia.lev1_euv_12s.2011-05-28T031914Z.304.image.fits:   0%|          | 0.00/196k [00:00<?, ?B/s]"
      ]
     },
     "metadata": {},
     "output_type": "display_data"
    },
    {
     "data": {
      "application/vnd.jupyter.widget-view+json": {
       "model_id": "2df9d3b2733b47be92405cd248f8352a",
       "version_major": 2,
       "version_minor": 0
      },
      "text/plain": [
       "aia.lev1_euv_12s.2011-05-28T031938Z.304.image.fits:   0%|          | 0.00/196k [00:00<?, ?B/s]"
      ]
     },
     "metadata": {},
     "output_type": "display_data"
    },
    {
     "data": {
      "application/vnd.jupyter.widget-view+json": {
       "model_id": "8b4f691fb2a14f88951f46d47af6f343",
       "version_major": 2,
       "version_minor": 0
      },
      "text/plain": [
       "aia.lev1_euv_12s.2011-05-28T032002Z.304.image.fits:   0%|          | 0.00/196k [00:00<?, ?B/s]"
      ]
     },
     "metadata": {},
     "output_type": "display_data"
    },
    {
     "data": {
      "application/vnd.jupyter.widget-view+json": {
       "model_id": "0d6b6b9ddbfe467e8aa100af40c4dc92",
       "version_major": 2,
       "version_minor": 0
      },
      "text/plain": [
       "aia.lev1_euv_12s.2011-05-28T032026Z.304.image.fits:   0%|          | 0.00/196k [00:00<?, ?B/s]"
      ]
     },
     "metadata": {},
     "output_type": "display_data"
    },
    {
     "data": {
      "application/vnd.jupyter.widget-view+json": {
       "model_id": "ebde59c5182a49f3b9d05e1f14ce7216",
       "version_major": 2,
       "version_minor": 0
      },
      "text/plain": [
       "aia.lev1_euv_12s.2011-05-28T032050Z.304.image.fits:   0%|          | 0.00/196k [00:00<?, ?B/s]"
      ]
     },
     "metadata": {},
     "output_type": "display_data"
    },
    {
     "data": {
      "application/vnd.jupyter.widget-view+json": {
       "model_id": "00d38b0a1b504568ba0450fa7545b22d",
       "version_major": 2,
       "version_minor": 0
      },
      "text/plain": [
       "aia.lev1_euv_12s.2011-05-28T032114Z.304.image.fits:   0%|          | 0.00/196k [00:00<?, ?B/s]"
      ]
     },
     "metadata": {},
     "output_type": "display_data"
    },
    {
     "data": {
      "application/vnd.jupyter.widget-view+json": {
       "model_id": "e805c24cda5840819ef720e339d86ce3",
       "version_major": 2,
       "version_minor": 0
      },
      "text/plain": [
       "aia.lev1_euv_12s.2011-05-28T032138Z.304.image.fits:   0%|          | 0.00/196k [00:00<?, ?B/s]"
      ]
     },
     "metadata": {},
     "output_type": "display_data"
    },
    {
     "data": {
      "application/vnd.jupyter.widget-view+json": {
       "model_id": "269bf5a9cd364e019e26980fbe92d685",
       "version_major": 2,
       "version_minor": 0
      },
      "text/plain": [
       "aia.lev1_euv_12s.2011-05-28T032202Z.304.image.fits:   0%|          | 0.00/196k [00:00<?, ?B/s]"
      ]
     },
     "metadata": {},
     "output_type": "display_data"
    },
    {
     "data": {
      "application/vnd.jupyter.widget-view+json": {
       "model_id": "2b20a50058c64a6ab019ad09c12ac6c1",
       "version_major": 2,
       "version_minor": 0
      },
      "text/plain": [
       "aia.lev1_euv_12s.2011-05-28T032226Z.304.image.fits:   0%|          | 0.00/196k [00:00<?, ?B/s]"
      ]
     },
     "metadata": {},
     "output_type": "display_data"
    },
    {
     "data": {
      "application/vnd.jupyter.widget-view+json": {
       "model_id": "0eefbf976fb84ee6b3d6f1cf16baf355",
       "version_major": 2,
       "version_minor": 0
      },
      "text/plain": [
       "aia.lev1_euv_12s.2011-05-28T032250Z.304.image.fits:   0%|          | 0.00/196k [00:00<?, ?B/s]"
      ]
     },
     "metadata": {},
     "output_type": "display_data"
    },
    {
     "data": {
      "application/vnd.jupyter.widget-view+json": {
       "model_id": "1acf6b981e604c6e81a7bd6d710f6e64",
       "version_major": 2,
       "version_minor": 0
      },
      "text/plain": [
       "aia.lev1_euv_12s.2011-05-28T032314Z.304.image.fits:   0%|          | 0.00/196k [00:00<?, ?B/s]"
      ]
     },
     "metadata": {},
     "output_type": "display_data"
    },
    {
     "data": {
      "application/vnd.jupyter.widget-view+json": {
       "model_id": "d5433abc257b45cdbc5dc946a386f421",
       "version_major": 2,
       "version_minor": 0
      },
      "text/plain": [
       "aia.lev1_euv_12s.2011-05-28T032338Z.304.image.fits:   0%|          | 0.00/196k [00:00<?, ?B/s]"
      ]
     },
     "metadata": {},
     "output_type": "display_data"
    },
    {
     "data": {
      "application/vnd.jupyter.widget-view+json": {
       "model_id": "5573e218e4974d538db8482408f64010",
       "version_major": 2,
       "version_minor": 0
      },
      "text/plain": [
       "aia.lev1_euv_12s.2011-05-28T032402Z.304.image.fits:   0%|          | 0.00/196k [00:00<?, ?B/s]"
      ]
     },
     "metadata": {},
     "output_type": "display_data"
    },
    {
     "name": "stdout",
     "output_type": "stream",
     "text": [
      "Download = 14/19 and array =(166, 166, 30)\n",
      "Export request pending. [id=JSOC_20231129_1108, status=2]\n",
      "Waiting for 0 seconds...\n",
      "Export request pending. [id=JSOC_20231129_1108, status=1]\n",
      "Waiting for 5 seconds...\n",
      "Export request pending. [id=JSOC_20231129_1108, status=1]\n",
      "Waiting for 5 seconds...\n",
      "Export request pending. [id=JSOC_20231129_1108, status=1]\n",
      "Waiting for 5 seconds...\n",
      "Export request pending. [id=JSOC_20231129_1108, status=1]\n",
      "Waiting for 5 seconds...\n",
      "Export request pending. [id=JSOC_20231129_1108, status=1]\n",
      "Waiting for 5 seconds...\n",
      "Export request pending. [id=JSOC_20231129_1108, status=1]\n",
      "Waiting for 5 seconds...\n",
      "30 URLs found for download. Full request totalling 6MB\n"
     ]
    },
    {
     "data": {
      "application/vnd.jupyter.widget-view+json": {
       "model_id": "d2fd487c79fd4684b9fbe167d8f88948",
       "version_major": 2,
       "version_minor": 0
      },
      "text/plain": [
       "Files Downloaded:   0%|          | 0/30 [00:00<?, ?file/s]"
      ]
     },
     "metadata": {},
     "output_type": "display_data"
    },
    {
     "data": {
      "application/vnd.jupyter.widget-view+json": {
       "model_id": "a24e0e9ba02d481b96769b9148d64f45",
       "version_major": 2,
       "version_minor": 0
      },
      "text/plain": [
       "aia.lev1_euv_12s.2011-05-28T033826Z.304.image.fits:   0%|          | 0.00/210k [00:00<?, ?B/s]"
      ]
     },
     "metadata": {},
     "output_type": "display_data"
    },
    {
     "data": {
      "application/vnd.jupyter.widget-view+json": {
       "model_id": "a3629578307247d69bbbd5f0629b6ea2",
       "version_major": 2,
       "version_minor": 0
      },
      "text/plain": [
       "aia.lev1_euv_12s.2011-05-28T033850Z.304.image.fits:   0%|          | 0.00/210k [00:00<?, ?B/s]"
      ]
     },
     "metadata": {},
     "output_type": "display_data"
    },
    {
     "data": {
      "application/vnd.jupyter.widget-view+json": {
       "model_id": "d95b1d5d68f44b8ea2568268981a6ad8",
       "version_major": 2,
       "version_minor": 0
      },
      "text/plain": [
       "aia.lev1_euv_12s.2011-05-28T033914Z.304.image.fits:   0%|          | 0.00/210k [00:00<?, ?B/s]"
      ]
     },
     "metadata": {},
     "output_type": "display_data"
    },
    {
     "data": {
      "application/vnd.jupyter.widget-view+json": {
       "model_id": "e91249fe612c48c3a33b67e1580f1072",
       "version_major": 2,
       "version_minor": 0
      },
      "text/plain": [
       "aia.lev1_euv_12s.2011-05-28T033938Z.304.image.fits:   0%|          | 0.00/210k [00:00<?, ?B/s]"
      ]
     },
     "metadata": {},
     "output_type": "display_data"
    },
    {
     "data": {
      "application/vnd.jupyter.widget-view+json": {
       "model_id": "ce52e3341869400bbfcf9331573ff052",
       "version_major": 2,
       "version_minor": 0
      },
      "text/plain": [
       "aia.lev1_euv_12s.2011-05-28T034002Z.304.image.fits:   0%|          | 0.00/210k [00:00<?, ?B/s]"
      ]
     },
     "metadata": {},
     "output_type": "display_data"
    },
    {
     "data": {
      "application/vnd.jupyter.widget-view+json": {
       "model_id": "f06cd84ef6394c77999da2b3c5c2347f",
       "version_major": 2,
       "version_minor": 0
      },
      "text/plain": [
       "aia.lev1_euv_12s.2011-05-28T034026Z.304.image.fits:   0%|          | 0.00/210k [00:00<?, ?B/s]"
      ]
     },
     "metadata": {},
     "output_type": "display_data"
    },
    {
     "data": {
      "application/vnd.jupyter.widget-view+json": {
       "model_id": "fd847716e12b4e5191034836583b7607",
       "version_major": 2,
       "version_minor": 0
      },
      "text/plain": [
       "aia.lev1_euv_12s.2011-05-28T034050Z.304.image.fits:   0%|          | 0.00/210k [00:00<?, ?B/s]"
      ]
     },
     "metadata": {},
     "output_type": "display_data"
    },
    {
     "data": {
      "application/vnd.jupyter.widget-view+json": {
       "model_id": "2d351c37767e4f7290f16e33734212c8",
       "version_major": 2,
       "version_minor": 0
      },
      "text/plain": [
       "aia.lev1_euv_12s.2011-05-28T034114Z.304.image.fits:   0%|          | 0.00/210k [00:00<?, ?B/s]"
      ]
     },
     "metadata": {},
     "output_type": "display_data"
    },
    {
     "data": {
      "application/vnd.jupyter.widget-view+json": {
       "model_id": "6bf40ad0442e40e6ad0c1329c663cc99",
       "version_major": 2,
       "version_minor": 0
      },
      "text/plain": [
       "aia.lev1_euv_12s.2011-05-28T034138Z.304.image.fits:   0%|          | 0.00/210k [00:00<?, ?B/s]"
      ]
     },
     "metadata": {},
     "output_type": "display_data"
    },
    {
     "data": {
      "application/vnd.jupyter.widget-view+json": {
       "model_id": "25e84eda431d43e88d02c0e9d5afbd66",
       "version_major": 2,
       "version_minor": 0
      },
      "text/plain": [
       "aia.lev1_euv_12s.2011-05-28T034202Z.304.image.fits:   0%|          | 0.00/210k [00:00<?, ?B/s]"
      ]
     },
     "metadata": {},
     "output_type": "display_data"
    },
    {
     "data": {
      "application/vnd.jupyter.widget-view+json": {
       "model_id": "80133124ca034536862e52c54246cf76",
       "version_major": 2,
       "version_minor": 0
      },
      "text/plain": [
       "aia.lev1_euv_12s.2011-05-28T034226Z.304.image.fits:   0%|          | 0.00/210k [00:00<?, ?B/s]"
      ]
     },
     "metadata": {},
     "output_type": "display_data"
    },
    {
     "data": {
      "application/vnd.jupyter.widget-view+json": {
       "model_id": "f5a079debdcb47e3a8dfc3dd47cac37a",
       "version_major": 2,
       "version_minor": 0
      },
      "text/plain": [
       "aia.lev1_euv_12s.2011-05-28T034250Z.304.image.fits:   0%|          | 0.00/210k [00:00<?, ?B/s]"
      ]
     },
     "metadata": {},
     "output_type": "display_data"
    },
    {
     "data": {
      "application/vnd.jupyter.widget-view+json": {
       "model_id": "e0a5ded6ba2f4acfb70b9d3759731ca2",
       "version_major": 2,
       "version_minor": 0
      },
      "text/plain": [
       "aia.lev1_euv_12s.2011-05-28T034314Z.304.image.fits:   0%|          | 0.00/210k [00:00<?, ?B/s]"
      ]
     },
     "metadata": {},
     "output_type": "display_data"
    },
    {
     "data": {
      "application/vnd.jupyter.widget-view+json": {
       "model_id": "1435ec7c78f6465287bae831c5b2f0af",
       "version_major": 2,
       "version_minor": 0
      },
      "text/plain": [
       "aia.lev1_euv_12s.2011-05-28T034338Z.304.image.fits:   0%|          | 0.00/210k [00:00<?, ?B/s]"
      ]
     },
     "metadata": {},
     "output_type": "display_data"
    },
    {
     "data": {
      "application/vnd.jupyter.widget-view+json": {
       "model_id": "3a0cd61c699c41889b5be7056d433d06",
       "version_major": 2,
       "version_minor": 0
      },
      "text/plain": [
       "aia.lev1_euv_12s.2011-05-28T034402Z.304.image.fits:   0%|          | 0.00/210k [00:00<?, ?B/s]"
      ]
     },
     "metadata": {},
     "output_type": "display_data"
    },
    {
     "data": {
      "application/vnd.jupyter.widget-view+json": {
       "model_id": "143a63d88f4742de97eee634399021e5",
       "version_major": 2,
       "version_minor": 0
      },
      "text/plain": [
       "aia.lev1_euv_12s.2011-05-28T034426Z.304.image.fits:   0%|          | 0.00/210k [00:00<?, ?B/s]"
      ]
     },
     "metadata": {},
     "output_type": "display_data"
    },
    {
     "data": {
      "application/vnd.jupyter.widget-view+json": {
       "model_id": "cac1bc167c214849a1ff72c746eeb982",
       "version_major": 2,
       "version_minor": 0
      },
      "text/plain": [
       "aia.lev1_euv_12s.2011-05-28T034450Z.304.image.fits:   0%|          | 0.00/210k [00:00<?, ?B/s]"
      ]
     },
     "metadata": {},
     "output_type": "display_data"
    },
    {
     "data": {
      "application/vnd.jupyter.widget-view+json": {
       "model_id": "d70459c2d83045188f44568143c17e92",
       "version_major": 2,
       "version_minor": 0
      },
      "text/plain": [
       "aia.lev1_euv_12s.2011-05-28T034514Z.304.image.fits:   0%|          | 0.00/210k [00:00<?, ?B/s]"
      ]
     },
     "metadata": {},
     "output_type": "display_data"
    },
    {
     "data": {
      "application/vnd.jupyter.widget-view+json": {
       "model_id": "7e2c4332cc024153a05fbf7bccb8abc5",
       "version_major": 2,
       "version_minor": 0
      },
      "text/plain": [
       "aia.lev1_euv_12s.2011-05-28T034538Z.304.image.fits:   0%|          | 0.00/210k [00:00<?, ?B/s]"
      ]
     },
     "metadata": {},
     "output_type": "display_data"
    },
    {
     "data": {
      "application/vnd.jupyter.widget-view+json": {
       "model_id": "3b1785bb671e4fe1b229cc5f41488f21",
       "version_major": 2,
       "version_minor": 0
      },
      "text/plain": [
       "aia.lev1_euv_12s.2011-05-28T034602Z.304.image.fits:   0%|          | 0.00/210k [00:00<?, ?B/s]"
      ]
     },
     "metadata": {},
     "output_type": "display_data"
    },
    {
     "data": {
      "application/vnd.jupyter.widget-view+json": {
       "model_id": "da8e3b6cf44343c38d68f0d245d790ad",
       "version_major": 2,
       "version_minor": 0
      },
      "text/plain": [
       "aia.lev1_euv_12s.2011-05-28T034626Z.304.image.fits:   0%|          | 0.00/210k [00:00<?, ?B/s]"
      ]
     },
     "metadata": {},
     "output_type": "display_data"
    },
    {
     "data": {
      "application/vnd.jupyter.widget-view+json": {
       "model_id": "255a57a470d24246ab8f6f2ff1cafd50",
       "version_major": 2,
       "version_minor": 0
      },
      "text/plain": [
       "aia.lev1_euv_12s.2011-05-28T034650Z.304.image.fits:   0%|          | 0.00/210k [00:00<?, ?B/s]"
      ]
     },
     "metadata": {},
     "output_type": "display_data"
    },
    {
     "data": {
      "application/vnd.jupyter.widget-view+json": {
       "model_id": "07a3756702344048b34e2d839c043079",
       "version_major": 2,
       "version_minor": 0
      },
      "text/plain": [
       "aia.lev1_euv_12s.2011-05-28T034714Z.304.image.fits:   0%|          | 0.00/210k [00:00<?, ?B/s]"
      ]
     },
     "metadata": {},
     "output_type": "display_data"
    },
    {
     "data": {
      "application/vnd.jupyter.widget-view+json": {
       "model_id": "957f60b9867f47c89394e9626b9572f2",
       "version_major": 2,
       "version_minor": 0
      },
      "text/plain": [
       "aia.lev1_euv_12s.2011-05-28T034738Z.304.image.fits:   0%|          | 0.00/210k [00:00<?, ?B/s]"
      ]
     },
     "metadata": {},
     "output_type": "display_data"
    },
    {
     "data": {
      "application/vnd.jupyter.widget-view+json": {
       "model_id": "76b67f2f484b4e0383c1b3ee10edcf0c",
       "version_major": 2,
       "version_minor": 0
      },
      "text/plain": [
       "aia.lev1_euv_12s.2011-05-28T034802Z.304.image.fits:   0%|          | 0.00/210k [00:00<?, ?B/s]"
      ]
     },
     "metadata": {},
     "output_type": "display_data"
    },
    {
     "data": {
      "application/vnd.jupyter.widget-view+json": {
       "model_id": "4d278338b8ad4f51aae5f0f0371c4f0d",
       "version_major": 2,
       "version_minor": 0
      },
      "text/plain": [
       "aia.lev1_euv_12s.2011-05-28T034826Z.304.image.fits:   0%|          | 0.00/210k [00:00<?, ?B/s]"
      ]
     },
     "metadata": {},
     "output_type": "display_data"
    },
    {
     "data": {
      "application/vnd.jupyter.widget-view+json": {
       "model_id": "09a204015a864f3386e6fb4b4ee1cbf4",
       "version_major": 2,
       "version_minor": 0
      },
      "text/plain": [
       "aia.lev1_euv_12s.2011-05-28T034850Z.304.image.fits:   0%|          | 0.00/210k [00:00<?, ?B/s]"
      ]
     },
     "metadata": {},
     "output_type": "display_data"
    },
    {
     "data": {
      "application/vnd.jupyter.widget-view+json": {
       "model_id": "4a803eae14e84dbd9c13af899a8bd60a",
       "version_major": 2,
       "version_minor": 0
      },
      "text/plain": [
       "aia.lev1_euv_12s.2011-05-28T034914Z.304.image.fits:   0%|          | 0.00/210k [00:00<?, ?B/s]"
      ]
     },
     "metadata": {},
     "output_type": "display_data"
    },
    {
     "data": {
      "application/vnd.jupyter.widget-view+json": {
       "model_id": "239b5081b9a14a3682e6e1f6382fd467",
       "version_major": 2,
       "version_minor": 0
      },
      "text/plain": [
       "aia.lev1_euv_12s.2011-05-28T034938Z.304.image.fits:   0%|          | 0.00/210k [00:00<?, ?B/s]"
      ]
     },
     "metadata": {},
     "output_type": "display_data"
    },
    {
     "data": {
      "application/vnd.jupyter.widget-view+json": {
       "model_id": "c653e61635ab493cada5f174d017f687",
       "version_major": 2,
       "version_minor": 0
      },
      "text/plain": [
       "aia.lev1_euv_12s.2011-05-28T035002Z.304.image.fits:   0%|          | 0.00/210k [00:00<?, ?B/s]"
      ]
     },
     "metadata": {},
     "output_type": "display_data"
    },
    {
     "name": "stdout",
     "output_type": "stream",
     "text": [
      "Download = 15/19 and array =(166, 166, 30)\n",
      "Export request pending. [id=JSOC_20231129_1111, status=2]\n",
      "Waiting for 0 seconds...\n",
      "Export request pending. [id=JSOC_20231129_1111, status=1]\n",
      "Waiting for 5 seconds...\n",
      "Export request pending. [id=JSOC_20231129_1111, status=1]\n",
      "Waiting for 5 seconds...\n",
      "Export request pending. [id=JSOC_20231129_1111, status=1]\n",
      "Waiting for 5 seconds...\n",
      "Export request pending. [id=JSOC_20231129_1111, status=1]\n",
      "Waiting for 5 seconds...\n",
      "Export request pending. [id=JSOC_20231129_1111, status=1]\n",
      "Waiting for 5 seconds...\n",
      "Export request pending. [id=JSOC_20231129_1111, status=1]\n",
      "Waiting for 5 seconds...\n",
      "30 URLs found for download. Full request totalling 6MB\n"
     ]
    },
    {
     "data": {
      "application/vnd.jupyter.widget-view+json": {
       "model_id": "30a0f1cd9db84390aeed6a668ccfa45b",
       "version_major": 2,
       "version_minor": 0
      },
      "text/plain": [
       "Files Downloaded:   0%|          | 0/30 [00:00<?, ?file/s]"
      ]
     },
     "metadata": {},
     "output_type": "display_data"
    },
    {
     "data": {
      "application/vnd.jupyter.widget-view+json": {
       "model_id": "ad7287c1eff04a50bb2546bbf385b78f",
       "version_major": 2,
       "version_minor": 0
      },
      "text/plain": [
       "aia.lev1_euv_12s.2011-05-28T035402Z.304.image.fits:   0%|          | 0.00/196k [00:00<?, ?B/s]"
      ]
     },
     "metadata": {},
     "output_type": "display_data"
    },
    {
     "data": {
      "application/vnd.jupyter.widget-view+json": {
       "model_id": "09d8fced39ab48d0893aeec31b0b1914",
       "version_major": 2,
       "version_minor": 0
      },
      "text/plain": [
       "aia.lev1_euv_12s.2011-05-28T035426Z.304.image.fits:   0%|          | 0.00/196k [00:00<?, ?B/s]"
      ]
     },
     "metadata": {},
     "output_type": "display_data"
    },
    {
     "data": {
      "application/vnd.jupyter.widget-view+json": {
       "model_id": "791f5a21b7b54eec930f88f2263e57ad",
       "version_major": 2,
       "version_minor": 0
      },
      "text/plain": [
       "aia.lev1_euv_12s.2011-05-28T035450Z.304.image.fits:   0%|          | 0.00/196k [00:00<?, ?B/s]"
      ]
     },
     "metadata": {},
     "output_type": "display_data"
    },
    {
     "data": {
      "application/vnd.jupyter.widget-view+json": {
       "model_id": "0d3056201c5b46f3ab4343efcf9505f8",
       "version_major": 2,
       "version_minor": 0
      },
      "text/plain": [
       "aia.lev1_euv_12s.2011-05-28T035514Z.304.image.fits:   0%|          | 0.00/196k [00:00<?, ?B/s]"
      ]
     },
     "metadata": {},
     "output_type": "display_data"
    },
    {
     "data": {
      "application/vnd.jupyter.widget-view+json": {
       "model_id": "7295ac4c48824ece997de48d9aab5683",
       "version_major": 2,
       "version_minor": 0
      },
      "text/plain": [
       "aia.lev1_euv_12s.2011-05-28T035538Z.304.image.fits:   0%|          | 0.00/193k [00:00<?, ?B/s]"
      ]
     },
     "metadata": {},
     "output_type": "display_data"
    },
    {
     "data": {
      "application/vnd.jupyter.widget-view+json": {
       "model_id": "83cdb31dbab244aca1c8f73471643018",
       "version_major": 2,
       "version_minor": 0
      },
      "text/plain": [
       "aia.lev1_euv_12s.2011-05-28T035602Z.304.image.fits:   0%|          | 0.00/196k [00:00<?, ?B/s]"
      ]
     },
     "metadata": {},
     "output_type": "display_data"
    },
    {
     "data": {
      "application/vnd.jupyter.widget-view+json": {
       "model_id": "b5654448cb99485b864f484f9589c2c9",
       "version_major": 2,
       "version_minor": 0
      },
      "text/plain": [
       "aia.lev1_euv_12s.2011-05-28T035626Z.304.image.fits:   0%|          | 0.00/196k [00:00<?, ?B/s]"
      ]
     },
     "metadata": {},
     "output_type": "display_data"
    },
    {
     "data": {
      "application/vnd.jupyter.widget-view+json": {
       "model_id": "9ca95dd2fce04375860db9e0d2a02ea4",
       "version_major": 2,
       "version_minor": 0
      },
      "text/plain": [
       "aia.lev1_euv_12s.2011-05-28T035650Z.304.image.fits:   0%|          | 0.00/196k [00:00<?, ?B/s]"
      ]
     },
     "metadata": {},
     "output_type": "display_data"
    },
    {
     "data": {
      "application/vnd.jupyter.widget-view+json": {
       "model_id": "8b41c98a201c49b9ab6baef9024081bc",
       "version_major": 2,
       "version_minor": 0
      },
      "text/plain": [
       "aia.lev1_euv_12s.2011-05-28T035714Z.304.image.fits:   0%|          | 0.00/196k [00:00<?, ?B/s]"
      ]
     },
     "metadata": {},
     "output_type": "display_data"
    },
    {
     "data": {
      "application/vnd.jupyter.widget-view+json": {
       "model_id": "d3957f1286e442bb95996360b33f226b",
       "version_major": 2,
       "version_minor": 0
      },
      "text/plain": [
       "aia.lev1_euv_12s.2011-05-28T035738Z.304.image.fits:   0%|          | 0.00/196k [00:00<?, ?B/s]"
      ]
     },
     "metadata": {},
     "output_type": "display_data"
    },
    {
     "data": {
      "application/vnd.jupyter.widget-view+json": {
       "model_id": "3b4cb8e5a3e3405ea5bb33d5be3dc65a",
       "version_major": 2,
       "version_minor": 0
      },
      "text/plain": [
       "aia.lev1_euv_12s.2011-05-28T035802Z.304.image.fits:   0%|          | 0.00/196k [00:00<?, ?B/s]"
      ]
     },
     "metadata": {},
     "output_type": "display_data"
    },
    {
     "data": {
      "application/vnd.jupyter.widget-view+json": {
       "model_id": "077f0e7ffa5841378bf0797fbc049bf5",
       "version_major": 2,
       "version_minor": 0
      },
      "text/plain": [
       "aia.lev1_euv_12s.2011-05-28T035826Z.304.image.fits:   0%|          | 0.00/196k [00:00<?, ?B/s]"
      ]
     },
     "metadata": {},
     "output_type": "display_data"
    },
    {
     "data": {
      "application/vnd.jupyter.widget-view+json": {
       "model_id": "dc7e6d1a3b264537b0a155d43968e12f",
       "version_major": 2,
       "version_minor": 0
      },
      "text/plain": [
       "aia.lev1_euv_12s.2011-05-28T035850Z.304.image.fits:   0%|          | 0.00/196k [00:00<?, ?B/s]"
      ]
     },
     "metadata": {},
     "output_type": "display_data"
    },
    {
     "data": {
      "application/vnd.jupyter.widget-view+json": {
       "model_id": "d88186ff7c5d464f903d9e25279a2b41",
       "version_major": 2,
       "version_minor": 0
      },
      "text/plain": [
       "aia.lev1_euv_12s.2011-05-28T035914Z.304.image.fits:   0%|          | 0.00/196k [00:00<?, ?B/s]"
      ]
     },
     "metadata": {},
     "output_type": "display_data"
    },
    {
     "data": {
      "application/vnd.jupyter.widget-view+json": {
       "model_id": "ef26bc97304f4c1cac52bd7a0085aa70",
       "version_major": 2,
       "version_minor": 0
      },
      "text/plain": [
       "aia.lev1_euv_12s.2011-05-28T035938Z.304.image.fits:   0%|          | 0.00/196k [00:00<?, ?B/s]"
      ]
     },
     "metadata": {},
     "output_type": "display_data"
    },
    {
     "data": {
      "application/vnd.jupyter.widget-view+json": {
       "model_id": "e68caf9781664e60b5df8434ba015035",
       "version_major": 2,
       "version_minor": 0
      },
      "text/plain": [
       "aia.lev1_euv_12s.2011-05-28T040002Z.304.image.fits:   0%|          | 0.00/196k [00:00<?, ?B/s]"
      ]
     },
     "metadata": {},
     "output_type": "display_data"
    },
    {
     "data": {
      "application/vnd.jupyter.widget-view+json": {
       "model_id": "9f25e1819b934ca5b23ba05f26ce8dd6",
       "version_major": 2,
       "version_minor": 0
      },
      "text/plain": [
       "aia.lev1_euv_12s.2011-05-28T040026Z.304.image.fits:   0%|          | 0.00/196k [00:00<?, ?B/s]"
      ]
     },
     "metadata": {},
     "output_type": "display_data"
    },
    {
     "data": {
      "application/vnd.jupyter.widget-view+json": {
       "model_id": "06b37c0fdaf34cfaa69b19a85cc45d96",
       "version_major": 2,
       "version_minor": 0
      },
      "text/plain": [
       "aia.lev1_euv_12s.2011-05-28T040050Z.304.image.fits:   0%|          | 0.00/196k [00:00<?, ?B/s]"
      ]
     },
     "metadata": {},
     "output_type": "display_data"
    },
    {
     "data": {
      "application/vnd.jupyter.widget-view+json": {
       "model_id": "2cade9b0452e48238917e852c81688e3",
       "version_major": 2,
       "version_minor": 0
      },
      "text/plain": [
       "aia.lev1_euv_12s.2011-05-28T040114Z.304.image.fits:   0%|          | 0.00/196k [00:00<?, ?B/s]"
      ]
     },
     "metadata": {},
     "output_type": "display_data"
    },
    {
     "data": {
      "application/vnd.jupyter.widget-view+json": {
       "model_id": "dec73b4d1fff4955be1f5f10d8327e62",
       "version_major": 2,
       "version_minor": 0
      },
      "text/plain": [
       "aia.lev1_euv_12s.2011-05-28T040138Z.304.image.fits:   0%|          | 0.00/196k [00:00<?, ?B/s]"
      ]
     },
     "metadata": {},
     "output_type": "display_data"
    },
    {
     "data": {
      "application/vnd.jupyter.widget-view+json": {
       "model_id": "4e726ab063324f9799cea12d1a1fa28d",
       "version_major": 2,
       "version_minor": 0
      },
      "text/plain": [
       "aia.lev1_euv_12s.2011-05-28T040202Z.304.image.fits:   0%|          | 0.00/196k [00:00<?, ?B/s]"
      ]
     },
     "metadata": {},
     "output_type": "display_data"
    },
    {
     "data": {
      "application/vnd.jupyter.widget-view+json": {
       "model_id": "54dd70cf6dca459d9e7358346d504e11",
       "version_major": 2,
       "version_minor": 0
      },
      "text/plain": [
       "aia.lev1_euv_12s.2011-05-28T040226Z.304.image.fits:   0%|          | 0.00/196k [00:00<?, ?B/s]"
      ]
     },
     "metadata": {},
     "output_type": "display_data"
    },
    {
     "data": {
      "application/vnd.jupyter.widget-view+json": {
       "model_id": "c68a9f8ea3f44a5fa479c1ea7e99df58",
       "version_major": 2,
       "version_minor": 0
      },
      "text/plain": [
       "aia.lev1_euv_12s.2011-05-28T040250Z.304.image.fits:   0%|          | 0.00/196k [00:00<?, ?B/s]"
      ]
     },
     "metadata": {},
     "output_type": "display_data"
    },
    {
     "data": {
      "application/vnd.jupyter.widget-view+json": {
       "model_id": "7dcb31fe8e144c60b338c27e22943eaa",
       "version_major": 2,
       "version_minor": 0
      },
      "text/plain": [
       "aia.lev1_euv_12s.2011-05-28T040314Z.304.image.fits:   0%|          | 0.00/196k [00:00<?, ?B/s]"
      ]
     },
     "metadata": {},
     "output_type": "display_data"
    },
    {
     "data": {
      "application/vnd.jupyter.widget-view+json": {
       "model_id": "7d23e1cdd4ed4dd99e2094ca4ec2e6ea",
       "version_major": 2,
       "version_minor": 0
      },
      "text/plain": [
       "aia.lev1_euv_12s.2011-05-28T040338Z.304.image.fits:   0%|          | 0.00/196k [00:00<?, ?B/s]"
      ]
     },
     "metadata": {},
     "output_type": "display_data"
    },
    {
     "data": {
      "application/vnd.jupyter.widget-view+json": {
       "model_id": "e250808194394fc892c789dbccea01cd",
       "version_major": 2,
       "version_minor": 0
      },
      "text/plain": [
       "aia.lev1_euv_12s.2011-05-28T040402Z.304.image.fits:   0%|          | 0.00/196k [00:00<?, ?B/s]"
      ]
     },
     "metadata": {},
     "output_type": "display_data"
    },
    {
     "data": {
      "application/vnd.jupyter.widget-view+json": {
       "model_id": "87968268ecaa47abb059224d2bccb461",
       "version_major": 2,
       "version_minor": 0
      },
      "text/plain": [
       "aia.lev1_euv_12s.2011-05-28T040426Z.304.image.fits:   0%|          | 0.00/196k [00:00<?, ?B/s]"
      ]
     },
     "metadata": {},
     "output_type": "display_data"
    },
    {
     "data": {
      "application/vnd.jupyter.widget-view+json": {
       "model_id": "f3564505c7f9414f88a7495817244989",
       "version_major": 2,
       "version_minor": 0
      },
      "text/plain": [
       "aia.lev1_euv_12s.2011-05-28T040450Z.304.image.fits:   0%|          | 0.00/196k [00:00<?, ?B/s]"
      ]
     },
     "metadata": {},
     "output_type": "display_data"
    },
    {
     "data": {
      "application/vnd.jupyter.widget-view+json": {
       "model_id": "f5411b32499f4bc2b873742ec04aca75",
       "version_major": 2,
       "version_minor": 0
      },
      "text/plain": [
       "aia.lev1_euv_12s.2011-05-28T040514Z.304.image.fits:   0%|          | 0.00/196k [00:02<?, ?B/s]"
      ]
     },
     "metadata": {},
     "output_type": "display_data"
    },
    {
     "data": {
      "application/vnd.jupyter.widget-view+json": {
       "model_id": "f6cf48b04b6f4a8096dde5f33569813b",
       "version_major": 2,
       "version_minor": 0
      },
      "text/plain": [
       "aia.lev1_euv_12s.2011-05-28T040538Z.304.image.fits:   0%|          | 0.00/196k [00:00<?, ?B/s]"
      ]
     },
     "metadata": {},
     "output_type": "display_data"
    },
    {
     "name": "stdout",
     "output_type": "stream",
     "text": [
      "Download = 16/19 and array =(166, 166, 30)\n",
      "Export request pending. [id=JSOC_20231129_1114, status=2]\n",
      "Waiting for 0 seconds...\n",
      "Export request pending. [id=JSOC_20231129_1114, status=1]\n",
      "Waiting for 5 seconds...\n",
      "Export request pending. [id=JSOC_20231129_1114, status=1]\n",
      "Waiting for 5 seconds...\n",
      "Export request pending. [id=JSOC_20231129_1114, status=1]\n",
      "Waiting for 5 seconds...\n",
      "Export request pending. [id=JSOC_20231129_1114, status=1]\n",
      "Waiting for 5 seconds...\n",
      "Export request pending. [id=JSOC_20231129_1114, status=1]\n",
      "Waiting for 5 seconds...\n",
      "30 URLs found for download. Full request totalling 6MB\n"
     ]
    },
    {
     "data": {
      "application/vnd.jupyter.widget-view+json": {
       "model_id": "2eab69d6aa4b4198b246364df2620f37",
       "version_major": 2,
       "version_minor": 0
      },
      "text/plain": [
       "Files Downloaded:   0%|          | 0/30 [00:00<?, ?file/s]"
      ]
     },
     "metadata": {},
     "output_type": "display_data"
    },
    {
     "data": {
      "application/vnd.jupyter.widget-view+json": {
       "model_id": "19fdee2079e74223be5b58cc6925843b",
       "version_major": 2,
       "version_minor": 0
      },
      "text/plain": [
       "aia.lev1_euv_12s.2011-05-28T044050Z.304.image.fits:   0%|          | 0.00/196k [00:00<?, ?B/s]"
      ]
     },
     "metadata": {},
     "output_type": "display_data"
    },
    {
     "data": {
      "application/vnd.jupyter.widget-view+json": {
       "model_id": "c8d41fcb0c604cf186a1e02b579240e0",
       "version_major": 2,
       "version_minor": 0
      },
      "text/plain": [
       "aia.lev1_euv_12s.2011-05-28T044114Z.304.image.fits:   0%|          | 0.00/196k [00:00<?, ?B/s]"
      ]
     },
     "metadata": {},
     "output_type": "display_data"
    },
    {
     "data": {
      "application/vnd.jupyter.widget-view+json": {
       "model_id": "f1ce9c5b989e461b8178338c7d4992b3",
       "version_major": 2,
       "version_minor": 0
      },
      "text/plain": [
       "aia.lev1_euv_12s.2011-05-28T044138Z.304.image.fits:   0%|          | 0.00/196k [00:00<?, ?B/s]"
      ]
     },
     "metadata": {},
     "output_type": "display_data"
    },
    {
     "data": {
      "application/vnd.jupyter.widget-view+json": {
       "model_id": "c5de82e9583a4b96b141cdac7983600c",
       "version_major": 2,
       "version_minor": 0
      },
      "text/plain": [
       "aia.lev1_euv_12s.2011-05-28T044202Z.304.image.fits:   0%|          | 0.00/196k [00:00<?, ?B/s]"
      ]
     },
     "metadata": {},
     "output_type": "display_data"
    },
    {
     "data": {
      "application/vnd.jupyter.widget-view+json": {
       "model_id": "d1c394fee6bd40c7b04ef97ed51efc0b",
       "version_major": 2,
       "version_minor": 0
      },
      "text/plain": [
       "aia.lev1_euv_12s.2011-05-28T044226Z.304.image.fits:   0%|          | 0.00/196k [00:00<?, ?B/s]"
      ]
     },
     "metadata": {},
     "output_type": "display_data"
    },
    {
     "data": {
      "application/vnd.jupyter.widget-view+json": {
       "model_id": "4b441990313742bd8d0ef1e32e3620a4",
       "version_major": 2,
       "version_minor": 0
      },
      "text/plain": [
       "aia.lev1_euv_12s.2011-05-28T044250Z.304.image.fits:   0%|          | 0.00/196k [00:00<?, ?B/s]"
      ]
     },
     "metadata": {},
     "output_type": "display_data"
    },
    {
     "data": {
      "application/vnd.jupyter.widget-view+json": {
       "model_id": "2d1b954cbbc6487ca71c8f8d7a0808e0",
       "version_major": 2,
       "version_minor": 0
      },
      "text/plain": [
       "aia.lev1_euv_12s.2011-05-28T044314Z.304.image.fits:   0%|          | 0.00/196k [00:00<?, ?B/s]"
      ]
     },
     "metadata": {},
     "output_type": "display_data"
    },
    {
     "data": {
      "application/vnd.jupyter.widget-view+json": {
       "model_id": "382689b8bb124bf5b38aa344956d1b82",
       "version_major": 2,
       "version_minor": 0
      },
      "text/plain": [
       "aia.lev1_euv_12s.2011-05-28T044338Z.304.image.fits:   0%|          | 0.00/196k [00:00<?, ?B/s]"
      ]
     },
     "metadata": {},
     "output_type": "display_data"
    },
    {
     "data": {
      "application/vnd.jupyter.widget-view+json": {
       "model_id": "923015ce4ac941db84dfe7e47987ce09",
       "version_major": 2,
       "version_minor": 0
      },
      "text/plain": [
       "aia.lev1_euv_12s.2011-05-28T044402Z.304.image.fits:   0%|          | 0.00/196k [00:00<?, ?B/s]"
      ]
     },
     "metadata": {},
     "output_type": "display_data"
    },
    {
     "data": {
      "application/vnd.jupyter.widget-view+json": {
       "model_id": "ca2cf75692e94da0a222365913808e87",
       "version_major": 2,
       "version_minor": 0
      },
      "text/plain": [
       "aia.lev1_euv_12s.2011-05-28T044426Z.304.image.fits:   0%|          | 0.00/196k [00:00<?, ?B/s]"
      ]
     },
     "metadata": {},
     "output_type": "display_data"
    },
    {
     "data": {
      "application/vnd.jupyter.widget-view+json": {
       "model_id": "13545c8244024831806cf92fbf1d73f6",
       "version_major": 2,
       "version_minor": 0
      },
      "text/plain": [
       "aia.lev1_euv_12s.2011-05-28T044450Z.304.image.fits:   0%|          | 0.00/196k [00:00<?, ?B/s]"
      ]
     },
     "metadata": {},
     "output_type": "display_data"
    },
    {
     "data": {
      "application/vnd.jupyter.widget-view+json": {
       "model_id": "424671c74099410aac948c8d541754b4",
       "version_major": 2,
       "version_minor": 0
      },
      "text/plain": [
       "aia.lev1_euv_12s.2011-05-28T044514Z.304.image.fits:   0%|          | 0.00/196k [00:00<?, ?B/s]"
      ]
     },
     "metadata": {},
     "output_type": "display_data"
    },
    {
     "data": {
      "application/vnd.jupyter.widget-view+json": {
       "model_id": "20c07ee4f00544bc8b4eb9c16814d0b0",
       "version_major": 2,
       "version_minor": 0
      },
      "text/plain": [
       "aia.lev1_euv_12s.2011-05-28T044538Z.304.image.fits:   0%|          | 0.00/196k [00:00<?, ?B/s]"
      ]
     },
     "metadata": {},
     "output_type": "display_data"
    },
    {
     "data": {
      "application/vnd.jupyter.widget-view+json": {
       "model_id": "87d6d2c47b9347268dc3569492e46b33",
       "version_major": 2,
       "version_minor": 0
      },
      "text/plain": [
       "aia.lev1_euv_12s.2011-05-28T044602Z.304.image.fits:   0%|          | 0.00/196k [00:00<?, ?B/s]"
      ]
     },
     "metadata": {},
     "output_type": "display_data"
    },
    {
     "data": {
      "application/vnd.jupyter.widget-view+json": {
       "model_id": "fe2cae9188da4cf7be8479ae7fc7a922",
       "version_major": 2,
       "version_minor": 0
      },
      "text/plain": [
       "aia.lev1_euv_12s.2011-05-28T044626Z.304.image.fits:   0%|          | 0.00/196k [00:00<?, ?B/s]"
      ]
     },
     "metadata": {},
     "output_type": "display_data"
    },
    {
     "data": {
      "application/vnd.jupyter.widget-view+json": {
       "model_id": "b58c76cbc9174451bdb80da16b0101ca",
       "version_major": 2,
       "version_minor": 0
      },
      "text/plain": [
       "aia.lev1_euv_12s.2011-05-28T044650Z.304.image.fits:   0%|          | 0.00/196k [00:00<?, ?B/s]"
      ]
     },
     "metadata": {},
     "output_type": "display_data"
    },
    {
     "data": {
      "application/vnd.jupyter.widget-view+json": {
       "model_id": "3d1c3e5405f642e7abeb4556196257fe",
       "version_major": 2,
       "version_minor": 0
      },
      "text/plain": [
       "aia.lev1_euv_12s.2011-05-28T044714Z.304.image.fits:   0%|          | 0.00/196k [00:00<?, ?B/s]"
      ]
     },
     "metadata": {},
     "output_type": "display_data"
    },
    {
     "data": {
      "application/vnd.jupyter.widget-view+json": {
       "model_id": "2776e2f5db5747adbb05eccb6a0adb55",
       "version_major": 2,
       "version_minor": 0
      },
      "text/plain": [
       "aia.lev1_euv_12s.2011-05-28T044738Z.304.image.fits:   0%|          | 0.00/196k [00:00<?, ?B/s]"
      ]
     },
     "metadata": {},
     "output_type": "display_data"
    },
    {
     "data": {
      "application/vnd.jupyter.widget-view+json": {
       "model_id": "b06bc965e1c44249b861e41e0c6489db",
       "version_major": 2,
       "version_minor": 0
      },
      "text/plain": [
       "aia.lev1_euv_12s.2011-05-28T044802Z.304.image.fits:   0%|          | 0.00/196k [00:00<?, ?B/s]"
      ]
     },
     "metadata": {},
     "output_type": "display_data"
    },
    {
     "data": {
      "application/vnd.jupyter.widget-view+json": {
       "model_id": "c7290a3296424f578390822d266b00c1",
       "version_major": 2,
       "version_minor": 0
      },
      "text/plain": [
       "aia.lev1_euv_12s.2011-05-28T044826Z.304.image.fits:   0%|          | 0.00/196k [00:00<?, ?B/s]"
      ]
     },
     "metadata": {},
     "output_type": "display_data"
    },
    {
     "data": {
      "application/vnd.jupyter.widget-view+json": {
       "model_id": "def2464fd45f416aa34fe67396eb2584",
       "version_major": 2,
       "version_minor": 0
      },
      "text/plain": [
       "aia.lev1_euv_12s.2011-05-28T044850Z.304.image.fits:   0%|          | 0.00/196k [00:00<?, ?B/s]"
      ]
     },
     "metadata": {},
     "output_type": "display_data"
    },
    {
     "data": {
      "application/vnd.jupyter.widget-view+json": {
       "model_id": "692b3ee05e2e4b2f8173d7f9559c57e5",
       "version_major": 2,
       "version_minor": 0
      },
      "text/plain": [
       "aia.lev1_euv_12s.2011-05-28T044914Z.304.image.fits:   0%|          | 0.00/196k [00:00<?, ?B/s]"
      ]
     },
     "metadata": {},
     "output_type": "display_data"
    },
    {
     "data": {
      "application/vnd.jupyter.widget-view+json": {
       "model_id": "06f74febb373486eac25cda665cbe7b4",
       "version_major": 2,
       "version_minor": 0
      },
      "text/plain": [
       "aia.lev1_euv_12s.2011-05-28T044938Z.304.image.fits:   0%|          | 0.00/196k [00:00<?, ?B/s]"
      ]
     },
     "metadata": {},
     "output_type": "display_data"
    },
    {
     "data": {
      "application/vnd.jupyter.widget-view+json": {
       "model_id": "3827ef0424df45f59aa9334179fc84dc",
       "version_major": 2,
       "version_minor": 0
      },
      "text/plain": [
       "aia.lev1_euv_12s.2011-05-28T045002Z.304.image.fits:   0%|          | 0.00/196k [00:00<?, ?B/s]"
      ]
     },
     "metadata": {},
     "output_type": "display_data"
    },
    {
     "data": {
      "application/vnd.jupyter.widget-view+json": {
       "model_id": "39248018eebc4effade02e892e9faa30",
       "version_major": 2,
       "version_minor": 0
      },
      "text/plain": [
       "aia.lev1_euv_12s.2011-05-28T045026Z.304.image.fits:   0%|          | 0.00/196k [00:00<?, ?B/s]"
      ]
     },
     "metadata": {},
     "output_type": "display_data"
    },
    {
     "data": {
      "application/vnd.jupyter.widget-view+json": {
       "model_id": "ee88ea17e22347a7badc6f1270eb7a11",
       "version_major": 2,
       "version_minor": 0
      },
      "text/plain": [
       "aia.lev1_euv_12s.2011-05-28T045050Z.304.image.fits:   0%|          | 0.00/196k [00:00<?, ?B/s]"
      ]
     },
     "metadata": {},
     "output_type": "display_data"
    },
    {
     "data": {
      "application/vnd.jupyter.widget-view+json": {
       "model_id": "9a9442b688614fb5829e153575a5716e",
       "version_major": 2,
       "version_minor": 0
      },
      "text/plain": [
       "aia.lev1_euv_12s.2011-05-28T045114Z.304.image.fits:   0%|          | 0.00/196k [00:00<?, ?B/s]"
      ]
     },
     "metadata": {},
     "output_type": "display_data"
    },
    {
     "data": {
      "application/vnd.jupyter.widget-view+json": {
       "model_id": "349cc76226ff4675a20cc3c9fe4c4217",
       "version_major": 2,
       "version_minor": 0
      },
      "text/plain": [
       "aia.lev1_euv_12s.2011-05-28T045138Z.304.image.fits:   0%|          | 0.00/196k [00:00<?, ?B/s]"
      ]
     },
     "metadata": {},
     "output_type": "display_data"
    },
    {
     "data": {
      "application/vnd.jupyter.widget-view+json": {
       "model_id": "62dfed18b2d24521af7a9e4e558ad8c8",
       "version_major": 2,
       "version_minor": 0
      },
      "text/plain": [
       "aia.lev1_euv_12s.2011-05-28T045202Z.304.image.fits:   0%|          | 0.00/196k [00:00<?, ?B/s]"
      ]
     },
     "metadata": {},
     "output_type": "display_data"
    },
    {
     "data": {
      "application/vnd.jupyter.widget-view+json": {
       "model_id": "e5af640616054575842b16aa7128db92",
       "version_major": 2,
       "version_minor": 0
      },
      "text/plain": [
       "aia.lev1_euv_12s.2011-05-28T045226Z.304.image.fits:   0%|          | 0.00/196k [00:00<?, ?B/s]"
      ]
     },
     "metadata": {},
     "output_type": "display_data"
    },
    {
     "name": "stdout",
     "output_type": "stream",
     "text": [
      "Download = 17/19 and array =(166, 166, 30)\n",
      "Export request pending. [id=JSOC_20231129_1118, status=2]\n",
      "Waiting for 0 seconds...\n",
      "Export request pending. [id=JSOC_20231129_1118, status=1]\n",
      "Waiting for 5 seconds...\n",
      "Export request pending. [id=JSOC_20231129_1118, status=1]\n",
      "Waiting for 5 seconds...\n",
      "Export request pending. [id=JSOC_20231129_1118, status=1]\n",
      "Waiting for 5 seconds...\n",
      "Export request pending. [id=JSOC_20231129_1118, status=1]\n",
      "Waiting for 5 seconds...\n",
      "Export request pending. [id=JSOC_20231129_1118, status=1]\n",
      "Waiting for 5 seconds...\n",
      "Export request pending. [id=JSOC_20231129_1118, status=1]\n",
      "Waiting for 5 seconds...\n",
      "30 URLs found for download. Full request totalling 6MB\n"
     ]
    },
    {
     "data": {
      "application/vnd.jupyter.widget-view+json": {
       "model_id": "37104ad4dbe04f1194a887d328693362",
       "version_major": 2,
       "version_minor": 0
      },
      "text/plain": [
       "Files Downloaded:   0%|          | 0/30 [00:00<?, ?file/s]"
      ]
     },
     "metadata": {},
     "output_type": "display_data"
    },
    {
     "data": {
      "application/vnd.jupyter.widget-view+json": {
       "model_id": "769d136e67224a8ba06753645efc74cb",
       "version_major": 2,
       "version_minor": 0
      },
      "text/plain": [
       "aia.lev1_euv_12s.2011-05-28T054326Z.304.image.fits:   0%|          | 0.00/196k [00:00<?, ?B/s]"
      ]
     },
     "metadata": {},
     "output_type": "display_data"
    },
    {
     "data": {
      "application/vnd.jupyter.widget-view+json": {
       "model_id": "3a14d0cded764b65ae383eb943296ef5",
       "version_major": 2,
       "version_minor": 0
      },
      "text/plain": [
       "aia.lev1_euv_12s.2011-05-28T054350Z.304.image.fits:   0%|          | 0.00/196k [00:00<?, ?B/s]"
      ]
     },
     "metadata": {},
     "output_type": "display_data"
    },
    {
     "data": {
      "application/vnd.jupyter.widget-view+json": {
       "model_id": "fdaead267bfe431eb482b4aa86160e79",
       "version_major": 2,
       "version_minor": 0
      },
      "text/plain": [
       "aia.lev1_euv_12s.2011-05-28T054414Z.304.image.fits:   0%|          | 0.00/196k [00:00<?, ?B/s]"
      ]
     },
     "metadata": {},
     "output_type": "display_data"
    },
    {
     "data": {
      "application/vnd.jupyter.widget-view+json": {
       "model_id": "93ca51ea71574b7896652b8ede3f7bdd",
       "version_major": 2,
       "version_minor": 0
      },
      "text/plain": [
       "aia.lev1_euv_12s.2011-05-28T054438Z.304.image.fits:   0%|          | 0.00/196k [00:00<?, ?B/s]"
      ]
     },
     "metadata": {},
     "output_type": "display_data"
    },
    {
     "data": {
      "application/vnd.jupyter.widget-view+json": {
       "model_id": "48c198bf4d1a498a882176b0c7b7b01a",
       "version_major": 2,
       "version_minor": 0
      },
      "text/plain": [
       "aia.lev1_euv_12s.2011-05-28T054502Z.304.image.fits:   0%|          | 0.00/196k [00:00<?, ?B/s]"
      ]
     },
     "metadata": {},
     "output_type": "display_data"
    },
    {
     "data": {
      "application/vnd.jupyter.widget-view+json": {
       "model_id": "42f8e2eca1cf4d98b5634445811231ef",
       "version_major": 2,
       "version_minor": 0
      },
      "text/plain": [
       "aia.lev1_euv_12s.2011-05-28T054526Z.304.image.fits:   0%|          | 0.00/196k [00:00<?, ?B/s]"
      ]
     },
     "metadata": {},
     "output_type": "display_data"
    },
    {
     "data": {
      "application/vnd.jupyter.widget-view+json": {
       "model_id": "da6fd694bcb54d2d9c646fa6903626aa",
       "version_major": 2,
       "version_minor": 0
      },
      "text/plain": [
       "aia.lev1_euv_12s.2011-05-28T054550Z.304.image.fits:   0%|          | 0.00/196k [00:00<?, ?B/s]"
      ]
     },
     "metadata": {},
     "output_type": "display_data"
    },
    {
     "data": {
      "application/vnd.jupyter.widget-view+json": {
       "model_id": "b8dea25622514b98b2389d127e20112c",
       "version_major": 2,
       "version_minor": 0
      },
      "text/plain": [
       "aia.lev1_euv_12s.2011-05-28T054614Z.304.image.fits:   0%|          | 0.00/196k [00:00<?, ?B/s]"
      ]
     },
     "metadata": {},
     "output_type": "display_data"
    },
    {
     "data": {
      "application/vnd.jupyter.widget-view+json": {
       "model_id": "7ee0537d94c34e2f8f22d2069f8b5d4d",
       "version_major": 2,
       "version_minor": 0
      },
      "text/plain": [
       "aia.lev1_euv_12s.2011-05-28T054638Z.304.image.fits:   0%|          | 0.00/196k [00:00<?, ?B/s]"
      ]
     },
     "metadata": {},
     "output_type": "display_data"
    },
    {
     "data": {
      "application/vnd.jupyter.widget-view+json": {
       "model_id": "7049959da25944cfb16114fcff167ae2",
       "version_major": 2,
       "version_minor": 0
      },
      "text/plain": [
       "aia.lev1_euv_12s.2011-05-28T054702Z.304.image.fits:   0%|          | 0.00/196k [00:00<?, ?B/s]"
      ]
     },
     "metadata": {},
     "output_type": "display_data"
    },
    {
     "data": {
      "application/vnd.jupyter.widget-view+json": {
       "model_id": "4824ab771a9f4c44bceac6b58ac37abd",
       "version_major": 2,
       "version_minor": 0
      },
      "text/plain": [
       "aia.lev1_euv_12s.2011-05-28T054726Z.304.image.fits:   0%|          | 0.00/196k [00:00<?, ?B/s]"
      ]
     },
     "metadata": {},
     "output_type": "display_data"
    },
    {
     "data": {
      "application/vnd.jupyter.widget-view+json": {
       "model_id": "49eb55894c26467c8602bae06361d791",
       "version_major": 2,
       "version_minor": 0
      },
      "text/plain": [
       "aia.lev1_euv_12s.2011-05-28T054750Z.304.image.fits:   0%|          | 0.00/196k [00:00<?, ?B/s]"
      ]
     },
     "metadata": {},
     "output_type": "display_data"
    },
    {
     "data": {
      "application/vnd.jupyter.widget-view+json": {
       "model_id": "fb1b70739e184bf5bf274ca52ba76bfa",
       "version_major": 2,
       "version_minor": 0
      },
      "text/plain": [
       "aia.lev1_euv_12s.2011-05-28T054814Z.304.image.fits:   0%|          | 0.00/196k [00:00<?, ?B/s]"
      ]
     },
     "metadata": {},
     "output_type": "display_data"
    },
    {
     "data": {
      "application/vnd.jupyter.widget-view+json": {
       "model_id": "fa7873945b45479e8a9be4dc84b9cd32",
       "version_major": 2,
       "version_minor": 0
      },
      "text/plain": [
       "aia.lev1_euv_12s.2011-05-28T054838Z.304.image.fits:   0%|          | 0.00/196k [00:00<?, ?B/s]"
      ]
     },
     "metadata": {},
     "output_type": "display_data"
    },
    {
     "data": {
      "application/vnd.jupyter.widget-view+json": {
       "model_id": "76fad138eb2343288797f22aca8e3607",
       "version_major": 2,
       "version_minor": 0
      },
      "text/plain": [
       "aia.lev1_euv_12s.2011-05-28T054902Z.304.image.fits:   0%|          | 0.00/196k [00:00<?, ?B/s]"
      ]
     },
     "metadata": {},
     "output_type": "display_data"
    },
    {
     "data": {
      "application/vnd.jupyter.widget-view+json": {
       "model_id": "8175b02f04cf466391a39a400a74c947",
       "version_major": 2,
       "version_minor": 0
      },
      "text/plain": [
       "aia.lev1_euv_12s.2011-05-28T054926Z.304.image.fits:   0%|          | 0.00/196k [00:00<?, ?B/s]"
      ]
     },
     "metadata": {},
     "output_type": "display_data"
    },
    {
     "data": {
      "application/vnd.jupyter.widget-view+json": {
       "model_id": "8f85c16355294dcc811798b1cf056762",
       "version_major": 2,
       "version_minor": 0
      },
      "text/plain": [
       "aia.lev1_euv_12s.2011-05-28T054950Z.304.image.fits:   0%|          | 0.00/196k [00:00<?, ?B/s]"
      ]
     },
     "metadata": {},
     "output_type": "display_data"
    },
    {
     "data": {
      "application/vnd.jupyter.widget-view+json": {
       "model_id": "9b5cf41150514ab2b756d1254a0580ea",
       "version_major": 2,
       "version_minor": 0
      },
      "text/plain": [
       "aia.lev1_euv_12s.2011-05-28T055014Z.304.image.fits:   0%|          | 0.00/196k [00:00<?, ?B/s]"
      ]
     },
     "metadata": {},
     "output_type": "display_data"
    },
    {
     "data": {
      "application/vnd.jupyter.widget-view+json": {
       "model_id": "b4b3ca9c8d0a4a5d8bd5295db918b3e2",
       "version_major": 2,
       "version_minor": 0
      },
      "text/plain": [
       "aia.lev1_euv_12s.2011-05-28T055038Z.304.image.fits:   0%|          | 0.00/196k [00:00<?, ?B/s]"
      ]
     },
     "metadata": {},
     "output_type": "display_data"
    },
    {
     "data": {
      "application/vnd.jupyter.widget-view+json": {
       "model_id": "d567fb1eb7034a67a9cbc5431da6458c",
       "version_major": 2,
       "version_minor": 0
      },
      "text/plain": [
       "aia.lev1_euv_12s.2011-05-28T055102Z.304.image.fits:   0%|          | 0.00/196k [00:00<?, ?B/s]"
      ]
     },
     "metadata": {},
     "output_type": "display_data"
    },
    {
     "data": {
      "application/vnd.jupyter.widget-view+json": {
       "model_id": "97e27d4f76df41f2820116d45b549c12",
       "version_major": 2,
       "version_minor": 0
      },
      "text/plain": [
       "aia.lev1_euv_12s.2011-05-28T055126Z.304.image.fits:   0%|          | 0.00/196k [00:00<?, ?B/s]"
      ]
     },
     "metadata": {},
     "output_type": "display_data"
    },
    {
     "data": {
      "application/vnd.jupyter.widget-view+json": {
       "model_id": "af58befcfda842fa844bc76d336ddd45",
       "version_major": 2,
       "version_minor": 0
      },
      "text/plain": [
       "aia.lev1_euv_12s.2011-05-28T055150Z.304.image.fits:   0%|          | 0.00/196k [00:00<?, ?B/s]"
      ]
     },
     "metadata": {},
     "output_type": "display_data"
    },
    {
     "data": {
      "application/vnd.jupyter.widget-view+json": {
       "model_id": "84ed340f369240f6bba34532f224710a",
       "version_major": 2,
       "version_minor": 0
      },
      "text/plain": [
       "aia.lev1_euv_12s.2011-05-28T055214Z.304.image.fits:   0%|          | 0.00/196k [00:00<?, ?B/s]"
      ]
     },
     "metadata": {},
     "output_type": "display_data"
    },
    {
     "data": {
      "application/vnd.jupyter.widget-view+json": {
       "model_id": "9a9487234cdc4b4abd8921401f050854",
       "version_major": 2,
       "version_minor": 0
      },
      "text/plain": [
       "aia.lev1_euv_12s.2011-05-28T055238Z.304.image.fits:   0%|          | 0.00/196k [00:00<?, ?B/s]"
      ]
     },
     "metadata": {},
     "output_type": "display_data"
    },
    {
     "data": {
      "application/vnd.jupyter.widget-view+json": {
       "model_id": "85310056d6064624bf8718175fbc366e",
       "version_major": 2,
       "version_minor": 0
      },
      "text/plain": [
       "aia.lev1_euv_12s.2011-05-28T055302Z.304.image.fits:   0%|          | 0.00/196k [00:00<?, ?B/s]"
      ]
     },
     "metadata": {},
     "output_type": "display_data"
    },
    {
     "data": {
      "application/vnd.jupyter.widget-view+json": {
       "model_id": "fb531320638444468ea8170c8e8f41e5",
       "version_major": 2,
       "version_minor": 0
      },
      "text/plain": [
       "aia.lev1_euv_12s.2011-05-28T055326Z.304.image.fits:   0%|          | 0.00/196k [00:00<?, ?B/s]"
      ]
     },
     "metadata": {},
     "output_type": "display_data"
    },
    {
     "data": {
      "application/vnd.jupyter.widget-view+json": {
       "model_id": "7e5d4a8edbca474884aa5d262516c098",
       "version_major": 2,
       "version_minor": 0
      },
      "text/plain": [
       "aia.lev1_euv_12s.2011-05-28T055350Z.304.image.fits:   0%|          | 0.00/196k [00:00<?, ?B/s]"
      ]
     },
     "metadata": {},
     "output_type": "display_data"
    },
    {
     "data": {
      "application/vnd.jupyter.widget-view+json": {
       "model_id": "68fca12e32804d1da6adaf7e545f9019",
       "version_major": 2,
       "version_minor": 0
      },
      "text/plain": [
       "aia.lev1_euv_12s.2011-05-28T055414Z.304.image.fits:   0%|          | 0.00/196k [00:00<?, ?B/s]"
      ]
     },
     "metadata": {},
     "output_type": "display_data"
    },
    {
     "data": {
      "application/vnd.jupyter.widget-view+json": {
       "model_id": "0bf755794ecb4df8b05fc3c70b28c77b",
       "version_major": 2,
       "version_minor": 0
      },
      "text/plain": [
       "aia.lev1_euv_12s.2011-05-28T055438Z.304.image.fits:   0%|          | 0.00/196k [00:00<?, ?B/s]"
      ]
     },
     "metadata": {},
     "output_type": "display_data"
    },
    {
     "data": {
      "application/vnd.jupyter.widget-view+json": {
       "model_id": "3920c054ecb34044994ed05ba92d18f6",
       "version_major": 2,
       "version_minor": 0
      },
      "text/plain": [
       "aia.lev1_euv_12s.2011-05-28T055502Z.304.image.fits:   0%|          | 0.00/196k [00:00<?, ?B/s]"
      ]
     },
     "metadata": {},
     "output_type": "display_data"
    },
    {
     "name": "stdout",
     "output_type": "stream",
     "text": [
      "Download = 18/19 and array =(166, 166, 30)\n",
      "Export request pending. [id=JSOC_20231129_1121, status=2]\n",
      "Waiting for 0 seconds...\n",
      "Export request pending. [id=JSOC_20231129_1121, status=1]\n",
      "Waiting for 5 seconds...\n",
      "Export request pending. [id=JSOC_20231129_1121, status=1]\n",
      "Waiting for 5 seconds...\n",
      "Export request pending. [id=JSOC_20231129_1121, status=1]\n",
      "Waiting for 5 seconds...\n",
      "Export request pending. [id=JSOC_20231129_1121, status=1]\n",
      "Waiting for 5 seconds...\n",
      "Export request pending. [id=JSOC_20231129_1121, status=1]\n",
      "Waiting for 5 seconds...\n",
      "Export request pending. [id=JSOC_20231129_1121, status=1]\n",
      "Waiting for 5 seconds...\n",
      "30 URLs found for download. Full request totalling 6MB\n"
     ]
    },
    {
     "data": {
      "application/vnd.jupyter.widget-view+json": {
       "model_id": "b355e65f341c43c68ce75231a3341e68",
       "version_major": 2,
       "version_minor": 0
      },
      "text/plain": [
       "Files Downloaded:   0%|          | 0/30 [00:00<?, ?file/s]"
      ]
     },
     "metadata": {},
     "output_type": "display_data"
    },
    {
     "data": {
      "application/vnd.jupyter.widget-view+json": {
       "model_id": "0f8be5f8989843a78b674c10f7ab832f",
       "version_major": 2,
       "version_minor": 0
      },
      "text/plain": [
       "aia.lev1_euv_12s.2011-05-28T062502Z.304.image.fits:   0%|          | 0.00/196k [00:00<?, ?B/s]"
      ]
     },
     "metadata": {},
     "output_type": "display_data"
    },
    {
     "data": {
      "application/vnd.jupyter.widget-view+json": {
       "model_id": "77d3044b4a554454b279dcfb62c0e88b",
       "version_major": 2,
       "version_minor": 0
      },
      "text/plain": [
       "aia.lev1_euv_12s.2011-05-28T062526Z.304.image.fits:   0%|          | 0.00/196k [00:00<?, ?B/s]"
      ]
     },
     "metadata": {},
     "output_type": "display_data"
    },
    {
     "data": {
      "application/vnd.jupyter.widget-view+json": {
       "model_id": "1363df1ee5a44c91a1e433986233dc8d",
       "version_major": 2,
       "version_minor": 0
      },
      "text/plain": [
       "aia.lev1_euv_12s.2011-05-28T062550Z.304.image.fits:   0%|          | 0.00/196k [00:00<?, ?B/s]"
      ]
     },
     "metadata": {},
     "output_type": "display_data"
    },
    {
     "data": {
      "application/vnd.jupyter.widget-view+json": {
       "model_id": "cf2f58ee033d42f3941117591b8dfaed",
       "version_major": 2,
       "version_minor": 0
      },
      "text/plain": [
       "aia.lev1_euv_12s.2011-05-28T062614Z.304.image.fits:   0%|          | 0.00/196k [00:00<?, ?B/s]"
      ]
     },
     "metadata": {},
     "output_type": "display_data"
    },
    {
     "data": {
      "application/vnd.jupyter.widget-view+json": {
       "model_id": "8939dfd7ef67474db2d22bff30c04e3e",
       "version_major": 2,
       "version_minor": 0
      },
      "text/plain": [
       "aia.lev1_euv_12s.2011-05-28T062638Z.304.image.fits:   0%|          | 0.00/196k [00:00<?, ?B/s]"
      ]
     },
     "metadata": {},
     "output_type": "display_data"
    },
    {
     "data": {
      "application/vnd.jupyter.widget-view+json": {
       "model_id": "607ac0d9006042fc855631b27d31c951",
       "version_major": 2,
       "version_minor": 0
      },
      "text/plain": [
       "aia.lev1_euv_12s.2011-05-28T062702Z.304.image.fits:   0%|          | 0.00/196k [00:00<?, ?B/s]"
      ]
     },
     "metadata": {},
     "output_type": "display_data"
    },
    {
     "data": {
      "application/vnd.jupyter.widget-view+json": {
       "model_id": "af434b78eb584d98b12307167879d388",
       "version_major": 2,
       "version_minor": 0
      },
      "text/plain": [
       "aia.lev1_euv_12s.2011-05-28T062726Z.304.image.fits:   0%|          | 0.00/196k [00:00<?, ?B/s]"
      ]
     },
     "metadata": {},
     "output_type": "display_data"
    },
    {
     "data": {
      "application/vnd.jupyter.widget-view+json": {
       "model_id": "0c7e03d510284d088bf2232c298e99e7",
       "version_major": 2,
       "version_minor": 0
      },
      "text/plain": [
       "aia.lev1_euv_12s.2011-05-28T062750Z.304.image.fits:   0%|          | 0.00/196k [00:00<?, ?B/s]"
      ]
     },
     "metadata": {},
     "output_type": "display_data"
    },
    {
     "data": {
      "application/vnd.jupyter.widget-view+json": {
       "model_id": "b25babaea0154ddf8d57eff0ec5b3694",
       "version_major": 2,
       "version_minor": 0
      },
      "text/plain": [
       "aia.lev1_euv_12s.2011-05-28T062814Z.304.image.fits:   0%|          | 0.00/196k [00:00<?, ?B/s]"
      ]
     },
     "metadata": {},
     "output_type": "display_data"
    },
    {
     "data": {
      "application/vnd.jupyter.widget-view+json": {
       "model_id": "1a7f6feda0634fbcbbdf06ab0993d2bf",
       "version_major": 2,
       "version_minor": 0
      },
      "text/plain": [
       "aia.lev1_euv_12s.2011-05-28T062838Z.304.image.fits:   0%|          | 0.00/196k [00:00<?, ?B/s]"
      ]
     },
     "metadata": {},
     "output_type": "display_data"
    },
    {
     "data": {
      "application/vnd.jupyter.widget-view+json": {
       "model_id": "1e2f76df05c04b26a8a942638c9c87bd",
       "version_major": 2,
       "version_minor": 0
      },
      "text/plain": [
       "aia.lev1_euv_12s.2011-05-28T062902Z.304.image.fits:   0%|          | 0.00/196k [00:00<?, ?B/s]"
      ]
     },
     "metadata": {},
     "output_type": "display_data"
    },
    {
     "data": {
      "application/vnd.jupyter.widget-view+json": {
       "model_id": "1cb37f072ecc408a947e0960e45684d8",
       "version_major": 2,
       "version_minor": 0
      },
      "text/plain": [
       "aia.lev1_euv_12s.2011-05-28T062926Z.304.image.fits:   0%|          | 0.00/196k [00:00<?, ?B/s]"
      ]
     },
     "metadata": {},
     "output_type": "display_data"
    },
    {
     "data": {
      "application/vnd.jupyter.widget-view+json": {
       "model_id": "bbe21593ba7c4f8f8333e7ce4eac8a50",
       "version_major": 2,
       "version_minor": 0
      },
      "text/plain": [
       "aia.lev1_euv_12s.2011-05-28T062950Z.304.image.fits:   0%|          | 0.00/196k [00:00<?, ?B/s]"
      ]
     },
     "metadata": {},
     "output_type": "display_data"
    },
    {
     "data": {
      "application/vnd.jupyter.widget-view+json": {
       "model_id": "6135e2a7485749e0906d6429ac066e71",
       "version_major": 2,
       "version_minor": 0
      },
      "text/plain": [
       "aia.lev1_euv_12s.2011-05-28T063014Z.304.image.fits:   0%|          | 0.00/196k [00:00<?, ?B/s]"
      ]
     },
     "metadata": {},
     "output_type": "display_data"
    },
    {
     "data": {
      "application/vnd.jupyter.widget-view+json": {
       "model_id": "616f1d14a67f4c858ba872f56771a3ef",
       "version_major": 2,
       "version_minor": 0
      },
      "text/plain": [
       "aia.lev1_euv_12s.2011-05-28T063038Z.304.image.fits:   0%|          | 0.00/196k [00:00<?, ?B/s]"
      ]
     },
     "metadata": {},
     "output_type": "display_data"
    },
    {
     "data": {
      "application/vnd.jupyter.widget-view+json": {
       "model_id": "7373e95c04f549aeb12de24a78b37eee",
       "version_major": 2,
       "version_minor": 0
      },
      "text/plain": [
       "aia.lev1_euv_12s.2011-05-28T063102Z.304.image.fits:   0%|          | 0.00/196k [00:00<?, ?B/s]"
      ]
     },
     "metadata": {},
     "output_type": "display_data"
    },
    {
     "data": {
      "application/vnd.jupyter.widget-view+json": {
       "model_id": "a31b76e1235e4b41b7790c71555cb2ae",
       "version_major": 2,
       "version_minor": 0
      },
      "text/plain": [
       "aia.lev1_euv_12s.2011-05-28T063126Z.304.image.fits:   0%|          | 0.00/196k [00:00<?, ?B/s]"
      ]
     },
     "metadata": {},
     "output_type": "display_data"
    },
    {
     "data": {
      "application/vnd.jupyter.widget-view+json": {
       "model_id": "3c8402972636403ab7464044dd91c048",
       "version_major": 2,
       "version_minor": 0
      },
      "text/plain": [
       "aia.lev1_euv_12s.2011-05-28T063150Z.304.image.fits:   0%|          | 0.00/196k [00:00<?, ?B/s]"
      ]
     },
     "metadata": {},
     "output_type": "display_data"
    },
    {
     "data": {
      "application/vnd.jupyter.widget-view+json": {
       "model_id": "ff1c6058af0a4453b91852ebb0f8ee5a",
       "version_major": 2,
       "version_minor": 0
      },
      "text/plain": [
       "aia.lev1_euv_12s.2011-05-28T063214Z.304.image.fits:   0%|          | 0.00/196k [00:00<?, ?B/s]"
      ]
     },
     "metadata": {},
     "output_type": "display_data"
    },
    {
     "data": {
      "application/vnd.jupyter.widget-view+json": {
       "model_id": "07f366a18b5446cba349e9a41411da3b",
       "version_major": 2,
       "version_minor": 0
      },
      "text/plain": [
       "aia.lev1_euv_12s.2011-05-28T063238Z.304.image.fits:   0%|          | 0.00/196k [00:00<?, ?B/s]"
      ]
     },
     "metadata": {},
     "output_type": "display_data"
    },
    {
     "data": {
      "application/vnd.jupyter.widget-view+json": {
       "model_id": "c4ad5b1b8fc54d7da1f8de38df008ee8",
       "version_major": 2,
       "version_minor": 0
      },
      "text/plain": [
       "aia.lev1_euv_12s.2011-05-28T063302Z.304.image.fits:   0%|          | 0.00/196k [00:00<?, ?B/s]"
      ]
     },
     "metadata": {},
     "output_type": "display_data"
    },
    {
     "data": {
      "application/vnd.jupyter.widget-view+json": {
       "model_id": "e88d7aa2150e41b88d89deb3682606d6",
       "version_major": 2,
       "version_minor": 0
      },
      "text/plain": [
       "aia.lev1_euv_12s.2011-05-28T063326Z.304.image.fits:   0%|          | 0.00/196k [00:00<?, ?B/s]"
      ]
     },
     "metadata": {},
     "output_type": "display_data"
    },
    {
     "data": {
      "application/vnd.jupyter.widget-view+json": {
       "model_id": "55215889defa414e80c1ba1986e88688",
       "version_major": 2,
       "version_minor": 0
      },
      "text/plain": [
       "aia.lev1_euv_12s.2011-05-28T063350Z.304.image.fits:   0%|          | 0.00/196k [00:00<?, ?B/s]"
      ]
     },
     "metadata": {},
     "output_type": "display_data"
    },
    {
     "data": {
      "application/vnd.jupyter.widget-view+json": {
       "model_id": "ff3a00a8cef44ba29942ee15d296c623",
       "version_major": 2,
       "version_minor": 0
      },
      "text/plain": [
       "aia.lev1_euv_12s.2011-05-28T063414Z.304.image.fits:   0%|          | 0.00/196k [00:00<?, ?B/s]"
      ]
     },
     "metadata": {},
     "output_type": "display_data"
    },
    {
     "data": {
      "application/vnd.jupyter.widget-view+json": {
       "model_id": "024b64cfc5d647aa8c756b809f402cc8",
       "version_major": 2,
       "version_minor": 0
      },
      "text/plain": [
       "aia.lev1_euv_12s.2011-05-28T063438Z.304.image.fits:   0%|          | 0.00/196k [00:00<?, ?B/s]"
      ]
     },
     "metadata": {},
     "output_type": "display_data"
    },
    {
     "data": {
      "application/vnd.jupyter.widget-view+json": {
       "model_id": "9470bb6010bb4470a489dd22a6eb750c",
       "version_major": 2,
       "version_minor": 0
      },
      "text/plain": [
       "aia.lev1_euv_12s.2011-05-28T063502Z.304.image.fits:   0%|          | 0.00/196k [00:00<?, ?B/s]"
      ]
     },
     "metadata": {},
     "output_type": "display_data"
    },
    {
     "data": {
      "application/vnd.jupyter.widget-view+json": {
       "model_id": "034330f0dfef49f6be1e1d4ce8bf2ba5",
       "version_major": 2,
       "version_minor": 0
      },
      "text/plain": [
       "aia.lev1_euv_12s.2011-05-28T063526Z.304.image.fits:   0%|          | 0.00/196k [00:00<?, ?B/s]"
      ]
     },
     "metadata": {},
     "output_type": "display_data"
    },
    {
     "data": {
      "application/vnd.jupyter.widget-view+json": {
       "model_id": "cd980561306d406198c0e945df358b2f",
       "version_major": 2,
       "version_minor": 0
      },
      "text/plain": [
       "aia.lev1_euv_12s.2011-05-28T063550Z.304.image.fits:   0%|          | 0.00/196k [00:00<?, ?B/s]"
      ]
     },
     "metadata": {},
     "output_type": "display_data"
    },
    {
     "data": {
      "application/vnd.jupyter.widget-view+json": {
       "model_id": "72cad7623756494caea8f4c440a2086a",
       "version_major": 2,
       "version_minor": 0
      },
      "text/plain": [
       "aia.lev1_euv_12s.2011-05-28T063614Z.304.image.fits:   0%|          | 0.00/196k [00:00<?, ?B/s]"
      ]
     },
     "metadata": {},
     "output_type": "display_data"
    },
    {
     "data": {
      "application/vnd.jupyter.widget-view+json": {
       "model_id": "54564fffca6e4a52b72ef33066ab4c50",
       "version_major": 2,
       "version_minor": 0
      },
      "text/plain": [
       "aia.lev1_euv_12s.2011-05-28T063638Z.304.image.fits:   0%|          | 0.00/196k [00:00<?, ?B/s]"
      ]
     },
     "metadata": {},
     "output_type": "display_data"
    },
    {
     "name": "stdout",
     "output_type": "stream",
     "text": [
      "Download = 19/19 and array =(166, 166, 30)\n"
     ]
    }
   ],
   "source": [
    "data1=load_data()\n",
    "num_images=30\n",
    "jsoc_email=\"adrien.joliat@epfl.ch\"\n",
    "\n",
    "events_list = data1.iloc[56:75]\n",
    "a=0\n",
    "\n",
    "for i in events_list.index:\n",
    "    a+=1\n",
    "    files = get_images(data1.iloc[i], num_images, jsoc_email) # selects data line i\n",
    "    # \"files\" is (class <parfive>) and contains N <HDUList> objects (where N is the nb of images in the sequence) \n",
    "    # that we open as \"f\". The attribute f.data returns a numpy array in our case, bc the data is an image.\n",
    "    # sequence_array is a 3D array of shape (166, 166, N) which contains all the pixel values for one line of data (~ 1 event)\n",
    "    sequence_array = array_file(files) #torch array of the whole sequency event\n",
    "\n",
    "    #Save the array\n",
    "    np.savez_compressed(\"./data1/\"+str(i)+\".npz\" , sequence_array)\n",
    "    \n",
    "    # Check the size of final array\n",
    "    print(f\"Download = {a}/{len(events_list.index)} and array ={sequence_array.shape}\")"
   ]
  },
  {
   "cell_type": "markdown",
   "metadata": {},
   "source": [
    "## Secondly, data without jet (data0)"
   ]
  },
  {
   "cell_type": "code",
   "execution_count": 2,
   "metadata": {},
   "outputs": [
    {
     "name": "stdout",
     "output_type": "stream",
     "text": [
      "Export request pending. [id=JSOC_20231128_1769, status=2]\n",
      "Waiting for 0 seconds...\n",
      "Export request pending. [id=JSOC_20231128_1769, status=1]\n",
      "Waiting for 5 seconds...\n",
      "Export request pending. [id=JSOC_20231128_1769, status=1]\n",
      "Waiting for 5 seconds...\n",
      "Export request pending. [id=JSOC_20231128_1769, status=1]\n",
      "Waiting for 5 seconds...\n",
      "Export request pending. [id=JSOC_20231128_1769, status=1]\n",
      "Waiting for 5 seconds...\n",
      "Export request pending. [id=JSOC_20231128_1769, status=1]\n",
      "Waiting for 5 seconds...\n",
      "30 URLs found for download. Full request totalling 5MB\n"
     ]
    },
    {
     "data": {
      "application/vnd.jupyter.widget-view+json": {
       "model_id": "41f04c094b534e69a01a57b5d106ba9d",
       "version_major": 2,
       "version_minor": 0
      },
      "text/plain": [
       "Files Downloaded:   0%|          | 0/30 [00:00<?, ?file/s]"
      ]
     },
     "metadata": {},
     "output_type": "display_data"
    },
    {
     "data": {
      "application/vnd.jupyter.widget-view+json": {
       "model_id": "ca8416467fd74d6aac577d9ca0efff7f",
       "version_major": 2,
       "version_minor": 0
      },
      "text/plain": [
       "aia.lev1_euv_12s.2011-07-08T160002Z.304.image.fits:   0%|          | 0.00/190k [00:00<?, ?B/s]"
      ]
     },
     "metadata": {},
     "output_type": "display_data"
    },
    {
     "data": {
      "application/vnd.jupyter.widget-view+json": {
       "model_id": "6c29bc12eb0e4193a8dbf62d1e8d19ce",
       "version_major": 2,
       "version_minor": 0
      },
      "text/plain": [
       "aia.lev1_euv_12s.2011-07-08T160026Z.304.image.fits:   0%|          | 0.00/190k [00:00<?, ?B/s]"
      ]
     },
     "metadata": {},
     "output_type": "display_data"
    },
    {
     "data": {
      "application/vnd.jupyter.widget-view+json": {
       "model_id": "de25f99a8d984357bba8ba544e1f0068",
       "version_major": 2,
       "version_minor": 0
      },
      "text/plain": [
       "aia.lev1_euv_12s.2011-07-08T160050Z.304.image.fits:   0%|          | 0.00/190k [00:00<?, ?B/s]"
      ]
     },
     "metadata": {},
     "output_type": "display_data"
    },
    {
     "data": {
      "application/vnd.jupyter.widget-view+json": {
       "model_id": "172cb3a5e6154bc098bf5996c804ac09",
       "version_major": 2,
       "version_minor": 0
      },
      "text/plain": [
       "aia.lev1_euv_12s.2011-07-08T160114Z.304.image.fits:   0%|          | 0.00/190k [00:00<?, ?B/s]"
      ]
     },
     "metadata": {},
     "output_type": "display_data"
    },
    {
     "data": {
      "application/vnd.jupyter.widget-view+json": {
       "model_id": "5e08d7ed90214888953922ca154c3bcf",
       "version_major": 2,
       "version_minor": 0
      },
      "text/plain": [
       "aia.lev1_euv_12s.2011-07-08T160138Z.304.image.fits:   0%|          | 0.00/190k [00:00<?, ?B/s]"
      ]
     },
     "metadata": {},
     "output_type": "display_data"
    },
    {
     "data": {
      "application/vnd.jupyter.widget-view+json": {
       "model_id": "16062e8a539c427096ce37c20af76d51",
       "version_major": 2,
       "version_minor": 0
      },
      "text/plain": [
       "aia.lev1_euv_12s.2011-07-08T160202Z.304.image.fits:   0%|          | 0.00/190k [00:00<?, ?B/s]"
      ]
     },
     "metadata": {},
     "output_type": "display_data"
    },
    {
     "data": {
      "application/vnd.jupyter.widget-view+json": {
       "model_id": "54939bd48db64c21b19db9ceaf383529",
       "version_major": 2,
       "version_minor": 0
      },
      "text/plain": [
       "aia.lev1_euv_12s.2011-07-08T160226Z.304.image.fits:   0%|          | 0.00/190k [00:00<?, ?B/s]"
      ]
     },
     "metadata": {},
     "output_type": "display_data"
    },
    {
     "data": {
      "application/vnd.jupyter.widget-view+json": {
       "model_id": "70bc0808541c45acbbfbe29eee234c37",
       "version_major": 2,
       "version_minor": 0
      },
      "text/plain": [
       "aia.lev1_euv_12s.2011-07-08T160250Z.304.image.fits:   0%|          | 0.00/190k [00:00<?, ?B/s]"
      ]
     },
     "metadata": {},
     "output_type": "display_data"
    },
    {
     "data": {
      "application/vnd.jupyter.widget-view+json": {
       "model_id": "d9eb4cc19a8b499e80df09eedf5f996f",
       "version_major": 2,
       "version_minor": 0
      },
      "text/plain": [
       "aia.lev1_euv_12s.2011-07-08T160314Z.304.image.fits:   0%|          | 0.00/190k [00:00<?, ?B/s]"
      ]
     },
     "metadata": {},
     "output_type": "display_data"
    },
    {
     "data": {
      "application/vnd.jupyter.widget-view+json": {
       "model_id": "dbe5e052c8c448c5be9a181bd1e59a55",
       "version_major": 2,
       "version_minor": 0
      },
      "text/plain": [
       "aia.lev1_euv_12s.2011-07-08T160338Z.304.image.fits:   0%|          | 0.00/190k [00:00<?, ?B/s]"
      ]
     },
     "metadata": {},
     "output_type": "display_data"
    },
    {
     "data": {
      "application/vnd.jupyter.widget-view+json": {
       "model_id": "d6d0171a17ed4a329984a3baaf7b06d2",
       "version_major": 2,
       "version_minor": 0
      },
      "text/plain": [
       "aia.lev1_euv_12s.2011-07-08T160402Z.304.image.fits:   0%|          | 0.00/190k [00:00<?, ?B/s]"
      ]
     },
     "metadata": {},
     "output_type": "display_data"
    },
    {
     "data": {
      "application/vnd.jupyter.widget-view+json": {
       "model_id": "b70684a8111342859c49a3e0ed97ac1a",
       "version_major": 2,
       "version_minor": 0
      },
      "text/plain": [
       "aia.lev1_euv_12s.2011-07-08T160426Z.304.image.fits:   0%|          | 0.00/190k [00:00<?, ?B/s]"
      ]
     },
     "metadata": {},
     "output_type": "display_data"
    },
    {
     "data": {
      "application/vnd.jupyter.widget-view+json": {
       "model_id": "216141f92448453698af3bf0a30efb8b",
       "version_major": 2,
       "version_minor": 0
      },
      "text/plain": [
       "aia.lev1_euv_12s.2011-07-08T160450Z.304.image.fits:   0%|          | 0.00/190k [00:00<?, ?B/s]"
      ]
     },
     "metadata": {},
     "output_type": "display_data"
    },
    {
     "data": {
      "application/vnd.jupyter.widget-view+json": {
       "model_id": "58ab855fc99949169ff3eeb34b75b584",
       "version_major": 2,
       "version_minor": 0
      },
      "text/plain": [
       "aia.lev1_euv_12s.2011-07-08T160514Z.304.image.fits:   0%|          | 0.00/190k [00:00<?, ?B/s]"
      ]
     },
     "metadata": {},
     "output_type": "display_data"
    },
    {
     "data": {
      "application/vnd.jupyter.widget-view+json": {
       "model_id": "9255615a28d24cc391126b5e5fa5c1d5",
       "version_major": 2,
       "version_minor": 0
      },
      "text/plain": [
       "aia.lev1_euv_12s.2011-07-08T160538Z.304.image.fits:   0%|          | 0.00/190k [00:00<?, ?B/s]"
      ]
     },
     "metadata": {},
     "output_type": "display_data"
    },
    {
     "data": {
      "application/vnd.jupyter.widget-view+json": {
       "model_id": "3232114eb90e4331933ebeaabb1fb80c",
       "version_major": 2,
       "version_minor": 0
      },
      "text/plain": [
       "aia.lev1_euv_12s.2011-07-08T160602Z.304.image.fits:   0%|          | 0.00/190k [00:00<?, ?B/s]"
      ]
     },
     "metadata": {},
     "output_type": "display_data"
    },
    {
     "data": {
      "application/vnd.jupyter.widget-view+json": {
       "model_id": "71e7ef3c358a4c87afb63e2037774f6a",
       "version_major": 2,
       "version_minor": 0
      },
      "text/plain": [
       "aia.lev1_euv_12s.2011-07-08T160626Z.304.image.fits:   0%|          | 0.00/190k [00:00<?, ?B/s]"
      ]
     },
     "metadata": {},
     "output_type": "display_data"
    },
    {
     "data": {
      "application/vnd.jupyter.widget-view+json": {
       "model_id": "ab8c254e98d747008437f88fb5b0069d",
       "version_major": 2,
       "version_minor": 0
      },
      "text/plain": [
       "aia.lev1_euv_12s.2011-07-08T160650Z.304.image.fits:   0%|          | 0.00/190k [00:00<?, ?B/s]"
      ]
     },
     "metadata": {},
     "output_type": "display_data"
    },
    {
     "data": {
      "application/vnd.jupyter.widget-view+json": {
       "model_id": "f718a27e2f3441ee8b2646579e4ebbee",
       "version_major": 2,
       "version_minor": 0
      },
      "text/plain": [
       "aia.lev1_euv_12s.2011-07-08T160714Z.304.image.fits:   0%|          | 0.00/190k [00:00<?, ?B/s]"
      ]
     },
     "metadata": {},
     "output_type": "display_data"
    },
    {
     "data": {
      "application/vnd.jupyter.widget-view+json": {
       "model_id": "13bc9364c8e341acaffd8cd6098e517d",
       "version_major": 2,
       "version_minor": 0
      },
      "text/plain": [
       "aia.lev1_euv_12s.2011-07-08T160738Z.304.image.fits:   0%|          | 0.00/190k [00:00<?, ?B/s]"
      ]
     },
     "metadata": {},
     "output_type": "display_data"
    },
    {
     "data": {
      "application/vnd.jupyter.widget-view+json": {
       "model_id": "c90548569e9b4a64a472bd6b5343d173",
       "version_major": 2,
       "version_minor": 0
      },
      "text/plain": [
       "aia.lev1_euv_12s.2011-07-08T160802Z.304.image.fits:   0%|          | 0.00/190k [00:00<?, ?B/s]"
      ]
     },
     "metadata": {},
     "output_type": "display_data"
    },
    {
     "data": {
      "application/vnd.jupyter.widget-view+json": {
       "model_id": "10a2632e3b904ba2bd9a7ce7dd516a91",
       "version_major": 2,
       "version_minor": 0
      },
      "text/plain": [
       "aia.lev1_euv_12s.2011-07-08T160826Z.304.image.fits:   0%|          | 0.00/190k [00:00<?, ?B/s]"
      ]
     },
     "metadata": {},
     "output_type": "display_data"
    },
    {
     "data": {
      "application/vnd.jupyter.widget-view+json": {
       "model_id": "fbecc2c939e54a048b2426b05ff414bf",
       "version_major": 2,
       "version_minor": 0
      },
      "text/plain": [
       "aia.lev1_euv_12s.2011-07-08T160850Z.304.image.fits:   0%|          | 0.00/190k [00:00<?, ?B/s]"
      ]
     },
     "metadata": {},
     "output_type": "display_data"
    },
    {
     "data": {
      "application/vnd.jupyter.widget-view+json": {
       "model_id": "05cc118fc9404a04b02bba39220c210a",
       "version_major": 2,
       "version_minor": 0
      },
      "text/plain": [
       "aia.lev1_euv_12s.2011-07-08T160914Z.304.image.fits:   0%|          | 0.00/190k [00:00<?, ?B/s]"
      ]
     },
     "metadata": {},
     "output_type": "display_data"
    },
    {
     "data": {
      "application/vnd.jupyter.widget-view+json": {
       "model_id": "9a99ea9c6ecc44f6957e0df1c8233e9e",
       "version_major": 2,
       "version_minor": 0
      },
      "text/plain": [
       "aia.lev1_euv_12s.2011-07-08T160938Z.304.image.fits:   0%|          | 0.00/190k [00:00<?, ?B/s]"
      ]
     },
     "metadata": {},
     "output_type": "display_data"
    },
    {
     "data": {
      "application/vnd.jupyter.widget-view+json": {
       "model_id": "77ca44f0186747e3ad28ef50914d3cb4",
       "version_major": 2,
       "version_minor": 0
      },
      "text/plain": [
       "aia.lev1_euv_12s.2011-07-08T161002Z.304.image.fits:   0%|          | 0.00/190k [00:00<?, ?B/s]"
      ]
     },
     "metadata": {},
     "output_type": "display_data"
    },
    {
     "data": {
      "application/vnd.jupyter.widget-view+json": {
       "model_id": "58fada5b12c047c3a207106c66736d18",
       "version_major": 2,
       "version_minor": 0
      },
      "text/plain": [
       "aia.lev1_euv_12s.2011-07-08T161026Z.304.image.fits:   0%|          | 0.00/190k [00:00<?, ?B/s]"
      ]
     },
     "metadata": {},
     "output_type": "display_data"
    },
    {
     "data": {
      "application/vnd.jupyter.widget-view+json": {
       "model_id": "ab8c8583c653420c848a97811d19a360",
       "version_major": 2,
       "version_minor": 0
      },
      "text/plain": [
       "aia.lev1_euv_12s.2011-07-08T161050Z.304.image.fits:   0%|          | 0.00/190k [00:00<?, ?B/s]"
      ]
     },
     "metadata": {},
     "output_type": "display_data"
    },
    {
     "data": {
      "application/vnd.jupyter.widget-view+json": {
       "model_id": "d0d5a5e8f8df4ac596960fac99c57683",
       "version_major": 2,
       "version_minor": 0
      },
      "text/plain": [
       "aia.lev1_euv_12s.2011-07-08T161114Z.304.image.fits:   0%|          | 0.00/190k [00:00<?, ?B/s]"
      ]
     },
     "metadata": {},
     "output_type": "display_data"
    },
    {
     "data": {
      "application/vnd.jupyter.widget-view+json": {
       "model_id": "4d118718d3b94e478630c4714b1acb98",
       "version_major": 2,
       "version_minor": 0
      },
      "text/plain": [
       "aia.lev1_euv_12s.2011-07-08T161138Z.304.image.fits:   0%|          | 0.00/190k [00:00<?, ?B/s]"
      ]
     },
     "metadata": {},
     "output_type": "display_data"
    },
    {
     "name": "stdout",
     "output_type": "stream",
     "text": [
      "Download = 1/1 and array =(166, 166, 30)\n"
     ]
    }
   ],
   "source": [
    "data0=load_data_nojet()\n",
    "num_images=30\n",
    "jsoc_email=\"adrien.joliat@epfl.ch\"\n",
    "\n",
    "events_list = data0.iloc[:1]\n",
    "a=0\n",
    "for i in events_list.index:\n",
    "    a+=1\n",
    "    files = get_images(data0.iloc[i], num_images, jsoc_email) # selects data line i\n",
    "    # \"files\" is (class <parfive>) and contains N <HDUList> objects (where N is the nb of images in the sequence) \n",
    "    # that we open as \"f\". The attribute f.data returns a numpy array in our case, bc the data is an image.\n",
    "    # sequence_array is a array of shape (166, 166, N) which contains all the pixel values for one line of data (~ 1 event)\n",
    "    sequence_array = array_file(files) #torch array of the whole sequency event\n",
    "\n",
    "    #Save the array\n",
    "    np.savez_compressed(\"./data0/\"+str(i)+\".npz\" , sequence_array)\n",
    "    \n",
    "    # Check the size of final array\n",
    "    print(f\"Download = {a}/{len(events_list.index)} and array ={sequence_array.shape}\")"
   ]
  },
  {
   "cell_type": "markdown",
   "metadata": {},
   "source": [
    "## Access data "
   ]
  },
  {
   "cell_type": "code",
   "execution_count": 9,
   "metadata": {},
   "outputs": [
    {
     "data": {
      "image/png": "[encoded data removed]",
      "text/plain": [
       "<Figure size 640x480 with 1 Axes>"
      ]
     },
     "metadata": {},
     "output_type": "display_data"
    }
   ],
   "source": [
    "archive= np.load(\"./data1/20.npz\")\n",
    "array=archive[\"arr_0\"]\n",
    "plot_array(array[:,:,20])"
   ]
  },
  {
   "cell_type": "code",
   "execution_count": 6,
   "metadata": {},
   "outputs": [
    {
     "data": {
      "image/png": "[encoded data removed]",
      "text/plain": [
       "<Figure size 640x480 with 1 Axes>"
      ]
     },
     "metadata": {},
     "output_type": "display_data"
    }
   ],
   "source": [
    "archive= np.load(\"./data0/0.npz\")\n",
    "array=archive[\"arr_0\"]\n",
    "plot_array(array[:,:,15])"
   ]
  }
 ],
 "metadata": {
  "kernelspec": {
   "display_name": "envADA",
   "language": "python",
   "name": "python3"
  },
  "language_info": {
   "codemirror_mode": {
    "name": "ipython",
    "version": 3
   },
   "file_extension": ".py",
   "mimetype": "text/x-python",
   "name": "python",
   "nbconvert_exporter": "python",
   "pygments_lexer": "ipython3",
   "version": "3.9.18"
  }
 },
 "nbformat": 4,
 "nbformat_minor": 2
}
