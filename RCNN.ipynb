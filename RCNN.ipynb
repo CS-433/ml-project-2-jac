{
 "cells": [
  {
   "cell_type": "markdown",
   "metadata": {},
   "source": [
    "# Recurrent Convolutional Neural Network\n"
   ]
  },
  {
   "cell_type": "markdown",
   "metadata": {},
   "source": [
    "## Importing libraries"
   ]
  },
  {
   "cell_type": "code",
   "execution_count": 5,
   "metadata": {},
   "outputs": [],
   "source": [
    "import numpy as np\n",
    "import matplotlib.pyplot as plt\n",
    "import torch\n",
    "from torchvision import transforms\n",
    "import pandas as pd"
   ]
  },
  {
   "cell_type": "markdown",
   "metadata": {},
   "source": [
    "## Load data"
   ]
  },
  {
   "cell_type": "code",
   "execution_count": 31,
   "metadata": {},
   "outputs": [],
   "source": [
    "data=pd.read_csv(\"15_first_events.csv\")"
   ]
  },
  {
   "cell_type": "markdown",
   "metadata": {},
   "source": [
    "## Implementing RCNN"
   ]
  },
  {
   "cell_type": "markdown",
   "metadata": {},
   "source": [
    "Exemple from the paper"
   ]
  },
  {
   "cell_type": "code",
   "execution_count": 6,
   "metadata": {},
   "outputs": [],
   "source": [
    "class RCNN(torch.nn.Module):\n",
    "    def __init__(self):\n",
    "        super(RCNN, self).__init__()\n",
    "        \n",
    "        self.input_layer=torch.nn.Linear(in_features=500*500*15, out_features=500*500*15)\n",
    "\n",
    "        self.norm=torch.nn.BatchNorm1d()#not sure this is sufficent for batch renormalization\n",
    "\n",
    "        #Three convolutionnal and batch renormalization\n",
    "        self.conv1=torch.nn.Conv1d(in_channels=15, out_channels=64, kernel_size=3, stride=1) #need padding of one normally but not precised\n",
    "        self.relu1=torch.nn.ReLU()\n",
    "        self.norm1=torch.nn.BatchNorm1d()\n",
    "\n",
    "        self.conv2=torch.nn.Conv1d(in_channels=64, out_channels=64, kernel_size=3, stride=1)\n",
    "        self.relu2=torch.nn.ReLU()\n",
    "        self.norm2=torch.nn.BatchNorm1d()\n",
    "\n",
    "        self.conv3=torch.nn.Conv1d(in_channels=64, out_channels=64, kernel_size=3, stride=1)\n",
    "        self.relu3=torch.nn.ReLU()\n",
    "        self.norm3=torch.nn.BatchNorm1d()\n",
    "\n",
    "        #First max pooling\n",
    "        self.max1=torch.nn.MaxPool1d(kernel_size=2,stride=2)\n",
    "\n",
    "        #Three convolutionnal and batch renormalization\n",
    "        self.conv4=torch.nn.Conv1d(in_channels=64, out_channels=64, kernel_size=3, stride=1)\n",
    "        self.relu4=torch.nn.ReLU()\n",
    "        self.norm4=torch.nn.BatchNorm1d()\n",
    "\n",
    "        self.conv5=torch.nn.Conv1d(in_channels=64, out_channels=64, kernel_size=3, stride=1)\n",
    "        self.relu5=torch.nn.ReLU()\n",
    "        self.norm5=torch.nn.BatchNorm1d()\n",
    "\n",
    "        self.conv6=torch.nn.Conv1d(in_channels=64, out_channels=64, kernel_size=3, stride=1)\n",
    "        self.relu6=torch.nn.ReLU()\n",
    "        self.norm6=torch.nn.BatchNorm1d()\n",
    "\n",
    "        #Second maxpool\n",
    "        self.max2=torch.nn.MaxPool1d(stride=2,kernel_size=2)\n",
    "\n",
    "        #Flatten\n",
    "        self.flat1=torch.nn.Flatten()\n",
    "\n",
    "        #fully connected with dropout\n",
    "        self.lin=torch.nn.Linear(in_features=2304, out_features=1024)\n",
    "        self.drop=torch.nn.Dropout(p=0.5)\n",
    "\n",
    "        #LSTM\n",
    "        self.lstm=torch.nn.LSTM(input_size=1024,output_size=512, num_layers=1)\n",
    "\n",
    "        #output\n",
    "        self.output_layer=torch.nn.Softmax(dim=1)\n",
    "        \n",
    "    def forward(self):\n",
    "        \n",
    "        \n",
    "        \n",
    "        return "
   ]
  }
 ],
 "metadata": {
  "kernelspec": {
   "display_name": "envADA",
   "language": "python",
   "name": "python3"
  },
  "language_info": {
   "codemirror_mode": {
    "name": "ipython",
    "version": 3
   },
   "file_extension": ".py",
   "mimetype": "text/x-python",
   "name": "python",
   "nbconvert_exporter": "python",
   "pygments_lexer": "ipython3",
   "version": "3.9.18"
  }
 },
 "nbformat": 4,
 "nbformat_minor": 2
}
